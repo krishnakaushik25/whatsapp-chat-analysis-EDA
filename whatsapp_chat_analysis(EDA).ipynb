{
  "nbformat": 4,
  "nbformat_minor": 0,
  "metadata": {
    "colab": {
      "name": "whatsapp-chat-analysis(EDA).ipynb",
      "provenance": [],
      "include_colab_link": true
    },
    "language_info": {
      "name": "python"
    },
    "kernelspec": {
      "name": "python3",
      "display_name": "Python 3"
    }
  },
  "cells": [
    {
      "cell_type": "markdown",
      "metadata": {
        "id": "view-in-github",
        "colab_type": "text"
      },
      "source": [
        "<a href=\"https://colab.research.google.com/github/krishnakaushik25/whatsapp-chat-analysis-EDA-/blob/main/whatsapp_chat_analysis(EDA).ipynb\" target=\"_parent\"><img src=\"https://colab.research.google.com/assets/colab-badge.svg\" alt=\"Open In Colab\"/></a>"
      ]
    },
    {
      "cell_type": "code",
      "metadata": {
        "colab": {
          "base_uri": "https://localhost:8080/"
        },
        "id": "Z0gy0CIKvXPT",
        "outputId": "73eb709e-0717-4074-fa13-fbd387666f1a"
      },
      "source": [
        "# Jovian Commit Essentials\n",
        "# Please retain and execute this cell without modifying the contents for `jovian.commit` to work\n",
        "!pip install jovian --upgrade -q\n",
        "import jovian\n",
        "jovian.set_project('blank-starter')\n",
        "jovian.set_colab_id('1uNeugY7GsZWD5TycFCzNT9N2-Q0ESGqg')"
      ],
      "execution_count": 2,
      "outputs": [
        {
          "output_type": "stream",
          "text": [
            "\u001b[?25l\r\u001b[K     |████▊                           | 10kB 18.5MB/s eta 0:00:01\r\u001b[K     |█████████▌                      | 20kB 9.3MB/s eta 0:00:01\r\u001b[K     |██████████████▎                 | 30kB 6.5MB/s eta 0:00:01\r\u001b[K     |███████████████████             | 40kB 3.6MB/s eta 0:00:01\r\u001b[K     |███████████████████████▉        | 51kB 4.1MB/s eta 0:00:01\r\u001b[K     |████████████████████████████▋   | 61kB 4.3MB/s eta 0:00:01\r\u001b[K     |████████████████████████████████| 71kB 3.2MB/s \n",
            "\u001b[?25h  Building wheel for uuid (setup.py) ... \u001b[?25l\u001b[?25hdone\n"
          ],
          "name": "stdout"
        }
      ]
    },
    {
      "cell_type": "markdown",
      "metadata": {
        "id": "DNI7qO0SvXPW"
      },
      "source": [
        "# Project Whatsapp Message Exploratory Data Analysis(EDA)\n",
        "Author: Krishna Kaushik\n",
        "\n",
        "# Out-line\n",
        "- Introduction.\n",
        "- Data Retrieval. \n",
        "- Data Preparation and Cleaning.\n",
        "- Business & Data understanding.\n",
        "- Exploratory Data Analysis(EDA)\n",
        "- Conclusion.\n",
        "\n",
        "\n",
        "# Introduction:\n",
        "Hello there, thanks for review my notebook! We are going to analyse the whatsapp chat  that we normally use everydays. In here we are going to use a chat group that is \"University group\" and in this group we normally  will exchage lot of things from college to sports.\n",
        "\n",
        "Just some informations this group was created in 2018 August and continuing till now.\n",
        "So let us dive in one what we are going to discover!"
      ]
    },
    {
      "cell_type": "markdown",
      "metadata": {
        "id": "bo9EPWquvXPX"
      },
      "source": [
        "# Data Retrieval "
      ]
    },
    {
      "cell_type": "markdown",
      "metadata": {
        "id": "5Wc7iG7ZvXPX"
      },
      "source": [
        "First before any EDA to be done we must first understand how to get the data we need. Normally we can go to kaggle.com to start getting our dataset. But for this EDA we will use the whatsapp data that everyone can export in they own whatsapp group. Let me show how you are able to retrieval the data easily.\n",
        "\n",
        "### Now what you need to do is just click on More, and Export Chat.\n",
        "\n",
        "![1.JPG](https://drive.google.com/uc?export=view&id=17Pk2dMl8YbPrYsWVCM622AGY3JeBNl8J)![image.png](https://drive.google.com/uc?export=view&id=1plpYsxZCTkf-t8MpUnnGNruTwwM9UGFq)\n",
        "\n",
        "\n",
        "\n",
        "\n",
        "## **Take note**\n",
        "I am export without media because if the media files is more than a certain value then not all the files are able to be exported\n",
        "\n",
        "\n",
        "\n",
        "\n",
        "After exporting the file, you now able to view the text file format\n",
        "\n",
        "\n",
        "\n"
      ]
    },
    {
      "cell_type": "markdown",
      "metadata": {
        "id": "rRJOj60evXPX"
      },
      "source": [
        "## Install all the important libraries for this project "
      ]
    },
    {
      "cell_type": "code",
      "metadata": {
        "colab": {
          "base_uri": "https://localhost:8080/"
        },
        "id": "OMsAXhlgvXPY",
        "outputId": "0a321a22-bccf-4706-8436-3e1007fc6540"
      },
      "source": [
        "!pip install jovian --upgrade --quiet\n",
        "!pip install numpy --upgrade --quiet\n",
        "!pip install pandas --upgrade --quiet\n",
        "!pip install matplotlib --upgrade --quiet\n",
        "!pip install seaborn --upgrade --quiet/\n",
        "!pip install wordcloud --upgrade --quiet\n",
        "!pip install emoji  --upgrade --quiet\n",
        "!pip install plotly_express --upgrade --quiet"
      ],
      "execution_count": 7,
      "outputs": [
        {
          "output_type": "stream",
          "text": [
            "\u001b[K     |████████████████████████████████| 15.7MB 180kB/s \n",
            "\u001b[31mERROR: tensorflow 2.5.0 has requirement numpy~=1.19.2, but you'll have numpy 1.21.0 which is incompatible.\u001b[0m\n",
            "\u001b[31mERROR: datascience 0.10.6 has requirement folium==0.2.1, but you'll have folium 0.8.3 which is incompatible.\u001b[0m\n",
            "\u001b[31mERROR: albumentations 0.1.12 has requirement imgaug<0.2.7,>=0.2.5, but you'll have imgaug 0.2.9 which is incompatible.\u001b[0m\n",
            "\u001b[K     |████████████████████████████████| 10.8MB 4.2MB/s \n",
            "\u001b[31mERROR: google-colab 1.0.0 has requirement pandas~=1.1.0; python_version >= \"3.0\", but you'll have pandas 1.3.0 which is incompatible.\u001b[0m\n",
            "\u001b[K     |████████████████████████████████| 10.3MB 4.3MB/s \n",
            "\u001b[31mERROR: albumentations 0.1.12 has requirement imgaug<0.2.7,>=0.2.5, but you'll have imgaug 0.2.9 which is incompatible.\u001b[0m\n",
            "\u001b[?25h\n",
            "Usage:   \n",
            "  pip3 install [options] <requirement specifier> [package-index-options] ...\n",
            "  pip3 install [options] -r <requirements file> [package-index-options] ...\n",
            "  pip3 install [options] [-e] <vcs project url> ...\n",
            "  pip3 install [options] [-e] <local project path> ...\n",
            "  pip3 install [options] <archive url/path> ...\n",
            "\n",
            "no such option: --quiet/\n",
            "\u001b[K     |████████████████████████████████| 368kB 4.3MB/s \n",
            "\u001b[K     |████████████████████████████████| 133kB 4.1MB/s \n",
            "\u001b[?25h"
          ],
          "name": "stdout"
        }
      ]
    },
    {
      "cell_type": "code",
      "metadata": {
        "id": "2p022olCvXPY"
      },
      "source": [
        "project_name = \"whatsapp-chat-analysis-course-project\"\n"
      ],
      "execution_count": 3,
      "outputs": []
    },
    {
      "cell_type": "code",
      "metadata": {
        "id": "PwUMyyMIvXPY"
      },
      "source": [
        "import jovian"
      ],
      "execution_count": 4,
      "outputs": []
    },
    {
      "cell_type": "code",
      "metadata": {
        "colab": {
          "base_uri": "https://localhost:8080/",
          "height": 136
        },
        "id": "znMbegXUvXPZ",
        "outputId": "994eeaf8-7b65-45f2-904c-3e28c3060299"
      },
      "source": [
        "jovian.commit(project=project_name,enviroment=None,files=[\"/content/drive/MyDrive/WhatsApp chat/Chat.txt\"])"
      ],
      "execution_count": 5,
      "outputs": [
        {
          "output_type": "stream",
          "text": [
            "[jovian] Detected Colab notebook...\u001b[0m\n",
            "[jovian] Please enter your API key ( from https://jovian.ai/ ):\u001b[0m\n",
            "API KEY: ··········\n",
            "[jovian] Uploading colab notebook to Jovian...\u001b[0m\n",
            "[jovian] Uploading additional files...\u001b[0m\n",
            "Committed successfully! https://jovian.ai/krishnakaushik25/whatsapp-chat-analysis-course-project\n"
          ],
          "name": "stdout"
        },
        {
          "output_type": "execute_result",
          "data": {
            "application/vnd.google.colaboratory.intrinsic+json": {
              "type": "string"
            },
            "text/plain": [
              "'https://jovian.ai/krishnakaushik25/whatsapp-chat-analysis-course-project'"
            ]
          },
          "metadata": {
            "tags": []
          },
          "execution_count": 5
        }
      ]
    },
    {
      "cell_type": "markdown",
      "metadata": {
        "id": "W6AX2WOYvXPZ"
      },
      "source": [
        "# Data Preparation and Cleaning\n",
        "\n",
        "**Before we start our data preparation and cleaning there are so few item we need to take noted:**\n",
        "1. Business and data understand is the success key factor of a good analysis\n",
        "2. Make sure all the row number is balance because we did now want to see outliner\n",
        "3. Make sure the data are clean, such as you all need text not picture."
      ]
    },
    {
      "cell_type": "code",
      "metadata": {
        "colab": {
          "base_uri": "https://localhost:8080/"
        },
        "id": "RPMhTfv1v6gv",
        "outputId": "e837df72-6f84-4424-d6b6-93f9d5cdfda9"
      },
      "source": [
        "from google.colab import drive\n",
        "drive.mount('/content/drive',force_remount=True)"
      ],
      "execution_count": 75,
      "outputs": [
        {
          "output_type": "stream",
          "text": [
            "Mounted at /content/drive\n"
          ],
          "name": "stdout"
        }
      ]
    },
    {
      "cell_type": "markdown",
      "metadata": {
        "id": "aNowVSNovXPa"
      },
      "source": [
        "## **Import libraries**\n",
        "\n",
        "In this project we will using some unique libraries such as below:\n",
        "\n",
        "**Regex(re):**\n",
        "- This libraries is use to extract and manipulate string based on specific patterns\n",
        "\n",
        "**Pandas**\n",
        "- We will use pandas to process the data and do basic analysis \n",
        "\n",
        "**Matlotlib,seaborn & plotly**\n",
        "- We are going to use this libraries as ours tools for data visualization\n",
        "\n",
        "\n",
        "**Emojis**\n",
        "- The Emojis libraries normally handle emojis in the text. It was a great libraries for pytho.\n",
        "\n",
        "**wordcloud** \n",
        "- This invlove creating word that are related pattern for the most use word. \n",
        "\n",
        "\n"
      ]
    },
    {
      "cell_type": "code",
      "metadata": {
        "id": "32A29I-gvXPa"
      },
      "source": [
        "import plotly.express as px\n",
        "import os\n",
        "import pandas as pd\n",
        "import re\n",
        "import datetime as time\n",
        "import jovian\n",
        "import numpy as np\n",
        "import matplotlib.pyplot as plt\n",
        "import matplotlib\n",
        "import seaborn as sns\n",
        "import emoji\n",
        "import re\n",
        "from collections import Counter\n",
        "from wordcloud import WordCloud, STOPWORDS"
      ],
      "execution_count": 8,
      "outputs": []
    },
    {
      "cell_type": "markdown",
      "metadata": {
        "id": "4rmHGOZAvXPa"
      },
      "source": [
        "## Business & Data understanding\n",
        "\n",
        "**Before we start any analysis we need to understand the Business and the data side**\n",
        "\n",
        "**Business understanding:**\n",
        "1.  In any project we must understand what exactly we want to found out in this project?\n",
        "2.  Do this analysis help us to achieve business goal?\n",
        "\n",
        "**Data Understanding**\n",
        "\n",
        "1. The dataset contains date, text and a NaN value\n",
        "\n",
        "2. After knowing there is an unknown value in the dataset and inbalance row we now can clear the data\n"
      ]
    },
    {
      "cell_type": "code",
      "metadata": {
        "colab": {
          "base_uri": "https://localhost:8080/"
        },
        "id": "BNTiMdKgvXPb",
        "outputId": "b8ad2062-485b-4ebb-8b88-df9b83f9608e"
      },
      "source": [
        "whatsapp_df = pd.read_fwf('/content/drive/MyDrive/WhatsApp chat/WhatsApp Chat with xD.txt', header = None)\n",
        "\n",
        "print(whatsapp_df)"
      ],
      "execution_count": 9,
      "outputs": [
        {
          "output_type": "stream",
          "text": [
            "                                                      0    1   ...   10   11\n",
            "0      30/05/2020, 00:46 - krishna kaushik: Shit 42,5...  NaN  ...  NaN  NaN\n",
            "1                     30/05/2020, 00:46 - Suraj: Cricket  NaN  ...  NaN  NaN\n",
            "2      30/05/2020, 00:46 - krishna kaushik: I expecte...  NaN  ...  NaN  NaN\n",
            "3      30/05/2020, 00:47 - Suraj: 😑ardamchesko poosag...  NaN  ...  NaN  NaN\n",
            "4      30/05/2020, 00:47 - Lochin: have you seen me w...  NaN  ...  NaN  NaN\n",
            "...                                                  ...  ...  ...  ...  ...\n",
            "41319        12/07/2021, 14:25 - Lochin: <Media omitted>  NaN  ...  NaN  NaN\n",
            "41320                      12/07/2021, 14:26 - Hrishi: 🤣  NaN  ...  NaN  NaN\n",
            "41321  12/07/2021, 14:41 - krishna kaushik: yes this ...  NaN  ...  NaN  NaN\n",
            "41322  12/07/2021, 14:42 - krishna kaushik: world cup...  NaN  ...  NaN  NaN\n",
            "41323                    12/07/2021, 14:46 - Lochin: 😂😂😂  NaN  ...  NaN  NaN\n",
            "\n",
            "[41324 rows x 12 columns]\n"
          ],
          "name": "stdout"
        }
      ]
    },
    {
      "cell_type": "code",
      "metadata": {
        "id": "fhAnst8rx-3y"
      },
      "source": [
        "df=whatsapp_df"
      ],
      "execution_count": 10,
      "outputs": []
    },
    {
      "cell_type": "code",
      "metadata": {
        "id": "7pzV0Vdpx-wx"
      },
      "source": [
        "df.drop(df.columns[[1,2,3,4, 5, 6, 7, 8, 9, 10, 11]], axis = 1, inplace = True)"
      ],
      "execution_count": 11,
      "outputs": []
    },
    {
      "cell_type": "code",
      "metadata": {
        "colab": {
          "base_uri": "https://localhost:8080/"
        },
        "id": "dDrBrpEDvXPb",
        "outputId": "24788ff9-dd3d-4423-df54-745c06974066"
      },
      "source": [
        "df.info()"
      ],
      "execution_count": 12,
      "outputs": [
        {
          "output_type": "stream",
          "text": [
            "<class 'pandas.core.frame.DataFrame'>\n",
            "RangeIndex: 41324 entries, 0 to 41323\n",
            "Data columns (total 1 columns):\n",
            " #   Column  Non-Null Count  Dtype \n",
            "---  ------  --------------  ----- \n",
            " 0   0       41027 non-null  object\n",
            "dtypes: object(1)\n",
            "memory usage: 323.0+ KB\n"
          ],
          "name": "stdout"
        }
      ]
    },
    {
      "cell_type": "markdown",
      "metadata": {
        "id": "oQQ6PNUBvXPc"
      },
      "source": [
        "After that we will use the info() that provided by the pandas to understand the datatype in the dataframe. As you can see we need to do some clearning such as the date and the Media omitted. (re-explain)"
      ]
    },
    {
      "cell_type": "code",
      "metadata": {
        "colab": {
          "base_uri": "https://localhost:8080/"
        },
        "id": "qSkfqE7ovXPc",
        "outputId": "edfb3692-f04d-4308-db16-8b320b291f21"
      },
      "source": [
        "df.shape"
      ],
      "execution_count": 13,
      "outputs": [
        {
          "output_type": "execute_result",
          "data": {
            "text/plain": [
              "(41324, 1)"
            ]
          },
          "metadata": {
            "tags": []
          },
          "execution_count": 13
        }
      ]
    },
    {
      "cell_type": "code",
      "metadata": {
        "id": "R3JZmygRyeR8"
      },
      "source": [
        "np.savetxt(r'/content/drive/MyDrive/WhatsApp chat/Chat.txt', df.values,fmt='%s')"
      ],
      "execution_count": 14,
      "outputs": []
    },
    {
      "cell_type": "code",
      "metadata": {
        "colab": {
          "base_uri": "https://localhost:8080/"
        },
        "id": "YBBY7u_8y81f",
        "outputId": "b8cb2839-6d0c-4ea6-bb7c-68415dd334fc"
      },
      "source": [
        "whatsapp_df = pd.read_fwf('/content/drive/MyDrive/WhatsApp chat/Chat.txt', header = None)\n",
        "\n",
        "print(whatsapp_df)"
      ],
      "execution_count": 15,
      "outputs": [
        {
          "output_type": "stream",
          "text": [
            "                                                       0\n",
            "0      30/05/2020, 00:46 - krishna kaushik: Shit 42,5...\n",
            "1                     30/05/2020, 00:46 - Suraj: Cricket\n",
            "2      30/05/2020, 00:46 - krishna kaushik: I expecte...\n",
            "3      30/05/2020, 00:47 - Suraj: 😑ardamchesko poosag...\n",
            "4      30/05/2020, 00:47 - Lochin: have you seen me w...\n",
            "...                                                  ...\n",
            "41319        12/07/2021, 14:25 - Lochin: <Media omitted>\n",
            "41320                      12/07/2021, 14:26 - Hrishi: 🤣\n",
            "41321  12/07/2021, 14:41 - krishna kaushik: yes this ...\n",
            "41322  12/07/2021, 14:42 - krishna kaushik: world cup...\n",
            "41323                    12/07/2021, 14:46 - Lochin: 😂😂😂\n",
            "\n",
            "[41324 rows x 1 columns]\n"
          ],
          "name": "stdout"
        }
      ]
    },
    {
      "cell_type": "markdown",
      "metadata": {
        "id": "LYIWs9e3vXPc"
      },
      "source": [
        "So now we understand the column name need to be changed instead of using 0 we need to change it to more meaningful name such as DateTime, user and messages then we will put it as **whatsapp_df**. Also, we want to make all the row and column are in the same value. In this project, you will notice that I will be repeating using **whatsapp_df** and copy into multiple data frame."
      ]
    },
    {
      "cell_type": "code",
      "metadata": {
        "id": "otI5fcGuvXPc"
      },
      "source": [
        "def txtTodf(txt_file):\n",
        "    '''Convert WhatsApp chat log text file to a Pandas dataframe.'''\n",
        "    \n",
        "    # some regex to account for messages taking up multiple lines\n",
        "    pat = re.compile(r'^(\\d\\d\\/\\d\\d\\/\\d\\d\\d\\d.*?)(?=^^\\d\\d\\/\\d\\d\\/\\d\\d\\d\\d|\\Z)', re.S | re.M)\n",
        "    with open(txt_file) as file:\n",
        "        data = [m.group(1).strip().replace('\\n', ' ') for m in pat.finditer(file.read())]\n",
        "\n",
        "    user     = []; \n",
        "    message  = []; \n",
        "    datetime = []\n",
        "    \n",
        "    for row in data:\n",
        "\n",
        "        # timestamp is before the first dash\n",
        "        datetime.append(row.split(' - ')[0])\n",
        "\n",
        "        # sender is between am/pm, dash and colon\n",
        "        try:\n",
        "            s = re.search('- (.*?):', row).group(1)\n",
        "            user.append(s)\n",
        "        except:\n",
        "            user.append('')\n",
        "\n",
        "        # message content is after the first colon\n",
        "        try:\n",
        "            message.append(row.split(': ', 1)[1])\n",
        "        except:\n",
        "            message.append('')\n",
        "\n",
        "    df = pd.DataFrame(zip(datetime, user, message), columns=['datetime', 'user', 'message'])\n",
        "    df['datetime'] = pd.to_datetime(df.datetime, format='%d/%m/%Y, %H:%M')\n",
        "\n",
        "    # remove events not associated with a sender\n",
        "    df = df[df.user != ''].reset_index(drop=True)\n",
        "    \n",
        "    return df\n",
        "\n",
        "whatsapp_df = txtTodf(\"/content/drive/MyDrive/WhatsApp chat/Chat.txt\")"
      ],
      "execution_count": 17,
      "outputs": []
    },
    {
      "cell_type": "markdown",
      "metadata": {
        "id": "wJGxinOhvXPd"
      },
      "source": [
        "After clearning the data, now you are able to see the dataframe/tables is more easy to read than the pervious tables. \n",
        "\n"
      ]
    },
    {
      "cell_type": "code",
      "metadata": {
        "colab": {
          "base_uri": "https://localhost:8080/"
        },
        "id": "H9rmn7GuvXPe",
        "outputId": "3e86ed87-e33e-4cda-cb34-accb2beb27df"
      },
      "source": [
        "whatsapp_df.info()"
      ],
      "execution_count": 19,
      "outputs": [
        {
          "output_type": "stream",
          "text": [
            "<class 'pandas.core.frame.DataFrame'>\n",
            "RangeIndex: 39995 entries, 0 to 39994\n",
            "Data columns (total 3 columns):\n",
            " #   Column    Non-Null Count  Dtype         \n",
            "---  ------    --------------  -----         \n",
            " 0   datetime  39995 non-null  datetime64[ns]\n",
            " 1   user      39995 non-null  object        \n",
            " 2   message   39995 non-null  object        \n",
            "dtypes: datetime64[ns](1), object(2)\n",
            "memory usage: 937.5+ KB\n"
          ],
          "name": "stdout"
        }
      ]
    },
    {
      "cell_type": "markdown",
      "metadata": {
        "id": "tN7vaS68vXPe"
      },
      "source": [
        "We will now save our work by using **jovian.commit**"
      ]
    },
    {
      "cell_type": "code",
      "metadata": {
        "colab": {
          "base_uri": "https://localhost:8080/",
          "height": 102
        },
        "id": "IGpg3Px3vXPe",
        "outputId": "e5473e59-fe25-4fbb-c70b-2024066bfe2a"
      },
      "source": [
        "jovian.commit(project=project_name,enviroment=None,files=[\"/content/drive/MyDrive/WhatsApp chat/Chat.txt\"])"
      ],
      "execution_count": 20,
      "outputs": [
        {
          "output_type": "stream",
          "text": [
            "[jovian] Detected Colab notebook...\u001b[0m\n",
            "[jovian] Uploading colab notebook to Jovian...\u001b[0m\n",
            "[jovian] Uploading additional files...\u001b[0m\n",
            "Committed successfully! https://jovian.ai/krishnakaushik25/whatsapp-chat-analysis-course-project\n"
          ],
          "name": "stdout"
        },
        {
          "output_type": "execute_result",
          "data": {
            "application/vnd.google.colaboratory.intrinsic+json": {
              "type": "string"
            },
            "text/plain": [
              "'https://jovian.ai/krishnakaushik25/whatsapp-chat-analysis-course-project'"
            ]
          },
          "metadata": {
            "tags": []
          },
          "execution_count": 20
        }
      ]
    },
    {
      "cell_type": "markdown",
      "metadata": {
        "id": "tQyjyqBpvXPe"
      },
      "source": [
        "# Cleaning the image data"
      ]
    },
    {
      "cell_type": "markdown",
      "metadata": {
        "id": "aKyGyiI2vXPe"
      },
      "source": [
        "After we are done cleaning the columns data, now we must make sure to clear all the image/media data because we are not going use that as our data analysis questions. Since we want to do analysis on the text rather than the image so we have to clean the image data in the text file. In here we have 11k of the image in the three-row. The below diagram is showing how to drop the image file."
      ]
    },
    {
      "cell_type": "code",
      "metadata": {
        "colab": {
          "base_uri": "https://localhost:8080/"
        },
        "id": "AqQZboAivXPf",
        "outputId": "6bcdf8fe-e703-4f6f-ac7f-cded662ffa98"
      },
      "source": [
        "# To understand the number od the image data\n",
        "img = whatsapp_df[whatsapp_df['message'] == \"<Media omitted>\" ]\n",
        "img.shape\n"
      ],
      "execution_count": 21,
      "outputs": [
        {
          "output_type": "execute_result",
          "data": {
            "text/plain": [
              "(2381, 3)"
            ]
          },
          "metadata": {
            "tags": []
          },
          "execution_count": 21
        }
      ]
    },
    {
      "cell_type": "markdown",
      "metadata": {
        "id": "66iuup2bvXPf"
      },
      "source": [
        "So now we will drop all the img to make the dataset more clean. Moreover, we want to make sure it will not copy a new dataset that why we will use \"inplace == True\""
      ]
    },
    {
      "cell_type": "code",
      "metadata": {
        "id": "xBSId4TVvXPf"
      },
      "source": [
        "# We will drop all the image file by using the Drop functions\n",
        "whatsapp_df.drop(img.index, inplace=True)"
      ],
      "execution_count": 22,
      "outputs": []
    },
    {
      "cell_type": "markdown",
      "metadata": {
        "id": "CsjsgU1yvXPf"
      },
      "source": [
        "As you can see now the dataset is clean from the **media format**.But we have a problem because after we did the clearning the index of the dataset had been off-order. So now we have to clean the data by using the reset_index()."
      ]
    },
    {
      "cell_type": "code",
      "metadata": {
        "colab": {
          "base_uri": "https://localhost:8080/"
        },
        "id": "K5iIhs4mvXPf",
        "outputId": "9f5838d8-22e7-4689-c193-b9e93df1b6b5"
      },
      "source": [
        "print(whatsapp_df.head(10))"
      ],
      "execution_count": null,
      "outputs": [
        {
          "output_type": "stream",
          "text": [
            "             datetime  ...                                            message\n",
            "0 2020-05-30 00:46:00  ...     Shit 42,500 nunchi start , arey entraaa idiiii\n",
            "1 2020-05-30 00:46:00  ...                                            Cricket\n",
            "2 2020-05-30 00:46:00  ...    I expected to be around 35 , too costly kada ra\n",
            "3 2020-05-30 00:47:00  ...        😑ardamchesko poosaguchinattu cheppalem anni\n",
            "4 2020-05-30 00:47:00  ...  have you seen me watching cricket on my phone ...\n",
            "5 2020-05-30 00:47:00  ...                                                yes\n",
            "6 2020-05-30 00:48:00  ...                       I would spend Max 20k for it\n",
            "7 2020-05-30 00:48:00  ...  Bro when u see the good reasonable price for t...\n",
            "8 2020-05-30 00:48:00  ...  I think this will hopefully start a backward t...\n",
            "9 2020-05-30 00:48:00  ...                                       I go till 30\n",
            "\n",
            "[10 rows x 3 columns]\n"
          ],
          "name": "stdout"
        }
      ]
    },
    {
      "cell_type": "markdown",
      "metadata": {
        "id": "V1K39nkCvXPg"
      },
      "source": [
        "So after the data is clean we have left 37614 data in our dataset. So now we are able to perform the data driven decision making!\n"
      ]
    },
    {
      "cell_type": "code",
      "metadata": {
        "colab": {
          "base_uri": "https://localhost:8080/"
        },
        "id": "oBJMt7HDvXPg",
        "outputId": "42c1130d-998a-4214-b316-af7edd403e01"
      },
      "source": [
        "whatsapp_df.reset_index(inplace=True, drop=True)\n",
        "whatsapp_df.shape"
      ],
      "execution_count": 23,
      "outputs": [
        {
          "output_type": "execute_result",
          "data": {
            "text/plain": [
              "(37614, 3)"
            ]
          },
          "metadata": {
            "tags": []
          },
          "execution_count": 23
        }
      ]
    },
    {
      "cell_type": "markdown",
      "metadata": {
        "id": "7Ww7fwU0vXPg"
      },
      "source": [
        "# Let get started on the Exploratory Data Analysis(EDA)\n",
        "1. Which users have the most Chat/messages in the group?\n",
        "2. Which emojis use the most by which users?\n",
        "3. Most active hours?\n",
        "4. Which month have the highest messages and also the busiest month?\n",
        "5. Determine which word or text did the user use the most?\n",
        "\n",
        "**To get more details explanation you can visit my medium link:??**"
      ]
    },
    {
      "cell_type": "code",
      "metadata": {
        "colab": {
          "base_uri": "https://localhost:8080/",
          "height": 102
        },
        "id": "W4TzPjEwvXPg",
        "outputId": "bfdbff6a-5cf5-48f6-ad1f-499decb0b91c"
      },
      "source": [
        "jovian.commit(project=project_name,enviroment=None,files=[\"/content/drive/MyDrive/WhatsApp chat/Chat.txt\"])"
      ],
      "execution_count": 24,
      "outputs": [
        {
          "output_type": "stream",
          "text": [
            "[jovian] Detected Colab notebook...\u001b[0m\n",
            "[jovian] Uploading colab notebook to Jovian...\u001b[0m\n",
            "[jovian] Uploading additional files...\u001b[0m\n",
            "Committed successfully! https://jovian.ai/krishnakaushik25/whatsapp-chat-analysis-course-project\n"
          ],
          "name": "stdout"
        },
        {
          "output_type": "execute_result",
          "data": {
            "application/vnd.google.colaboratory.intrinsic+json": {
              "type": "string"
            },
            "text/plain": [
              "'https://jovian.ai/krishnakaushik25/whatsapp-chat-analysis-course-project'"
            ]
          },
          "metadata": {
            "tags": []
          },
          "execution_count": 24
        }
      ]
    },
    {
      "cell_type": "markdown",
      "metadata": {
        "id": "S4aVXCEkvXPg"
      },
      "source": [
        "# 1. Which users have the most Chat/messages in the group?"
      ]
    },
    {
      "cell_type": "markdown",
      "metadata": {
        "id": "9wd_4xd0vXPh"
      },
      "source": [
        "In any WhatsApp analysis, we always want to know which user normally chat the most in the group. This help as we determine the most active person in the chat group."
      ]
    },
    {
      "cell_type": "code",
      "metadata": {
        "colab": {
          "base_uri": "https://localhost:8080/"
        },
        "id": "2-K3369EvXPh",
        "outputId": "61cc0b5b-5872-464a-f1ad-a2d12efef158"
      },
      "source": [
        "#Understand how many user and messages in this chat first\n",
        "totalNumberofMessage = whatsapp_df.message.count()\n",
        "username   = whatsapp_df[\"user\"].unique() #unique is a functions that able find the unique elements of an array\n",
        "\n",
        "print('The total of the number of message:',totalNumberofMessage)\n",
        "print('User name that involve in the chat:',username)"
      ],
      "execution_count": 25,
      "outputs": [
        {
          "output_type": "stream",
          "text": [
            "The total of the number of message: 37614\n",
            "User name that involve in the chat: ['krishna kaushik' 'Suraj' 'Lochin' 'Chandan Iitg' 'Dhanush' 'Hrishi'\n",
            " 'Phanindra' 'Raghava' 'Anand' 'K Sakeesh ECE IITG A-39' 'Likith'\n",
            " 'Vishal IITG Lohit' 'Vamshi Ece Iitg' 'Mohan']\n"
          ],
          "name": "stdout"
        }
      ]
    },
    {
      "cell_type": "markdown",
      "metadata": {
        "id": "SVLGDGX9vXPh"
      },
      "source": [
        "Now we will start creating a new dataframe by copying from the old dataframe, the reason is very simple because we did not want to edit the original dataframe."
      ]
    },
    {
      "cell_type": "code",
      "metadata": {
        "colab": {
          "base_uri": "https://localhost:8080/"
        },
        "id": "ikeFalDCvXPh",
        "outputId": "12172adb-1d8f-4de3-cf0d-cdcb261805de"
      },
      "source": [
        "#Creating a new dataframe by copying the old dataframe\n",
        "whatsapp_df1 = whatsapp_df.copy()\n",
        "whatsapp_df1['Number_of_messages'] = [1]* whatsapp_df1.shape[0]\n",
        "whatsapp_df1.drop(columns = 'datetime', inplace = True)\n",
        "\n",
        "#We are groupby the user and messages together then we will use count() to count the messages for each of user\n",
        "whatsapp_df1 = whatsapp_df1.groupby('user')['Number_of_messages'].count().sort_values(ascending = False).reset_index() \n",
        "print(whatsapp_df1)"
      ],
      "execution_count": null,
      "outputs": [
        {
          "output_type": "stream",
          "text": [
            "                       user  Number_of_messages\n",
            "0                    Lochin                9463\n",
            "1           krishna kaushik                9274\n",
            "2                     Suraj                6556\n",
            "3                   Dhanush                4768\n",
            "4              Chandan Iitg                3686\n",
            "5                    Hrishi                1974\n",
            "6                 Phanindra                 867\n",
            "7                    Likith                 334\n",
            "8                     Anand                 310\n",
            "9                   Raghava                 277\n",
            "10  K Sakeesh ECE IITG A-39                  55\n",
            "11        Vishal IITG Lohit                  24\n",
            "12          Vamshi Ece Iitg                  20\n",
            "13                    Mohan                   6\n"
          ],
          "name": "stdout"
        }
      ]
    },
    {
      "cell_type": "markdown",
      "metadata": {
        "id": "VxDgO4RuvXPi"
      },
      "source": [
        "## We will use different data visualization method for this case\n",
        "\n",
        "**1. Plot Chart**\n",
        "\n",
        "**2. Bar Chart**"
      ]
    },
    {
      "cell_type": "markdown",
      "metadata": {
        "id": "UqMy9MiyvXPi"
      },
      "source": [
        "We are going to create a plot chart for our first data visualization method.\n",
        "\n",
        "As you can see the results have shown us the most number of messages is by users call \"Lochin and Krishna Kaushik\" that is around 10k and this show **\"Lochin and Krishna Kaushik\"** are very active members in the group"
      ]
    },
    {
      "cell_type": "code",
      "metadata": {
        "colab": {
          "base_uri": "https://localhost:8080/",
          "height": 374
        },
        "id": "nVtdA7506YVJ",
        "outputId": "bf42afb4-bd04-4829-cacf-59050e2bb6f7"
      },
      "source": [
        "!pip install matplotlib==3.1.3"
      ],
      "execution_count": 31,
      "outputs": [
        {
          "output_type": "stream",
          "text": [
            "Collecting matplotlib==3.1.3\n",
            "\u001b[?25l  Downloading https://files.pythonhosted.org/packages/4c/9b/35ab3469fd1509f7636a344940569ebfd33239673fd2318e80b4700a257c/matplotlib-3.1.3-cp37-cp37m-manylinux1_x86_64.whl (13.1MB)\n",
            "\u001b[K     |████████████████████████████████| 13.1MB 220kB/s \n",
            "\u001b[?25hRequirement already satisfied: pyparsing!=2.0.4,!=2.1.2,!=2.1.6,>=2.0.1 in /usr/local/lib/python3.7/dist-packages (from matplotlib==3.1.3) (2.4.7)\n",
            "Requirement already satisfied: kiwisolver>=1.0.1 in /usr/local/lib/python3.7/dist-packages (from matplotlib==3.1.3) (1.3.1)\n",
            "Requirement already satisfied: numpy>=1.11 in /usr/local/lib/python3.7/dist-packages (from matplotlib==3.1.3) (1.21.0)\n",
            "Requirement already satisfied: cycler>=0.10 in /usr/local/lib/python3.7/dist-packages (from matplotlib==3.1.3) (0.10.0)\n",
            "Requirement already satisfied: python-dateutil>=2.1 in /usr/local/lib/python3.7/dist-packages (from matplotlib==3.1.3) (2.8.1)\n",
            "Requirement already satisfied: six in /usr/local/lib/python3.7/dist-packages (from cycler>=0.10->matplotlib==3.1.3) (1.15.0)\n",
            "\u001b[31mERROR: albumentations 0.1.12 has requirement imgaug<0.2.7,>=0.2.5, but you'll have imgaug 0.2.9 which is incompatible.\u001b[0m\n",
            "Installing collected packages: matplotlib\n",
            "  Found existing installation: matplotlib 3.4.2\n",
            "    Uninstalling matplotlib-3.4.2:\n",
            "      Successfully uninstalled matplotlib-3.4.2\n",
            "Successfully installed matplotlib-3.1.3\n"
          ],
          "name": "stdout"
        },
        {
          "output_type": "display_data",
          "data": {
            "application/vnd.colab-display-data+json": {
              "pip_warning": {
                "packages": [
                  "matplotlib",
                  "mpl_toolkits"
                ]
              }
            }
          },
          "metadata": {
            "tags": []
          }
        }
      ]
    },
    {
      "cell_type": "code",
      "metadata": {
        "colab": {
          "base_uri": "https://localhost:8080/",
          "height": 685
        },
        "id": "KIHmK6JrvXPi",
        "outputId": "a8f40277-6bda-4092-baa7-c92c701231f7"
      },
      "source": [
        "#  Using seaborn for Styles \n",
        "sns.set_style(\"darkgrid\")\n",
        "\n",
        "# Resize the  figure size\n",
        "plt.figure(figsize=(12, 9))\n",
        "\n",
        "# Here we are ploting the line chart using plt.plot \n",
        "plt.plot(whatsapp_df1.user, whatsapp_df1.Number_of_messages, 'o--c')  \n",
        "\n",
        "# In here we are writing the Labels and Title for the plot chart\n",
        "plt.xlabel('Users')\n",
        "plt.ylabel('Total number of messages')\n",
        "\n",
        "plt.title(\"The highest number of messages send by the user\")\n",
        "plt.legend(['Messages send']);\n",
        "plt.xticks(rotation=45)"
      ],
      "execution_count": null,
      "outputs": [
        {
          "output_type": "execute_result",
          "data": {
            "text/plain": [
              "([0, 1, 2, 3, 4, 5, 6, 7, 8, 9, 10, 11, 12, 13],\n",
              " <a list of 14 Text major ticklabel objects>)"
            ]
          },
          "metadata": {
            "tags": []
          },
          "execution_count": 121
        },
        {
          "output_type": "display_data",
          "data": {
            "image/png": "[encoded data removed]",
            "text/plain": [
              "<Figure size 864x648 with 1 Axes>"
            ]
          },
          "metadata": {
            "tags": []
          }
        }
      ]
    },
    {
      "cell_type": "markdown",
      "metadata": {
        "id": "ai4WSyHvvXPj"
      },
      "source": [
        "In the previous plot we are using **matplotlib**. Now let use seaborn(sns) to beautify our chart and this time we will use bar chart as our data visualization"
      ]
    },
    {
      "cell_type": "code",
      "metadata": {
        "colab": {
          "base_uri": "https://localhost:8080/",
          "height": 762
        },
        "id": "1IYocVdFvXPj",
        "outputId": "5769bc17-d14b-4002-8a11-1f7912469dfc"
      },
      "source": [
        "#Formating\n",
        "sns.set_style(\"darkgrid\")\n",
        "\n",
        "#The background of the chart\n",
        "matplotlib.rcParams['font.size'] = 12\n",
        "matplotlib.rcParams['figure.figsize'] = (12, 9)\n",
        "matplotlib.rcParams['figure.facecolor'] = '#00000000'\n",
        "fig, ax = plt.subplots()\n",
        "\n",
        "#Creating a bar chart\n",
        "sns.barplot(whatsapp_df1.user,whatsapp_df1.Number_of_messages,hue='user',data=whatsapp_df1,dodge=False,palette=\"CMRmap\")\n",
        "\n",
        "#The title of our charts\n",
        "plt.title(\"The highest number of messages\")\n",
        "\n",
        "#Change the width of the bar chart plot\n",
        "def change_width(ax, new_value) :\n",
        "    for patch in ax.patches :\n",
        "        current_width = patch.get_width()\n",
        "        diff = current_width - new_value\n",
        "\n",
        "        # we change the bar width\n",
        "        patch.set_width(new_value)\n",
        "\n",
        "        # we recenter the bar\n",
        "        patch.set_x(patch.get_x() + diff * .5)\n",
        "\n",
        "change_width(ax, .35)\n",
        "plt.xticks(rotation=45)\n",
        "plt.show()\n"
      ],
      "execution_count": null,
      "outputs": [
        {
          "output_type": "stream",
          "text": [
            "/usr/local/lib/python3.7/dist-packages/seaborn/_decorators.py:43: FutureWarning:\n",
            "\n",
            "Pass the following variables as keyword args: x, y. From version 0.12, the only valid positional argument will be `data`, and passing other arguments without an explicit keyword will result in an error or misinterpretation.\n",
            "\n"
          ],
          "name": "stderr"
        },
        {
          "output_type": "display_data",
          "data": {
            "image/png": "[encoded data removed]",
            "text/plain": [
              "<Figure size 864x648 with 1 Axes>"
            ]
          },
          "metadata": {
            "tags": [],
            "needs_background": "light"
          }
        }
      ]
    },
    {
      "cell_type": "markdown",
      "metadata": {
        "id": "lQzGDxMOvXPj"
      },
      "source": [
        "# 2.Which emojis use the most by which users?"
      ]
    },
    {
      "cell_type": "markdown",
      "metadata": {
        "id": "zgjSq5U5vXPj"
      },
      "source": [
        "Now we want to know which emoji is used widely by the user and from the analysis, we can do an assumption that user will most likely to use emoji again in the other chat.\n",
        "\n",
        "First we need to count the number of emoji in the mmessage row by using the **UNICODE_EMOJI** to search the code for the emoji"
      ]
    },
    {
      "cell_type": "code",
      "metadata": {
        "colab": {
          "base_uri": "https://localhost:8080/"
        },
        "id": "7ULexli-9r7R",
        "outputId": "88285312-f783-46df-9289-7e769f766abf"
      },
      "source": [
        "import emoji\n",
        "emojis_list = map(lambda x: ''.join(x.split()), emoji.UNICODE_EMOJI.keys()) \n",
        "emoji.UNICODE_EMOJI.keys()"
      ],
      "execution_count": null,
      "outputs": [
        {
          "output_type": "execute_result",
          "data": {
            "text/plain": [
              "dict_keys(['en', 'es', 'pt', 'it'])"
            ]
          },
          "metadata": {
            "tags": []
          },
          "execution_count": 145
        }
      ]
    },
    {
      "cell_type": "code",
      "metadata": {
        "colab": {
          "base_uri": "https://localhost:8080/"
        },
        "id": "3O6uvqRc-70L",
        "outputId": "409430de-a2a8-4951-802f-f64bc89032a3"
      },
      "source": [
        "emojis_list = map(lambda x: ''.join(x.split()),list(emoji.UNICODE_EMOJI['es'].keys())+list(emoji.UNICODE_EMOJI['en'].keys()) +\n",
        "                  list(emoji.UNICODE_EMOJI['pt'].keys())+list(emoji.UNICODE_EMOJI['it'].keys()))\n",
        "\n",
        "r = re.compile('|'.join(re.escape(p) for p in emojis_list))\n",
        "r"
      ],
      "execution_count": null,
      "outputs": [
        {
          "output_type": "execute_result",
          "data": {
            "text/plain": [
              "re.compile(r'😀|😃|😄|😁|😆|😅|🤣|😂|🙂|🙃|😉|😊|😇|🥰|😍|🤩|😘|😗|☺️|😚|😙|\\U0001f972|😋|😛|😜|🤪|😝|🤑|🤗|🤭|🤫|🤔|🤐|🤨|😐|😑|😶|😏|😒|🙄|😬|🤥|😌|😔|😪|🤤|😴|😷|🤒|🤕|🤢|🤮|🤧|🥵|🥶|🥴|😵|🤯|🤠|🥳|\\U0001f978|😎|🤓|🧐|😕|😟|🙁|☹️|😮|😯|😲|😳|🥺|😦|😧|😨|😰|😥|😢|😭|😱|😖|😣|😞|😓|😩|😫|\\U0001f971|😤|😡|😠|🤬|😈|👿|💀|☠️|💩|🤡|👹|👺|👻|👽|👾|🤖|😺|😸|😹|😻|😼|😽|🙀|😿|😾|🙈|🙉|🙊|💋|💌|💘|💝|💖|💗|💓|💞|💕|💟|❣️|💔|❤️|🧡|💛|💚|💙|💜|\\U0001f90e|🖤|\\U0001f90d|💯|💢|💥|💫|💦|💨|🕳️|💣|💬|👁️\\u200d🗨️|🗨️|🗯️|💭|💤|👋|👋🏻|👋🏼|👋🏽|👋🏾|👋🏿|🤚|🤚🏻|🤚🏼|🤚🏽|🤚🏾|🤚🏿|🖐️|🖐🏻|🖐🏼|🖐🏽|🖐🏾|🖐🏿|✋|✋🏻|✋🏼|✋🏽|✋🏾|✋🏿|🖖|🖖🏻|🖖🏼|🖖🏽|🖖🏾|🖖🏿|👌|👌🏻|👌🏼|👌🏽|👌🏾|👌🏿|\\U0001f90c|\\U0001f90c🏻|\\U0001f90c🏼|\\U0001f90c🏽|\\U0001f90c🏾|\\U0001f90c🏿|\\U0001f90f|\\U0001f90f🏻|\\U0001f90f🏼|\\U0001f90f🏽|\\U0001f90f🏾|\\U0001f90f🏿|✌|✌️|✌🏻|✌🏼|✌🏽|✌🏾|✌🏿|🤞|🤞🏻|🤞🏼|🤞🏽|🤞🏾|🤞🏿|🤟|🤟🏻|🤟🏼|🤟🏽|🤟🏾|🤟🏿|🤘|🤘🏻|🤘🏼|🤘🏽|🤘🏾|🤘🏿|🤙|🤙🏻|🤙🏼|🤙🏽|🤙🏾|🤙🏿|👈|👈🏻|👈🏼|👈🏽|👈🏾|👈🏿|👉|👉🏻|👉🏼|👉🏽|👉🏾|👉🏿|👆|👆🏻|👆🏼|👆🏽|👆🏾|👆🏿|🖕|🖕🏻|🖕🏼|🖕🏽|🖕🏾|🖕🏿|👇|👇🏻|👇🏼|👇🏽|👇🏾|👇🏿|☝|☝️|☝🏻|☝🏼|☝🏽|☝🏾|☝🏿|👍|👍🏻|👍🏼|👍🏽|👍🏾|👍🏿|👎|👎🏻|👎🏼|👎🏽|👎🏾|👎🏿|✊|✊🏻|✊🏼|✊🏽|✊🏾|✊🏿|👊|👊🏻|👊🏼|👊🏽|👊🏾|👊🏿|🤛|🤛🏻|🤛🏼|🤛🏽|🤛🏾|🤛🏿|🤜|🤜🏻|🤜🏼|🤜🏽|🤜🏾|🤜🏿|👏|👏🏻|👏🏼|👏🏽|👏🏾|👏🏿|🙌|🙌🏻|🙌🏼|🙌🏽|🙌🏾|🙌🏿|👐|👐🏻|👐🏼|👐🏽|👐🏾|👐🏿|🤲|🤲🏻|🤲🏼|🤲🏽|🤲🏾|🤲🏿|🤝|🙏|🙏🏻|🙏🏼|🙏🏽|🙏🏾|🙏🏿|✍️|✍🏻|✍🏼|✍🏽|✍🏾|✍🏿|💅|💅🏻|💅🏼|💅🏽|💅🏾|💅🏿|🤳|🤳🏻|🤳🏼|🤳🏽|🤳🏾|🤳🏿|💪|💪🏻|💪🏼|💪🏽|💪🏾|💪🏿|\\U0001f9be|\\U0001f9bf|🦵|🦵🏻|🦵🏼|🦵🏽|🦵🏾|🦵🏿|🦶|🦶🏻|🦶🏼|🦶🏽|🦶🏾|🦶🏿|👂|👂🏻|👂🏼|👂🏽|👂🏾|👂🏿|\\U0001f9bb|\\U0001f9bb🏻|\\U0001f9bb🏼|\\U0001f9bb🏽|\\U0001f9bb🏾|\\U0001f9bb🏿|👃|👃🏻|👃🏼|👃🏽|👃🏾|👃🏿|🧠|\\U0001fac0|\\U0001fac1|🦷|🦴|👀|👁️|👅|👄|👶|👶🏻|👶🏼|👶🏽|👶🏾|👶🏿|🧒|🧒🏻|🧒🏼|🧒🏽|🧒🏾|🧒🏿|👦|👦🏻|👦🏼|👦🏽|👦🏾|👦🏿|👧|👧🏻|👧🏼|👧🏽|👧🏾|👧🏿|🧑|🧑🏻|🧑🏼|🧑🏽|🧑🏾|🧑🏿|👱|👱🏻|👱🏼|👱🏽|👱🏾|👱🏿|👨|👨🏻|👨🏼|👨🏽|👨🏾|👨🏿|🧔|🧔🏻|🧔🏼|🧔🏽|🧔🏾|🧔🏿|👨\\u200d🦰|👨🏻\\u200d🦰|👨🏼\\u200d🦰|👨🏽\\u200d🦰|👨🏾\\u200d🦰|👨🏿\\u200d🦰|👨\\u200d🦱|👨🏻\\u200d🦱|👨🏼\\u200d🦱|👨🏽\\u200d🦱|👨🏾\\u200d🦱|👨🏿\\u200d🦱|👨\\u200d🦳|👨🏻\\u200d🦳|👨🏼\\u200d🦳|👨🏽\\u200d🦳|👨🏾\\u200d🦳|👨🏿\\u200d🦳|👨\\u200d🦲|👨🏻\\u200d🦲|👨🏼\\u200d🦲|👨🏽\\u200d🦲|👨🏾\\u200d🦲|👨🏿\\u200d🦲|👩|👩🏻|👩🏼|👩🏽|👩🏾|👩🏿|👩\\u200d🦰|👩🏻\\u200d🦰|👩🏼\\u200d🦰|👩🏽\\u200d🦰|👩🏾\\u200d🦰|👩🏿\\u200d🦰|🧑\\u200d🦰|🧑🏻\\u200d🦰|🧑🏼\\u200d🦰|🧑🏽\\u200d🦰|🧑🏾\\u200d🦰|🧑🏿\\u200d🦰|👩\\u200d🦱|👩🏻\\u200d🦱|👩🏼\\u200d🦱|👩🏽\\u200d🦱|👩🏾\\u200d🦱|👩🏿\\u200d🦱|🧑\\u200d🦱|🧑🏻\\u200d🦱|🧑🏼\\u200d🦱|🧑🏽\\u200d🦱|🧑🏾\\u200d🦱|🧑🏿\\u200d🦱|👩\\u200d🦳|👩🏻\\u200d🦳|👩🏼\\u200d🦳|👩🏽\\u200d🦳|👩🏾\\u200d🦳|👩🏿\\u200d🦳|🧑\\u200d🦳|🧑🏻\\u200d🦳|🧑🏼\\u200d🦳|🧑🏽\\u200d🦳|🧑🏾\\u200d🦳|🧑🏿\\u200d🦳|👩\\u200d🦲|👩🏻\\u200d🦲|👩🏼\\u200d🦲|👩🏽\\u200d🦲|👩🏾\\u200d🦲|👩🏿\\u200d🦲|🧑\\u200d🦲|🧑🏻\\u200d🦲|🧑🏼\\u200d🦲|🧑🏽\\u200d🦲|🧑🏾\\u200d🦲|🧑🏿\\u200d🦲|👱\\u200d♀️|👱🏻\\u200d♀️|👱🏼\\u200d♀️|👱🏽\\u200d♀️|👱🏾\\u200d♀️|👱🏿\\u200d♀️|👱\\u200d♂️|👱🏻\\u200d♂️|👱🏼\\u200d♂️|👱🏽\\u200d♂️|👱🏾\\u200d♂️|👱🏿\\u200d♂️|🧓|🧓🏻|🧓🏼|🧓🏽|🧓🏾|🧓🏿|👴|👴🏻|👴🏼|👴🏽|👴🏾|👴🏿|👵|👵🏻|👵🏼|👵🏽|👵🏾|👵🏿|🙍|🙍🏻|🙍🏼|🙍🏽|🙍🏾|🙍🏿|🙍\\u200d♂️|🙍🏻\\u200d♂️|🙍🏼\\u200d♂️|🙍🏽\\u200d♂️|🙍🏾\\u200d♂️|🙍🏿\\u200d♂️|🙍\\u200d♀️|🙍🏻\\u200d♀️|🙍🏼\\u200d♀️|🙍🏽\\u200d♀️|🙍🏾\\u200d♀️|🙍🏿\\u200d♀️|🙎|🙎🏻|🙎🏼|🙎🏽|🙎🏾|🙎🏿|🙎\\u200d♂️|🙎🏻\\u200d♂️|🙎🏼\\u200d♂️|🙎🏽\\u200d♂️|🙎🏾\\u200d♂️|🙎🏿\\u200d♂️|🙎\\u200d♀️|🙎🏻\\u200d♀️|🙎🏼\\u200d♀️|🙎🏽\\u200d♀️|🙎🏾\\u200d♀️|🙎🏿\\u200d♀️|🙅|🙅🏻|🙅🏼|🙅🏽|🙅🏾|🙅🏿|🙅\\u200d♂️|🙅🏻\\u200d♂️|🙅🏼\\u200d♂️|🙅🏽\\u200d♂️|🙅🏾\\u200d♂️|🙅🏿\\u200d♂️|🙅\\u200d♀️|🙅🏻\\u200d♀️|🙅🏼\\u200d♀️|🙅🏽\\u200d♀️|🙅🏾\\u200d♀️|🙅🏿\\u200d♀️|🙆|🙆🏻|🙆🏼|🙆🏽|🙆🏾|🙆🏿|🙆\\u200d♂️|🙆🏻\\u200d♂️|🙆🏼\\u200d♂️|🙆🏽\\u200d♂️|🙆🏾\\u200d♂️|🙆🏿\\u200d♂️|🙆\\u200d♀️|🙆🏻\\u200d♀️|🙆🏼\\u200d♀️|🙆🏽\\u200d♀️|🙆🏾\\u200d♀️|🙆🏿\\u200d♀️|💁|💁🏻|💁🏼|💁🏽|💁🏾|💁🏿|💁\\u200d♂️|💁🏻\\u200d♂️|💁🏼\\u200d♂️|💁🏽\\u200d♂️|💁🏾\\u200d♂️|💁🏿\\u200d♂️|💁\\u200d♀️|💁🏻\\u200d♀️|💁🏼\\u200d♀️|💁🏽\\u200d♀️|💁🏾\\u200d♀️|💁🏿\\u200d♀️|🙋|🙋🏻|🙋🏼|🙋🏽|🙋🏾|🙋🏿|🙋\\u200d♂️|🙋🏻\\u200d♂️|🙋🏼\\u200d♂️|🙋🏽\\u200d♂️|🙋🏾\\u200d♂️|🙋🏿\\u200d♂️|🙋\\u200d♀️|🙋🏻\\u200d♀️|🙋🏼\\u200d♀️|🙋🏽\\u200d♀️|🙋🏾\\u200d♀️|🙋🏿\\u200d♀️|\\U0001f9cf|\\U0001f9cf🏻|\\U0001f9cf🏼|\\U0001f9cf🏽|\\U0001f9cf🏾|\\U0001f9cf🏿|\\U0001f9cf\\u200d♂️|\\U0001f9cf🏻\\u200d♂️|\\U0001f9cf🏼\\u200d♂️|\\U0001f9cf🏽\\u200d♂️|\\U0001f9cf🏾\\u200d♂️|\\U0001f9cf🏿\\u200d♂️|\\U0001f9cf\\u200d♀️|\\U0001f9cf🏻\\u200d♀️|\\U0001f9cf🏼\\u200d♀️|\\U0001f9cf🏽\\u200d♀️|\\U0001f9cf🏾\\u200d♀️|\\U0001f9cf🏿\\u200d♀️|🙇|🙇🏻|🙇🏼|🙇🏽|🙇🏾|🙇🏿|🙇\\u200d♂️|🙇🏻\\u200d♂️|🙇🏼\\u200d♂️|🙇🏽\\u200d♂️|🙇🏾\\u200d♂️|🙇🏿\\u200d♂️|🙇\\u200d♀️|🙇🏻\\u200d♀️|🙇🏼\\u200d♀️|🙇🏽\\u200d♀️|🙇🏾\\u200d♀️|🙇🏿\\u200d♀️|🤦|🤦🏻|🤦🏼|🤦🏽|🤦🏾|🤦🏿|🤦\\u200d♂️|🤦🏻\\u200d♂️|🤦🏼\\u200d♂️|🤦🏽\\u200d♂️|🤦🏾\\u200d♂️|🤦🏿\\u200d♂️|🤦\\u200d♀️|🤦🏻\\u200d♀️|🤦🏼\\u200d♀️|🤦🏽\\u200d♀️|🤦🏾\\u200d♀️|🤦🏿\\u200d♀️|🤷|🤷🏻|🤷🏼|🤷🏽|🤷🏾|🤷🏿|🤷\\u200d♂️|🤷🏻\\u200d♂️|🤷🏼\\u200d♂️|🤷🏽\\u200d♂️|🤷🏾\\u200d♂️|🤷🏿\\u200d♂️|🤷\\u200d♀️|🤷🏻\\u200d♀️|🤷🏼\\u200d♀️|🤷🏽\\u200d♀️|🤷🏾\\u200d♀️|🤷🏿\\u200d♀️|🧑\\u200d⚕️|🧑🏻\\u200d⚕️|🧑🏼\\u200d⚕️|🧑🏽\\u200d⚕️|🧑🏾\\u200d⚕️|🧑🏿\\u200d⚕️|👨\\u200d⚕️|👨🏻\\u200d⚕️|👨🏼\\u200d⚕️|👨🏽\\u200d⚕️|👨🏾\\u200d⚕️|👨🏿\\u200d⚕️|👩\\u200d⚕️|👩🏻\\u200d⚕️|👩🏼\\u200d⚕️|👩🏽\\u200d⚕️|👩🏾\\u200d⚕️|👩🏿\\u200d⚕️|🧑\\u200d🎓|🧑🏻\\u200d🎓|🧑🏼\\u200d🎓|🧑🏽\\u200d🎓|🧑🏾\\u200d🎓|🧑🏿\\u200d🎓|👨\\u200d🎓|👨🏻\\u200d🎓|👨🏼\\u200d🎓|👨🏽\\u200d🎓|👨🏾\\u200d🎓|👨🏿\\u200d🎓|👩\\u200d🎓|👩🏻\\u200d🎓|👩🏼\\u200d🎓|👩🏽\\u200d🎓|👩🏾\\u200d🎓|👩🏿\\u200d🎓|🧑\\u200d🏫|🧑🏻\\u200d🏫|🧑🏼\\u200d🏫|🧑🏽\\u200d🏫|🧑🏾\\u200d🏫|🧑🏿\\u200d🏫|👨\\u200d🏫|👨🏻\\u200d🏫|👨🏼\\u200d🏫|👨🏽\\u200d🏫|👨🏾\\u200d🏫|👨🏿\\u200d🏫|👩\\u200d🏫|👩🏻\\u200d🏫|👩🏼\\u200d🏫|👩🏽\\u200d🏫|👩🏾\\u200d🏫|👩🏿\\u200d🏫|🧑\\u200d⚖️|🧑🏻\\u200d⚖️|🧑🏼\\u200d⚖️|🧑🏽\\u200d⚖️|🧑🏾\\u200d⚖️|🧑🏿\\u200d⚖️|👨\\u200d⚖️|👨🏻\\u200d⚖️|👨🏼\\u200d⚖️|👨🏽\\u200d⚖️|👨🏾\\u200d⚖️|👨🏿\\u200d⚖️|👩\\u200d⚖️|👩🏻\\u200d⚖️|👩🏼\\u200d⚖️|👩🏽\\u200d⚖️|👩🏾\\u200d⚖️|👩🏿\\u200d⚖️|🧑\\u200d🌾|🧑🏻\\u200d🌾|🧑🏼\\u200d🌾|🧑🏽\\u200d🌾|🧑🏾\\u200d🌾|🧑🏿\\u200d🌾|👨\\u200d🌾|👨🏻\\u200d🌾|👨🏼\\u200d🌾|👨🏽\\u200d🌾|👨🏾\\u200d🌾|👨🏿\\u200d🌾|👩\\u200d🌾|👩🏻\\u200d🌾|👩🏼\\u200d🌾|👩🏽\\u200d🌾|👩🏾\\u200d🌾|👩🏿\\u200d🌾|🧑\\u200d🍳|🧑🏻\\u200d🍳|🧑🏼\\u200d🍳|🧑🏽\\u200d🍳|🧑🏾\\u200d🍳|🧑🏿\\u200d🍳|👨\\u200d🍳|👨🏻\\u200d🍳|👨🏼\\u200d🍳|👨🏽\\u200d🍳|👨🏾\\u200d🍳|👨🏿\\u200d🍳|👩\\u200d🍳|👩🏻\\u200d🍳|👩🏼\\u200d🍳|👩🏽\\u200d🍳|👩🏾\\u200d🍳|👩🏿\\u200d🍳|🧑\\u200d🔧|🧑🏻\\u200d🔧|🧑🏼\\u200d🔧|🧑🏽\\u200d🔧|🧑🏾\\u200d🔧|🧑🏿\\u200d🔧|👨\\u200d🔧|👨🏻\\u200d🔧|👨🏼\\u200d🔧|👨🏽\\u200d🔧|👨🏾\\u200d🔧|👨🏿\\u200d🔧|👩\\u200d🔧|👩🏻\\u200d🔧|👩🏼\\u200d🔧|👩🏽\\u200d🔧|👩🏾\\u200d🔧|👩🏿\\u200d🔧|🧑\\u200d🏭|🧑🏻\\u200d🏭|🧑🏼\\u200d🏭|🧑🏽\\u200d🏭|🧑🏾\\u200d🏭|🧑🏿\\u200d🏭|👨\\u200d🏭|👨🏻\\u200d🏭|👨🏼\\u200d🏭|👨🏽\\u200d🏭|👨🏾\\u200d🏭|👨🏿\\u200d🏭|👩\\u200d🏭|👩🏻\\u200d🏭|👩🏼\\u200d🏭|👩🏽\\u200d🏭|👩🏾\\u200d🏭|👩🏿\\u200d🏭|🧑\\u200d💼|🧑🏻\\u200d💼|🧑🏼\\u200d💼|🧑🏽\\u200d💼|🧑🏾\\u200d💼|🧑🏿\\u200d💼|👨\\u200d💼|👨🏻\\u200d💼|👨🏼\\u200d💼|👨🏽\\u200d💼|👨🏾\\u200d💼|👨🏿\\u200d💼|👩\\u200d💼|👩🏻\\u200d💼|👩🏼\\u200d💼|👩🏽\\u200d💼|👩🏾\\u200d💼|👩🏿\\u200d💼|🧑\\u200d🔬|🧑🏻\\u200d🔬|🧑🏼\\u200d🔬|🧑🏽\\u200d🔬|🧑🏾\\u200d🔬|🧑🏿\\u200d🔬|👨\\u200d🔬|👨🏻\\u200d🔬|👨🏼\\u200d🔬|👨🏽\\u200d🔬|👨🏾\\u200d🔬|👨🏿\\u200d🔬|👩\\u200d🔬|👩🏻\\u200d🔬|👩🏼\\u200d🔬|👩🏽\\u200d🔬|👩🏾\\u200d🔬|👩🏿\\u200d🔬|🧑\\u200d💻|🧑🏻\\u200d💻|🧑🏼\\u200d💻|🧑🏽\\u200d💻|🧑🏾\\u200d💻|🧑🏿\\u200d💻|👨\\u200d💻|👨🏻\\u200d💻|👨🏼\\u200d💻|👨🏽\\u200d💻|👨🏾\\u200d💻|👨🏿\\u200d💻|👩\\u200d💻|👩🏻\\u200d💻|👩🏼\\u200d💻|👩🏽\\u200d💻|👩🏾\\u200d💻|👩🏿\\u200d💻|🧑\\u200d🎤|🧑🏻\\u200d🎤|🧑🏼\\u200d🎤|🧑🏽\\u200d🎤|🧑🏾\\u200d🎤|🧑🏿\\u200d🎤|👨\\u200d🎤|👨🏻\\u200d🎤|👨🏼\\u200d🎤|👨🏽\\u200d🎤|👨🏾\\u200d🎤|👨🏿\\u200d🎤|👩\\u200d🎤|👩🏻\\u200d🎤|👩🏼\\u200d🎤|👩🏽\\u200d🎤|👩🏾\\u200d🎤|👩🏿\\u200d🎤|🧑\\u200d🎨|🧑🏻\\u200d🎨|🧑🏼\\u200d🎨|🧑🏽\\u200d🎨|🧑🏾\\u200d🎨|🧑🏿\\u200d🎨|👨\\u200d🎨|👨🏻\\u200d🎨|👨🏼\\u200d🎨|👨🏽\\u200d🎨|👨🏾\\u200d🎨|👨🏿\\u200d🎨|👩\\u200d🎨|👩🏻\\u200d🎨|👩🏼\\u200d🎨|👩🏽\\u200d🎨|👩🏾\\u200d🎨|👩🏿\\u200d🎨|🧑\\u200d✈️|🧑🏻\\u200d✈️|🧑🏼\\u200d✈️|🧑🏽\\u200d✈️|🧑🏾\\u200d✈️|🧑🏿\\u200d✈️|👨\\u200d✈️|👨🏻\\u200d✈️|👨🏼\\u200d✈️|👨🏽\\u200d✈️|👨🏾\\u200d✈️|👨🏿\\u200d✈️|👩\\u200d✈️|👩🏻\\u200d✈️|👩🏼\\u200d✈️|👩🏽\\u200d✈️|👩🏾\\u200d✈️|👩🏿\\u200d✈️|🧑\\u200d🚀|🧑🏻\\u200d🚀|🧑🏼\\u200d🚀|🧑🏽\\u200d🚀|🧑🏾\\u200d🚀|🧑🏿\\u200d🚀|👨\\u200d🚀|👨🏻\\u200d🚀|👨🏼\\u200d🚀|👨🏽\\u200d🚀|👨🏾\\u200d🚀|👨🏿\\u200d🚀|👩\\u200d🚀|👩🏻\\u200d🚀|👩🏼\\u200d🚀|👩🏽\\u200d🚀|👩🏾\\u200d🚀|👩🏿\\u200d🚀|🧑\\u200d🚒|🧑🏻\\u200d🚒|🧑🏼\\u200d🚒|🧑🏽\\u200d🚒|🧑🏾\\u200d🚒|🧑🏿\\u200d🚒|👨\\u200d🚒|👨🏻\\u200d🚒|👨🏼\\u200d🚒|👨🏽\\u200d🚒|👨🏾\\u200d🚒|👨🏿\\u200d🚒|👩\\u200d🚒|👩🏻\\u200d🚒|👩🏼\\u200d🚒|👩🏽\\u200d🚒|👩🏾\\u200d🚒|👩🏿\\u200d🚒|👮|👮🏻|👮🏼|👮🏽|👮🏾|👮🏿|👮\\u200d♂️|👮🏻\\u200d♂️|👮🏼\\u200d♂️|👮🏽\\u200d♂️|👮🏾\\u200d♂️|👮🏿\\u200d♂️|👮\\u200d♀️|👮🏻\\u200d♀️|👮🏼\\u200d♀️|👮🏽\\u200d♀️|👮🏾\\u200d♀️|👮🏿\\u200d♀️|🕵️|🕵🏻|🕵🏼|🕵🏽|🕵🏾|🕵🏿|🕵️\\u200d♂️|🕵🏻\\u200d♂️|🕵🏼\\u200d♂️|🕵🏽\\u200d♂️|🕵🏾\\u200d♂️|🕵🏿\\u200d♂️|🕵️\\u200d♀️|🕵🏻\\u200d♀️|🕵🏼\\u200d♀️|🕵🏽\\u200d♀️|🕵🏾\\u200d♀️|🕵🏿\\u200d♀️|💂|💂🏻|💂🏼|💂🏽|💂🏾|💂🏿|💂\\u200d♂️|💂🏻\\u200d♂️|💂🏼\\u200d♂️|💂🏽\\u200d♂️|💂🏾\\u200d♂️|💂🏿\\u200d♂️|💂\\u200d♀️|💂🏻\\u200d♀️|💂🏼\\u200d♀️|💂🏽\\u200d♀️|💂🏾\\u200d♀️|💂🏿\\u200d♀️|\\U0001f977|\\U0001f977🏻|\\U0001f977🏼|\\U0001f977🏽|\\U0001f977🏾|\\U0001f977🏿|👷|👷🏻|👷🏼|👷🏽|👷🏾|👷🏿|👷\\u200d♂️|👷🏻\\u200d♂️|👷🏼\\u200d♂️|👷🏽\\u200d♂️|👷🏾\\u200d♂️|👷🏿\\u200d♂️|👷\\u200d♀️|👷🏻\\u200d♀️|👷🏼\\u200d♀️|👷🏽\\u200d♀️|👷🏾\\u200d♀️|👷🏿\\u200d♀️|🤴|🤴🏻|🤴🏼|🤴🏽|🤴🏾|🤴🏿|👸|👸🏻|👸🏼|👸🏽|👸🏾|👸🏿|👳|👳🏻|👳🏼|👳🏽|👳🏾|👳🏿|👳\\u200d♂️|👳🏻\\u200d♂️|👳🏼\\u200d♂️|👳🏽\\u200d♂️|👳🏾\\u200d♂️|👳🏿\\u200d♂️|👳\\u200d♀️|👳🏻\\u200d♀️|👳🏼\\u200d♀️|👳🏽\\u200d♀️|👳🏾\\u200d♀️|👳🏿\\u200d♀️|👲|👲🏻|👲🏼|👲🏽|👲🏾|👲🏿|🧕|🧕🏻|🧕🏼|🧕🏽|🧕🏾|🧕🏿|🤵|🤵🏻|🤵🏼|🤵🏽|🤵🏾|🤵🏿|🤵\\u200d♂️|🤵🏻\\u200d♂️|🤵🏼\\u200d♂️|🤵🏽\\u200d♂️|🤵🏾\\u200d♂️|🤵🏿\\u200d♂️|🤵\\u200d♀️|🤵🏻\\u200d♀️|🤵🏼\\u200d♀️|🤵🏽\\u200d♀️|🤵🏾\\u200d♀️|🤵🏿\\u200d♀️|👰|👰🏻|👰🏼|👰🏽|👰🏾|👰🏿|👰\\u200d♂️|👰🏻\\u200d♂️|👰🏼\\u200d♂️|👰🏽\\u200d♂️|👰🏾\\u200d♂️|👰🏿\\u200d♂️|👰\\u200d♀️|👰🏻\\u200d♀️|👰🏼\\u200d♀️|👰🏽\\u200d♀️|👰🏾\\u200d♀️|👰🏿\\u200d♀️|🤰|🤰🏻|🤰🏼|🤰🏽|🤰🏾|🤰🏿|🤱|🤱🏻|🤱🏼|🤱🏽|🤱🏾|🤱🏿|👩\\u200d🍼|👩🏻\\u200d🍼|👩🏼\\u200d🍼|👩🏽\\u200d🍼|👩🏾\\u200d🍼|👩🏿\\u200d🍼|👨\\u200d🍼|👨🏻\\u200d🍼|👨🏼\\u200d🍼|👨🏽\\u200d🍼|👨🏾\\u200d🍼|👨🏿\\u200d🍼|🧑\\u200d🍼|🧑🏻\\u200d🍼|🧑🏼\\u200d🍼|🧑🏽\\u200d🍼|🧑🏾\\u200d🍼|🧑🏿\\u200d🍼|👼|👼🏻|👼🏼|👼🏽|👼🏾|👼🏿|🎅|🎅🏻|🎅🏼|🎅🏽|🎅🏾|🎅🏿|🤶|🤶🏻|🤶🏼|🤶🏽|🤶🏾|🤶🏿|🧑\\u200d🎄|🧑🏻\\u200d🎄|🧑🏼\\u200d🎄|🧑🏽\\u200d🎄|🧑🏾\\u200d🎄|🧑🏿\\u200d🎄|🦸|🦸🏻|🦸🏼|🦸🏽|🦸🏾|🦸🏿|🦸\\u200d♂️|🦸🏻\\u200d♂️|🦸🏼\\u200d♂️|🦸🏽\\u200d♂️|🦸🏾\\u200d♂️|🦸🏿\\u200d♂️|🦸\\u200d♀️|🦸🏻\\u200d♀️|🦸🏼\\u200d♀️|🦸🏽\\u200d♀️|🦸🏾\\u200d♀️|🦸🏿\\u200d♀️|🦹|🦹🏻|🦹🏼|🦹🏽|🦹🏾|🦹🏿|🦹\\u200d♂️|🦹🏻\\u200d♂️|🦹🏼\\u200d♂️|🦹🏽\\u200d♂️|🦹🏾\\u200d♂️|🦹🏿\\u200d♂️|🦹\\u200d♀️|🦹🏻\\u200d♀️|🦹🏼\\u200d♀️|🦹🏽\\u200d♀️|🦹🏾\\u200d♀️|🦹🏿\\u200d♀️|🧙|🧙🏻|🧙🏼|🧙🏽|🧙🏾|🧙🏿|🧙\\u200d♂️|🧙🏻\\u200d♂️|🧙🏼\\u200d♂️|🧙🏽\\u200d♂️|🧙🏾\\u200d♂️|🧙🏿\\u200d♂️|🧙\\u200d♀️|🧙🏻\\u200d♀️|🧙🏼\\u200d♀️|🧙🏽\\u200d♀️|🧙🏾\\u200d♀️|🧙🏿\\u200d♀️|🧚|🧚🏻|🧚🏼|🧚🏽|🧚🏾|🧚🏿|🧚\\u200d♂️|🧚🏻\\u200d♂️|🧚🏼\\u200d♂️|🧚🏽\\u200d♂️|🧚🏾\\u200d♂️|🧚🏿\\u200d♂️|🧚\\u200d♀️|🧚🏻\\u200d♀️|🧚🏼\\u200d♀️|🧚🏽\\u200d♀️|🧚🏾\\u200d♀️|🧚🏿\\u200d♀️|🧛|🧛🏻|🧛🏼|🧛🏽|🧛🏾|🧛🏿|🧛\\u200d♂️|🧛🏻\\u200d♂️|🧛🏼\\u200d♂️|🧛🏽\\u200d♂️|🧛🏾\\u200d♂️|🧛🏿\\u200d♂️|🧛\\u200d♀️|🧛🏻\\u200d♀️|🧛🏼\\u200d♀️|🧛🏽\\u200d♀️|🧛🏾\\u200d♀️|🧛🏿\\u200d♀️|🧜|🧜🏻|🧜🏼|🧜🏽|🧜🏾|🧜🏿|🧜\\u200d♂️|🧜🏻\\u200d♂️|🧜🏼\\u200d♂️|🧜🏽\\u200d♂️|🧜🏾\\u200d♂️|🧜🏿\\u200d♂️|🧜\\u200d♀️|🧜🏻\\u200d♀️|🧜🏼\\u200d♀️|🧜🏽\\u200d♀️|🧜🏾\\u200d♀️|🧜🏿\\u200d♀️|🧝|🧝🏻|🧝🏼|🧝🏽|🧝🏾|🧝🏿|🧝\\u200d♂️|🧝🏻\\u200d♂️|🧝🏼\\u200d♂️|🧝🏽\\u200d♂️|🧝🏾\\u200d♂️|🧝🏿\\u200d♂️|🧝\\u200d♀️|🧝🏻\\u200d♀️|🧝🏼\\u200d♀️|🧝🏽\\u200d♀️|🧝🏾\\u200d♀️|🧝🏿\\u200d♀️|🧞|🧞\\u200d♂️|🧞\\u200d♀️|🧟|🧟\\u200d♂️|🧟\\u200d♀️|💆|💆🏻|💆🏼|💆🏽|💆🏾|💆🏿|💆\\u200d♂️|💆🏻\\u200d♂️|💆🏼\\u200d♂️|💆🏽\\u200d♂️|💆🏾\\u200d♂️|💆🏿\\u200d♂️|💆\\u200d♀️|💆🏻\\u200d♀️|💆🏼\\u200d♀️|💆🏽\\u200d♀️|💆🏾\\u200d♀️|💆🏿\\u200d♀️|💇|💇🏻|💇🏼|💇🏽|💇🏾|💇🏿|💇\\u200d♂️|💇🏻\\u200d♂️|💇🏼\\u200d♂️|💇🏽\\u200d♂️|💇🏾\\u200d♂️|💇🏿\\u200d♂️|💇\\u200d♀️|💇🏻\\u200d♀️|💇🏼\\u200d♀️|💇🏽\\u200d♀️|💇🏾\\u200d♀️|💇🏿\\u200d♀️|🚶|🚶🏻|🚶🏼|🚶🏽|🚶🏾|🚶🏿|🚶\\u200d♂️|🚶🏻\\u200d♂️|🚶🏼\\u200d♂️|🚶🏽\\u200d♂️|🚶🏾\\u200d♂️|🚶🏿\\u200d♂️|🚶\\u200d♀️|🚶🏻\\u200d♀️|🚶🏼\\u200d♀️|🚶🏽\\u200d♀️|🚶🏾\\u200d♀️|🚶🏿\\u200d♀️|\\U0001f9cd|\\U0001f9cd🏻|\\U0001f9cd🏼|\\U0001f9cd🏽|\\U0001f9cd🏾|\\U0001f9cd🏿|\\U0001f9cd\\u200d♂️|\\U0001f9cd🏻\\u200d♂️|\\U0001f9cd🏼\\u200d♂️|\\U0001f9cd🏽\\u200d♂️|\\U0001f9cd🏾\\u200d♂️|\\U0001f9cd🏿\\u200d♂️|\\U0001f9cd\\u200d♀️|\\U0001f9cd🏻\\u200d♀️|\\U0001f9cd🏼\\u200d♀️|\\U0001f9cd🏽\\u200d♀️|\\U0001f9cd🏾\\u200d♀️|\\U0001f9cd🏿\\u200d♀️|\\U0001f9ce|\\U0001f9ce🏻|\\U0001f9ce🏼|\\U0001f9ce🏽|\\U0001f9ce🏾|\\U0001f9ce🏿|\\U0001f9ce\\u200d♂️|\\U0001f9ce🏻\\u200d♂️|\\U0001f9ce🏼\\u200d♂️|\\U0001f9ce🏽\\u200d♂️|\\U0001f9ce🏾\\u200d♂️|\\U0001f9ce🏿\\u200d♂️|\\U0001f9ce\\u200d♀️|\\U0001f9ce🏻\\u200d♀️|\\U0001f9ce🏼\\u200d♀️|\\U0001f9ce🏽\\u200d♀️|\\U0001f9ce🏾\\u200d♀️|\\U0001f9ce🏿\\u200d♀️|🧑\\u200d\\U0001f9af|🧑🏻\\u200d\\U0001f9af|🧑🏼\\u200d\\U0001f9af|🧑🏽\\u200d\\U0001f9af|🧑🏾\\u200d\\U0001f9af|🧑🏿\\u200d\\U0001f9af|👨\\u200d\\U0001f9af|👨🏻\\u200d\\U0001f9af|👨🏼\\u200d\\U0001f9af|👨🏽\\u200d\\U0001f9af|👨🏾\\u200d\\U0001f9af|👨🏿\\u200d\\U0001f9af|👩\\u200d\\U0001f9af|👩🏻\\u200d\\U0001f9af|👩🏼\\u200d\\U0001f9af|👩🏽\\u200d\\U0001f9af|👩🏾\\u200d\\U0001f9af|👩🏿\\u200d\\U0001f9af|🧑\\u200d\\U0001f9bc|🧑🏻\\u200d\\U0001f9bc|🧑🏼\\u200d\\U0001f9bc|🧑🏽\\u200d\\U0001f9bc|🧑🏾\\u200d\\U0001f9bc|🧑🏿\\u200d\\U0001f9bc|👨\\u200d\\U0001f9bc|👨🏻\\u200d\\U0001f9bc|👨🏼\\u200d\\U0001f9bc|👨🏽\\u200d\\U0001f9bc|👨🏾\\u200d\\U0001f9bc|👨🏿\\u200d\\U0001f9bc|👩\\u200d\\U0001f9bc|👩🏻\\u200d\\U0001f9bc|👩🏼\\u200d\\U0001f9bc|👩🏽\\u200d\\U0001f9bc|👩🏾\\u200d\\U0001f9bc|👩🏿\\u200d\\U0001f9bc|🧑\\u200d\\U0001f9bd|🧑🏻\\u200d\\U0001f9bd|🧑🏼\\u200d\\U0001f9bd|🧑🏽\\u200d\\U0001f9bd|🧑🏾\\u200d\\U0001f9bd|🧑🏿\\u200d\\U0001f9bd|👨\\u200d\\U0001f9bd|👨🏻\\u200d\\U0001f9bd|👨🏼\\u200d\\U0001f9bd|👨🏽\\u200d\\U0001f9bd|👨🏾\\u200d\\U0001f9bd|👨🏿\\u200d\\U0001f9bd|👩\\u200d\\U0001f9bd|👩🏻\\u200d\\U0001f9bd|👩🏼\\u200d\\U0001f9bd|👩🏽\\u200d\\U0001f9bd|👩🏾\\u200d\\U0001f9bd|👩🏿\\u200d\\U0001f9bd|🏃|🏃🏻|🏃🏼|🏃🏽|🏃🏾|🏃🏿|🏃\\u200d♂️|🏃🏻\\u200d♂️|🏃🏼\\u200d♂️|🏃🏽\\u200d♂️|🏃🏾\\u200d♂️|🏃🏿\\u200d♂️|🏃\\u200d♀️|🏃🏻\\u200d♀️|🏃🏼\\u200d♀️|🏃🏽\\u200d♀️|🏃🏾\\u200d♀️|🏃🏿\\u200d♀️|💃|💃🏻|💃🏼|💃🏽|💃🏾|💃🏿|🕺|🕺🏻|🕺🏼|🕺🏽|🕺🏾|🕺🏿|🕴️|🕴🏻|🕴🏼|🕴🏽|🕴🏾|🕴🏿|👯|👯\\u200d♂️|👯\\u200d♀️|🧖|🧖🏻|🧖🏼|🧖🏽|🧖🏾|🧖🏿|🧖\\u200d♂️|🧖🏻\\u200d♂️|🧖🏼\\u200d♂️|🧖🏽\\u200d♂️|🧖🏾\\u200d♂️|🧖🏿\\u200d♂️|🧖\\u200d♀️|🧖🏻\\u200d♀️|🧖🏼\\u200d♀️|🧖🏽\\u200d♀️|🧖🏾\\u200d♀️|🧖🏿\\u200d♀️|🧗|🧗🏻|🧗🏼|🧗🏽|🧗🏾|🧗🏿|🧗\\u200d♂️|🧗🏻\\u200d♂️|🧗🏼\\u200d♂️|🧗🏽\\u200d♂️|🧗🏾\\u200d♂️|🧗🏿\\u200d♂️|🧗\\u200d♀️|🧗🏻\\u200d♀️|🧗🏼\\u200d♀️|🧗🏽\\u200d♀️|🧗🏾\\u200d♀️|🧗🏿\\u200d♀️|🤺|🏇|🏇🏻|🏇🏼|🏇🏽|🏇🏾|🏇🏿|⛷️|🏂|🏂🏻|🏂🏼|🏂🏽|🏂🏾|🏂🏿|🏌️|🏌🏻|🏌🏼|🏌🏽|🏌🏾|🏌🏿|🏌️\\u200d♂️|🏌🏻\\u200d♂️|🏌🏼\\u200d♂️|🏌🏽\\u200d♂️|🏌🏾\\u200d♂️|🏌🏿\\u200d♂️|🏌️\\u200d♀️|🏌🏻\\u200d♀️|🏌🏼\\u200d♀️|🏌🏽\\u200d♀️|🏌🏾\\u200d♀️|🏌🏿\\u200d♀️|🏄|🏄🏻|🏄🏼|🏄🏽|🏄🏾|🏄🏿|🏄\\u200d♂️|🏄🏻\\u200d♂️|🏄🏼\\u200d♂️|🏄🏽\\u200d♂️|🏄🏾\\u200d♂️|🏄🏿\\u200d♂️|🏄\\u200d♀️|🏄🏻\\u200d♀️|🏄🏼\\u200d♀️|🏄🏽\\u200d♀️|🏄🏾\\u200d♀️|🏄🏿\\u200d♀️|🚣|🚣🏻|🚣🏼|🚣🏽|🚣🏾|🚣🏿|🚣\\u200d♂️|🚣🏻\\u200d♂️|🚣🏼\\u200d♂️|🚣🏽\\u200d♂️|🚣🏾\\u200d♂️|🚣🏿\\u200d♂️|🚣\\u200d♀️|🚣🏻\\u200d♀️|🚣🏼\\u200d♀️|🚣🏽\\u200d♀️|🚣🏾\\u200d♀️|🚣🏿\\u200d♀️|🏊|🏊🏻|🏊🏼|🏊🏽|🏊🏾|🏊🏿|🏊\\u200d♂️|🏊🏻\\u200d♂️|🏊🏼\\u200d♂️|🏊🏽\\u200d♂️|🏊🏾\\u200d♂️|🏊🏿\\u200d♂️|🏊\\u200d♀️|🏊🏻\\u200d♀️|🏊🏼\\u200d♀️|🏊🏽\\u200d♀️|🏊🏾\\u200d♀️|🏊🏿\\u200d♀️|⛹️|⛹🏻|⛹🏼|⛹🏽|⛹🏾|⛹🏿|⛹️\\u200d♂️|⛹🏻\\u200d♂️|⛹🏼\\u200d♂️|⛹🏽\\u200d♂️|⛹🏾\\u200d♂️|⛹🏿\\u200d♂️|⛹️\\u200d♀️|⛹🏻\\u200d♀️|⛹🏼\\u200d♀️|⛹🏽\\u200d♀️|⛹🏾\\u200d♀️|⛹🏿\\u200d♀️|🏋️|🏋🏻|🏋🏼|🏋🏽|🏋🏾|🏋🏿|🏋️\\u200d♂️|🏋🏻\\u200d♂️|🏋🏼\\u200d♂️|🏋🏽\\u200d♂️|🏋🏾\\u200d♂️|🏋🏿\\u200d♂️|🏋️\\u200d♀️|🏋🏻\\u200d♀️|🏋🏼\\u200d♀️|🏋🏽\\u200d♀️|🏋🏾\\u200d♀️|🏋🏿\\u200d♀️|🚴|🚴🏻|🚴🏼|🚴🏽|🚴🏾|🚴🏿|🚴\\u200d♂️|🚴🏻\\u200d♂️|🚴🏼\\u200d♂️|🚴🏽\\u200d♂️|🚴🏾\\u200d♂️|🚴🏿\\u200d♂️|🚴\\u200d♀️|🚴🏻\\u200d♀️|🚴🏼\\u200d♀️|🚴🏽\\u200d♀️|🚴🏾\\u200d♀️|🚴🏿\\u200d♀️|🚵|🚵🏻|🚵🏼|🚵🏽|🚵🏾|🚵🏿|🚵\\u200d♂️|🚵🏻\\u200d♂️|🚵🏼\\u200d♂️|🚵🏽\\u200d♂️|🚵🏾\\u200d♂️|🚵🏿\\u200d♂️|🚵\\u200d♀️|🚵🏻\\u200d♀️|🚵🏼\\u200d♀️|🚵🏽\\u200d♀️|🚵🏾\\u200d♀️|🚵🏿\\u200d♀️|🤸|🤸🏻|🤸🏼|🤸🏽|🤸🏾|🤸🏿|🤸\\u200d♂️|🤸🏻\\u200d♂️|🤸🏼\\u200d♂️|🤸🏽\\u200d♂️|🤸🏾\\u200d♂️|🤸🏿\\u200d♂️|🤸\\u200d♀️|🤸🏻\\u200d♀️|🤸🏼\\u200d♀️|🤸🏽\\u200d♀️|🤸🏾\\u200d♀️|🤸🏿\\u200d♀️|🤼|🤼\\u200d♂️|🤼\\u200d♀️|🤽|🤽🏻|🤽🏼|🤽🏽|🤽🏾|🤽🏿|🤽\\u200d♂️|🤽🏻\\u200d♂️|🤽🏼\\u200d♂️|🤽🏽\\u200d♂️|🤽🏾\\u200d♂️|🤽🏿\\u200d♂️|🤽\\u200d♀️|🤽🏻\\u200d♀️|🤽🏼\\u200d♀️|🤽🏽\\u200d♀️|🤽🏾\\u200d♀️|🤽🏿\\u200d♀️|🤾|🤾🏻|🤾🏼|🤾🏽|🤾🏾|🤾🏿|🤾\\u200d♂️|🤾🏻\\u200d♂️|🤾🏼\\u200d♂️|🤾🏽\\u200d♂️|🤾🏾\\u200d♂️|🤾🏿\\u200d♂️|🤾\\u200d♀️|🤾🏻\\u200d♀️|🤾🏼\\u200d♀️|🤾🏽\\u200d♀️|🤾🏾\\u200d♀️|🤾🏿\\u200d♀️|🤹|🤹🏻|🤹🏼|🤹🏽|🤹🏾|🤹🏿|🤹\\u200d♂️|🤹🏻\\u200d♂️|🤹🏼\\u200d♂️|🤹🏽\\u200d♂️|🤹🏾\\u200d♂️|🤹🏿\\u200d♂️|🤹\\u200d♀️|🤹🏻\\u200d♀️|🤹🏼\\u200d♀️|🤹🏽\\u200d♀️|🤹🏾\\u200d♀️|🤹🏿\\u200d♀️|🧘|🧘🏻|🧘🏼|🧘🏽|🧘🏾|🧘🏿|🧘\\u200d♂️|🧘🏻\\u200d♂️|🧘🏼\\u200d♂️|🧘🏽\\u200d♂️|🧘🏾\\u200d♂️|🧘🏿\\u200d♂️|🧘\\u200d♀️|🧘🏻\\u200d♀️|🧘🏼\\u200d♀️|🧘🏽\\u200d♀️|🧘🏾\\u200d♀️|🧘🏿\\u200d♀️|🛀|🛀🏻|🛀🏼|🛀🏽|🛀🏾|🛀🏿|🛌|🛌🏻|🛌🏼|🛌🏽|🛌🏾|🛌🏿|🧑\\u200d🤝\\u200d🧑|🧑🏻\\u200d🤝\\u200d🧑🏻|🧑🏻\\u200d🤝\\u200d🧑🏼|🧑🏻\\u200d🤝\\u200d🧑🏽|🧑🏻\\u200d🤝\\u200d🧑🏾|🧑🏻\\u200d🤝\\u200d🧑🏿|🧑🏼\\u200d🤝\\u200d🧑🏻|🧑🏼\\u200d🤝\\u200d🧑🏼|🧑🏼\\u200d🤝\\u200d🧑🏽|🧑🏼\\u200d🤝\\u200d🧑🏾|🧑🏼\\u200d🤝\\u200d🧑🏿|🧑🏽\\u200d🤝\\u200d🧑🏻|🧑🏽\\u200d🤝\\u200d🧑🏼|🧑🏽\\u200d🤝\\u200d🧑🏽|🧑🏽\\u200d🤝\\u200d🧑🏾|🧑🏽\\u200d🤝\\u200d🧑🏿|🧑🏾\\u200d🤝\\u200d🧑🏻|🧑🏾\\u200d🤝\\u200d🧑🏼|🧑🏾\\u200d🤝\\u200d🧑🏽|🧑🏾\\u200d🤝\\u200d🧑🏾|🧑🏾\\u200d🤝\\u200d🧑🏿|🧑🏿\\u200d🤝\\u200d🧑🏻|🧑🏿\\u200d🤝\\u200d🧑🏼|🧑🏿\\u200d🤝\\u200d🧑🏽|🧑🏿\\u200d🤝\\u200d🧑🏾|🧑🏿\\u200d🤝\\u200d🧑🏿|👭|👭🏻|👩🏻\\u200d🤝\\u200d👩🏼|👩🏻\\u200d🤝\\u200d👩🏽|👩🏻\\u200d🤝\\u200d👩🏾|👩🏻\\u200d🤝\\u200d👩🏿|👩🏼\\u200d🤝\\u200d👩🏻|👭🏼|👩🏼\\u200d🤝\\u200d👩🏽|👩🏼\\u200d🤝\\u200d👩🏾|👩🏼\\u200d🤝\\u200d👩🏿|👩🏽\\u200d🤝\\u200d👩🏻|👩🏽\\u200d🤝\\u200d👩🏼|👭🏽|👩🏽\\u200d🤝\\u200d👩🏾|👩🏽\\u200d🤝\\u200d👩🏿|👩🏾\\u200d🤝\\u200d👩🏻|👩🏾\\u200d🤝\\u200d👩🏼|👩🏾\\u200d🤝\\u200d👩🏽|👭🏾|👩🏾\\u200d🤝\\u200d👩🏿|👩🏿\\u200d🤝\\u200d👩🏻|👩🏿\\u200d🤝\\u200d👩🏼|👩🏿\\u200d🤝\\u200d👩🏽|👩🏿\\u200d🤝\\u200d👩🏾|👭🏿|👫|👫🏻|👩🏻\\u200d🤝\\u200d👨🏼|👩🏻\\u200d🤝\\u200d👨🏽|👩🏻\\u200d🤝\\u200d👨🏾|👩🏻\\u200d🤝\\u200d👨🏿|👩🏼\\u200d🤝\\u200d👨🏻|👫🏼|👩🏼\\u200d🤝\\u200d👨🏽|👩🏼\\u200d🤝\\u200d👨🏾|👩🏼\\u200d🤝\\u200d👨🏿|👩🏽\\u200d🤝\\u200d👨🏻|👩🏽\\u200d🤝\\u200d👨🏼|👫🏽|👩🏽\\u200d🤝\\u200d👨🏾|👩🏽\\u200d🤝\\u200d👨🏿|👩🏾\\u200d🤝\\u200d👨🏻|👩🏾\\u200d🤝\\u200d👨🏼|👩🏾\\u200d🤝\\u200d👨🏽|👫🏾|👩🏾\\u200d🤝\\u200d👨🏿|👩🏿\\u200d🤝\\u200d👨🏻|👩🏿\\u200d🤝\\u200d👨🏼|👩🏿\\u200d🤝\\u200d👨🏽|👩🏿\\u200d🤝\\u200d👨🏾|👫🏿|👬|👬🏻|👨🏻\\u200d🤝\\u200d👨🏼|👨🏻\\u200d🤝\\u200d👨🏽|👨🏻\\u200d🤝\\u200d👨🏾|👨🏻\\u200d🤝\\u200d👨🏿|👨🏼\\u200d🤝\\u200d👨🏻|👬🏼|👨🏼\\u200d🤝\\u200d👨🏽|👨🏼\\u200d🤝\\u200d👨🏾|👨🏼\\u200d🤝\\u200d👨🏿|👨🏽\\u200d🤝\\u200d👨🏻|👨🏽\\u200d🤝\\u200d👨🏼|👬🏽|👨🏽\\u200d🤝\\u200d👨🏾|👨🏽\\u200d🤝\\u200d👨🏿|👨🏾\\u200d🤝\\u200d👨🏻|👨🏾\\u200d🤝\\u200d👨🏼|👨🏾\\u200d🤝\\u200d👨🏽|👬🏾|👨🏾\\u200d🤝\\u200d👨🏿|👨🏿\\u200d🤝\\u200d👨🏻|👨🏿\\u200d🤝\\u200d👨🏼|👨🏿\\u200d🤝\\u200d👨🏽|👨🏿\\u200d🤝\\u200d👨🏾|👬🏿|💏|👩\\u200d❤️\\u200d💋\\u200d👨|👨\\u200d❤️\\u200d💋\\u200d👨|👩\\u200d❤️\\u200d💋\\u200d👩|💑|👩\\u200d❤️\\u200d👨|👨\\u200d❤️\\u200d👨|👩\\u200d❤️\\u200d👩|👪|👨\\u200d👩\\u200d👦|👨\\u200d👩\\u200d👧|👨\\u200d👩\\u200d👧\\u200d👦|👨\\u200d👩\\u200d👦\\u200d👦|👨\\u200d👩\\u200d👧\\u200d👧|👨\\u200d👨\\u200d👦|👨\\u200d👨\\u200d👧|👨\\u200d👨\\u200d👧\\u200d👦|👨\\u200d👨\\u200d👦\\u200d👦|👨\\u200d👨\\u200d👧\\u200d👧|👩\\u200d👩\\u200d👦|👩\\u200d👩\\u200d👧|👩\\u200d👩\\u200d👧\\u200d👦|👩\\u200d👩\\u200d👦\\u200d👦|👩\\u200d👩\\u200d👧\\u200d👧|👨\\u200d👦|👨\\u200d👦\\u200d👦|👨\\u200d👧|👨\\u200d👧\\u200d👦|👨\\u200d👧\\u200d👧|👩\\u200d👦|👩\\u200d👦\\u200d👦|👩\\u200d👧|👩\\u200d👧\\u200d👦|👩\\u200d👧\\u200d👧|🗣️|👤|👥|\\U0001fac2|👣|🏻|🏼|🏽|🏾|🏿|🦰|🦱|🦳|🦲|🐵|🐒|🦍|\\U0001f9a7|🐶|🐕|\\U0001f9ae|🐕\\u200d\\U0001f9ba|🐩|🐺|🦊|🦝|🐱|🐈|🐈\\u200d⬛|🦁|🐯|🐅|🐆|🐴|🐎|🦄|🦓|🦌|\\U0001f9ac|🐮|🐂|🐃|🐄|🐷|🐖|🐗|🐽|🐏|🐑|🐐|🐪|🐫|🦙|🦒|🐘|\\U0001f9a3|🦏|🦛|🐭|🐁|🐀|🐹|🐰|🐇|🐿️|\\U0001f9ab|🦔|🦇|🐻|🐻\\u200d❄️|🐨|🐼|\\U0001f9a5|\\U0001f9a6|\\U0001f9a8|🦘|🦡|🐾|🦃|🐔|🐓|🐣|🐤|🐥|🐦|🐧|🕊️|🦅|🦆|🦢|🦉|\\U0001f9a4|\\U0001fab6|\\U0001f9a9|🦚|🦜|🐸|🐊|🐢|🦎|🐍|🐲|🐉|🦕|🦖|🐳|🐋|🐬|\\U0001f9ad|🐟|🐠|🐡|🦈|🐙|🐚|🐌|🦋|🐛|🐜|🐝|\\U0001fab2|🐞|🦗|\\U0001fab3|🕷️|🕸️|🦂|🦟|\\U0001fab0|\\U0001fab1|🦠|💐|🌸|💮|🏵️|🌹|🥀|🌺|🌻|🌼|🌷|🌱|\\U0001fab4|🌲|🌳|🌴|🌵|🌾|🌿|☘️|🍀|🍁|🍂|🍃|🍇|🍈|🍉|🍊|🍋|🍌|🍍|🥭|🍎|🍏|🍐|🍑|🍒|🍓|\\U0001fad0|🥝|🍅|\\U0001fad2|🥥|🥑|🍆|🥔|🥕|🌽|🌶️|\\U0001fad1|🥒|🥬|🥦|\\U0001f9c4|\\U0001f9c5|🍄|🥜|🌰|🍞|🥐|🥖|\\U0001fad3|🥨|🥯|🥞|\\U0001f9c7|🧀|🍖|🍗|🥩|🥓|🍔|🍟|🍕|🌭|🥪|🌮|🌯|\\U0001fad4|🥙|\\U0001f9c6|🥚|🍳|🥘|🍲|\\U0001fad5|🥣|🥗|🍿|\\U0001f9c8|🧂|🥫|🍱|🍘|🍙|🍚|🍛|🍜|🍝|🍠|🍢|🍣|🍤|🍥|🥮|🍡|🥟|🥠|🥡|🦀|🦞|🦐|🦑|\\U0001f9aa|🍦|🍧|🍨|🍩|🍪|🎂|🍰|🧁|🥧|🍫|🍬|🍭|🍮|🍯|🍼|🥛|☕|\\U0001fad6|🍵|🍶|🍾|🍷|🍸|🍹|🍺|🍻|🥂|🥃|🥤|\\U0001f9cb|\\U0001f9c3|\\U0001f9c9|\\U0001f9ca|🥢|🍽️|🍴|🥄|🔪|🏺|🌍|🌎|🌏|🌐|🗺️|🗾|🧭|🏔️|⛰️|🌋|🗻|🏕️|🏖️|🏜️|🏝️|🏞️|🏟️|🏛️|🏗️|🧱|\\U0001faa8|\\U0001fab5|\\U0001f6d6|🏘️|🏚️|🏠|🏡|🏢|🏣|🏤|🏥|🏦|🏨|🏩|🏪|🏫|🏬|🏭|🏯|🏰|💒|🗼|🗽|⛪|🕌|\\U0001f6d5|🕍|⛩️|🕋|⛲|⛺|🌁|🌃|🏙️|🌄|🌅|🌆|🌇|🌉|♨️|🎠|🎡|🎢|💈|🎪|🚂|🚃|🚄|🚅|🚆|🚇|🚈|🚉|🚊|🚝|🚞|🚋|🚌|🚍|🚎|🚐|🚑|🚒|🚓|🚔|🚕|🚖|🚗|🚘|🚙|\\U0001f6fb|🚚|🚛|🚜|🏎️|🏍️|🛵|\\U0001f9bd|\\U0001f9bc|\\U0001f6fa|🚲|🛴|🛹|\\U0001f6fc|🚏|🛣️|🛤️|🛢️|⛽|🚨|🚥|🚦|🛑|🚧|⚓|⛵|🛶|🚤|🛳️|⛴️|🛥️|🚢|✈️|🛩️|🛫|🛬|\\U0001fa82|💺|🚁|🚟|🚠|🚡|🛰️|🚀|🛸|🛎️|🧳|⌛|⏳|⌚|⏰|⏱️|⏲️|🕰️|🕛|🕧|🕐|🕜|🕑|🕝|🕒|🕞|🕓|🕟|🕔|🕠|🕕|🕡|🕖|🕢|🕗|🕣|🕘|🕤|🕙|🕥|🕚|🕦|🌑|🌒|🌓|🌔|🌕|🌖|🌗|🌘|🌙|🌚|🌛|🌜|🌡️|☀️|🌝|🌞|\\U0001fa90|⭐|🌟|🌠|🌌|☁️|⛅|⛈️|🌤️|🌥️|🌦️|🌧️|🌨️|🌩️|🌪️|🌫️|🌬️|🌀|🌈|🌂|☂️|☔|⛱️|⚡|❄️|☃️|⛄|☄️|🔥|💧|🌊|🎃|🎄|🎆|🎇|🧨|✨|🎈|🎉|🎊|🎋|🎍|🎎|🎏|🎐|🎑|🧧|🎀|🎁|🎗️|🎟️|🎫|🎖️|🏆|🏅|🥇|🥈|🥉|⚽|⚾|🥎|🏀|🏐|🏈|🏉|🎾|🥏|🎳|🏏|🏑|🏒|🥍|🏓|🏸|🥊|🥋|🥅|⛳|⛸️|🎣|\\U0001f93f|🎽|🎿|🛷|🥌|🎯|\\U0001fa80|\\U0001fa81|🎱|🔮|\\U0001fa84|🧿|🎮|🕹️|🎰|🎲|🧩|🧸|\\U0001fa85|\\U0001fa86|♠️|♥️|♦️|♣️|♟️|🃏|🀄|🎴|🎭|🖼️|🎨|🧵|\\U0001faa1|🧶|\\U0001faa2|👓|🕶️|🥽|🥼|\\U0001f9ba|👔|👕|👖|🧣|🧤|🧥|🧦|👗|👘|\\U0001f97b|\\U0001fa71|\\U0001fa72|\\U0001fa73|👙|👚|👛|👜|👝|🛍️|🎒|\\U0001fa74|👞|👟|🥾|🥿|👠|👡|\\U0001fa70|👢|👑|👒|🎩|🎓|🧢|\\U0001fa96|⛑️|📿|💄|💍|💎|🔇|🔈|🔉|🔊|📢|📣|📯|🔔|🔕|🎼|🎵|🎶|🎙️|🎚️|🎛️|🎤|🎧|📻|🎷|\\U0001fa97|🎸|🎹|🎺|🎻|\\U0001fa95|🥁|\\U0001fa98|📱|📲|☎️|📞|📟|📠|🔋|🔌|💻|🖥️|🖨️|⌨️|🖱️|🖲️|💽|💾|💿|📀|🧮|🎥|🎞️|📽️|🎬|📺|📷|📸|📹|📼|🔍|🔎|🕯️|💡|🔦|🏮|\\U0001fa94|📔|📕|📖|📗|📘|📙|📚|📓|📒|📃|📜|📄|📰|🗞️|📑|🔖|🏷️|💰|\\U0001fa99|💴|💵|💶|💷|💸|💳|🧾|💹|✉️|📧|📨|📩|📤|📥|📦|📫|📪|📬|📭|📮|🗳️|✏️|✒️|🖋️|🖊️|🖌️|🖍️|📝|💼|📁|📂|🗂️|📅|📆|🗒️|🗓️|📇|📈|📉|📊|📋|📌|📍|📎|🖇️|📏|📐|✂️|🗃️|🗄️|🗑️|🔒|🔓|🔏|🔐|🔑|🗝️|🔨|\\U0001fa93|⛏️|⚒️|🛠️|🗡️|⚔️|🔫|\\U0001fa83|🏹|🛡️|\\U0001fa9a|🔧|\\U0001fa9b|🔩|⚙️|🗜️|⚖️|\\U0001f9af|🔗|⛓️|\\U0001fa9d|🧰|🧲|\\U0001fa9c|⚗️|🧪|🧫|🧬|🔬|🔭|📡|💉|\\U0001fa78|💊|\\U0001fa79|\\U0001fa7a|🚪|\\U0001f6d7|\\U0001fa9e|\\U0001fa9f|🛏️|🛋️|\\U0001fa91|🚽|\\U0001faa0|🚿|🛁|\\U0001faa4|\\U0001fa92|🧴|🧷|🧹|🧺|🧻|\\U0001faa3|🧼|\\U0001faa5|🧽|🧯|🛒|🚬|⚰️|\\U0001faa6|⚱️|🗿|\\U0001faa7|🏧|🚮|🚰|♿|🚹|🚺|🚻|🚼|🚾|🛂|🛃|🛄|🛅|⚠️|🚸|⛔|🚫|🚳|🚭|🚯|🚱|🚷|📵|🔞|☢️|☣️|⬆️|↗️|➡️|↘️|⬇️|↙️|⬅️|↖️|↕️|↔️|↩️|↪️|⤴️|⤵️|🔃|🔄|🔙|🔚|🔛|🔜|🔝|🛐|⚛️|🕉️|✡️|☸️|☯️|✝️|☦️|☪️|☮️|🕎|🔯|♈|♉|♊|♋|♌|♍|♎|♏|♐|♑|♒|♓|⛎|🔀|🔁|🔂|▶️|⏩|⏭️|⏯️|◀️|⏪|⏮️|🔼|⏫|🔽|⏬|⏸️|⏹️|⏺️|⏏️|🎦|🔅|🔆|📶|📳|📴|♀️|♂️|⚧️|✖️|➕|➖|➗|♾️|‼️|⁉️|❓|❔|❕|❗|〰️|💱|💲|⚕️|♻️|⚜️|🔱|📛|🔰|⭕|✅|☑️|✔️|❌|❎|➰|➿|〽️|✳️|✴️|❇️|©️|®️|™️|\\#️⃣|\\*️⃣|0️⃣|1️⃣|2️⃣|3️⃣|4️⃣|5️⃣|6️⃣|7️⃣|8️⃣|9️⃣|🔟|🔠|🔡|🔢|🔣|🔤|🅰️|🆎|🅱️|🆑|🆒|🆓|ℹ️|🆔|Ⓜ️|🆕|🆖|🅾️|🆗|🅿️|🆘|🆙|🆚|🈁|🈂️|🈷️|🈶|🈯|🉐|🈹|🈚|🈲|🉑|🈸|🈴|🈳|㊗️|㊙️|🈺|🈵|🔴|\\U0001f7e0|\\U0001f7e1|\\U0001f7e2|🔵|\\U0001f7e3|\\U0001f7e4|⚫|⚪|\\U0001f7e5|\\U0001f7e7|\\U0001f7e8|\\U0001f7e9|\\U0001f7e6|\\U0001f7ea|\\U0001f7eb|⬛|⬜|◼️|◻️|◾|◽|▪️|▫️|🔶|🔷|🔸|🔹|🔺|🔻|💠|🔘|🔳|🔲|🏁|🚩|🎌|🏴|🏳️|🏳️\\u200d🌈|🏳️\\u200d⚧️|🏴\\u200d☠️|🇦🇨|🇦🇩|🇦🇪|🇦🇫|🇦🇬|🇦🇮|🇦🇱|🇦🇲|🇦🇴|🇦🇶|🇦🇷|🇦🇸|🇦🇹|🇦🇺|🇦🇼|🇦🇽|🇦🇿|🇧🇦|🇧🇧|🇧🇩|🇧🇪|🇧🇫|🇧🇬|🇧🇭|🇧🇮|🇧🇯|🇧🇱|🇧🇲|🇧🇳|🇧🇴|🇧🇶|🇧🇷|🇧🇸|🇧🇹|🇧🇻|🇧🇼|🇧🇾|🇧🇿|🇨🇦|🇨🇨|🇨🇩|🇨🇫|🇨🇬|🇨🇭|🇨🇮|🇨🇰|🇨🇱|🇨🇲|🇨🇳|🇨🇴|🇨🇵|🇨🇷|🇨🇺|🇨🇻|🇨🇼|🇨🇽|🇨🇾|🇨🇿|🇩🇪|🇩🇬|🇩🇯|🇩🇰|🇩🇲|🇩🇴|🇩🇿|🇪🇦|🇪🇨|🇪🇪|🇪🇬|🇪🇭|🇪🇷|🇪🇸|🇪🇹|🇪🇺|🇫🇮|🇫🇯|🇫🇰|🇫🇲|🇫🇴|🇫🇷|🇬🇦|🇬🇧|🇬🇩|🇬🇪|🇬🇫|🇬🇬|🇬🇭|🇬🇮|🇬🇱|🇬🇲|🇬🇳|🇬🇵|🇬🇶|🇬🇷|🇬🇸|🇬🇹|🇬🇺|🇬🇼|🇬🇾|🇭🇰|🇭🇲|🇭🇳|🇭🇷|🇭🇹|🇭🇺|🇮🇨|🇮🇩|🇮🇪|🇮🇱|🇮🇲|🇮🇳|🇮🇴|🇮🇶|🇮🇷|🇮🇸|🇮🇹|🇯🇪|🇯🇲|🇯🇴|🇯🇵|🇰🇪|🇰🇬|🇰🇭|🇰🇮|🇰🇲|🇰🇳|🇰🇵|🇰🇷|🇰🇼|🇰🇾|🇰🇿|🇱🇦|🇱🇧|🇱🇨|🇱🇮|🇱🇰|🇱🇷|🇱🇸|🇱🇹|🇱🇺|🇱🇻|🇱🇾|🇲🇦|🇲🇨|🇲🇩|🇲🇪|🇲🇫|🇲🇬|🇲🇭|🇲🇰|🇲🇱|🇲🇲|🇲🇳|🇲🇴|🇲🇵|🇲🇶|🇲🇷|🇲🇸|🇲🇹|🇲🇺|🇲🇻|🇲🇼|🇲🇽|🇲🇾|🇲🇿|🇳🇦|🇳🇨|🇳🇪|🇳🇫|🇳🇬|🇳🇮|🇳🇱|🇳🇴|🇳🇵|🇳🇷|🇳🇺|🇳🇿|🇴🇲|🇵🇦|🇵🇪|🇵🇫|🇵🇬|🇵🇭|🇵🇰|🇵🇱|🇵🇲|🇵🇳|🇵🇷|🇵🇸|🇵🇹|🇵🇼|🇵🇾|🇶🇦|🇷🇪|🇷🇴|🇷🇸|🇷🇺|🇷🇼|🇸🇦|🇸🇧|🇸🇨|🇸🇩|🇸🇪|🇸🇬|🇸🇭|🇸🇮|🇸🇯|🇸🇰|🇸🇱|🇸🇲|🇸🇳|🇸🇴|🇸🇷|🇸🇸|🇸🇹|🇸🇻|🇸🇽|🇸🇾|🇸🇿|🇹🇦|🇹🇨|🇹🇩|🇹🇫|🇹🇬|🇹🇭|🇹🇯|🇹🇰|🇹🇱|🇹🇲|🇹🇳|🇹🇴|🇹🇷|🇹🇹|🇹🇻|🇹🇼|🇹🇿|🇺🇦|🇺🇬|🇺🇲|🇺🇳|🇺🇸|🇺🇾|🇺🇿|🇻🇦|🇻🇨|🇻🇪|🇻🇬|🇻🇮|🇻🇳|🇻🇺|🇼🇫|🇼🇸|🇽🇰|🇾🇪|🇾🇹|🇿🇦|🇿🇲|🇿🇼|🏴\\U000e0067\\U000e0062\\U000e0065\\U000e006e\\U000e0067\\U000e007f|🏴\\U000e0067\\U000e0062\\U000e0073\\U000e0063\\U000e0074\\U000e007f|🏴\\U000e0067\\U000e0062\\U000e0077\\U000e006c\\U000e0073\\U000e007f|🥇|🥈|🥉|🆎|🏧|🅰|🇦🇫|🇦🇱|🇩🇿|🇦🇸|🇦🇩|🇦🇴|🇦🇮|🇦🇶|🇦🇬|♒|🇦🇷|♈|🇦🇲|🇦🇼|🇦🇨|🇦🇺|🇦🇹|🇦🇿|🔙|🅱|🇧🇸|🇧🇭|🇧🇩|🇧🇧|🇧🇾|🇧🇪|🇧🇿|🇧🇯|🇧🇲|🇧🇹|🇧🇴|🇧🇦|🇧🇼|🇧🇻|🇧🇷|🇮🇴|🇻🇬|🇧🇳|🇧🇬|🇧🇫|🇧🇮|🆑|🆒|🇰🇭|🇨🇲|🇨🇦|🇮🇨|♋|🇨🇻|♑|🇧🇶|🇰🇾|🇨🇫|🇪🇦|🇹🇩|🇨🇱|🇨🇳|🇨🇽|🎄|🇨🇵|🇨🇨|🇨🇴|🇰🇲|🇨🇬|🇨🇩|🇨🇰|🇨🇷|🇭🇷|🇨🇺|🇨🇼|🇨🇾|🇨🇿|🇨🇮|🇩🇰|🇩🇬|🇩🇯|🇩🇲|🇩🇴|🔚|🇪🇨|🇪🇬|🇸🇻|🏴\\U000e0067\\U000e0062\\U000e0065\\U000e006e\\U000e0067\\U000e007f|🇬🇶|🇪🇷|🇪🇪|🇸🇿|🇪🇹|🇪🇺|🆓|🇫🇰|🇫🇴|🇫🇯|🇫🇮|🇫🇷|🇬🇫|🇵🇫|🇹🇫|🇬🇦|🇬🇲|♊|🇬🇪|🇩🇪|🇬🇭|🇬🇮|🇬🇷|🇬🇱|🇬🇩|🇬🇵|🇬🇺|🇬🇹|🇬🇬|🇬🇳|🇬🇼|🇬🇾|🇭🇹|🇭🇲|🇭🇳|🇭🇰|🇭🇺|🆔|🇮🇸|🇮🇳|🇮🇩|🇮🇷|🇮🇶|🇮🇪|🇮🇲|🇮🇱|🇮🇹|🇯🇲|🇯🇵|🉑|🈸|🉐|🏯|㊗|🈹|🎎|🈚|🈁|🈷|🈵|🈶|🈺|🈴|🏣|🈲|🈯|㊙|🈂|🔰|🈳|🇯🇪|🇯🇴|🇰🇿|🇰🇪|🇰🇮|🇽🇰|🇰🇼|🇰🇬|🇱🇦|🇱🇻|🇱🇧|♌|🇱🇸|🇱🇷|♎|🇱🇾|🇱🇮|🇱🇹|🇱🇺|🇲🇴|🇲🇬|🇲🇼|🇲🇾|🇲🇻|🇲🇱|🇲🇹|🇲🇭|🇲🇶|🇲🇷|🇲🇺|🇾🇹|🇲🇽|🇫🇲|🇲🇩|🇲🇨|🇲🇳|🇲🇪|🇲🇸|🇲🇦|🇲🇿|🤶|🤶🏿|🤶🏻|🤶🏾|🤶🏼|🤶🏽|🇲🇲|🆕|🆖|🇳🇦|🇳🇷|🇳🇵|🇳🇱|🇳🇨|🇳🇿|🇳🇮|🇳🇪|🇳🇬|🇳🇺|🇳🇫|🇰🇵|🇲🇰|🇲🇵|🇳🇴|🆗|👌|👌🏿|👌🏻|👌🏾|👌🏼|👌🏽|🔛|🅾|🇴🇲|⛎|🅿|🇵🇰|🇵🇼|🇵🇸|🇵🇦|🇵🇬|🇵🇾|🇵🇪|🇵🇭|♓|🇵🇳|🇵🇱|🇵🇹|🇵🇷|🇶🇦|🇷🇴|🇷🇺|🇷🇼|🇷🇪|🔜|🆘|♐|🇼🇸|🇸🇲|🎅|🎅🏿|🎅🏻|🎅🏾|🎅🏼|🎅🏽|🇸🇦|♏|🏴\\U000e0067\\U000e0062\\U000e0073\\U000e0063\\U000e0074\\U000e007f|🇸🇳|🇷🇸|🇸🇨|🇸🇱|🇸🇬|🇸🇽|🇸🇰|🇸🇮|🇸🇧|🇸🇴|🇿🇦|🇬🇸|🇰🇷|🇸🇸|🇪🇸|🇱🇰|🇧🇱|🇸🇭|🇰🇳|🇱🇨|🇲🇫|🇵🇲|🇻🇨|🗽|🇸🇩|🇸🇷|🇸🇯|🇸🇪|🇨🇭|🇸🇾|🇸🇹|🦖|🔝|🇹🇼|🇹🇯|🇹🇿|♉|🇹🇭|🇹🇱|🇹🇬|🇹🇰|🗼|🇹🇴|🇹🇹|🇹🇦|🇹🇳|🇹🇷|🇹🇲|🇹🇨|🇹🇻|🇺🇲|🇻🇮|🆙|🇺🇬|🇺🇦|🇦🇪|🇬🇧|🇺🇳|🇺🇸|🇺🇾|🇺🇿|🆚|🇻🇺|🇻🇦|🇻🇪|🇻🇳|♍|🏴\\U000e0067\\U000e0062\\U000e0077\\U000e006c\\U000e0073\\U000e007f|🇼🇫|🇪🇭|🇾🇪|🇿🇲|🇿🇼|🧮|\\U0001fa97|\\U0001fa79|🎟|🚡|✈|🛬|🛫|⏰|⚗|👽|👾|🚑|🏈|🏺|\\U0001fac0|⚓|💢|😠|👿|😧|🐜|📶|😰|🚛|🧑\\u200d🎨|🧑🏿\\u200d🎨|🧑🏻\\u200d🎨|🧑🏾\\u200d🎨|🧑🏼\\u200d🎨|🧑🏽\\u200d🎨|🎨|😲|🧑\\u200d🚀|🧑🏿\\u200d🚀|🧑🏻\\u200d🚀|🧑🏾\\u200d🚀|🧑🏼\\u200d🚀|🧑🏽\\u200d🚀|⚛|\\U0001f6fa|🚗|🥑|\\U0001fa93|👶|👼|👼🏿|👼🏻|👼🏾|👼🏼|👼🏽|🍼|🐤|👶🏿|👶🏻|👶🏾|👶🏼|👶🏽|🚼|👇|👇🏿|👇🏻|👇🏾|👇🏼|👇🏽|👈|👈🏿|👈🏻|👈🏾|👈🏼|👈🏽|👉|👉🏿|👉🏻|👉🏾|👉🏼|👉🏽|👆|👆🏿|👆🏻|👆🏾|👆🏼|👆🏽|🎒|🥓|🦡|🏸|🥯|🛄|🥖|⚖|🦲|\\U0001fa70|🎈|🗳|🍌|\\U0001fa95|🏦|📊|💈|⚾|🧺|🏀|🦇|🛁|🔋|🏖|😁|🐻|💓|\\U0001f9ab|🛏|🍺|\\U0001fab2|🔔|\\U0001fad1|🔕|🛎|🍱|\\U0001f9c3|🚲|👙|🧢|☣|🐦|🎂|\\U0001f9ac|🐈\\u200d⬛|⚫|🏴|🖤|⬛|◾|◼|✒|▪|🔲|🌼|🐡|📘|🔵|💙|\\U0001f7e6|\\U0001fad0|🐗|💣|🦴|🔖|📑|📚|\\U0001fa83|🍾|💐|🏹|🥣|🎳|🥊|👦|👦🏿|👦🏻|👦🏾|👦🏼|👦🏽|🧠|🍞|🤱|🤱🏿|🤱🏻|🤱🏾|🤱🏼|🤱🏽|🧱|🌉|💼|\\U0001fa72|🔆|🥦|💔|🧹|\\U0001f7e4|\\U0001f90e|\\U0001f7eb|\\U0001f9cb|\\U0001faa3|🐛|🏗|🚅|🎯|🌯|🚌|🚏|👤|👥|\\U0001f9c8|🦋|🌵|📅|🤙|🤙🏿|🤙🏻|🤙🏾|🤙🏼|🤙🏽|🐪|📷|📸|🏕|🕯|🍬|🥫|🛶|🗃|📇|🗂|🎠|🎏|\\U0001fa9a|🥕|🏰|🐈|🐱|😹|😼|⛓|\\U0001fa91|📉|📈|💹|☑|✔|✅|🧀|🏁|🍒|🌸|♟|🌰|🐔|🧒|🧒🏿|🧒🏻|🧒🏾|🧒🏼|🧒🏽|🚸|🐿|🍫|🥢|⛪|🚬|🎦|Ⓜ|🎪|🏙|🌆|🗜|🎬|👏|👏🏿|👏🏻|👏🏾|👏🏼|👏🏽|🏛|🍻|🥂|📋|🔃|📕|📪|📫|🌂|☁|🌩|⛈|🌧|🌨|🤡|♣|👝|🧥|\\U0001fab3|🍸|🥥|⚰|\\U0001fa99|🥶|💥|☄|🧭|💽|🖱|🎊|😖|😕|🚧|👷|👷🏿|👷🏻|👷🏾|👷🏼|👷🏽|🎛|🏪|🧑\\u200d🍳|🧑🏿\\u200d🍳|🧑🏻\\u200d🍳|🧑🏾\\u200d🍳|🧑🏼\\u200d🍳|🧑🏽\\u200d🍳|🍚|🍪|🍳|©|🛋|🔄|💑|💑🏿|💑🏻|👨\\u200d❤️\\u200d👨|👨🏿\\u200d❤️\\u200d👨🏿|👨🏿\\u200d❤️\\u200d👨🏻|👨🏿\\u200d❤️\\u200d👨🏾|👨🏿\\u200d❤️\\u200d👨🏼|👨🏿\\u200d❤️\\u200d👨🏽|👨🏻\\u200d❤️\\u200d👨🏻|👨🏻\\u200d❤️\\u200d👨🏿|👨🏻\\u200d❤️\\u200d👨🏾|👨🏻\\u200d❤️\\u200d👨🏼|👨🏻\\u200d❤️\\u200d👨🏽|👨🏾\\u200d❤️\\u200d👨🏾|👨🏾\\u200d❤️\\u200d👨🏿|👨🏾\\u200d❤️\\u200d👨🏻|👨🏾\\u200d❤️\\u200d👨🏼|👨🏾\\u200d❤️\\u200d👨🏽|👨🏼\\u200d❤️\\u200d👨🏼|👨🏼\\u200d❤️\\u200d👨🏿|👨🏼\\u200d❤️\\u200d👨🏻|👨🏼\\u200d❤️\\u200d👨🏾|👨🏼\\u200d❤️\\u200d👨🏽|👨🏽\\u200d❤️\\u200d👨🏽|👨🏽\\u200d❤️\\u200d👨🏿|👨🏽\\u200d❤️\\u200d👨🏻|👨🏽\\u200d❤️\\u200d👨🏾|👨🏽\\u200d❤️\\u200d👨🏼|💑🏾|💑🏼|💑🏽|🧑🏿\\u200d❤️\\u200d🧑🏻|🧑🏿\\u200d❤️\\u200d🧑🏾|🧑🏿\\u200d❤️\\u200d🧑🏼|🧑🏿\\u200d❤️\\u200d🧑🏽|🧑🏻\\u200d❤️\\u200d🧑🏿|🧑🏻\\u200d❤️\\u200d🧑🏾|🧑🏻\\u200d❤️\\u200d🧑🏼|🧑🏻\\u200d❤️\\u200d🧑🏽|🧑🏾\\u200d❤️\\u200d🧑🏿|🧑🏾\\u200d❤️\\u200d🧑🏻|🧑🏾\\u200d❤️\\u200d🧑🏼|🧑🏾\\u200d❤️\\u200d🧑🏽|🧑🏼\\u200d❤️\\u200d🧑🏿|🧑🏼\\u200d❤️\\u200d🧑🏻|🧑🏼\\u200d❤️\\u200d🧑🏾|🧑🏼\\u200d❤️\\u200d🧑🏽|🧑🏽\\u200d❤️\\u200d🧑🏿|🧑🏽\\u200d❤️\\u200d🧑🏻|🧑🏽\\u200d❤️\\u200d🧑🏾|🧑🏽\\u200d❤️\\u200d🧑🏼|👩\\u200d❤️\\u200d👨|👩🏿\\u200d❤️\\u200d👨🏿|👩🏿\\u200d❤️\\u200d👨🏻|👩🏿\\u200d❤️\\u200d👨🏾|👩🏿\\u200d❤️\\u200d👨🏼|👩🏿\\u200d❤️\\u200d👨🏽|👩🏻\\u200d❤️\\u200d👨🏻|👩🏻\\u200d❤️\\u200d👨🏿|👩🏻\\u200d❤️\\u200d👨🏾|👩🏻\\u200d❤️\\u200d👨🏼|👩🏻\\u200d❤️\\u200d👨🏽|👩🏾\\u200d❤️\\u200d👨🏾|👩🏾\\u200d❤️\\u200d👨🏿|👩🏾\\u200d❤️\\u200d👨🏻|👩🏾\\u200d❤️\\u200d👨🏼|👩🏾\\u200d❤️\\u200d👨🏽|👩🏼\\u200d❤️\\u200d👨🏼|👩🏼\\u200d❤️\\u200d👨🏿|👩🏼\\u200d❤️\\u200d👨🏻|👩🏼\\u200d❤️\\u200d👨🏾|👩🏼\\u200d❤️\\u200d👨🏽|👩🏽\\u200d❤️\\u200d👨🏽|👩🏽\\u200d❤️\\u200d👨🏿|👩🏽\\u200d❤️\\u200d👨🏻|👩🏽\\u200d❤️\\u200d👨🏾|👩🏽\\u200d❤️\\u200d👨🏼|👩\\u200d❤️\\u200d👩|👩🏿\\u200d❤️\\u200d👩🏿|👩🏿\\u200d❤️\\u200d👩🏻|👩🏿\\u200d❤️\\u200d👩🏾|👩🏿\\u200d❤️\\u200d👩🏼|👩🏿\\u200d❤️\\u200d👩🏽|👩🏻\\u200d❤️\\u200d👩🏻|👩🏻\\u200d❤️\\u200d👩🏿|👩🏻\\u200d❤️\\u200d👩🏾|👩🏻\\u200d❤️\\u200d👩🏼|👩🏻\\u200d❤️\\u200d👩🏽|👩🏾\\u200d❤️\\u200d👩🏾|👩🏾\\u200d❤️\\u200d👩🏿|👩🏾\\u200d❤️\\u200d👩🏻|👩🏾\\u200d❤️\\u200d👩🏼|👩🏾\\u200d❤️\\u200d👩🏽|👩🏼\\u200d❤️\\u200d👩🏼|👩🏼\\u200d❤️\\u200d👩🏿|👩🏼\\u200d❤️\\u200d👩🏻|👩🏼\\u200d❤️\\u200d👩🏾|👩🏼\\u200d❤️\\u200d👩🏽|👩🏽\\u200d❤️\\u200d👩🏽|👩🏽\\u200d❤️\\u200d👩🏿|👩🏽\\u200d❤️\\u200d👩🏻|👩🏽\\u200d❤️\\u200d👩🏾|👩🏽\\u200d❤️\\u200d👩🏼|🐄|🐮|🤠|🦀|🖍|💳|🌙|🦗|🏏|🐊|🥐|❌|❎|🤞|🤞🏿|🤞🏻|🤞🏾|🤞🏼|🤞🏽|🎌|⚔|👑|😿|😢|🔮|🥒|🥤|🧁|🥌|🦱|➰|💱|🍛|🍮|🛃|🥩|🌀|🗡|🍡|🏿|💨|\\U0001f9cf\\u200d♂️|\\U0001f9cf🏿\\u200d♂️|\\U0001f9cf🏻\\u200d♂️|\\U0001f9cf🏾\\u200d♂️|\\U0001f9cf🏼\\u200d♂️|\\U0001f9cf🏽\\u200d♂️|\\U0001f9cf|\\U0001f9cf🏿|\\U0001f9cf🏻|\\U0001f9cf🏾|\\U0001f9cf🏼|\\U0001f9cf🏽|\\U0001f9cf\\u200d♀️|\\U0001f9cf🏿\\u200d♀️|\\U0001f9cf🏻\\u200d♀️|\\U0001f9cf🏾\\u200d♀️|\\U0001f9cf🏼\\u200d♀️|\\U0001f9cf🏽\\u200d♀️|🌳|🦌|🚚|🏬|🏚|🏜|🏝|🖥|🕵|🕵🏿|🕵🏻|🕵🏾|🕵🏼|🕵🏽|♦|💠|🔅|😞|\\U0001f978|➗|\\U0001f93f|\\U0001fa94|💫|🧬|\\U0001f9a4|🐕|🐶|💵|🐬|🚪|🔯|➿|‼|🍩|🕊|↙|↘|⬇|😓|🔽|🐉|🐲|👗|🤤|\\U0001fa78|💧|🥁|🦆|🥟|📀|📧|🦅|👂|👂🏿|👂🏻|👂🏾|👂🏼|👂🏽|🌽|\\U0001f9bb|\\U0001f9bb🏿|\\U0001f9bb🏻|\\U0001f9bb🏾|\\U0001f9bb🏼|\\U0001f9bb🏽|🥚|🍆|✴|✳|🕣|🕗|⏏|🔌|🐘|\\U0001f6d7|🕦|🕚|🧝|🧝🏿|🧝🏻|🧝🏾|🧝🏼|🧝🏽|✉|📩|💶|🌲|🐑|⁉|🤯|😑|👁|👁️\\u200d🗨️|👀|😘|😮\\u200d💨|😶\\u200d🌫️|😋|😱|🤮|🤭|🤕|😷|🧐|😮|🤨|🙄|😵\\u200d💫|😤|🤬|😂|🤒|😛|😶|🏭|🧑\\u200d🏭|🧑🏿\\u200d🏭|🧑🏻\\u200d🏭|🧑🏾\\u200d🏭|🧑🏼\\u200d🏭|🧑🏽\\u200d🏭|🧚|🧚🏿|🧚🏻|🧚🏾|🧚🏼|🧚🏽|\\U0001f9c6|🍂|👪|👨\\u200d👦|👨\\u200d👦\\u200d👦|👨\\u200d👧|👨\\u200d👧\\u200d👦|👨\\u200d👧\\u200d👧|👨\\u200d👨\\u200d👦|👨\\u200d👨\\u200d👦\\u200d👦|👨\\u200d👨\\u200d👧|👨\\u200d👨\\u200d👧\\u200d👦|👨\\u200d👨\\u200d👧\\u200d👧|👨\\u200d👩\\u200d👦|👨\\u200d👩\\u200d👦\\u200d👦|👨\\u200d👩\\u200d👧|👨\\u200d👩\\u200d👧\\u200d👦|👨\\u200d👩\\u200d👧\\u200d👧|👩\\u200d👦|👩\\u200d👦\\u200d👦|👩\\u200d👧|👩\\u200d👧\\u200d👦|👩\\u200d👧\\u200d👧|👩\\u200d👩\\u200d👦|👩\\u200d👩\\u200d👦\\u200d👦|👩\\u200d👩\\u200d👧|👩\\u200d👩\\u200d👧\\u200d👦|👩\\u200d👩\\u200d👧\\u200d👧|🧑\\u200d🌾|🧑🏿\\u200d🌾|🧑🏻\\u200d🌾|🧑🏾\\u200d🌾|🧑🏼\\u200d🌾|🧑🏽\\u200d🌾|⏩|⏬|⏪|⏫|📠|😨|\\U0001fab6|♀|🎡|⛴|🏑|🗄|📁|🎞|📽|🔥|🚒|🧯|🧨|🧑\\u200d🚒|🧑🏿\\u200d🚒|🧑🏻\\u200d🚒|🧑🏾\\u200d🚒|🧑🏼\\u200d🚒|🧑🏽\\u200d🚒|🎆|🌓|🌛|🐟|🍥|🎣|🕠|🕔|⛳|\\U0001f9a9|🔦|🥿|\\U0001fad3|⚜|💪|💪🏿|💪🏻|💪🏾|💪🏼|💪🏽|💾|🎴|😳|\\U0001fab0|🥏|🛸|🌫|🌁|🙏|🙏🏿|🙏🏻|🙏🏾|🙏🏼|🙏🏽|\\U0001fad5|🦶|🦶🏿|🦶🏻|🦶🏾|🦶🏼|🦶🏽|👣|🍴|🍽|🥠|⛲|🖋|🕟|🍀|🕓|🦊|🖼|🍟|🍤|🐸|🐥|☹|😦|⛽|🌕|🌝|⚱|🎲|\\U0001f9c4|⚙|💎|🧞|👻|🦒|👧|👧🏿|👧🏻|👧🏾|👧🏼|👧🏽|🥛|👓|🌎|🌏|🌍|🌐|🧤|🌟|🥅|🐐|👺|🥽|🦍|🎓|🍇|🍏|📗|\\U0001f7e2|💚|🥗|\\U0001f7e9|😬|😺|😸|😀|😃|😄|😅|😆|💗|💂|💂🏿|💂🏻|💂🏾|💂🏼|💂🏽|\\U0001f9ae|🎸|🍔|🔨|⚒|🛠|🐹|🖐|🖐🏿|🖐🏻|🖐🏾|🖐🏼|🖐🏽|👜|🤝|🐣|🎧|\\U0001faa6|🧑\\u200d⚕️|🧑🏿\\u200d⚕️|🧑🏻\\u200d⚕️|🧑🏾\\u200d⚕️|🧑🏼\\u200d⚕️|🧑🏽\\u200d⚕️|🙉|💟|❣|❤️\\u200d🔥|♥|💘|💝|💲|🦔|🚁|🌿|🌺|👠|🚄|⚡|🥾|\\U0001f6d5|🦛|🕳|⭕|🍯|🐝|\\U0001fa9d|🚥|🐎|🐴|🏇|🏇🏿|🏇🏻|🏇🏾|🏇🏼|🏇🏽|🏥|☕|🌭|🥵|🌶|♨|🏨|⌛|⏳|🏠|🏡|🏘|🤗|💯|😯|\\U0001f6d6|\\U0001f9ca|🍨|🏒|⛸|📥|📨|☝|☝🏿|☝🏻|☝🏾|☝🏼|☝🏽|♾|ℹ|🔤|🔡|🔠|🔢|🔣|🎃|👖|🃏|🕹|🧑\\u200d⚖️|🧑🏿\\u200d⚖️|🧑🏻\\u200d⚖️|🧑🏾\\u200d⚖️|🧑🏼\\u200d⚖️|🧑🏽\\u200d⚖️|🕋|🦘|🔑|⌨|\\#️⃣|\\*️⃣|0️⃣|1️⃣|🔟|2️⃣|3️⃣|4️⃣|5️⃣|6️⃣|7️⃣|8️⃣|9️⃣|🛴|👘|💏|💏🏿|💏🏻|👨\\u200d❤️\\u200d💋\\u200d👨|👨🏿\\u200d❤️\\u200d💋\\u200d👨🏿|👨🏿\\u200d❤️\\u200d💋\\u200d👨🏻|👨🏿\\u200d❤️\\u200d💋\\u200d👨🏾|👨🏿\\u200d❤️\\u200d💋\\u200d👨🏼|👨🏿\\u200d❤️\\u200d💋\\u200d👨🏽|👨🏻\\u200d❤️\\u200d💋\\u200d👨🏻|👨🏻\\u200d❤️\\u200d💋\\u200d👨🏿|👨🏻\\u200d❤️\\u200d💋\\u200d👨🏾|👨🏻\\u200d❤️\\u200d💋\\u200d👨🏼|👨🏻\\u200d❤️\\u200d💋\\u200d👨🏽|👨🏾\\u200d❤️\\u200d💋\\u200d👨🏾|👨🏾\\u200d❤️\\u200d💋\\u200d👨🏿|👨🏾\\u200d❤️\\u200d💋\\u200d👨🏻|👨🏾\\u200d❤️\\u200d💋\\u200d👨🏼|👨🏾\\u200d❤️\\u200d💋\\u200d👨🏽|👨🏼\\u200d❤️\\u200d💋\\u200d👨🏼|👨🏼\\u200d❤️\\u200d💋\\u200d👨🏿|👨🏼\\u200d❤️\\u200d💋\\u200d👨🏻|👨🏼\\u200d❤️\\u200d💋\\u200d👨🏾|👨🏼\\u200d❤️\\u200d💋\\u200d👨🏽|👨🏽\\u200d❤️\\u200d💋\\u200d👨🏽|👨🏽\\u200d❤️\\u200d💋\\u200d👨🏿|👨🏽\\u200d❤️\\u200d💋\\u200d👨🏻|👨🏽\\u200d❤️\\u200d💋\\u200d👨🏾|👨🏽\\u200d❤️\\u200d💋\\u200d👨🏼|💋|💏🏾|💏🏼|💏🏽|🧑🏿\\u200d❤️\\u200d💋\\u200d🧑🏻|🧑🏿\\u200d❤️\\u200d💋\\u200d🧑🏾|🧑🏿\\u200d❤️\\u200d💋\\u200d🧑🏼|🧑🏿\\u200d❤️\\u200d💋\\u200d🧑🏽|🧑🏻\\u200d❤️\\u200d💋\\u200d🧑🏿|🧑🏻\\u200d❤️\\u200d💋\\u200d🧑🏾|🧑🏻\\u200d❤️\\u200d💋\\u200d🧑🏼|🧑🏻\\u200d❤️\\u200d💋\\u200d🧑🏽|🧑🏾\\u200d❤️\\u200d💋\\u200d🧑🏿|🧑🏾\\u200d❤️\\u200d💋\\u200d🧑🏻|🧑🏾\\u200d❤️\\u200d💋\\u200d🧑🏼|🧑🏾\\u200d❤️\\u200d💋\\u200d🧑🏽|🧑🏼\\u200d❤️\\u200d💋\\u200d🧑🏿|🧑🏼\\u200d❤️\\u200d💋\\u200d🧑🏻|🧑🏼\\u200d❤️\\u200d💋\\u200d🧑🏾|🧑🏼\\u200d❤️\\u200d💋\\u200d🧑🏽|🧑🏽\\u200d❤️\\u200d💋\\u200d🧑🏿|🧑🏽\\u200d❤️\\u200d💋\\u200d🧑🏻|🧑🏽\\u200d❤️\\u200d💋\\u200d🧑🏾|🧑🏽\\u200d❤️\\u200d💋\\u200d🧑🏼|👩\\u200d❤️\\u200d💋\\u200d👨|👩🏿\\u200d❤️\\u200d💋\\u200d👨🏿|👩🏿\\u200d❤️\\u200d💋\\u200d👨🏻|👩🏿\\u200d❤️\\u200d💋\\u200d👨🏾|👩🏿\\u200d❤️\\u200d💋\\u200d👨🏼|👩🏿\\u200d❤️\\u200d💋\\u200d👨🏽|👩🏻\\u200d❤️\\u200d💋\\u200d👨🏻|👩🏻\\u200d❤️\\u200d💋\\u200d👨🏿|👩🏻\\u200d❤️\\u200d💋\\u200d👨🏾|👩🏻\\u200d❤️\\u200d💋\\u200d👨🏼|👩🏻\\u200d❤️\\u200d💋\\u200d👨🏽|👩🏾\\u200d❤️\\u200d💋\\u200d👨🏾|👩🏾\\u200d❤️\\u200d💋\\u200d👨🏿|👩🏾\\u200d❤️\\u200d💋\\u200d👨🏻|👩🏾\\u200d❤️\\u200d💋\\u200d👨🏼|👩🏾\\u200d❤️\\u200d💋\\u200d👨🏽|👩🏼\\u200d❤️\\u200d💋\\u200d👨🏼|👩🏼\\u200d❤️\\u200d💋\\u200d👨🏿|👩🏼\\u200d❤️\\u200d💋\\u200d👨🏻|👩🏼\\u200d❤️\\u200d💋\\u200d👨🏾|👩🏼\\u200d❤️\\u200d💋\\u200d👨🏽|👩🏽\\u200d❤️\\u200d💋\\u200d👨🏽|👩🏽\\u200d❤️\\u200d💋\\u200d👨🏿|👩🏽\\u200d❤️\\u200d💋\\u200d👨🏻|👩🏽\\u200d❤️\\u200d💋\\u200d👨🏾|👩🏽\\u200d❤️\\u200d💋\\u200d👨🏼|👩\\u200d❤️\\u200d💋\\u200d👩|👩🏿\\u200d❤️\\u200d💋\\u200d👩🏿|👩🏿\\u200d❤️\\u200d💋\\u200d👩🏻|👩🏿\\u200d❤️\\u200d💋\\u200d👩🏾|👩🏿\\u200d❤️\\u200d💋\\u200d👩🏼|👩🏿\\u200d❤️\\u200d💋\\u200d👩🏽|👩🏻\\u200d❤️\\u200d💋\\u200d👩🏻|👩🏻\\u200d❤️\\u200d💋\\u200d👩🏿|👩🏻\\u200d❤️\\u200d💋\\u200d👩🏾|👩🏻\\u200d❤️\\u200d💋\\u200d👩🏼|👩🏻\\u200d❤️\\u200d💋\\u200d👩🏽|👩🏾\\u200d❤️\\u200d💋\\u200d👩🏾|👩🏾\\u200d❤️\\u200d💋\\u200d👩🏿|👩🏾\\u200d❤️\\u200d💋\\u200d👩🏻|👩🏾\\u200d❤️\\u200d💋\\u200d👩🏼|👩🏾\\u200d❤️\\u200d💋\\u200d👩🏽|👩🏼\\u200d❤️\\u200d💋\\u200d👩🏼|👩🏼\\u200d❤️\\u200d💋\\u200d👩🏿|👩🏼\\u200d❤️\\u200d💋\\u200d👩🏻|👩🏼\\u200d❤️\\u200d💋\\u200d👩🏾|👩🏼\\u200d❤️\\u200d💋\\u200d👩🏽|👩🏽\\u200d❤️\\u200d💋\\u200d👩🏽|👩🏽\\u200d❤️\\u200d💋\\u200d👩🏿|👩🏽\\u200d❤️\\u200d💋\\u200d👩🏻|👩🏽\\u200d❤️\\u200d💋\\u200d👩🏾|👩🏽\\u200d❤️\\u200d💋\\u200d👩🏼|😽|😗|😚|😙|🔪|\\U0001fa81|🥝|😵|\\U0001faa2|🐨|🥼|🏷|🥍|\\U0001fa9c|🐞|💻|🔷|🔶|🌗|🌜|⏮|✝|🍃|🥬|📒|🤛|🤛🏿|🤛🏻|🤛🏾|🤛🏼|🤛🏽|↔|⬅|↪|🛅|🗨|🦵|🦵🏿|🦵🏻|🦵🏾|🦵🏼|🦵🏽|🍋|🐆|🎚|💡|🚈|🏻|🔗|🖇|🦁|💄|🚮|🦎|🦙|🦞|🔒|🔐|🔏|🚂|🍭|\\U0001fa98|🧴|😭|📢|🤟|🤟🏿|🤟🏻|🤟🏾|🤟🏼|🤟🏽|🏩|💌|🧳|\\U0001fac1|🤥|🧙|🧙🏿|🧙🏻|🧙🏾|🧙🏼|🧙🏽|\\U0001fa84|🧲|🔍|🔎|🀄|♂|\\U0001f9a3|👨|👨\\u200d🎨|👨🏿\\u200d🎨|👨🏻\\u200d🎨|👨🏾\\u200d🎨|👨🏼\\u200d🎨|👨🏽\\u200d🎨|👨\\u200d🚀|👨🏿\\u200d🚀|👨🏻\\u200d🚀|👨🏾\\u200d🚀|👨🏼\\u200d🚀|👨🏽\\u200d🚀|👨\\u200d🦲|🧔\\u200d♂️|🚴\\u200d♂️|🚴🏿\\u200d♂️|🚴🏻\\u200d♂️|🚴🏾\\u200d♂️|🚴🏼\\u200d♂️|🚴🏽\\u200d♂️|👱\\u200d♂️|⛹️\\u200d♂️|⛹🏿\\u200d♂️|⛹🏻\\u200d♂️|⛹🏾\\u200d♂️|⛹🏼\\u200d♂️|⛹🏽\\u200d♂️|🙇\\u200d♂️|🙇🏿\\u200d♂️|🙇🏻\\u200d♂️|🙇🏾\\u200d♂️|🙇🏼\\u200d♂️|🙇🏽\\u200d♂️|🤸\\u200d♂️|🤸🏿\\u200d♂️|🤸🏻\\u200d♂️|🤸🏾\\u200d♂️|🤸🏼\\u200d♂️|🤸🏽\\u200d♂️|🧗\\u200d♂️|🧗🏿\\u200d♂️|🧗🏻\\u200d♂️|🧗🏾\\u200d♂️|🧗🏼\\u200d♂️|🧗🏽\\u200d♂️|👷\\u200d♂️|👷🏿\\u200d♂️|👷🏻\\u200d♂️|👷🏾\\u200d♂️|👷🏼\\u200d♂️|👷🏽\\u200d♂️|👨\\u200d🍳|👨🏿\\u200d🍳|👨🏻\\u200d🍳|👨🏾\\u200d🍳|👨🏼\\u200d🍳|👨🏽\\u200d🍳|👨\\u200d🦱|🕺|🕺🏿|🕺🏻|🕺🏾|🕺🏼|🕺🏽|👨🏿|👨🏿\\u200d🦲|🧔🏿\\u200d♂️|👱🏿\\u200d♂️|👨🏿\\u200d🦱|👨🏿\\u200d🦰|👨🏿\\u200d🦳|🕵️\\u200d♂️|🕵🏿\\u200d♂️|🕵🏻\\u200d♂️|🕵🏾\\u200d♂️|🕵🏼\\u200d♂️|🕵🏽\\u200d♂️|🧝\\u200d♂️|🧝🏿\\u200d♂️|🧝🏻\\u200d♂️|🧝🏾\\u200d♂️|🧝🏼\\u200d♂️|🧝🏽\\u200d♂️|🤦\\u200d♂️|🤦🏿\\u200d♂️|🤦🏻\\u200d♂️|🤦🏾\\u200d♂️|🤦🏼\\u200d♂️|🤦🏽\\u200d♂️|👨\\u200d🏭|👨🏿\\u200d🏭|👨🏻\\u200d🏭|👨🏾\\u200d🏭|👨🏼\\u200d🏭|👨🏽\\u200d🏭|🧚\\u200d♂️|🧚🏿\\u200d♂️|🧚🏻\\u200d♂️|🧚🏾\\u200d♂️|🧚🏼\\u200d♂️|🧚🏽\\u200d♂️|👨\\u200d🌾|👨🏿\\u200d🌾|👨🏻\\u200d🌾|👨🏾\\u200d🌾|👨🏼\\u200d🌾|👨🏽\\u200d🌾|👨\\u200d🍼|👨🏿\\u200d🍼|👨🏻\\u200d🍼|👨🏾\\u200d🍼|👨🏼\\u200d🍼|👨🏽\\u200d🍼|👨\\u200d🚒|👨🏿\\u200d🚒|👨🏻\\u200d🚒|👨🏾\\u200d🚒|👨🏼\\u200d🚒|👨🏽\\u200d🚒|🙍\\u200d♂️|🙍🏿\\u200d♂️|🙍🏻\\u200d♂️|🙍🏾\\u200d♂️|🙍🏼\\u200d♂️|🙍🏽\\u200d♂️|🧞\\u200d♂️|🙅\\u200d♂️|🙅🏿\\u200d♂️|🙅🏻\\u200d♂️|🙅🏾\\u200d♂️|🙅🏼\\u200d♂️|🙅🏽\\u200d♂️|🙆\\u200d♂️|🙆🏿\\u200d♂️|🙆🏻\\u200d♂️|🙆🏾\\u200d♂️|🙆🏼\\u200d♂️|🙆🏽\\u200d♂️|💇\\u200d♂️|💇🏿\\u200d♂️|💇🏻\\u200d♂️|💇🏾\\u200d♂️|💇🏼\\u200d♂️|💇🏽\\u200d♂️|💆\\u200d♂️|💆🏿\\u200d♂️|💆🏻\\u200d♂️|💆🏾\\u200d♂️|💆🏼\\u200d♂️|💆🏽\\u200d♂️|🏌️\\u200d♂️|🏌🏿\\u200d♂️|🏌🏻\\u200d♂️|🏌🏾\\u200d♂️|🏌🏼\\u200d♂️|🏌🏽\\u200d♂️|💂\\u200d♂️|💂🏿\\u200d♂️|💂🏻\\u200d♂️|💂🏾\\u200d♂️|💂🏼\\u200d♂️|💂🏽\\u200d♂️|👨\\u200d⚕️|👨🏿\\u200d⚕️|👨🏻\\u200d⚕️|👨🏾\\u200d⚕️|👨🏼\\u200d⚕️|👨🏽\\u200d⚕️|🧘\\u200d♂️|🧘🏿\\u200d♂️|🧘🏻\\u200d♂️|🧘🏾\\u200d♂️|🧘🏼\\u200d♂️|🧘🏽\\u200d♂️|👨\\u200d\\U0001f9bd|👨🏿\\u200d\\U0001f9bd|👨🏻\\u200d\\U0001f9bd|👨🏾\\u200d\\U0001f9bd|👨🏼\\u200d\\U0001f9bd|👨🏽\\u200d\\U0001f9bd|👨\\u200d\\U0001f9bc|👨🏿\\u200d\\U0001f9bc|👨🏻\\u200d\\U0001f9bc|👨🏾\\u200d\\U0001f9bc|👨🏼\\u200d\\U0001f9bc|👨🏽\\u200d\\U0001f9bc|🧖\\u200d♂️|🧖🏿\\u200d♂️|🧖🏻\\u200d♂️|🧖🏾\\u200d♂️|🧖🏼\\u200d♂️|🧖🏽\\u200d♂️|🤵\\u200d♂️|🤵🏿\\u200d♂️|🤵🏻\\u200d♂️|🤵🏾\\u200d♂️|🤵🏼\\u200d♂️|🤵🏽\\u200d♂️|👨\\u200d⚖️|👨🏿\\u200d⚖️|👨🏻\\u200d⚖️|👨🏾\\u200d⚖️|👨🏼\\u200d⚖️|👨🏽\\u200d⚖️|🤹\\u200d♂️|🤹🏿\\u200d♂️|🤹🏻\\u200d♂️|🤹🏾\\u200d♂️|🤹🏼\\u200d♂️|🤹🏽\\u200d♂️|\\U0001f9ce\\u200d♂️|\\U0001f9ce🏿\\u200d♂️|\\U0001f9ce🏻\\u200d♂️|\\U0001f9ce🏾\\u200d♂️|\\U0001f9ce🏼\\u200d♂️|\\U0001f9ce🏽\\u200d♂️|🏋️\\u200d♂️|🏋🏿\\u200d♂️|🏋🏻\\u200d♂️|🏋🏾\\u200d♂️|🏋🏼\\u200d♂️|🏋🏽\\u200d♂️|👨🏻|👨🏻\\u200d🦲|🧔🏻\\u200d♂️|👱🏻\\u200d♂️|👨🏻\\u200d🦱|👨🏻\\u200d🦰|👨🏻\\u200d🦳|🧙\\u200d♂️|🧙🏿\\u200d♂️|🧙🏻\\u200d♂️|🧙🏾\\u200d♂️|🧙🏼\\u200d♂️|🧙🏽\\u200d♂️|👨\\u200d🔧|👨🏿\\u200d🔧|👨🏻\\u200d🔧|👨🏾\\u200d🔧|👨🏼\\u200d🔧|👨🏽\\u200d🔧|👨🏾|👨🏾\\u200d🦲|🧔🏾\\u200d♂️|👱🏾\\u200d♂️|👨🏾\\u200d🦱|👨🏾\\u200d🦰|👨🏾\\u200d🦳|👨🏼|👨🏼\\u200d🦲|🧔🏼\\u200d♂️|👱🏼\\u200d♂️|👨🏼\\u200d🦱|👨🏼\\u200d🦰|👨🏼\\u200d🦳|👨🏽|👨🏽\\u200d🦲|🧔🏽\\u200d♂️|👱🏽\\u200d♂️|👨🏽\\u200d🦱|👨🏽\\u200d🦰|👨🏽\\u200d🦳|🚵\\u200d♂️|🚵🏿\\u200d♂️|🚵🏻\\u200d♂️|🚵🏾\\u200d♂️|🚵🏼\\u200d♂️|🚵🏽\\u200d♂️|👨\\u200d💼|👨🏿\\u200d💼|👨🏻\\u200d💼|👨🏾\\u200d💼|👨🏼\\u200d💼|👨🏽\\u200d💼|👨\\u200d✈️|👨🏿\\u200d✈️|👨🏻\\u200d✈️|👨🏾\\u200d✈️|👨🏼\\u200d✈️|👨🏽\\u200d✈️|🤾\\u200d♂️|🤾🏿\\u200d♂️|🤾🏻\\u200d♂️|🤾🏾\\u200d♂️|🤾🏼\\u200d♂️|🤾🏽\\u200d♂️|🤽\\u200d♂️|🤽🏿\\u200d♂️|🤽🏻\\u200d♂️|🤽🏾\\u200d♂️|🤽🏼\\u200d♂️|🤽🏽\\u200d♂️|👮\\u200d♂️|👮🏿\\u200d♂️|👮🏻\\u200d♂️|👮🏾\\u200d♂️|👮🏼\\u200d♂️|👮🏽\\u200d♂️|🙎\\u200d♂️|🙎🏿\\u200d♂️|🙎🏻\\u200d♂️|🙎🏾\\u200d♂️|🙎🏼\\u200d♂️|🙎🏽\\u200d♂️|🙋\\u200d♂️|🙋🏿\\u200d♂️|🙋🏻\\u200d♂️|🙋🏾\\u200d♂️|🙋🏼\\u200d♂️|🙋🏽\\u200d♂️|👨\\u200d🦰|🚣\\u200d♂️|🚣🏿\\u200d♂️|🚣🏻\\u200d♂️|🚣🏾\\u200d♂️|🚣🏼\\u200d♂️|🚣🏽\\u200d♂️|🏃\\u200d♂️|🏃🏿\\u200d♂️|🏃🏻\\u200d♂️|🏃🏾\\u200d♂️|🏃🏼\\u200d♂️|🏃🏽\\u200d♂️|👨\\u200d🔬|👨🏿\\u200d🔬|👨🏻\\u200d🔬|👨🏾\\u200d🔬|👨🏼\\u200d🔬|👨🏽\\u200d🔬|🤷\\u200d♂️|🤷🏿\\u200d♂️|🤷🏻\\u200d♂️|🤷🏾\\u200d♂️|🤷🏼\\u200d♂️|🤷🏽\\u200d♂️|👨\\u200d🎤|👨🏿\\u200d🎤|👨🏻\\u200d🎤|👨🏾\\u200d🎤|👨🏼\\u200d🎤|👨🏽\\u200d🎤|\\U0001f9cd\\u200d♂️|\\U0001f9cd🏿\\u200d♂️|\\U0001f9cd🏻\\u200d♂️|\\U0001f9cd🏾\\u200d♂️|\\U0001f9cd🏼\\u200d♂️|\\U0001f9cd🏽\\u200d♂️|👨\\u200d🎓|👨🏿\\u200d🎓|👨🏻\\u200d🎓|👨🏾\\u200d🎓|👨🏼\\u200d🎓|👨🏽\\u200d🎓|🦸\\u200d♂️|🦸🏿\\u200d♂️|🦸🏻\\u200d♂️|🦸🏾\\u200d♂️|🦸🏼\\u200d♂️|🦸🏽\\u200d♂️|🦹\\u200d♂️|🦹🏿\\u200d♂️|🦹🏻\\u200d♂️|🦹🏾\\u200d♂️|🦹🏼\\u200d♂️|🦹🏽\\u200d♂️|🏄\\u200d♂️|🏄🏿\\u200d♂️|🏄🏻\\u200d♂️|🏄🏾\\u200d♂️|🏄🏼\\u200d♂️|🏄🏽\\u200d♂️|🏊\\u200d♂️|🏊🏿\\u200d♂️|🏊🏻\\u200d♂️|🏊🏾\\u200d♂️|🏊🏼\\u200d♂️|🏊🏽\\u200d♂️|👨\\u200d🏫|👨🏿\\u200d🏫|👨🏻\\u200d🏫|👨🏾\\u200d🏫|👨🏼\\u200d🏫|👨🏽\\u200d🏫|👨\\u200d💻|👨🏿\\u200d💻|👨🏻\\u200d💻|👨🏾\\u200d💻|👨🏼\\u200d💻|👨🏽\\u200d💻|💁\\u200d♂️|💁🏿\\u200d♂️|💁🏻\\u200d♂️|💁🏾\\u200d♂️|💁🏼\\u200d♂️|💁🏽\\u200d♂️|🧛\\u200d♂️|🧛🏿\\u200d♂️|🧛🏻\\u200d♂️|🧛🏾\\u200d♂️|🧛🏼\\u200d♂️|🧛🏽\\u200d♂️|🚶\\u200d♂️|🚶🏿\\u200d♂️|🚶🏻\\u200d♂️|🚶🏾\\u200d♂️|🚶🏼\\u200d♂️|🚶🏽\\u200d♂️|👳\\u200d♂️|👳🏿\\u200d♂️|👳🏻\\u200d♂️|👳🏾\\u200d♂️|👳🏼\\u200d♂️|👳🏽\\u200d♂️|👨\\u200d🦳|👰\\u200d♂️|👰🏿\\u200d♂️|👰🏻\\u200d♂️|👰🏾\\u200d♂️|👰🏼\\u200d♂️|👰🏽\\u200d♂️|👨\\u200d\\U0001f9af|👨🏿\\u200d\\U0001f9af|👨🏻\\u200d\\U0001f9af|👨🏾\\u200d\\U0001f9af|👨🏼\\u200d\\U0001f9af|👨🏽\\u200d\\U0001f9af|🧟\\u200d♂️|🥭|🕰|\\U0001f9bd|👞|🗾|🍁|🥋|\\U0001f9c9|🍖|🧑\\u200d🔧|🧑🏿\\u200d🔧|🧑🏻\\u200d🔧|🧑🏾\\u200d🔧|🧑🏼\\u200d🔧|🧑🏽\\u200d🔧|\\U0001f9be|\\U0001f9bf|⚕|🏾|🏼|🏽|📣|🍈|📝|👬|👬🏿|👨🏿\\u200d🤝\\u200d👨🏻|👨🏿\\u200d🤝\\u200d👨🏾|👨🏿\\u200d🤝\\u200d👨🏼|👨🏿\\u200d🤝\\u200d👨🏽|👬🏻|👨🏻\\u200d🤝\\u200d👨🏿|👨🏻\\u200d🤝\\u200d👨🏾|👨🏻\\u200d🤝\\u200d👨🏼|👨🏻\\u200d🤝\\u200d👨🏽|👬🏾|👨🏾\\u200d🤝\\u200d👨🏿|👨🏾\\u200d🤝\\u200d👨🏻|👨🏾\\u200d🤝\\u200d👨🏼|👨🏾\\u200d🤝\\u200d👨🏽|👬🏼|👨🏼\\u200d🤝\\u200d👨🏿|👨🏼\\u200d🤝\\u200d👨🏻|👨🏼\\u200d🤝\\u200d👨🏾|👨🏼\\u200d🤝\\u200d👨🏽|👬🏽|👨🏽\\u200d🤝\\u200d👨🏿|👨🏽\\u200d🤝\\u200d👨🏻|👨🏽\\u200d🤝\\u200d👨🏾|👨🏽\\u200d🤝\\u200d👨🏼|👯\\u200d♂️|🤼\\u200d♂️|❤️\\u200d\\U0001fa79|🕎|🚹|🧜\\u200d♀️|🧜🏿\\u200d♀️|🧜🏻\\u200d♀️|🧜🏾\\u200d♀️|🧜🏼\\u200d♀️|🧜🏽\\u200d♀️|🧜\\u200d♂️|🧜🏿\\u200d♂️|🧜🏻\\u200d♂️|🧜🏾\\u200d♂️|🧜🏼\\u200d♂️|🧜🏽\\u200d♂️|🧜|🧜🏿|🧜🏻|🧜🏾|🧜🏼|🧜🏽|🚇|🦠|🎤|🔬|🖕|🖕🏿|🖕🏻|🖕🏾|🖕🏼|🖕🏽|\\U0001fa96|🎖|🌌|🚐|➖|\\U0001fa9e|🗿|📱|📴|📲|🤑|💰|💸|🐒|🐵|🚝|🥮|🎑|🕌|🦟|🛥|🛵|🏍|\\U0001f9bc|🛣|🗻|⛰|🚠|🚞|🐁|🐭|\\U0001faa4|👄|🎥|✖|🍄|🎹|🎵|🎶|🎼|🔇|🧑\\u200d🎄|🧑🏿\\u200d🎄|🧑🏻\\u200d🎄|🧑🏾\\u200d🎄|🧑🏼\\u200d🎄|🧑🏽\\u200d🎄|💅|💅🏿|💅🏻|💅🏾|💅🏼|💅🏽|📛|🏞|🤢|🧿|👔|🤓|\\U0001fa86|😐|🌑|🌚|📰|⏭|🌃|🕤|🕘|\\U0001f977|\\U0001f977🏿|\\U0001f977🏻|\\U0001f977🏾|\\U0001f977🏼|\\U0001f977🏽|🚳|⛔|🚯|📵|🔞|🚷|🚭|🚱|👃|👃🏿|👃🏻|👃🏾|👃🏼|👃🏽|📓|📔|🔩|🐙|🍢|🏢|🧑\\u200d💼|🧑🏿\\u200d💼|🧑🏻\\u200d💼|🧑🏾\\u200d💼|🧑🏼\\u200d💼|🧑🏽\\u200d💼|👹|🛢|🗝|👴|👴🏿|👴🏻|👴🏾|👴🏼|👴🏽|👵|👵🏿|👵🏻|👵🏾|👵🏼|👵🏽|🧓|🧓🏿|🧓🏻|🧓🏾|🧓🏼|🧓🏽|\\U0001fad2|🕉|🚘|🚍|👊|👊🏿|👊🏻|👊🏾|👊🏼|👊🏽|🚔|🚖|\\U0001fa71|🕜|🕐|\\U0001f9c5|📖|📂|👐|👐🏿|👐🏻|👐🏾|👐🏼|👐🏽|📭|📬|💿|📙|\\U0001f7e0|🧡|\\U0001f7e7|\\U0001f9a7|☦|\\U0001f9a6|📤|🦉|🐂|\\U0001f9aa|📦|📄|📃|📟|🖌|🌴|🤲|🤲🏿|🤲🏻|🤲🏾|🤲🏼|🤲🏽|🥞|🐼|📎|\\U0001fa82|🦜|〽|🎉|🥳|🛳|🛂|⏸|🐾|☮|🍑|🦚|🥜|🍐|🖊|✏|🐧|😔|🧑\\u200d🤝\\u200d🧑|🧑🏿\\u200d🤝\\u200d🧑🏿|🧑🏿\\u200d🤝\\u200d🧑🏻|🧑🏿\\u200d🤝\\u200d🧑🏾|🧑🏿\\u200d🤝\\u200d🧑🏼|🧑🏿\\u200d🤝\\u200d🧑🏽|🧑🏻\\u200d🤝\\u200d🧑🏻|🧑🏻\\u200d🤝\\u200d🧑🏿|🧑🏻\\u200d🤝\\u200d🧑🏾|🧑🏻\\u200d🤝\\u200d🧑🏼|🧑🏻\\u200d🤝\\u200d🧑🏽|🧑🏾\\u200d🤝\\u200d🧑🏾|🧑🏾\\u200d🤝\\u200d🧑🏿|🧑🏾\\u200d🤝\\u200d🧑🏻|🧑🏾\\u200d🤝\\u200d🧑🏼|🧑🏾\\u200d🤝\\u200d🧑🏽|🧑🏼\\u200d🤝\\u200d🧑🏼|🧑🏼\\u200d🤝\\u200d🧑🏿|🧑🏼\\u200d🤝\\u200d🧑🏻|🧑🏼\\u200d🤝\\u200d🧑🏾|🧑🏼\\u200d🤝\\u200d🧑🏽|🧑🏽\\u200d🤝\\u200d🧑🏽|🧑🏽\\u200d🤝\\u200d🧑🏿|🧑🏽\\u200d🤝\\u200d🧑🏻|🧑🏽\\u200d🤝\\u200d🧑🏾|🧑🏽\\u200d🤝\\u200d🧑🏼|\\U0001fac2|👯|🤼|🎭|😣|🧑|🧑\\u200d🦲|🧔|🚴|🚴🏿|🚴🏻|🚴🏾|🚴🏼|🚴🏽|👱|⛹|⛹🏿|⛹🏻|⛹🏾|⛹🏼|⛹🏽|🙇|🙇🏿|🙇🏻|🙇🏾|🙇🏼|🙇🏽|🤸|🤸🏿|🤸🏻|🤸🏾|🤸🏼|🤸🏽|🧗|🧗🏿|🧗🏻|🧗🏾|🧗🏼|🧗🏽|🧑\\u200d🦱|🧑🏿|🧑🏿\\u200d🦲|🧔🏿|👱🏿|🧑🏿\\u200d🦱|🧑🏿\\u200d🦰|🧑🏿\\u200d🦳|🤦|🤦🏿|🤦🏻|🤦🏾|🤦🏼|🤦🏽|🧑\\u200d🍼|🧑🏿\\u200d🍼|🧑🏻\\u200d🍼|🧑🏾\\u200d🍼|🧑🏼\\u200d🍼|🧑🏽\\u200d🍼|🤺|🙍|🙍🏿|🙍🏻|🙍🏾|🙍🏼|🙍🏽|🙅|🙅🏿|🙅🏻|🙅🏾|🙅🏼|🙅🏽|🙆|🙆🏿|🙆🏻|🙆🏾|🙆🏼|🙆🏽|💇|💇🏿|💇🏻|💇🏾|💇🏼|💇🏽|💆|💆🏿|💆🏻|💆🏾|💆🏼|💆🏽|🏌|🏌🏿|🏌🏻|🏌🏾|🏌🏼|🏌🏽|🛌|🛌🏿|🛌🏻|🛌🏾|🛌🏼|🛌🏽|🧘|🧘🏿|🧘🏻|🧘🏾|🧘🏼|🧘🏽|🧑\\u200d\\U0001f9bd|🧑🏿\\u200d\\U0001f9bd|🧑🏻\\u200d\\U0001f9bd|🧑🏾\\u200d\\U0001f9bd|🧑🏼\\u200d\\U0001f9bd|🧑🏽\\u200d\\U0001f9bd|🧑\\u200d\\U0001f9bc|🧑🏿\\u200d\\U0001f9bc|🧑🏻\\u200d\\U0001f9bc|🧑🏾\\u200d\\U0001f9bc|🧑🏼\\u200d\\U0001f9bc|🧑🏽\\u200d\\U0001f9bc|🧖|🧖🏿|🧖🏻|🧖🏾|🧖🏼|🧖🏽|🕴|🕴🏿|🕴🏻|🕴🏾|🕴🏼|🕴🏽|🤵|🤵🏿|🤵🏻|🤵🏾|🤵🏼|🤵🏽|🤹|🤹🏿|🤹🏻|🤹🏾|🤹🏼|🤹🏽|\\U0001f9ce|\\U0001f9ce🏿|\\U0001f9ce🏻|\\U0001f9ce🏾|\\U0001f9ce🏼|\\U0001f9ce🏽|🏋|🏋🏿|🏋🏻|🏋🏾|🏋🏼|🏋🏽|🧑🏻|🧑🏻\\u200d🦲|🧔🏻|👱🏻|🧑🏻\\u200d🦱|🧑🏻\\u200d🦰|🧑🏻\\u200d🦳|🧑🏾|🧑🏾\\u200d🦲|🧔🏾|👱🏾|🧑🏾\\u200d🦱|🧑🏾\\u200d🦰|🧑🏾\\u200d🦳|🧑🏼|🧑🏼\\u200d🦲|🧔🏼|👱🏼|🧑🏼\\u200d🦱|🧑🏼\\u200d🦰|🧑🏼\\u200d🦳|🧑🏽|🧑🏽\\u200d🦲|🧔🏽|👱🏽|🧑🏽\\u200d🦱|🧑🏽\\u200d🦰|🧑🏽\\u200d🦳|🚵|🚵🏿|🚵🏻|🚵🏾|🚵🏼|🚵🏽|🤾|🤾🏿|🤾🏻|🤾🏾|🤾🏼|🤾🏽|🤽|🤽🏿|🤽🏻|🤽🏾|🤽🏼|🤽🏽|🙎|🙎🏿|🙎🏻|🙎🏾|🙎🏼|🙎🏽|🙋|🙋🏿|🙋🏻|🙋🏾|🙋🏼|🙋🏽|🧑\\u200d🦰|🚣|🚣🏿|🚣🏻|🚣🏾|🚣🏼|🚣🏽|🏃|🏃🏿|🏃🏻|🏃🏾|🏃🏼|🏃🏽|🤷|🤷🏿|🤷🏻|🤷🏾|🤷🏼|🤷🏽|\\U0001f9cd|\\U0001f9cd🏿|\\U0001f9cd🏻|\\U0001f9cd🏾|\\U0001f9cd🏼|\\U0001f9cd🏽|🏄|🏄🏿|🏄🏻|🏄🏾|🏄🏼|🏄🏽|🏊|🏊🏿|🏊🏻|🏊🏾|🏊🏼|🏊🏽|🛀|🛀🏿|🛀🏻|🛀🏾|🛀🏼|🛀🏽|💁|💁🏿|💁🏻|💁🏾|💁🏼|💁🏽|🚶|🚶🏿|🚶🏻|🚶🏾|🚶🏼|🚶🏽|👳|👳🏿|👳🏻|👳🏾|👳🏼|👳🏽|🧑\\u200d🦳|👲|👲🏿|👲🏻|👲🏾|👲🏼|👲🏽|👰|👰🏿|👰🏻|👰🏾|👰🏼|👰🏽|🧑\\u200d\\U0001f9af|🧑🏿\\u200d\\U0001f9af|🧑🏻\\u200d\\U0001f9af|🧑🏾\\u200d\\U0001f9af|🧑🏼\\u200d\\U0001f9af|🧑🏽\\u200d\\U0001f9af|🧫|⛏|\\U0001f6fb|🥧|🐖|🐷|🐽|💩|💊|🧑\\u200d✈️|🧑🏿\\u200d✈️|🧑🏻\\u200d✈️|🧑🏾\\u200d✈️|🧑🏼\\u200d✈️|🧑🏽\\u200d✈️|\\U0001f90c|\\U0001f90c🏿|\\U0001f90c🏻|\\U0001f90c🏾|\\U0001f90c🏼|\\U0001f90c🏽|\\U0001f90f|\\U0001f90f🏿|\\U0001f90f🏻|\\U0001f90f🏾|\\U0001f90f🏼|\\U0001f90f🏽|🎍|🍍|🏓|🏴\\u200d☠️|🍕|\\U0001fa85|\\U0001faa7|🛐|▶|⏯|🥺|\\U0001faa0|➕|🐻\\u200d❄️|🚓|🚨|👮|👮🏿|👮🏻|👮🏾|👮🏼|👮🏽|🐩|🎱|🍿|🏤|📯|📮|🍲|🚰|🥔|\\U0001fab4|🍗|💷|😾|😡|📿|🤰|🤰🏿|🤰🏻|🤰🏾|🤰🏼|🤰🏽|🥨|🤴|🤴🏿|🤴🏻|🤴🏾|🤴🏼|🤴🏽|👸|👸🏿|👸🏻|👸🏾|👸🏼|👸🏽|🖨|🚫|\\U0001f7e3|💜|\\U0001f7ea|👛|📌|🧩|🐇|🐰|🦝|🏎|📻|🔘|☢|🚃|🛤|🌈|🏳️\\u200d🌈|🤚|🤚🏿|🤚🏻|🤚🏾|🤚🏼|🤚🏽|✊|✊🏿|✊🏻|✊🏾|✊🏼|✊🏽|✋|✋🏿|✋🏻|✋🏾|✋🏼|✋🏽|🙌|🙌🏿|🙌🏻|🙌🏾|🙌🏼|🙌🏽|🐏|🐀|\\U0001fa92|🧾|⏺|♻|🍎|🔴|🧧|❗|🦰|❤|🏮|❓|\\U0001f7e5|🔻|🔺|®|😌|🎗|🔁|🔂|⛑|🚻|◀|💞|🦏|🎀|🍙|🍘|🤜|🤜🏿|🤜🏻|🤜🏾|🤜🏼|🤜🏽|🗯|➡|⤵|↩|⤴|💍|\\U0001fa90|🍠|🤖|\\U0001faa8|🚀|🧻|🗞|🎢|\\U0001f6fc|🤣|🐓|🌹|🏵|📍|🏉|🎽|👟|😥|🧷|\\U0001f9ba|⛵|🍶|🧂|🥪|\\U0001f97b|🛰|📡|🦕|🎷|🧣|🏫|🧑\\u200d🔬|🧑🏿\\u200d🔬|🧑🏻\\u200d🔬|🧑🏾\\u200d🔬|🧑🏼\\u200d🔬|🧑🏽\\u200d🔬|✂|🦂|\\U0001fa9b|📜|\\U0001f9ad|💺|🙈|🌱|🤳|🤳🏿|🤳🏻|🤳🏾|🤳🏼|🤳🏽|🐕\\u200d\\U0001f9ba|🕢|🕖|\\U0001faa1|🥘|☘|🦈|🍧|🌾|🛡|⛩|🚢|🌠|🛍|🛒|🍰|\\U0001fa73|🚿|🦐|🔀|🤫|🤘|🤘🏿|🤘🏻|🤘🏾|🤘🏼|🤘🏽|🧑\\u200d🎤|🧑🏿\\u200d🎤|🧑🏻\\u200d🎤|🧑🏾\\u200d🎤|🧑🏼\\u200d🎤|🧑🏽\\u200d🎤|🕡|🕕|🛹|⛷|🎿|💀|☠|\\U0001f9a8|🛷|😴|😪|🙁|🙂|🎰|\\U0001f9a5|🛩|🔹|🔸|😻|☺|😇|😍|🥰|😈|😊|😎|\\U0001f972|😏|🐌|🐍|🤧|🏔|🏂|🏂🏿|🏂🏻|🏂🏾|🏂🏼|🏂🏽|❄|☃|⛄|🧼|⚽|🧦|🍦|🥎|♠|🍝|❇|🎇|✨|💖|🙊|🔊|🔈|🔉|🗣|💬|🚤|🕷|🕸|🗓|🗒|🐚|🧽|🥄|🚙|🏅|🐳|🦑|😝|🏟|⭐|🤩|☪|✡|🚉|🍜|\\U0001fa7a|⏹|🛑|⏱|📏|🍓|🧑\\u200d🎓|🧑🏿\\u200d🎓|🧑🏻\\u200d🎓|🧑🏾\\u200d🎓|🧑🏼\\u200d🎓|🧑🏽\\u200d🎓|🎙|🥙|☀|⛅|🌥|🌦|🌤|🌞|🌻|🕶|🌅|🌄|🌇|🦸|🦸🏿|🦸🏻|🦸🏾|🦸🏼|🦸🏽|🦹|🦹🏿|🦹🏻|🦹🏾|🦹🏼|🦹🏽|🍣|🚟|🦢|💦|🕍|💉|👕|🌮|🥡|\\U0001fad4|🎋|🍊|🚕|🧑\\u200d🏫|🧑🏿\\u200d🏫|🧑🏻\\u200d🏫|🧑🏾\\u200d🏫|🧑🏼\\u200d🏫|🧑🏽\\u200d🏫|🍵|\\U0001fad6|📆|🧑\\u200d💻|🧑🏿\\u200d💻|🧑🏻\\u200d💻|🧑🏾\\u200d💻|🧑🏼\\u200d💻|🧑🏽\\u200d💻|🧸|☎|📞|🔭|📺|🕥|🕙|🎾|⛺|🧪|🌡|🤔|\\U0001fa74|💭|🧵|🕞|🕒|👎|👎🏿|👎🏻|👎🏾|👎🏼|👎🏽|👍|👍🏿|👍🏻|👍🏾|👍🏼|👍🏽|🎫|🐅|🐯|⏲|😫|🚽|🍅|👅|🧰|🦷|\\U0001faa5|🎩|🌪|🖲|🚜|™|🚆|🚊|🚋|🏳️\\u200d⚧️|⚧|🚩|📐|🔱|🚎|🏆|🍹|🐠|🎺|🌷|🥃|🦃|🐢|🕧|🕛|🐫|🕝|💕|🕑|☂|⛱|☔|😒|🦄|🔓|↕|↖|↗|⬆|🙃|🔼|🧛|🧛🏿|🧛🏻|🧛🏾|🧛🏼|🧛🏽|🚦|📳|✌|✌🏿|✌🏻|✌🏾|✌🏼|✌🏽|📹|🎮|📼|🎻|🌋|🏐|🖖|🖖🏿|🖖🏻|🖖🏾|🖖🏼|🖖🏽|\\U0001f9c7|🌘|🌖|⚠|🗑|⌚|🐃|🚾|🔫|🌊|🍉|👋|👋🏿|👋🏻|👋🏾|👋🏼|👋🏽|〰|🌒|🌔|🙀|😩|💒|🐋|☸|♿|\\U0001f9af|⚪|❕|🏳|💮|🦳|\\U0001f90d|⬜|◽|◻|❔|▫|🔳|🥀|🎐|🌬|\\U0001fa9f|🍷|😉|😜|🐺|👩|👫|👫🏿|👩🏿\\u200d🤝\\u200d👨🏻|👩🏿\\u200d🤝\\u200d👨🏾|👩🏿\\u200d🤝\\u200d👨🏼|👩🏿\\u200d🤝\\u200d👨🏽|👫🏻|👩🏻\\u200d🤝\\u200d👨🏿|👩🏻\\u200d🤝\\u200d👨🏾|👩🏻\\u200d🤝\\u200d👨🏼|👩🏻\\u200d🤝\\u200d👨🏽|👫🏾|👩🏾\\u200d🤝\\u200d👨🏿|👩🏾\\u200d🤝\\u200d👨🏻|👩🏾\\u200d🤝\\u200d👨🏼|👩🏾\\u200d🤝\\u200d👨🏽|👫🏼|👩🏼\\u200d🤝\\u200d👨🏿|👩🏼\\u200d🤝\\u200d👨🏻|👩🏼\\u200d🤝\\u200d👨🏾|👩🏼\\u200d🤝\\u200d👨🏽|👫🏽|👩🏽\\u200d🤝\\u200d👨🏿|👩🏽\\u200d🤝\\u200d👨🏻|👩🏽\\u200d🤝\\u200d👨🏾|👩🏽\\u200d🤝\\u200d👨🏼|👩\\u200d🎨|👩🏿\\u200d🎨|👩🏻\\u200d🎨|👩🏾\\u200d🎨|👩🏼\\u200d🎨|👩🏽\\u200d🎨|👩\\u200d🚀|👩🏿\\u200d🚀|👩🏻\\u200d🚀|👩🏾\\u200d🚀|👩🏼\\u200d🚀|👩🏽\\u200d🚀|👩\\u200d🦲|🧔\\u200d♀️|🚴\\u200d♀️|🚴🏿\\u200d♀️|🚴🏻\\u200d♀️|🚴🏾\\u200d♀️|🚴🏼\\u200d♀️|🚴🏽\\u200d♀️|👱\\u200d♀️|⛹️\\u200d♀️|⛹🏿\\u200d♀️|⛹🏻\\u200d♀️|⛹🏾\\u200d♀️|⛹🏼\\u200d♀️|⛹🏽\\u200d♀️|🙇\\u200d♀️|🙇🏿\\u200d♀️|🙇🏻\\u200d♀️|🙇🏾\\u200d♀️|🙇🏼\\u200d♀️|🙇🏽\\u200d♀️|🤸\\u200d♀️|🤸🏿\\u200d♀️|🤸🏻\\u200d♀️|🤸🏾\\u200d♀️|🤸🏼\\u200d♀️|🤸🏽\\u200d♀️|🧗\\u200d♀️|🧗🏿\\u200d♀️|🧗🏻\\u200d♀️|🧗🏾\\u200d♀️|🧗🏼\\u200d♀️|🧗🏽\\u200d♀️|👷\\u200d♀️|👷🏿\\u200d♀️|👷🏻\\u200d♀️|👷🏾\\u200d♀️|👷🏼\\u200d♀️|👷🏽\\u200d♀️|👩\\u200d🍳|👩🏿\\u200d🍳|👩🏻\\u200d🍳|👩🏾\\u200d🍳|👩🏼\\u200d🍳|👩🏽\\u200d🍳|👩\\u200d🦱|💃|💃🏿|💃🏻|💃🏾|💃🏼|💃🏽|👩🏿|👩🏿\\u200d🦲|🧔🏿\\u200d♀️|👱🏿\\u200d♀️|👩🏿\\u200d🦱|👩🏿\\u200d🦰|👩🏿\\u200d🦳|🕵️\\u200d♀️|🕵🏿\\u200d♀️|🕵🏻\\u200d♀️|🕵🏾\\u200d♀️|🕵🏼\\u200d♀️|🕵🏽\\u200d♀️|🧝\\u200d♀️|🧝🏿\\u200d♀️|🧝🏻\\u200d♀️|🧝🏾\\u200d♀️|🧝🏼\\u200d♀️|🧝🏽\\u200d♀️|🤦\\u200d♀️|🤦🏿\\u200d♀️|🤦🏻\\u200d♀️|🤦🏾\\u200d♀️|🤦🏼\\u200d♀️|🤦🏽\\u200d♀️|👩\\u200d🏭|👩🏿\\u200d🏭|👩🏻\\u200d🏭|👩🏾\\u200d🏭|👩🏼\\u200d🏭|👩🏽\\u200d🏭|🧚\\u200d♀️|🧚🏿\\u200d♀️|🧚🏻\\u200d♀️|🧚🏾\\u200d♀️|🧚🏼\\u200d♀️|🧚🏽\\u200d♀️|👩\\u200d🌾|👩🏿\\u200d🌾|👩🏻\\u200d🌾|👩🏾\\u200d🌾|👩🏼\\u200d🌾|👩🏽\\u200d🌾|👩\\u200d🍼|👩🏿\\u200d🍼|👩🏻\\u200d🍼|👩🏾\\u200d🍼|👩🏼\\u200d🍼|👩🏽\\u200d🍼|👩\\u200d🚒|👩🏿\\u200d🚒|👩🏻\\u200d🚒|👩🏾\\u200d🚒|👩🏼\\u200d🚒|👩🏽\\u200d🚒|🙍\\u200d♀️|🙍🏿\\u200d♀️|🙍🏻\\u200d♀️|🙍🏾\\u200d♀️|🙍🏼\\u200d♀️|🙍🏽\\u200d♀️|🧞\\u200d♀️|🙅\\u200d♀️|🙅🏿\\u200d♀️|🙅🏻\\u200d♀️|🙅🏾\\u200d♀️|🙅🏼\\u200d♀️|🙅🏽\\u200d♀️|🙆\\u200d♀️|🙆🏿\\u200d♀️|🙆🏻\\u200d♀️|🙆🏾\\u200d♀️|🙆🏼\\u200d♀️|🙆🏽\\u200d♀️|💇\\u200d♀️|💇🏿\\u200d♀️|💇🏻\\u200d♀️|💇🏾\\u200d♀️|💇🏼\\u200d♀️|💇🏽\\u200d♀️|💆\\u200d♀️|💆🏿\\u200d♀️|💆🏻\\u200d♀️|💆🏾\\u200d♀️|💆🏼\\u200d♀️|💆🏽\\u200d♀️|🏌️\\u200d♀️|🏌🏿\\u200d♀️|🏌🏻\\u200d♀️|🏌🏾\\u200d♀️|🏌🏼\\u200d♀️|🏌🏽\\u200d♀️|💂\\u200d♀️|💂🏿\\u200d♀️|💂🏻\\u200d♀️|💂🏾\\u200d♀️|💂🏼\\u200d♀️|💂🏽\\u200d♀️|👩\\u200d⚕️|👩🏿\\u200d⚕️|👩🏻\\u200d⚕️|👩🏾\\u200d⚕️|👩🏼\\u200d⚕️|👩🏽\\u200d⚕️|🧘\\u200d♀️|🧘🏿\\u200d♀️|🧘🏻\\u200d♀️|🧘🏾\\u200d♀️|🧘🏼\\u200d♀️|🧘🏽\\u200d♀️|👩\\u200d\\U0001f9bd|👩🏿\\u200d\\U0001f9bd|👩🏻\\u200d\\U0001f9bd|👩🏾\\u200d\\U0001f9bd|👩🏼\\u200d\\U0001f9bd|👩🏽\\u200d\\U0001f9bd|👩\\u200d\\U0001f9bc|👩🏿\\u200d\\U0001f9bc|👩🏻\\u200d\\U0001f9bc|👩🏾\\u200d\\U0001f9bc|👩🏼\\u200d\\U0001f9bc|👩🏽\\u200d\\U0001f9bc|🧖\\u200d♀️|🧖🏿\\u200d♀️|🧖🏻\\u200d♀️|🧖🏾\\u200d♀️|🧖🏼\\u200d♀️|🧖🏽\\u200d♀️|🤵\\u200d♀️|🤵🏿\\u200d♀️|🤵🏻\\u200d♀️|🤵🏾\\u200d♀️|🤵🏼\\u200d♀️|🤵🏽\\u200d♀️|👩\\u200d⚖️|👩🏿\\u200d⚖️|👩🏻\\u200d⚖️|👩🏾\\u200d⚖️|👩🏼\\u200d⚖️|👩🏽\\u200d⚖️|🤹\\u200d♀️|🤹🏿\\u200d♀️|🤹🏻\\u200d♀️|🤹🏾\\u200d♀️|🤹🏼\\u200d♀️|🤹🏽\\u200d♀️|\\U0001f9ce\\u200d♀️|\\U0001f9ce🏿\\u200d♀️|\\U0001f9ce🏻\\u200d♀️|\\U0001f9ce🏾\\u200d♀️|\\U0001f9ce🏼\\u200d♀️|\\U0001f9ce🏽\\u200d♀️|🏋️\\u200d♀️|🏋🏿\\u200d♀️|🏋🏻\\u200d♀️|🏋🏾\\u200d♀️|🏋🏼\\u200d♀️|🏋🏽\\u200d♀️|👩🏻|👩🏻\\u200d🦲|🧔🏻\\u200d♀️|👱🏻\\u200d♀️|👩🏻\\u200d🦱|👩🏻\\u200d🦰|👩🏻\\u200d🦳|🧙\\u200d♀️|🧙🏿\\u200d♀️|🧙🏻\\u200d♀️|🧙🏾\\u200d♀️|🧙🏼\\u200d♀️|🧙🏽\\u200d♀️|👩\\u200d🔧|👩🏿\\u200d🔧|👩🏻\\u200d🔧|👩🏾\\u200d🔧|👩🏼\\u200d🔧|👩🏽\\u200d🔧|👩🏾|👩🏾\\u200d🦲|🧔🏾\\u200d♀️|👱🏾\\u200d♀️|👩🏾\\u200d🦱|👩🏾\\u200d🦰|👩🏾\\u200d🦳|👩🏼|👩🏼\\u200d🦲|🧔🏼\\u200d♀️|👱🏼\\u200d♀️|👩🏼\\u200d🦱|👩🏼\\u200d🦰|👩🏼\\u200d🦳|👩🏽|👩🏽\\u200d🦲|🧔🏽\\u200d♀️|👱🏽\\u200d♀️|👩🏽\\u200d🦱|👩🏽\\u200d🦰|👩🏽\\u200d🦳|🚵\\u200d♀️|🚵🏿\\u200d♀️|🚵🏻\\u200d♀️|🚵🏾\\u200d♀️|🚵🏼\\u200d♀️|🚵🏽\\u200d♀️|👩\\u200d💼|👩🏿\\u200d💼|👩🏻\\u200d💼|👩🏾\\u200d💼|👩🏼\\u200d💼|👩🏽\\u200d💼|👩\\u200d✈️|👩🏿\\u200d✈️|👩🏻\\u200d✈️|👩🏾\\u200d✈️|👩🏼\\u200d✈️|👩🏽\\u200d✈️|🤾\\u200d♀️|🤾🏿\\u200d♀️|🤾🏻\\u200d♀️|🤾🏾\\u200d♀️|🤾🏼\\u200d♀️|🤾🏽\\u200d♀️|🤽\\u200d♀️|🤽🏿\\u200d♀️|🤽🏻\\u200d♀️|🤽🏾\\u200d♀️|🤽🏼\\u200d♀️|🤽🏽\\u200d♀️|👮\\u200d♀️|👮🏿\\u200d♀️|👮🏻\\u200d♀️|👮🏾\\u200d♀️|👮🏼\\u200d♀️|👮🏽\\u200d♀️|🙎\\u200d♀️|🙎🏿\\u200d♀️|🙎🏻\\u200d♀️|🙎🏾\\u200d♀️|🙎🏼\\u200d♀️|🙎🏽\\u200d♀️|🙋\\u200d♀️|🙋🏿\\u200d♀️|🙋🏻\\u200d♀️|🙋🏾\\u200d♀️|🙋🏼\\u200d♀️|🙋🏽\\u200d♀️|👩\\u200d🦰|🚣\\u200d♀️|🚣🏿\\u200d♀️|🚣🏻\\u200d♀️|🚣🏾\\u200d♀️|🚣🏼\\u200d♀️|🚣🏽\\u200d♀️|🏃\\u200d♀️|🏃🏿\\u200d♀️|🏃🏻\\u200d♀️|🏃🏾\\u200d♀️|🏃🏼\\u200d♀️|🏃🏽\\u200d♀️|👩\\u200d🔬|👩🏿\\u200d🔬|👩🏻\\u200d🔬|👩🏾\\u200d🔬|👩🏼\\u200d🔬|👩🏽\\u200d🔬|🤷\\u200d♀️|🤷🏿\\u200d♀️|🤷🏻\\u200d♀️|🤷🏾\\u200d♀️|🤷🏼\\u200d♀️|🤷🏽\\u200d♀️|👩\\u200d🎤|👩🏿\\u200d🎤|👩🏻\\u200d🎤|👩🏾\\u200d🎤|👩🏼\\u200d🎤|👩🏽\\u200d🎤|\\U0001f9cd\\u200d♀️|\\U0001f9cd🏿\\u200d♀️|\\U0001f9cd🏻\\u200d♀️|\\U0001f9cd🏾\\u200d♀️|\\U0001f9cd🏼\\u200d♀️|\\U0001f9cd🏽\\u200d♀️|👩\\u200d🎓|👩🏿\\u200d🎓|👩🏻\\u200d🎓|👩🏾\\u200d🎓|👩🏼\\u200d🎓|👩🏽\\u200d🎓|🦸\\u200d♀️|🦸🏿\\u200d♀️|🦸🏻\\u200d♀️|🦸🏾\\u200d♀️|🦸🏼\\u200d♀️|🦸🏽\\u200d♀️|🦹\\u200d♀️|🦹🏿\\u200d♀️|🦹🏻\\u200d♀️|🦹🏾\\u200d♀️|🦹🏼\\u200d♀️|🦹🏽\\u200d♀️|🏄\\u200d♀️|🏄🏿\\u200d♀️|🏄🏻\\u200d♀️|🏄🏾\\u200d♀️|🏄🏼\\u200d♀️|🏄🏽\\u200d♀️|🏊\\u200d♀️|🏊🏿\\u200d♀️|🏊🏻\\u200d♀️|🏊🏾\\u200d♀️|🏊🏼\\u200d♀️|🏊🏽\\u200d♀️|👩\\u200d🏫|👩🏿\\u200d🏫|👩🏻\\u200d🏫|👩🏾\\u200d🏫|👩🏼\\u200d🏫|👩🏽\\u200d🏫|👩\\u200d💻|👩🏿\\u200d💻|👩🏻\\u200d💻|👩🏾\\u200d💻|👩🏼\\u200d💻|👩🏽\\u200d💻|💁\\u200d♀️|💁🏿\\u200d♀️|💁🏻\\u200d♀️|💁🏾\\u200d♀️|💁🏼\\u200d♀️|💁🏽\\u200d♀️|🧛\\u200d♀️|🧛🏿\\u200d♀️|🧛🏻\\u200d♀️|🧛🏾\\u200d♀️|🧛🏼\\u200d♀️|🧛🏽\\u200d♀️|🚶\\u200d♀️|🚶🏿\\u200d♀️|🚶🏻\\u200d♀️|🚶🏾\\u200d♀️|🚶🏼\\u200d♀️|🚶🏽\\u200d♀️|👳\\u200d♀️|👳🏿\\u200d♀️|👳🏻\\u200d♀️|👳🏾\\u200d♀️|👳🏼\\u200d♀️|👳🏽\\u200d♀️|👩\\u200d🦳|🧕|🧕🏿|🧕🏻|🧕🏾|🧕🏼|🧕🏽|👰\\u200d♀️|👰🏿\\u200d♀️|👰🏻\\u200d♀️|👰🏾\\u200d♀️|👰🏼\\u200d♀️|👰🏽\\u200d♀️|👩\\u200d\\U0001f9af|👩🏿\\u200d\\U0001f9af|👩🏻\\u200d\\U0001f9af|👩🏾\\u200d\\U0001f9af|👩🏼\\u200d\\U0001f9af|👩🏽\\u200d\\U0001f9af|🧟\\u200d♀️|👢|👚|👒|👡|👭|👭🏿|👩🏿\\u200d🤝\\u200d👩🏻|👩🏿\\u200d🤝\\u200d👩🏾|👩🏿\\u200d🤝\\u200d👩🏼|👩🏿\\u200d🤝\\u200d👩🏽|👭🏻|👩🏻\\u200d🤝\\u200d👩🏿|👩🏻\\u200d🤝\\u200d👩🏾|👩🏻\\u200d🤝\\u200d👩🏼|👩🏻\\u200d🤝\\u200d👩🏽|👭🏾|👩🏾\\u200d🤝\\u200d👩🏿|👩🏾\\u200d🤝\\u200d👩🏻|👩🏾\\u200d🤝\\u200d👩🏼|👩🏾\\u200d🤝\\u200d👩🏽|👭🏼|👩🏼\\u200d🤝\\u200d👩🏿|👩🏼\\u200d🤝\\u200d👩🏻|👩🏼\\u200d🤝\\u200d👩🏾|👩🏼\\u200d🤝\\u200d👩🏽|👭🏽|👩🏽\\u200d🤝\\u200d👩🏿|👩🏽\\u200d🤝\\u200d👩🏻|👩🏽\\u200d🤝\\u200d👩🏾|👩🏽\\u200d🤝\\u200d👩🏼|👯\\u200d♀️|🤼\\u200d♀️|🚺|\\U0001fab5|🥴|🗺|\\U0001fab1|😟|🎁|🔧|✍|✍🏿|✍🏻|✍🏾|✍🏼|✍🏽|🧶|\\U0001f971|\\U0001f7e1|💛|\\U0001f7e8|💴|☯|\\U0001fa80|🤪|🦓|🤐|🧟|💤|🇦🇽|😀|😃|😄|😁|😆|😅|🤣|😂|🙂|🙃|😉|😊|😇|🥰|😍|🤩|😘|😗|☺️|😚|😙|\\U0001f972|😋|😛|😜|🤪|😝|🤑|🤗|🤭|🤫|🤔|🤐|🤨|😐|😑|😶|😏|😒|🙄|😬|🤥|😌|😔|😪|🤤|😴|😷|🤒|🤕|🤢|🤮|🤧|🥵|🥶|🥴|😵|🤯|🤠|🥳|\\U0001f978|😎|🤓|🧐|😕|😟|🙁|☹️|😮|😯|😲|😳|🥺|😦|😧|😨|😰|😥|😢|😭|😱|😖|😣|😞|😓|😩|😫|\\U0001f971|😤|😡|😠|🤬|😈|👿|💀|☠️|💩|🤡|👹|👺|👻|👽|👾|🤖|😺|😸|😹|😻|😼|😽|🙀|😿|😾|🙈|🙉|🙊|💋|💌|💘|💝|💖|💗|💓|💞|💕|💟|❣️|💔|❤️|🧡|💛|💚|💙|💜|\\U0001f90e|🖤|\\U0001f90d|💯|💢|💥|💫|💦|💨|🕳️|💣|💬|👁️\\u200d🗨️|🗨️|🗯️|💭|💤|👋|👋🏻|👋🏼|👋🏽|👋🏾|👋🏿|🤚|🤚🏻|🤚🏼|🤚🏽|🤚🏾|🤚🏿|🖐️|🖐🏻|🖐🏼|🖐🏽|🖐🏾|🖐🏿|✋|✋🏻|✋🏼|✋🏽|✋🏾|✋🏿|🖖|🖖🏻|🖖🏼|🖖🏽|🖖🏾|🖖🏿|👌|👌🏻|👌🏼|👌🏽|👌🏾|👌🏿|\\U0001f90c|\\U0001f90c🏻|\\U0001f90c🏼|\\U0001f90c🏽|\\U0001f90c🏾|\\U0001f90c🏿|\\U0001f90f|\\U0001f90f🏻|\\U0001f90f🏼|\\U0001f90f🏽|\\U0001f90f🏾|\\U0001f90f🏿|✌|✌️|✌🏻|✌🏼|✌🏽|✌🏾|✌🏿|🤞|🤞🏻|🤞🏼|🤞🏽|🤞🏾|🤞🏿|🤟|🤟🏻|🤟🏼|🤟🏽|🤟🏾|🤟🏿|🤘|🤘🏻|🤘🏼|🤘🏽|🤘🏾|🤘🏿|🤙|🤙🏻|🤙🏼|🤙🏽|🤙🏾|🤙🏿|👈|👈🏻|👈🏼|👈🏽|👈🏾|👈🏿|👉|👉🏻|👉🏼|👉🏽|👉🏾|👉🏿|👆|👆🏻|👆🏼|👆🏽|👆🏾|👆🏿|🖕|🖕🏻|🖕🏼|🖕🏽|🖕🏾|🖕🏿|👇|👇🏻|👇🏼|👇🏽|👇🏾|👇🏿|☝|☝️|☝🏻|☝🏼|☝🏽|☝🏾|☝🏿|👍|👍🏻|👍🏼|👍🏽|👍🏾|👍🏿|👎|👎🏻|👎🏼|👎🏽|👎🏾|👎🏿|✊|✊🏻|✊🏼|✊🏽|✊🏾|✊🏿|👊|👊🏻|👊🏼|👊🏽|👊🏾|👊🏿|🤛|🤛🏻|🤛🏼|🤛🏽|🤛🏾|🤛🏿|🤜|🤜🏻|🤜🏼|🤜🏽|🤜🏾|🤜🏿|👏|👏🏻|👏🏼|👏🏽|👏🏾|👏🏿|🙌|🙌🏻|🙌🏼|🙌🏽|🙌🏾|🙌🏿|👐|👐🏻|👐🏼|👐🏽|👐🏾|👐🏿|🤲|🤲🏻|🤲🏼|🤲🏽|🤲🏾|🤲🏿|🤝|🙏|🙏🏻|🙏🏼|🙏🏽|🙏🏾|🙏🏿|✍️|✍🏻|✍🏼|✍🏽|✍🏾|✍🏿|💅|💅🏻|💅🏼|💅🏽|💅🏾|💅🏿|🤳|🤳🏻|🤳🏼|🤳🏽|🤳🏾|🤳🏿|💪|💪🏻|💪🏼|💪🏽|💪🏾|💪🏿|\\U0001f9be|\\U0001f9bf|🦵|🦵🏻|🦵🏼|🦵🏽|🦵🏾|🦵🏿|🦶|🦶🏻|🦶🏼|🦶🏽|🦶🏾|🦶🏿|👂|👂🏻|👂🏼|👂🏽|👂🏾|👂🏿|\\U0001f9bb|\\U0001f9bb🏻|\\U0001f9bb🏼|\\U0001f9bb🏽|\\U0001f9bb🏾|\\U0001f9bb🏿|👃|👃🏻|👃🏼|👃🏽|👃🏾|👃🏿|🧠|\\U0001fac0|\\U0001fac1|🦷|🦴|👀|👁️|👅|👄|👶|👶🏻|👶🏼|👶🏽|👶🏾|👶🏿|🧒|🧒🏻|🧒🏼|🧒🏽|🧒🏾|🧒🏿|👦|👦🏻|👦🏼|👦🏽|👦🏾|👦🏿|👧|👧🏻|👧🏼|👧🏽|👧🏾|👧🏿|🧑|🧑🏻|🧑🏼|🧑🏽|🧑🏾|🧑🏿|👱|👱🏻|👱🏼|👱🏽|👱🏾|👱🏿|👨|👨🏻|👨🏼|👨🏽|👨🏾|👨🏿|🧔|🧔🏻|🧔🏼|🧔🏽|🧔🏾|🧔🏿|👨\\u200d🦰|👨🏻\\u200d🦰|👨🏼\\u200d🦰|👨🏽\\u200d🦰|👨🏾\\u200d🦰|👨🏿\\u200d🦰|👨\\u200d🦱|👨🏻\\u200d🦱|👨🏼\\u200d🦱|👨🏽\\u200d🦱|👨🏾\\u200d🦱|👨🏿\\u200d🦱|👨\\u200d🦳|👨🏻\\u200d🦳|👨🏼\\u200d🦳|👨🏽\\u200d🦳|👨🏾\\u200d🦳|👨🏿\\u200d🦳|👨\\u200d🦲|👨🏻\\u200d🦲|👨🏼\\u200d🦲|👨🏽\\u200d🦲|👨🏾\\u200d🦲|👨🏿\\u200d🦲|👩|👩🏻|👩🏼|👩🏽|👩🏾|👩🏿|👩\\u200d🦰|👩🏻\\u200d🦰|👩🏼\\u200d🦰|👩🏽\\u200d🦰|👩🏾\\u200d🦰|👩🏿\\u200d🦰|🧑\\u200d🦰|🧑🏻\\u200d🦰|🧑🏼\\u200d🦰|🧑🏽\\u200d🦰|🧑🏾\\u200d🦰|🧑🏿\\u200d🦰|👩\\u200d🦱|👩🏻\\u200d🦱|👩🏼\\u200d🦱|👩🏽\\u200d🦱|👩🏾\\u200d🦱|👩🏿\\u200d🦱|🧑\\u200d🦱|🧑🏻\\u200d🦱|🧑🏼\\u200d🦱|🧑🏽\\u200d🦱|🧑🏾\\u200d🦱|🧑🏿\\u200d🦱|👩\\u200d🦳|👩🏻\\u200d🦳|👩🏼\\u200d🦳|👩🏽\\u200d🦳|👩🏾\\u200d🦳|👩🏿\\u200d🦳|🧑\\u200d🦳|🧑🏻\\u200d🦳|🧑🏼\\u200d🦳|🧑🏽\\u200d🦳|🧑🏾\\u200d🦳|🧑🏿\\u200d🦳|👩\\u200d🦲|👩🏻\\u200d🦲|👩🏼\\u200d🦲|👩🏽\\u200d🦲|👩🏾\\u200d🦲|👩🏿\\u200d🦲|🧑\\u200d🦲|🧑🏻\\u200d🦲|🧑🏼\\u200d🦲|🧑🏽\\u200d🦲|🧑🏾\\u200d🦲|🧑🏿\\u200d🦲|👱\\u200d♀️|👱🏻\\u200d♀️|👱🏼\\u200d♀️|👱🏽\\u200d♀️|👱🏾\\u200d♀️|👱🏿\\u200d♀️|👱\\u200d♂️|👱🏻\\u200d♂️|👱🏼\\u200d♂️|👱🏽\\u200d♂️|👱🏾\\u200d♂️|👱🏿\\u200d♂️|🧓|🧓🏻|🧓🏼|🧓🏽|🧓🏾|🧓🏿|👴|👴🏻|👴🏼|👴🏽|👴🏾|👴🏿|👵|👵🏻|👵🏼|👵🏽|👵🏾|👵🏿|🙍|🙍🏻|🙍🏼|🙍🏽|🙍🏾|🙍🏿|🙍\\u200d♂️|🙍🏻\\u200d♂️|🙍🏼\\u200d♂️|🙍🏽\\u200d♂️|🙍🏾\\u200d♂️|🙍🏿\\u200d♂️|🙍\\u200d♀️|🙍🏻\\u200d♀️|🙍🏼\\u200d♀️|🙍🏽\\u200d♀️|🙍🏾\\u200d♀️|🙍🏿\\u200d♀️|🙎|🙎🏻|🙎🏼|🙎🏽|🙎🏾|🙎🏿|🙎\\u200d♂️|🙎🏻\\u200d♂️|🙎🏼\\u200d♂️|🙎🏽\\u200d♂️|🙎🏾\\u200d♂️|🙎🏿\\u200d♂️|🙎\\u200d♀️|🙎🏻\\u200d♀️|🙎🏼\\u200d♀️|🙎🏽\\u200d♀️|🙎🏾\\u200d♀️|🙎🏿\\u200d♀️|🙅|🙅🏻|🙅🏼|🙅🏽|🙅🏾|🙅🏿|🙅\\u200d♂️|🙅🏻\\u200d♂️|🙅🏼\\u200d♂️|🙅🏽\\u200d♂️|🙅🏾\\u200d♂️|🙅🏿\\u200d♂️|🙅\\u200d♀️|🙅🏻\\u200d♀️|🙅🏼\\u200d♀️|🙅🏽\\u200d♀️|🙅🏾\\u200d♀️|🙅🏿\\u200d♀️|🙆|🙆🏻|🙆🏼|🙆🏽|🙆🏾|🙆🏿|🙆\\u200d♂️|🙆🏻\\u200d♂️|🙆🏼\\u200d♂️|🙆🏽\\u200d♂️|🙆🏾\\u200d♂️|🙆🏿\\u200d♂️|🙆\\u200d♀️|🙆🏻\\u200d♀️|🙆🏼\\u200d♀️|🙆🏽\\u200d♀️|🙆🏾\\u200d♀️|🙆🏿\\u200d♀️|💁|💁🏻|💁🏼|💁🏽|💁🏾|💁🏿|💁\\u200d♂️|💁🏻\\u200d♂️|💁🏼\\u200d♂️|💁🏽\\u200d♂️|💁🏾\\u200d♂️|💁🏿\\u200d♂️|💁\\u200d♀️|💁🏻\\u200d♀️|💁🏼\\u200d♀️|💁🏽\\u200d♀️|💁🏾\\u200d♀️|💁🏿\\u200d♀️|🙋|🙋🏻|🙋🏼|🙋🏽|🙋🏾|🙋🏿|🙋\\u200d♂️|🙋🏻\\u200d♂️|🙋🏼\\u200d♂️|🙋🏽\\u200d♂️|🙋🏾\\u200d♂️|🙋🏿\\u200d♂️|🙋\\u200d♀️|🙋🏻\\u200d♀️|🙋🏼\\u200d♀️|🙋🏽\\u200d♀️|🙋🏾\\u200d♀️|🙋🏿\\u200d♀️|\\U0001f9cf|\\U0001f9cf🏻|\\U0001f9cf🏼|\\U0001f9cf🏽|\\U0001f9cf🏾|\\U0001f9cf🏿|\\U0001f9cf\\u200d♂️|\\U0001f9cf🏻\\u200d♂️|\\U0001f9cf🏼\\u200d♂️|\\U0001f9cf🏽\\u200d♂️|\\U0001f9cf🏾\\u200d♂️|\\U0001f9cf🏿\\u200d♂️|\\U0001f9cf\\u200d♀️|\\U0001f9cf🏻\\u200d♀️|\\U0001f9cf🏼\\u200d♀️|\\U0001f9cf🏽\\u200d♀️|\\U0001f9cf🏾\\u200d♀️|\\U0001f9cf🏿\\u200d♀️|🙇|🙇🏻|🙇🏼|🙇🏽|🙇🏾|🙇🏿|🙇\\u200d♂️|🙇🏻\\u200d♂️|🙇🏼\\u200d♂️|🙇🏽\\u200d♂️|🙇🏾\\u200d♂️|🙇🏿\\u200d♂️|🙇\\u200d♀️|🙇🏻\\u200d♀️|🙇🏼\\u200d♀️|🙇🏽\\u200d♀️|🙇🏾\\u200d♀️|🙇🏿\\u200d♀️|🤦|🤦🏻|🤦🏼|🤦🏽|🤦🏾|🤦🏿|🤦\\u200d♂️|🤦🏻\\u200d♂️|🤦🏼\\u200d♂️|🤦🏽\\u200d♂️|🤦🏾\\u200d♂️|🤦🏿\\u200d♂️|🤦\\u200d♀️|🤦🏻\\u200d♀️|🤦🏼\\u200d♀️|🤦🏽\\u200d♀️|🤦🏾\\u200d♀️|🤦🏿\\u200d♀️|🤷|🤷🏻|🤷🏼|🤷🏽|🤷🏾|🤷🏿|🤷\\u200d♂️|🤷🏻\\u200d♂️|🤷🏼\\u200d♂️|🤷🏽\\u200d♂️|🤷🏾\\u200d♂️|🤷🏿\\u200d♂️|🤷\\u200d♀️|🤷🏻\\u200d♀️|🤷🏼\\u200d♀️|🤷🏽\\u200d♀️|🤷🏾\\u200d♀️|🤷🏿\\u200d♀️|🧑\\u200d⚕️|🧑🏻\\u200d⚕️|🧑🏼\\u200d⚕️|🧑🏽\\u200d⚕️|🧑🏾\\u200d⚕️|🧑🏿\\u200d⚕️|👨\\u200d⚕️|👨🏻\\u200d⚕️|👨🏼\\u200d⚕️|👨🏽\\u200d⚕️|👨🏾\\u200d⚕️|👨🏿\\u200d⚕️|👩\\u200d⚕️|👩🏻\\u200d⚕️|👩🏼\\u200d⚕️|👩🏽\\u200d⚕️|👩🏾\\u200d⚕️|👩🏿\\u200d⚕️|🧑\\u200d🎓|🧑🏻\\u200d🎓|🧑🏼\\u200d🎓|🧑🏽\\u200d🎓|🧑🏾\\u200d🎓|🧑🏿\\u200d🎓|👨\\u200d🎓|👨🏻\\u200d🎓|👨🏼\\u200d🎓|👨🏽\\u200d🎓|👨🏾\\u200d🎓|👨🏿\\u200d🎓|👩\\u200d🎓|👩🏻\\u200d🎓|👩🏼\\u200d🎓|👩🏽\\u200d🎓|👩🏾\\u200d🎓|👩🏿\\u200d🎓|🧑\\u200d🏫|🧑🏻\\u200d🏫|🧑🏼\\u200d🏫|🧑🏽\\u200d🏫|🧑🏾\\u200d🏫|🧑🏿\\u200d🏫|👨\\u200d🏫|👨🏻\\u200d🏫|👨🏼\\u200d🏫|👨🏽\\u200d🏫|👨🏾\\u200d🏫|👨🏿\\u200d🏫|👩\\u200d🏫|👩🏻\\u200d🏫|👩🏼\\u200d🏫|👩🏽\\u200d🏫|👩🏾\\u200d🏫|👩🏿\\u200d🏫|🧑\\u200d⚖️|🧑🏻\\u200d⚖️|🧑🏼\\u200d⚖️|🧑🏽\\u200d⚖️|🧑🏾\\u200d⚖️|🧑🏿\\u200d⚖️|👨\\u200d⚖️|👨🏻\\u200d⚖️|👨🏼\\u200d⚖️|👨🏽\\u200d⚖️|👨🏾\\u200d⚖️|👨🏿\\u200d⚖️|👩\\u200d⚖️|👩🏻\\u200d⚖️|👩🏼\\u200d⚖️|👩🏽\\u200d⚖️|👩🏾\\u200d⚖️|👩🏿\\u200d⚖️|🧑\\u200d🌾|🧑🏻\\u200d🌾|🧑🏼\\u200d🌾|🧑🏽\\u200d🌾|🧑🏾\\u200d🌾|🧑🏿\\u200d🌾|👨\\u200d🌾|👨🏻\\u200d🌾|👨🏼\\u200d🌾|👨🏽\\u200d🌾|👨🏾\\u200d🌾|👨🏿\\u200d🌾|👩\\u200d🌾|👩🏻\\u200d🌾|👩🏼\\u200d🌾|👩🏽\\u200d🌾|👩🏾\\u200d🌾|👩🏿\\u200d🌾|🧑\\u200d🍳|🧑🏻\\u200d🍳|🧑🏼\\u200d🍳|🧑🏽\\u200d🍳|🧑🏾\\u200d🍳|🧑🏿\\u200d🍳|👨\\u200d🍳|👨🏻\\u200d🍳|👨🏼\\u200d🍳|👨🏽\\u200d🍳|👨🏾\\u200d🍳|👨🏿\\u200d🍳|👩\\u200d🍳|👩🏻\\u200d🍳|👩🏼\\u200d🍳|👩🏽\\u200d🍳|👩🏾\\u200d🍳|👩🏿\\u200d🍳|🧑\\u200d🔧|🧑🏻\\u200d🔧|🧑🏼\\u200d🔧|🧑🏽\\u200d🔧|🧑🏾\\u200d🔧|🧑🏿\\u200d🔧|👨\\u200d🔧|👨🏻\\u200d🔧|👨🏼\\u200d🔧|👨🏽\\u200d🔧|👨🏾\\u200d🔧|👨🏿\\u200d🔧|👩\\u200d🔧|👩🏻\\u200d🔧|👩🏼\\u200d🔧|👩🏽\\u200d🔧|👩🏾\\u200d🔧|👩🏿\\u200d🔧|🧑\\u200d🏭|🧑🏻\\u200d🏭|🧑🏼\\u200d🏭|🧑🏽\\u200d🏭|🧑🏾\\u200d🏭|🧑🏿\\u200d🏭|👨\\u200d🏭|👨🏻\\u200d🏭|👨🏼\\u200d🏭|👨🏽\\u200d🏭|👨🏾\\u200d🏭|👨🏿\\u200d🏭|👩\\u200d🏭|👩🏻\\u200d🏭|👩🏼\\u200d🏭|👩🏽\\u200d🏭|👩🏾\\u200d🏭|👩🏿\\u200d🏭|🧑\\u200d💼|🧑🏻\\u200d💼|🧑🏼\\u200d💼|🧑🏽\\u200d💼|🧑🏾\\u200d💼|🧑🏿\\u200d💼|👨\\u200d💼|👨🏻\\u200d💼|👨🏼\\u200d💼|👨🏽\\u200d💼|👨🏾\\u200d💼|👨🏿\\u200d💼|👩\\u200d💼|👩🏻\\u200d💼|👩🏼\\u200d💼|👩🏽\\u200d💼|👩🏾\\u200d💼|👩🏿\\u200d💼|🧑\\u200d🔬|🧑🏻\\u200d🔬|🧑🏼\\u200d🔬|🧑🏽\\u200d🔬|🧑🏾\\u200d🔬|🧑🏿\\u200d🔬|👨\\u200d🔬|👨🏻\\u200d🔬|👨🏼\\u200d🔬|👨🏽\\u200d🔬|👨🏾\\u200d🔬|👨🏿\\u200d🔬|👩\\u200d🔬|👩🏻\\u200d🔬|👩🏼\\u200d🔬|👩🏽\\u200d🔬|👩🏾\\u200d🔬|👩🏿\\u200d🔬|🧑\\u200d💻|🧑🏻\\u200d💻|🧑🏼\\u200d💻|🧑🏽\\u200d💻|🧑🏾\\u200d💻|🧑🏿\\u200d💻|👨\\u200d💻|👨🏻\\u200d💻|👨🏼\\u200d💻|👨🏽\\u200d💻|👨🏾\\u200d💻|👨🏿\\u200d💻|👩\\u200d💻|👩🏻\\u200d💻|👩🏼\\u200d💻|👩🏽\\u200d💻|👩🏾\\u200d💻|👩🏿\\u200d💻|🧑\\u200d🎤|🧑🏻\\u200d🎤|🧑🏼\\u200d🎤|🧑🏽\\u200d🎤|🧑🏾\\u200d🎤|🧑🏿\\u200d🎤|👨\\u200d🎤|👨🏻\\u200d🎤|👨🏼\\u200d🎤|👨🏽\\u200d🎤|👨🏾\\u200d🎤|👨🏿\\u200d🎤|👩\\u200d🎤|👩🏻\\u200d🎤|👩🏼\\u200d🎤|👩🏽\\u200d🎤|👩🏾\\u200d🎤|👩🏿\\u200d🎤|🧑\\u200d🎨|🧑🏻\\u200d🎨|🧑🏼\\u200d🎨|🧑🏽\\u200d🎨|🧑🏾\\u200d🎨|🧑🏿\\u200d🎨|👨\\u200d🎨|👨🏻\\u200d🎨|👨🏼\\u200d🎨|👨🏽\\u200d🎨|👨🏾\\u200d🎨|👨🏿\\u200d🎨|👩\\u200d🎨|👩🏻\\u200d🎨|👩🏼\\u200d🎨|👩🏽\\u200d🎨|👩🏾\\u200d🎨|👩🏿\\u200d🎨|🧑\\u200d✈️|🧑🏻\\u200d✈️|🧑🏼\\u200d✈️|🧑🏽\\u200d✈️|🧑🏾\\u200d✈️|🧑🏿\\u200d✈️|👨\\u200d✈️|👨🏻\\u200d✈️|👨🏼\\u200d✈️|👨🏽\\u200d✈️|👨🏾\\u200d✈️|👨🏿\\u200d✈️|👩\\u200d✈️|👩🏻\\u200d✈️|👩🏼\\u200d✈️|👩🏽\\u200d✈️|👩🏾\\u200d✈️|👩🏿\\u200d✈️|🧑\\u200d🚀|🧑🏻\\u200d🚀|🧑🏼\\u200d🚀|🧑🏽\\u200d🚀|🧑🏾\\u200d🚀|🧑🏿\\u200d🚀|👨\\u200d🚀|👨🏻\\u200d🚀|👨🏼\\u200d🚀|👨🏽\\u200d🚀|👨🏾\\u200d🚀|👨🏿\\u200d🚀|👩\\u200d🚀|👩🏻\\u200d🚀|👩🏼\\u200d🚀|👩🏽\\u200d🚀|👩🏾\\u200d🚀|👩🏿\\u200d🚀|🧑\\u200d🚒|🧑🏻\\u200d🚒|🧑🏼\\u200d🚒|🧑🏽\\u200d🚒|🧑🏾\\u200d🚒|🧑🏿\\u200d🚒|👨\\u200d🚒|👨🏻\\u200d🚒|👨🏼\\u200d🚒|👨🏽\\u200d🚒|👨🏾\\u200d🚒|👨🏿\\u200d🚒|👩\\u200d🚒|👩🏻\\u200d🚒|👩🏼\\u200d🚒|👩🏽\\u200d🚒|👩🏾\\u200d🚒|👩🏿\\u200d🚒|👮|👮🏻|👮🏼|👮🏽|👮🏾|👮🏿|👮\\u200d♂️|👮🏻\\u200d♂️|👮🏼\\u200d♂️|👮🏽\\u200d♂️|👮🏾\\u200d♂️|👮🏿\\u200d♂️|👮\\u200d♀️|👮🏻\\u200d♀️|👮🏼\\u200d♀️|👮🏽\\u200d♀️|👮🏾\\u200d♀️|👮🏿\\u200d♀️|🕵️|🕵🏻|🕵🏼|🕵🏽|🕵🏾|🕵🏿|🕵️\\u200d♂️|🕵🏻\\u200d♂️|🕵🏼\\u200d♂️|🕵🏽\\u200d♂️|🕵🏾\\u200d♂️|🕵🏿\\u200d♂️|🕵️\\u200d♀️|🕵🏻\\u200d♀️|🕵🏼\\u200d♀️|🕵🏽\\u200d♀️|🕵🏾\\u200d♀️|🕵🏿\\u200d♀️|💂|💂🏻|💂🏼|💂🏽|💂🏾|💂🏿|💂\\u200d♂️|💂🏻\\u200d♂️|💂🏼\\u200d♂️|💂🏽\\u200d♂️|💂🏾\\u200d♂️|💂🏿\\u200d♂️|💂\\u200d♀️|💂🏻\\u200d♀️|💂🏼\\u200d♀️|💂🏽\\u200d♀️|💂🏾\\u200d♀️|💂🏿\\u200d♀️|\\U0001f977|\\U0001f977🏻|\\U0001f977🏼|\\U0001f977🏽|\\U0001f977🏾|\\U0001f977🏿|👷|👷🏻|👷🏼|👷🏽|👷🏾|👷🏿|👷\\u200d♂️|👷🏻\\u200d♂️|👷🏼\\u200d♂️|👷🏽\\u200d♂️|👷🏾\\u200d♂️|👷🏿\\u200d♂️|👷\\u200d♀️|👷🏻\\u200d♀️|👷🏼\\u200d♀️|👷🏽\\u200d♀️|👷🏾\\u200d♀️|👷🏿\\u200d♀️|🤴|🤴🏻|🤴🏼|🤴🏽|🤴🏾|🤴🏿|👸|👸🏻|👸🏼|👸🏽|👸🏾|👸🏿|👳|👳🏻|👳🏼|👳🏽|👳🏾|👳🏿|👳\\u200d♂️|👳🏻\\u200d♂️|👳🏼\\u200d♂️|👳🏽\\u200d♂️|👳🏾\\u200d♂️|👳🏿\\u200d♂️|👳\\u200d♀️|👳🏻\\u200d♀️|👳🏼\\u200d♀️|👳🏽\\u200d♀️|👳🏾\\u200d♀️|👳🏿\\u200d♀️|👲|👲🏻|👲🏼|👲🏽|👲🏾|👲🏿|🧕|🧕🏻|🧕🏼|🧕🏽|🧕🏾|🧕🏿|🤵|🤵🏻|🤵🏼|🤵🏽|🤵🏾|🤵🏿|🤵\\u200d♂️|🤵🏻\\u200d♂️|🤵🏼\\u200d♂️|🤵🏽\\u200d♂️|🤵🏾\\u200d♂️|🤵🏿\\u200d♂️|🤵\\u200d♀️|🤵🏻\\u200d♀️|🤵🏼\\u200d♀️|🤵🏽\\u200d♀️|🤵🏾\\u200d♀️|🤵🏿\\u200d♀️|👰|👰🏻|👰🏼|👰🏽|👰🏾|👰🏿|👰\\u200d♂️|👰🏻\\u200d♂️|👰🏼\\u200d♂️|👰🏽\\u200d♂️|👰🏾\\u200d♂️|👰🏿\\u200d♂️|👰\\u200d♀️|👰🏻\\u200d♀️|👰🏼\\u200d♀️|👰🏽\\u200d♀️|👰🏾\\u200d♀️|👰🏿\\u200d♀️|🤰|🤰🏻|🤰🏼|🤰🏽|🤰🏾|🤰🏿|🤱|🤱🏻|🤱🏼|🤱🏽|🤱🏾|🤱🏿|👩\\u200d🍼|👩🏻\\u200d🍼|👩🏼\\u200d🍼|👩🏽\\u200d🍼|👩🏾\\u200d🍼|👩🏿\\u200d🍼|👨\\u200d🍼|👨🏻\\u200d🍼|👨🏼\\u200d🍼|👨🏽\\u200d🍼|👨🏾\\u200d🍼|👨🏿\\u200d🍼|🧑\\u200d🍼|🧑🏻\\u200d🍼|🧑🏼\\u200d🍼|🧑🏽\\u200d🍼|🧑🏾\\u200d🍼|🧑🏿\\u200d🍼|👼|👼🏻|👼🏼|👼🏽|👼🏾|👼🏿|🎅|🎅🏻|🎅🏼|🎅🏽|🎅🏾|🎅🏿|🤶|🤶🏻|🤶🏼|🤶🏽|🤶🏾|🤶🏿|🧑\\u200d🎄|🧑🏻\\u200d🎄|🧑🏼\\u200d🎄|🧑🏽\\u200d🎄|🧑🏾\\u200d🎄|🧑🏿\\u200d🎄|🦸|🦸🏻|🦸🏼|🦸🏽|🦸🏾|🦸🏿|🦸\\u200d♂️|🦸🏻\\u200d♂️|🦸🏼\\u200d♂️|🦸🏽\\u200d♂️|🦸🏾\\u200d♂️|🦸🏿\\u200d♂️|🦸\\u200d♀️|🦸🏻\\u200d♀️|🦸🏼\\u200d♀️|🦸🏽\\u200d♀️|🦸🏾\\u200d♀️|🦸🏿\\u200d♀️|🦹|🦹🏻|🦹🏼|🦹🏽|🦹🏾|🦹🏿|🦹\\u200d♂️|🦹🏻\\u200d♂️|🦹🏼\\u200d♂️|🦹🏽\\u200d♂️|🦹🏾\\u200d♂️|🦹🏿\\u200d♂️|🦹\\u200d♀️|🦹🏻\\u200d♀️|🦹🏼\\u200d♀️|🦹🏽\\u200d♀️|🦹🏾\\u200d♀️|🦹🏿\\u200d♀️|🧙|🧙🏻|🧙🏼|🧙🏽|🧙🏾|🧙🏿|🧙\\u200d♂️|🧙🏻\\u200d♂️|🧙🏼\\u200d♂️|🧙🏽\\u200d♂️|🧙🏾\\u200d♂️|🧙🏿\\u200d♂️|🧙\\u200d♀️|🧙🏻\\u200d♀️|🧙🏼\\u200d♀️|🧙🏽\\u200d♀️|🧙🏾\\u200d♀️|🧙🏿\\u200d♀️|🧚|🧚🏻|🧚🏼|🧚🏽|🧚🏾|🧚🏿|🧚\\u200d♂️|🧚🏻\\u200d♂️|🧚🏼\\u200d♂️|🧚🏽\\u200d♂️|🧚🏾\\u200d♂️|🧚🏿\\u200d♂️|🧚\\u200d♀️|🧚🏻\\u200d♀️|🧚🏼\\u200d♀️|🧚🏽\\u200d♀️|🧚🏾\\u200d♀️|🧚🏿\\u200d♀️|🧛|🧛🏻|🧛🏼|🧛🏽|🧛🏾|🧛🏿|🧛\\u200d♂️|🧛🏻\\u200d♂️|🧛🏼\\u200d♂️|🧛🏽\\u200d♂️|🧛🏾\\u200d♂️|🧛🏿\\u200d♂️|🧛\\u200d♀️|🧛🏻\\u200d♀️|🧛🏼\\u200d♀️|🧛🏽\\u200d♀️|🧛🏾\\u200d♀️|🧛🏿\\u200d♀️|🧜|🧜🏻|🧜🏼|🧜🏽|🧜🏾|🧜🏿|🧜\\u200d♂️|🧜🏻\\u200d♂️|🧜🏼\\u200d♂️|🧜🏽\\u200d♂️|🧜🏾\\u200d♂️|🧜🏿\\u200d♂️|🧜\\u200d♀️|🧜🏻\\u200d♀️|🧜🏼\\u200d♀️|🧜🏽\\u200d♀️|🧜🏾\\u200d♀️|🧜🏿\\u200d♀️|🧝|🧝🏻|🧝🏼|🧝🏽|🧝🏾|🧝🏿|🧝\\u200d♂️|🧝🏻\\u200d♂️|🧝🏼\\u200d♂️|🧝🏽\\u200d♂️|🧝🏾\\u200d♂️|🧝🏿\\u200d♂️|🧝\\u200d♀️|🧝🏻\\u200d♀️|🧝🏼\\u200d♀️|🧝🏽\\u200d♀️|🧝🏾\\u200d♀️|🧝🏿\\u200d♀️|🧞|🧞\\u200d♂️|🧞\\u200d♀️|🧟|🧟\\u200d♂️|🧟\\u200d♀️|💆|💆🏻|💆🏼|💆🏽|💆🏾|💆🏿|💆\\u200d♂️|💆🏻\\u200d♂️|💆🏼\\u200d♂️|💆🏽\\u200d♂️|💆🏾\\u200d♂️|💆🏿\\u200d♂️|💆\\u200d♀️|💆🏻\\u200d♀️|💆🏼\\u200d♀️|💆🏽\\u200d♀️|💆🏾\\u200d♀️|💆🏿\\u200d♀️|💇|💇🏻|💇🏼|💇🏽|💇🏾|💇🏿|💇\\u200d♂️|💇🏻\\u200d♂️|💇🏼\\u200d♂️|💇🏽\\u200d♂️|💇🏾\\u200d♂️|💇🏿\\u200d♂️|💇\\u200d♀️|💇🏻\\u200d♀️|💇🏼\\u200d♀️|💇🏽\\u200d♀️|💇🏾\\u200d♀️|💇🏿\\u200d♀️|🚶|🚶🏻|🚶🏼|🚶🏽|🚶🏾|🚶🏿|🚶\\u200d♂️|🚶🏻\\u200d♂️|🚶🏼\\u200d♂️|🚶🏽\\u200d♂️|🚶🏾\\u200d♂️|🚶🏿\\u200d♂️|🚶\\u200d♀️|🚶🏻\\u200d♀️|🚶🏼\\u200d♀️|🚶🏽\\u200d♀️|🚶🏾\\u200d♀️|🚶🏿\\u200d♀️|\\U0001f9cd|\\U0001f9cd🏻|\\U0001f9cd🏼|\\U0001f9cd🏽|\\U0001f9cd🏾|\\U0001f9cd🏿|\\U0001f9cd\\u200d♂️|\\U0001f9cd🏻\\u200d♂️|\\U0001f9cd🏼\\u200d♂️|\\U0001f9cd🏽\\u200d♂️|\\U0001f9cd🏾\\u200d♂️|\\U0001f9cd🏿\\u200d♂️|\\U0001f9cd\\u200d♀️|\\U0001f9cd🏻\\u200d♀️|\\U0001f9cd🏼\\u200d♀️|\\U0001f9cd🏽\\u200d♀️|\\U0001f9cd🏾\\u200d♀️|\\U0001f9cd🏿\\u200d♀️|\\U0001f9ce|\\U0001f9ce🏻|\\U0001f9ce🏼|\\U0001f9ce🏽|\\U0001f9ce🏾|\\U0001f9ce🏿|\\U0001f9ce\\u200d♂️|\\U0001f9ce🏻\\u200d♂️|\\U0001f9ce🏼\\u200d♂️|\\U0001f9ce🏽\\u200d♂️|\\U0001f9ce🏾\\u200d♂️|\\U0001f9ce🏿\\u200d♂️|\\U0001f9ce\\u200d♀️|\\U0001f9ce🏻\\u200d♀️|\\U0001f9ce🏼\\u200d♀️|\\U0001f9ce🏽\\u200d♀️|\\U0001f9ce🏾\\u200d♀️|\\U0001f9ce🏿\\u200d♀️|🧑\\u200d\\U0001f9af|🧑🏻\\u200d\\U0001f9af|🧑🏼\\u200d\\U0001f9af|🧑🏽\\u200d\\U0001f9af|🧑🏾\\u200d\\U0001f9af|🧑🏿\\u200d\\U0001f9af|👨\\u200d\\U0001f9af|👨🏻\\u200d\\U0001f9af|👨🏼\\u200d\\U0001f9af|👨🏽\\u200d\\U0001f9af|👨🏾\\u200d\\U0001f9af|👨🏿\\u200d\\U0001f9af|👩\\u200d\\U0001f9af|👩🏻\\u200d\\U0001f9af|👩🏼\\u200d\\U0001f9af|👩🏽\\u200d\\U0001f9af|👩🏾\\u200d\\U0001f9af|👩🏿\\u200d\\U0001f9af|🧑\\u200d\\U0001f9bc|🧑🏻\\u200d\\U0001f9bc|🧑🏼\\u200d\\U0001f9bc|🧑🏽\\u200d\\U0001f9bc|🧑🏾\\u200d\\U0001f9bc|🧑🏿\\u200d\\U0001f9bc|👨\\u200d\\U0001f9bc|👨🏻\\u200d\\U0001f9bc|👨🏼\\u200d\\U0001f9bc|👨🏽\\u200d\\U0001f9bc|👨🏾\\u200d\\U0001f9bc|👨🏿\\u200d\\U0001f9bc|👩\\u200d\\U0001f9bc|👩🏻\\u200d\\U0001f9bc|👩🏼\\u200d\\U0001f9bc|👩🏽\\u200d\\U0001f9bc|👩🏾\\u200d\\U0001f9bc|👩🏿\\u200d\\U0001f9bc|🧑\\u200d\\U0001f9bd|🧑🏻\\u200d\\U0001f9bd|🧑🏼\\u200d\\U0001f9bd|🧑🏽\\u200d\\U0001f9bd|🧑🏾\\u200d\\U0001f9bd|🧑🏿\\u200d\\U0001f9bd|👨\\u200d\\U0001f9bd|👨🏻\\u200d\\U0001f9bd|👨🏼\\u200d\\U0001f9bd|👨🏽\\u200d\\U0001f9bd|👨🏾\\u200d\\U0001f9bd|👨🏿\\u200d\\U0001f9bd|👩\\u200d\\U0001f9bd|👩🏻\\u200d\\U0001f9bd|👩🏼\\u200d\\U0001f9bd|👩🏽\\u200d\\U0001f9bd|👩🏾\\u200d\\U0001f9bd|👩🏿\\u200d\\U0001f9bd|🏃|🏃🏻|🏃🏼|🏃🏽|🏃🏾|🏃🏿|🏃\\u200d♂️|🏃🏻\\u200d♂️|🏃🏼\\u200d♂️|🏃🏽\\u200d♂️|🏃🏾\\u200d♂️|🏃🏿\\u200d♂️|🏃\\u200d♀️|🏃🏻\\u200d♀️|🏃🏼\\u200d♀️|🏃🏽\\u200d♀️|🏃🏾\\u200d♀️|🏃🏿\\u200d♀️|💃|💃🏻|💃🏼|💃🏽|💃🏾|💃🏿|🕺|🕺🏻|🕺🏼|🕺🏽|🕺🏾|🕺🏿|🕴️|🕴🏻|🕴🏼|🕴🏽|🕴🏾|🕴🏿|👯|👯\\u200d♂️|👯\\u200d♀️|🧖|🧖🏻|🧖🏼|🧖🏽|🧖🏾|🧖🏿|🧖\\u200d♂️|🧖🏻\\u200d♂️|🧖🏼\\u200d♂️|🧖🏽\\u200d♂️|🧖🏾\\u200d♂️|🧖🏿\\u200d♂️|🧖\\u200d♀️|🧖🏻\\u200d♀️|🧖🏼\\u200d♀️|🧖🏽\\u200d♀️|🧖🏾\\u200d♀️|🧖🏿\\u200d♀️|🧗|🧗🏻|🧗🏼|🧗🏽|🧗🏾|🧗🏿|🧗\\u200d♂️|🧗🏻\\u200d♂️|🧗🏼\\u200d♂️|🧗🏽\\u200d♂️|🧗🏾\\u200d♂️|🧗🏿\\u200d♂️|🧗\\u200d♀️|🧗🏻\\u200d♀️|🧗🏼\\u200d♀️|🧗🏽\\u200d♀️|🧗🏾\\u200d♀️|🧗🏿\\u200d♀️|🤺|🏇|🏇🏻|🏇🏼|🏇🏽|🏇🏾|🏇🏿|⛷️|🏂|🏂🏻|🏂🏼|🏂🏽|🏂🏾|🏂🏿|🏌️|🏌🏻|🏌🏼|🏌🏽|🏌🏾|🏌🏿|🏌️\\u200d♂️|🏌🏻\\u200d♂️|🏌🏼\\u200d♂️|🏌🏽\\u200d♂️|🏌🏾\\u200d♂️|🏌🏿\\u200d♂️|🏌️\\u200d♀️|🏌🏻\\u200d♀️|🏌🏼\\u200d♀️|🏌🏽\\u200d♀️|🏌🏾\\u200d♀️|🏌🏿\\u200d♀️|🏄|🏄🏻|🏄🏼|🏄🏽|🏄🏾|🏄🏿|🏄\\u200d♂️|🏄🏻\\u200d♂️|🏄🏼\\u200d♂️|🏄🏽\\u200d♂️|🏄🏾\\u200d♂️|🏄🏿\\u200d♂️|🏄\\u200d♀️|🏄🏻\\u200d♀️|🏄🏼\\u200d♀️|🏄🏽\\u200d♀️|🏄🏾\\u200d♀️|🏄🏿\\u200d♀️|🚣|🚣🏻|🚣🏼|🚣🏽|🚣🏾|🚣🏿|🚣\\u200d♂️|🚣🏻\\u200d♂️|🚣🏼\\u200d♂️|🚣🏽\\u200d♂️|🚣🏾\\u200d♂️|🚣🏿\\u200d♂️|🚣\\u200d♀️|🚣🏻\\u200d♀️|🚣🏼\\u200d♀️|🚣🏽\\u200d♀️|🚣🏾\\u200d♀️|🚣🏿\\u200d♀️|🏊|🏊🏻|🏊🏼|🏊🏽|🏊🏾|🏊🏿|🏊\\u200d♂️|🏊🏻\\u200d♂️|🏊🏼\\u200d♂️|🏊🏽\\u200d♂️|🏊🏾\\u200d♂️|🏊🏿\\u200d♂️|🏊\\u200d♀️|🏊🏻\\u200d♀️|🏊🏼\\u200d♀️|🏊🏽\\u200d♀️|🏊🏾\\u200d♀️|🏊🏿\\u200d♀️|⛹️|⛹🏻|⛹🏼|⛹🏽|⛹🏾|⛹🏿|⛹️\\u200d♂️|⛹🏻\\u200d♂️|⛹🏼\\u200d♂️|⛹🏽\\u200d♂️|⛹🏾\\u200d♂️|⛹🏿\\u200d♂️|⛹️\\u200d♀️|⛹🏻\\u200d♀️|⛹🏼\\u200d♀️|⛹🏽\\u200d♀️|⛹🏾\\u200d♀️|⛹🏿\\u200d♀️|🏋️|🏋🏻|🏋🏼|🏋🏽|🏋🏾|🏋🏿|🏋️\\u200d♂️|🏋🏻\\u200d♂️|🏋🏼\\u200d♂️|🏋🏽\\u200d♂️|🏋🏾\\u200d♂️|🏋🏿\\u200d♂️|🏋️\\u200d♀️|🏋🏻\\u200d♀️|🏋🏼\\u200d♀️|🏋🏽\\u200d♀️|🏋🏾\\u200d♀️|🏋🏿\\u200d♀️|🚴|🚴🏻|🚴🏼|🚴🏽|🚴🏾|🚴🏿|🚴\\u200d♂️|🚴🏻\\u200d♂️|🚴🏼\\u200d♂️|🚴🏽\\u200d♂️|🚴🏾\\u200d♂️|🚴🏿\\u200d♂️|🚴\\u200d♀️|🚴🏻\\u200d♀️|🚴🏼\\u200d♀️|🚴🏽\\u200d♀️|🚴🏾\\u200d♀️|🚴🏿\\u200d♀️|🚵|🚵🏻|🚵🏼|🚵🏽|🚵🏾|🚵🏿|🚵\\u200d♂️|🚵🏻\\u200d♂️|🚵🏼\\u200d♂️|🚵🏽\\u200d♂️|🚵🏾\\u200d♂️|🚵🏿\\u200d♂️|🚵\\u200d♀️|🚵🏻\\u200d♀️|🚵🏼\\u200d♀️|🚵🏽\\u200d♀️|🚵🏾\\u200d♀️|🚵🏿\\u200d♀️|🤸|🤸🏻|🤸🏼|🤸🏽|🤸🏾|🤸🏿|🤸\\u200d♂️|🤸🏻\\u200d♂️|🤸🏼\\u200d♂️|🤸🏽\\u200d♂️|🤸🏾\\u200d♂️|🤸🏿\\u200d♂️|🤸\\u200d♀️|🤸🏻\\u200d♀️|🤸🏼\\u200d♀️|🤸🏽\\u200d♀️|🤸🏾\\u200d♀️|🤸🏿\\u200d♀️|🤼|🤼\\u200d♂️|🤼\\u200d♀️|🤽|🤽🏻|🤽🏼|🤽🏽|🤽🏾|🤽🏿|🤽\\u200d♂️|🤽🏻\\u200d♂️|🤽🏼\\u200d♂️|🤽🏽\\u200d♂️|🤽🏾\\u200d♂️|🤽🏿\\u200d♂️|🤽\\u200d♀️|🤽🏻\\u200d♀️|🤽🏼\\u200d♀️|🤽🏽\\u200d♀️|🤽🏾\\u200d♀️|🤽🏿\\u200d♀️|🤾|🤾🏻|🤾🏼|🤾🏽|🤾🏾|🤾🏿|🤾\\u200d♂️|🤾🏻\\u200d♂️|🤾🏼\\u200d♂️|🤾🏽\\u200d♂️|🤾🏾\\u200d♂️|🤾🏿\\u200d♂️|🤾\\u200d♀️|🤾🏻\\u200d♀️|🤾🏼\\u200d♀️|🤾🏽\\u200d♀️|🤾🏾\\u200d♀️|🤾🏿\\u200d♀️|🤹|🤹🏻|🤹🏼|🤹🏽|🤹🏾|🤹🏿|🤹\\u200d♂️|🤹🏻\\u200d♂️|🤹🏼\\u200d♂️|🤹🏽\\u200d♂️|🤹🏾\\u200d♂️|🤹🏿\\u200d♂️|🤹\\u200d♀️|🤹🏻\\u200d♀️|🤹🏼\\u200d♀️|🤹🏽\\u200d♀️|🤹🏾\\u200d♀️|🤹🏿\\u200d♀️|🧘|🧘🏻|🧘🏼|🧘🏽|🧘🏾|🧘🏿|🧘\\u200d♂️|🧘🏻\\u200d♂️|🧘🏼\\u200d♂️|🧘🏽\\u200d♂️|🧘🏾\\u200d♂️|🧘🏿\\u200d♂️|🧘\\u200d♀️|🧘🏻\\u200d♀️|🧘🏼\\u200d♀️|🧘🏽\\u200d♀️|🧘🏾\\u200d♀️|🧘🏿\\u200d♀️|🛀|🛀🏻|🛀🏼|🛀🏽|🛀🏾|🛀🏿|🛌|🛌🏻|🛌🏼|🛌🏽|🛌🏾|🛌🏿|🧑\\u200d🤝\\u200d🧑|🧑🏻\\u200d🤝\\u200d🧑🏻|🧑🏻\\u200d🤝\\u200d🧑🏼|🧑🏻\\u200d🤝\\u200d🧑🏽|🧑🏻\\u200d🤝\\u200d🧑🏾|🧑🏻\\u200d🤝\\u200d🧑🏿|🧑🏼\\u200d🤝\\u200d🧑🏻|🧑🏼\\u200d🤝\\u200d🧑🏼|🧑🏼\\u200d🤝\\u200d🧑🏽|🧑🏼\\u200d🤝\\u200d🧑🏾|🧑🏼\\u200d🤝\\u200d🧑🏿|🧑🏽\\u200d🤝\\u200d🧑🏻|🧑🏽\\u200d🤝\\u200d🧑🏼|🧑🏽\\u200d🤝\\u200d🧑🏽|🧑🏽\\u200d🤝\\u200d🧑🏾|🧑🏽\\u200d🤝\\u200d🧑🏿|🧑🏾\\u200d🤝\\u200d🧑🏻|🧑🏾\\u200d🤝\\u200d🧑🏼|🧑🏾\\u200d🤝\\u200d🧑🏽|🧑🏾\\u200d🤝\\u200d🧑🏾|🧑🏾\\u200d🤝\\u200d🧑🏿|🧑🏿\\u200d🤝\\u200d🧑🏻|🧑🏿\\u200d🤝\\u200d🧑🏼|🧑🏿\\u200d🤝\\u200d🧑🏽|🧑🏿\\u200d🤝\\u200d🧑🏾|🧑🏿\\u200d🤝\\u200d🧑🏿|👭|👭🏻|👩🏻\\u200d🤝\\u200d👩🏼|👩🏻\\u200d🤝\\u200d👩🏽|👩🏻\\u200d🤝\\u200d👩🏾|👩🏻\\u200d🤝\\u200d👩🏿|👩🏼\\u200d🤝\\u200d👩🏻|👭🏼|👩🏼\\u200d🤝\\u200d👩🏽|👩🏼\\u200d🤝\\u200d👩🏾|👩🏼\\u200d🤝\\u200d👩🏿|👩🏽\\u200d🤝\\u200d👩🏻|👩🏽\\u200d🤝\\u200d👩🏼|👭🏽|👩🏽\\u200d🤝\\u200d👩🏾|👩🏽\\u200d🤝\\u200d👩🏿|👩🏾\\u200d🤝\\u200d👩🏻|👩🏾\\u200d🤝\\u200d👩🏼|👩🏾\\u200d🤝\\u200d👩🏽|👭🏾|👩🏾\\u200d🤝\\u200d👩🏿|👩🏿\\u200d🤝\\u200d👩🏻|👩🏿\\u200d🤝\\u200d👩🏼|👩🏿\\u200d🤝\\u200d👩🏽|👩🏿\\u200d🤝\\u200d👩🏾|👭🏿|👫|👫🏻|👩🏻\\u200d🤝\\u200d👨🏼|👩🏻\\u200d🤝\\u200d👨🏽|👩🏻\\u200d🤝\\u200d👨🏾|👩🏻\\u200d🤝\\u200d👨🏿|👩🏼\\u200d🤝\\u200d👨🏻|👫🏼|👩🏼\\u200d🤝\\u200d👨🏽|👩🏼\\u200d🤝\\u200d👨🏾|👩🏼\\u200d🤝\\u200d👨🏿|👩🏽\\u200d🤝\\u200d👨🏻|👩🏽\\u200d🤝\\u200d👨🏼|👫🏽|👩🏽\\u200d🤝\\u200d👨🏾|👩🏽\\u200d🤝\\u200d👨🏿|👩🏾\\u200d🤝\\u200d👨🏻|👩🏾\\u200d🤝\\u200d👨🏼|👩🏾\\u200d🤝\\u200d👨🏽|👫🏾|👩🏾\\u200d🤝\\u200d👨🏿|👩🏿\\u200d🤝\\u200d👨🏻|👩🏿\\u200d🤝\\u200d👨🏼|👩🏿\\u200d🤝\\u200d👨🏽|👩🏿\\u200d🤝\\u200d👨🏾|👫🏿|👬|👬🏻|👨🏻\\u200d🤝\\u200d👨🏼|👨🏻\\u200d🤝\\u200d👨🏽|👨🏻\\u200d🤝\\u200d👨🏾|👨🏻\\u200d🤝\\u200d👨🏿|👨🏼\\u200d🤝\\u200d👨🏻|👬🏼|👨🏼\\u200d🤝\\u200d👨🏽|👨🏼\\u200d🤝\\u200d👨🏾|👨🏼\\u200d🤝\\u200d👨🏿|👨🏽\\u200d🤝\\u200d👨🏻|👨🏽\\u200d🤝\\u200d👨🏼|👬🏽|👨🏽\\u200d🤝\\u200d👨🏾|👨🏽\\u200d🤝\\u200d👨🏿|👨🏾\\u200d🤝\\u200d👨🏻|👨🏾\\u200d🤝\\u200d👨🏼|👨🏾\\u200d🤝\\u200d👨🏽|👬🏾|👨🏾\\u200d🤝\\u200d👨🏿|👨🏿\\u200d🤝\\u200d👨🏻|👨🏿\\u200d🤝\\u200d👨🏼|👨🏿\\u200d🤝\\u200d👨🏽|👨🏿\\u200d🤝\\u200d👨🏾|👬🏿|💏|👩\\u200d❤️\\u200d💋\\u200d👨|👨\\u200d❤️\\u200d💋\\u200d👨|👩\\u200d❤️\\u200d💋\\u200d👩|💑|👩\\u200d❤️\\u200d👨|👨\\u200d❤️\\u200d👨|👩\\u200d❤️\\u200d👩|👪|👨\\u200d👩\\u200d👦|👨\\u200d👩\\u200d👧|👨\\u200d👩\\u200d👧\\u200d👦|👨\\u200d👩\\u200d👦\\u200d👦|👨\\u200d👩\\u200d👧\\u200d👧|👨\\u200d👨\\u200d👦|👨\\u200d👨\\u200d👧|👨\\u200d👨\\u200d👧\\u200d👦|👨\\u200d👨\\u200d👦\\u200d👦|👨\\u200d👨\\u200d👧\\u200d👧|👩\\u200d👩\\u200d👦|👩\\u200d👩\\u200d👧|👩\\u200d👩\\u200d👧\\u200d👦|👩\\u200d👩\\u200d👦\\u200d👦|👩\\u200d👩\\u200d👧\\u200d👧|👨\\u200d👦|👨\\u200d👦\\u200d👦|👨\\u200d👧|👨\\u200d👧\\u200d👦|👨\\u200d👧\\u200d👧|👩\\u200d👦|👩\\u200d👦\\u200d👦|👩\\u200d👧|👩\\u200d👧\\u200d👦|👩\\u200d👧\\u200d👧|🗣️|👤|👥|\\U0001fac2|👣|🏻|🏼|🏽|🏾|🏿|🦰|🦱|🦳|🦲|🐵|🐒|🦍|\\U0001f9a7|🐶|🐕|\\U0001f9ae|🐕\\u200d\\U0001f9ba|🐩|🐺|🦊|🦝|🐱|🐈|🐈\\u200d⬛|🦁|🐯|🐅|🐆|🐴|🐎|🦄|🦓|🦌|\\U0001f9ac|🐮|🐂|🐃|🐄|🐷|🐖|🐗|🐽|🐏|🐑|🐐|🐪|🐫|🦙|🦒|🐘|\\U0001f9a3|🦏|🦛|🐭|🐁|🐀|🐹|🐰|🐇|🐿️|\\U0001f9ab|🦔|🦇|🐻|🐻\\u200d❄️|🐨|🐼|\\U0001f9a5|\\U0001f9a6|\\U0001f9a8|🦘|🦡|🐾|🦃|🐔|🐓|🐣|🐤|🐥|🐦|🐧|🕊️|🦅|🦆|🦢|🦉|\\U0001f9a4|\\U0001fab6|\\U0001f9a9|🦚|🦜|🐸|🐊|🐢|🦎|🐍|🐲|🐉|🦕|🦖|🐳|🐋|🐬|\\U0001f9ad|🐟|🐠|🐡|🦈|🐙|🐚|🐌|🦋|🐛|🐜|🐝|\\U0001fab2|🐞|🦗|\\U0001fab3|🕷️|🕸️|🦂|🦟|\\U0001fab0|\\U0001fab1|🦠|💐|🌸|💮|🏵️|🌹|🥀|🌺|🌻|🌼|🌷|🌱|\\U0001fab4|🌲|🌳|🌴|🌵|🌾|🌿|☘️|🍀|🍁|🍂|🍃|🍇|🍈|🍉|🍊|🍋|🍌|🍍|🥭|🍎|🍏|🍐|🍑|🍒|🍓|\\U0001fad0|🥝|🍅|\\U0001fad2|🥥|🥑|🍆|🥔|🥕|🌽|🌶️|\\U0001fad1|🥒|🥬|🥦|\\U0001f9c4|\\U0001f9c5|🍄|🥜|🌰|🍞|🥐|🥖|\\U0001fad3|🥨|🥯|🥞|\\U0001f9c7|🧀|🍖|🍗|🥩|🥓|🍔|🍟|🍕|🌭|🥪|🌮|🌯|\\U0001fad4|🥙|\\U0001f9c6|🥚|🍳|🥘|🍲|\\U0001fad5|🥣|🥗|🍿|\\U0001f9c8|🧂|🥫|🍱|🍘|🍙|🍚|🍛|🍜|🍝|🍠|🍢|🍣|🍤|🍥|🥮|🍡|🥟|🥠|🥡|🦀|🦞|🦐|🦑|\\U0001f9aa|🍦|🍧|🍨|🍩|🍪|🎂|🍰|🧁|🥧|🍫|🍬|🍭|🍮|🍯|🍼|🥛|☕|\\U0001fad6|🍵|🍶|🍾|🍷|🍸|🍹|🍺|🍻|🥂|🥃|🥤|\\U0001f9cb|\\U0001f9c3|\\U0001f9c9|\\U0001f9ca|🥢|🍽️|🍴|🥄|🔪|🏺|🌍|🌎|🌏|🌐|🗺️|🗾|🧭|🏔️|⛰️|🌋|🗻|🏕️|🏖️|🏜️|🏝️|🏞️|🏟️|🏛️|🏗️|🧱|\\U0001faa8|\\U0001fab5|\\U0001f6d6|🏘️|🏚️|🏠|🏡|🏢|🏣|🏤|🏥|🏦|🏨|🏩|🏪|🏫|🏬|🏭|🏯|🏰|💒|🗼|🗽|⛪|🕌|\\U0001f6d5|🕍|⛩️|🕋|⛲|⛺|🌁|🌃|🏙️|🌄|🌅|🌆|🌇|🌉|♨️|🎠|🎡|🎢|💈|🎪|🚂|🚃|🚄|🚅|🚆|🚇|🚈|🚉|🚊|🚝|🚞|🚋|🚌|🚍|🚎|🚐|🚑|🚒|🚓|🚔|🚕|🚖|🚗|🚘|🚙|\\U0001f6fb|🚚|🚛|🚜|🏎️|🏍️|🛵|\\U0001f9bd|\\U0001f9bc|\\U0001f6fa|🚲|🛴|🛹|\\U0001f6fc|🚏|🛣️|🛤️|🛢️|⛽|🚨|🚥|🚦|🛑|🚧|⚓|⛵|🛶|🚤|🛳️|⛴️|🛥️|🚢|✈️|🛩️|🛫|🛬|\\U0001fa82|💺|🚁|🚟|🚠|🚡|🛰️|🚀|🛸|🛎️|🧳|⌛|⏳|⌚|⏰|⏱️|⏲️|🕰️|🕛|🕧|🕐|🕜|🕑|🕝|🕒|🕞|🕓|🕟|🕔|🕠|🕕|🕡|🕖|🕢|🕗|🕣|🕘|🕤|🕙|🕥|🕚|🕦|🌑|🌒|🌓|🌔|🌕|🌖|🌗|🌘|🌙|🌚|🌛|🌜|🌡️|☀️|🌝|🌞|\\U0001fa90|⭐|🌟|🌠|🌌|☁️|⛅|⛈️|🌤️|🌥️|🌦️|🌧️|🌨️|🌩️|🌪️|🌫️|🌬️|🌀|🌈|🌂|☂️|☔|⛱️|⚡|❄️|☃️|⛄|☄️|🔥|💧|🌊|🎃|🎄|🎆|🎇|🧨|✨|🎈|🎉|🎊|🎋|🎍|🎎|🎏|🎐|🎑|🧧|🎀|🎁|🎗️|🎟️|🎫|🎖️|🏆|🏅|🥇|🥈|🥉|⚽|⚾|🥎|🏀|🏐|🏈|🏉|🎾|🥏|🎳|🏏|🏑|🏒|🥍|🏓|🏸|🥊|🥋|🥅|⛳|⛸️|🎣|\\U0001f93f|🎽|🎿|🛷|🥌|🎯|\\U0001fa80|\\U0001fa81|🎱|🔮|\\U0001fa84|🧿|🎮|🕹️|🎰|🎲|🧩|🧸|\\U0001fa85|\\U0001fa86|♠️|♥️|♦️|♣️|♟️|🃏|🀄|🎴|🎭|🖼️|🎨|🧵|\\U0001faa1|🧶|\\U0001faa2|👓|🕶️|🥽|🥼|\\U0001f9ba|👔|👕|👖|🧣|🧤|🧥|🧦|👗|👘|\\U0001f97b|\\U0001fa71|\\U0001fa72|\\U0001fa73|👙|👚|👛|👜|👝|🛍️|🎒|\\U0001fa74|👞|👟|🥾|🥿|👠|👡|\\U0001fa70|👢|👑|👒|🎩|🎓|🧢|\\U0001fa96|⛑️|📿|💄|💍|💎|🔇|🔈|🔉|🔊|📢|📣|📯|🔔|🔕|🎼|🎵|🎶|🎙️|🎚️|🎛️|🎤|🎧|📻|🎷|\\U0001fa97|🎸|🎹|🎺|🎻|\\U0001fa95|🥁|\\U0001fa98|📱|📲|☎️|📞|📟|📠|🔋|🔌|💻|🖥️|🖨️|⌨️|🖱️|🖲️|💽|💾|💿|📀|🧮|🎥|🎞️|📽️|🎬|📺|📷|📸|📹|📼|🔍|🔎|🕯️|💡|🔦|🏮|\\U0001fa94|📔|📕|📖|📗|📘|📙|📚|📓|📒|📃|📜|📄|📰|🗞️|📑|🔖|🏷️|💰|\\U0001fa99|💴|💵|💶|💷|💸|💳|🧾|💹|✉️|📧|📨|📩|📤|📥|📦|📫|📪|📬|📭|📮|🗳️|✏️|✒️|🖋️|🖊️|🖌️|🖍️|📝|💼|📁|📂|🗂️|📅|📆|🗒️|🗓️|📇|📈|📉|📊|📋|📌|📍|📎|🖇️|📏|📐|✂️|🗃️|🗄️|🗑️|🔒|🔓|🔏|🔐|🔑|🗝️|🔨|\\U0001fa93|⛏️|⚒️|🛠️|🗡️|⚔️|🔫|\\U0001fa83|🏹|🛡️|\\U0001fa9a|🔧|\\U0001fa9b|🔩|⚙️|🗜️|⚖️|\\U0001f9af|🔗|⛓️|\\U0001fa9d|🧰|🧲|\\U0001fa9c|⚗️|🧪|🧫|🧬|🔬|🔭|📡|💉|\\U0001fa78|💊|\\U0001fa79|\\U0001fa7a|🚪|\\U0001f6d7|\\U0001fa9e|\\U0001fa9f|🛏️|🛋️|\\U0001fa91|🚽|\\U0001faa0|🚿|🛁|\\U0001faa4|\\U0001fa92|🧴|🧷|🧹|🧺|🧻|\\U0001faa3|🧼|\\U0001faa5|🧽|🧯|🛒|🚬|⚰️|\\U0001faa6|⚱️|🗿|\\U0001faa7|🏧|🚮|🚰|♿|🚹|🚺|🚻|🚼|🚾|🛂|🛃|🛄|🛅|⚠️|🚸|⛔|🚫|🚳|🚭|🚯|🚱|🚷|📵|🔞|☢️|☣️|⬆️|↗️|➡️|↘️|⬇️|↙️|⬅️|↖️|↕️|↔️|↩️|↪️|⤴️|⤵️|🔃|🔄|🔙|🔚|🔛|🔜|🔝|🛐|⚛️|🕉️|✡️|☸️|☯️|✝️|☦️|☪️|☮️|🕎|🔯|♈|♉|♊|♋|♌|♍|♎|♏|♐|♑|♒|♓|⛎|🔀|🔁|🔂|▶️|⏩|⏭️|⏯️|◀️|⏪|⏮️|🔼|⏫|🔽|⏬|⏸️|⏹️|⏺️|⏏️|🎦|🔅|🔆|📶|📳|📴|♀️|♂️|⚧️|✖️|➕|➖|➗|♾️|‼️|⁉️|❓|❔|❕|❗|〰️|💱|💲|⚕️|♻️|⚜️|🔱|📛|🔰|⭕|✅|☑️|✔️|❌|❎|➰|➿|〽️|✳️|✴️|❇️|©️|®️|™️|\\#️⃣|\\*️⃣|0️⃣|1️⃣|2️⃣|3️⃣|4️⃣|5️⃣|6️⃣|7️⃣|8️⃣|9️⃣|🔟|🔠|🔡|🔢|🔣|🔤|🅰️|🆎|🅱️|🆑|🆒|🆓|ℹ️|🆔|Ⓜ️|🆕|🆖|🅾️|🆗|🅿️|🆘|🆙|🆚|🈁|🈂️|🈷️|🈶|🈯|🉐|🈹|🈚|🈲|🉑|🈸|🈴|🈳|㊗️|㊙️|🈺|🈵|🔴|\\U0001f7e0|\\U0001f7e1|\\U0001f7e2|🔵|\\U0001f7e3|\\U0001f7e4|⚫|⚪|\\U0001f7e5|\\U0001f7e7|\\U0001f7e8|\\U0001f7e9|\\U0001f7e6|\\U0001f7ea|\\U0001f7eb|⬛|⬜|◼️|◻️|◾|◽|▪️|▫️|🔶|🔷|🔸|🔹|🔺|🔻|💠|🔘|🔳|🔲|🏁|🚩|🎌|🏴|🏳️|🏳️\\u200d🌈|🏳️\\u200d⚧️|🏴\\u200d☠️|🇦🇨|🇦🇩|🇦🇪|🇦🇫|🇦🇬|🇦🇮|🇦🇱|🇦🇲|🇦🇴|🇦🇶|🇦🇷|🇦🇸|🇦🇹|🇦🇺|🇦🇼|🇦🇽|🇦🇿|🇧🇦|🇧🇧|🇧🇩|🇧🇪|🇧🇫|🇧🇬|🇧🇭|🇧🇮|🇧🇯|🇧🇱|🇧🇲|🇧🇳|🇧🇴|🇧🇶|🇧🇷|🇧🇸|🇧🇹|🇧🇻|🇧🇼|🇧🇾|🇧🇿|🇨🇦|🇨🇨|🇨🇩|🇨🇫|🇨🇬|🇨🇭|🇨🇮|🇨🇰|🇨🇱|🇨🇲|🇨🇳|🇨🇴|🇨🇵|🇨🇷|🇨🇺|🇨🇻|🇨🇼|🇨🇽|🇨🇾|🇨🇿|🇩🇪|🇩🇬|🇩🇯|🇩🇰|🇩🇲|🇩🇴|🇩🇿|🇪🇦|🇪🇨|🇪🇪|🇪🇬|🇪🇭|🇪🇷|🇪🇸|🇪🇹|🇪🇺|🇫🇮|🇫🇯|🇫🇰|🇫🇲|🇫🇴|🇫🇷|🇬🇦|🇬🇧|🇬🇩|🇬🇪|🇬🇫|🇬🇬|🇬🇭|🇬🇮|🇬🇱|🇬🇲|🇬🇳|🇬🇵|🇬🇶|🇬🇷|🇬🇸|🇬🇹|🇬🇺|🇬🇼|🇬🇾|🇭🇰|🇭🇲|🇭🇳|🇭🇷|🇭🇹|🇭🇺|🇮🇨|🇮🇩|🇮🇪|🇮🇱|🇮🇲|🇮🇳|🇮🇴|🇮🇶|🇮🇷|🇮🇸|🇮🇹|🇯🇪|🇯🇲|🇯🇴|🇯🇵|🇰🇪|🇰🇬|🇰🇭|🇰🇮|🇰🇲|🇰🇳|🇰🇵|🇰🇷|🇰🇼|🇰🇾|🇰🇿|🇱🇦|🇱🇧|🇱🇨|🇱🇮|🇱🇰|🇱🇷|🇱🇸|🇱🇹|🇱🇺|🇱🇻|🇱🇾|🇲🇦|🇲🇨|🇲🇩|🇲🇪|🇲🇫|🇲🇬|🇲🇭|🇲🇰|🇲🇱|🇲🇲|🇲🇳|🇲🇴|🇲🇵|🇲🇶|🇲🇷|🇲🇸|🇲🇹|🇲🇺|🇲🇻|🇲🇼|🇲🇽|🇲🇾|🇲🇿|🇳🇦|🇳🇨|🇳🇪|🇳🇫|🇳🇬|🇳🇮|🇳🇱|🇳🇴|🇳🇵|🇳🇷|🇳🇺|🇳🇿|🇴🇲|🇵🇦|🇵🇪|🇵🇫|🇵🇬|🇵🇭|🇵🇰|🇵🇱|🇵🇲|🇵🇳|🇵🇷|🇵🇸|🇵🇹|🇵🇼|🇵🇾|🇶🇦|🇷🇪|🇷🇴|🇷🇸|🇷🇺|🇷🇼|🇸🇦|🇸🇧|🇸🇨|🇸🇩|🇸🇪|🇸🇬|🇸🇭|🇸🇮|🇸🇯|🇸🇰|🇸🇱|🇸🇲|🇸🇳|🇸🇴|🇸🇷|🇸🇸|🇸🇹|🇸🇻|🇸🇽|🇸🇾|🇸🇿|🇹🇦|🇹🇨|🇹🇩|🇹🇫|🇹🇬|🇹🇭|🇹🇯|🇹🇰|🇹🇱|🇹🇲|🇹🇳|🇹🇴|🇹🇷|🇹🇹|🇹🇻|🇹🇼|🇹🇿|🇺🇦|🇺🇬|🇺🇲|🇺🇳|🇺🇸|🇺🇾|🇺🇿|🇻🇦|🇻🇨|🇻🇪|🇻🇬|🇻🇮|🇻🇳|🇻🇺|🇼🇫|🇼🇸|🇽🇰|🇾🇪|🇾🇹|🇿🇦|🇿🇲|🇿🇼|🏴\\U000e0067\\U000e0062\\U000e0065\\U000e006e\\U000e0067\\U000e007f|🏴\\U000e0067\\U000e0062\\U000e0073\\U000e0063\\U000e0074\\U000e007f|🏴\\U000e0067\\U000e0062\\U000e0077\\U000e006c\\U000e0073\\U000e007f|😀|😃|😄|😁|😆|😅|🤣|😂|🙂|🙃|😉|😊|😇|🥰|😍|🤩|😘|😗|☺️|😚|😙|\\U0001f972|😋|😛|😜|🤪|😝|🤑|🤗|🤭|🤫|🤔|🤐|🤨|😐|😑|😶|😏|😒|🙄|😬|🤥|😌|😔|😪|🤤|😴|😷|🤒|🤕|🤢|🤮|🤧|🥵|🥶|🥴|😵|🤯|🤠|🥳|\\U0001f978|😎|🤓|🧐|😕|😟|🙁|☹️|😮|😯|😲|😳|🥺|😦|😧|😨|😰|😥|😢|😭|😱|😖|😣|😞|😓|😩|😫|\\U0001f971|😤|😡|😠|🤬|😈|👿|💀|☠️|💩|🤡|👹|👺|👻|👽|👾|🤖|😺|😸|😹|😻|😼|😽|🙀|😿|😾|🙈|🙉|🙊|💋|💌|💘|💝|💖|💗|💓|💞|💕|💟|❣️|💔|❤️|🧡|💛|💚|💙|💜|\\U0001f90e|🖤|\\U0001f90d|💯|💢|💥|💫|💦|💨|🕳️|💣|💬|👁️\\u200d🗨️|🗨️|🗯️|💭|💤|👋|👋🏻|👋🏼|👋🏽|👋🏾|👋🏿|🤚|🤚🏻|🤚🏼|🤚🏽|🤚🏾|🤚🏿|🖐️|🖐🏻|🖐🏼|🖐🏽|🖐🏾|🖐🏿|✋|✋🏻|✋🏼|✋🏽|✋🏾|✋🏿|🖖|🖖🏻|🖖🏼|🖖🏽|🖖🏾|🖖🏿|👌|👌🏻|👌🏼|👌🏽|👌🏾|👌🏿|\\U0001f90c|\\U0001f90c🏻|\\U0001f90c🏼|\\U0001f90c🏽|\\U0001f90c🏾|\\U0001f90c🏿|\\U0001f90f|\\U0001f90f🏻|\\U0001f90f🏼|\\U0001f90f🏽|\\U0001f90f🏾|\\U0001f90f🏿|✌️|✌🏻|✌🏼|✌🏽|✌🏾|✌🏿|🤞|🤞🏻|🤞🏼|🤞🏽|🤞🏾|🤞🏿|🤟|🤟🏻|🤟🏼|🤟🏽|🤟🏾|🤟🏿|🤘|🤘🏻|🤘🏼|🤘🏽|🤘🏾|🤘🏿|🤙|🤙🏻|🤙🏼|🤙🏽|🤙🏾|🤙🏿|👈|👈🏻|👈🏼|👈🏽|👈🏾|👈🏿|👉|👉🏻|👉🏼|👉🏽|👉🏾|👉🏿|👆|👆🏻|👆🏼|👆🏽|👆🏾|👆🏿|🖕|🖕🏻|🖕🏼|🖕🏽|🖕🏾|🖕🏿|👇|👇🏻|👇🏼|👇🏽|👇🏾|👇🏿|☝️|☝🏻|☝🏼|☝🏽|☝🏾|☝🏿|👍|👍🏻|👍🏼|👍🏽|👍🏾|👍🏿|👎|👎🏻|👎🏼|👎🏽|👎🏾|👎🏿|✊|✊🏻|✊🏼|✊🏽|✊🏾|✊🏿|👊|👊🏻|👊🏼|👊🏽|👊🏾|👊🏿|🤛|🤛🏻|🤛🏼|🤛🏽|🤛🏾|🤛🏿|🤜|🤜🏻|🤜🏼|🤜🏽|🤜🏾|🤜🏿|👏|👏🏻|👏🏼|👏🏽|👏🏾|👏🏿|🙌|🙌🏻|🙌🏼|🙌🏽|🙌🏾|🙌🏿|👐|👐🏻|👐🏼|👐🏽|👐🏾|👐🏿|🤲|🤲🏻|🤲🏼|🤲🏽|🤲🏾|🤲🏿|🤝|🙏|🙏🏻|🙏🏼|🙏🏽|🙏🏾|🙏🏿|✍️|✍🏻|✍🏼|✍🏽|✍🏾|✍🏿|💅|💅🏻|💅🏼|💅🏽|💅🏾|💅🏿|🤳|🤳🏻|🤳🏼|🤳🏽|🤳🏾|🤳🏿|💪|💪🏻|💪🏼|💪🏽|💪🏾|💪🏿|\\U0001f9be|\\U0001f9bf|🦵|🦵🏻|🦵🏼|🦵🏽|🦵🏾|🦵🏿|🦶|🦶🏻|🦶🏼|🦶🏽|🦶🏾|🦶🏿|👂|👂🏻|👂🏼|👂🏽|👂🏾|👂🏿|\\U0001f9bb|\\U0001f9bb🏻|\\U0001f9bb🏼|\\U0001f9bb🏽|\\U0001f9bb🏾|\\U0001f9bb🏿|👃|👃🏻|👃🏼|👃🏽|👃🏾|👃🏿|🧠|\\U0001fac0|\\U0001fac1|🦷|🦴|👀|👁️|👅|👄|👶|👶🏻|👶🏼|👶🏽|👶🏾|👶🏿|🧒|🧒🏻|🧒🏼|🧒🏽|🧒🏾|🧒🏿|👦|👦🏻|👦🏼|👦🏽|👦🏾|👦🏿|👧|👧🏻|👧🏼|👧🏽|👧🏾|👧🏿|🧑|🧑🏻|🧑🏼|🧑🏽|🧑🏾|🧑🏿|👱|👱🏻|👱🏼|👱🏽|👱🏾|👱🏿|👨|👨🏻|👨🏼|👨🏽|👨🏾|👨🏿|🧔|🧔🏻|🧔🏼|🧔🏽|🧔🏾|🧔🏿|👨\\u200d🦰|👨🏻\\u200d🦰|👨🏼\\u200d🦰|👨🏽\\u200d🦰|👨🏾\\u200d🦰|👨🏿\\u200d🦰|👨\\u200d🦱|👨🏻\\u200d🦱|👨🏼\\u200d🦱|👨🏽\\u200d🦱|👨🏾\\u200d🦱|👨🏿\\u200d🦱|👨\\u200d🦳|👨🏻\\u200d🦳|👨🏼\\u200d🦳|👨🏽\\u200d🦳|👨🏾\\u200d🦳|👨🏿\\u200d🦳|👨\\u200d🦲|👨🏻\\u200d🦲|👨🏼\\u200d🦲|👨🏽\\u200d🦲|👨🏾\\u200d🦲|👨🏿\\u200d🦲|👩|👩🏻|👩🏼|👩🏽|👩🏾|👩🏿|👩\\u200d🦰|👩🏻\\u200d🦰|👩🏼\\u200d🦰|👩🏽\\u200d🦰|👩🏾\\u200d🦰|👩🏿\\u200d🦰|🧑\\u200d🦰|🧑🏻\\u200d🦰|🧑🏼\\u200d🦰|🧑🏽\\u200d🦰|🧑🏾\\u200d🦰|🧑🏿\\u200d🦰|👩\\u200d🦱|👩🏻\\u200d🦱|👩🏼\\u200d🦱|👩🏽\\u200d🦱|👩🏾\\u200d🦱|👩🏿\\u200d🦱|🧑\\u200d🦱|🧑🏻\\u200d🦱|🧑🏼\\u200d🦱|🧑🏽\\u200d🦱|🧑🏾\\u200d🦱|🧑🏿\\u200d🦱|👩\\u200d🦳|👩🏻\\u200d🦳|👩🏼\\u200d🦳|👩🏽\\u200d🦳|👩🏾\\u200d🦳|👩🏿\\u200d🦳|🧑\\u200d🦳|🧑🏻\\u200d🦳|🧑🏼\\u200d🦳|🧑🏽\\u200d🦳|🧑🏾\\u200d🦳|🧑🏿\\u200d🦳|👩\\u200d🦲|👩🏻\\u200d🦲|👩🏼\\u200d🦲|👩🏽\\u200d🦲|👩🏾\\u200d🦲|👩🏿\\u200d🦲|🧑\\u200d🦲|🧑🏻\\u200d🦲|🧑🏼\\u200d🦲|🧑🏽\\u200d🦲|🧑🏾\\u200d🦲|🧑🏿\\u200d🦲|👱\\u200d♀️|👱🏻\\u200d♀️|👱🏼\\u200d♀️|👱🏽\\u200d♀️|👱🏾\\u200d♀️|👱🏿\\u200d♀️|👱\\u200d♂️|👱🏻\\u200d♂️|👱🏼\\u200d♂️|👱🏽\\u200d♂️|👱🏾\\u200d♂️|👱🏿\\u200d♂️|🧓|🧓🏻|🧓🏼|🧓🏽|🧓🏾|🧓🏿|👴|👴🏻|👴🏼|👴🏽|👴🏾|👴🏿|👵|👵🏻|👵🏼|👵🏽|👵🏾|👵🏿|🙍|🙍🏻|🙍🏼|🙍🏽|🙍🏾|🙍🏿|🙍\\u200d♂️|🙍🏻\\u200d♂️|🙍🏼\\u200d♂️|🙍🏽\\u200d♂️|🙍🏾\\u200d♂️|🙍🏿\\u200d♂️|🙍\\u200d♀️|🙍🏻\\u200d♀️|🙍🏼\\u200d♀️|🙍🏽\\u200d♀️|🙍🏾\\u200d♀️|🙍🏿\\u200d♀️|🙎|🙎🏻|🙎🏼|🙎🏽|🙎🏾|🙎🏿|🙎\\u200d♂️|🙎🏻\\u200d♂️|🙎🏼\\u200d♂️|🙎🏽\\u200d♂️|🙎🏾\\u200d♂️|🙎🏿\\u200d♂️|🙎\\u200d♀️|🙎🏻\\u200d♀️|🙎🏼\\u200d♀️|🙎🏽\\u200d♀️|🙎🏾\\u200d♀️|🙎🏿\\u200d♀️|🙅|🙅🏻|🙅🏼|🙅🏽|🙅🏾|🙅🏿|🙅\\u200d♂️|🙅🏻\\u200d♂️|🙅🏼\\u200d♂️|🙅🏽\\u200d♂️|🙅🏾\\u200d♂️|🙅🏿\\u200d♂️|🙅\\u200d♀️|🙅🏻\\u200d♀️|🙅🏼\\u200d♀️|🙅🏽\\u200d♀️|🙅🏾\\u200d♀️|🙅🏿\\u200d♀️|🙆|🙆🏻|🙆🏼|🙆🏽|🙆🏾|🙆🏿|🙆\\u200d♂️|🙆🏻\\u200d♂️|🙆🏼\\u200d♂️|🙆🏽\\u200d♂️|🙆🏾\\u200d♂️|🙆🏿\\u200d♂️|🙆\\u200d♀️|🙆🏻\\u200d♀️|🙆🏼\\u200d♀️|🙆🏽\\u200d♀️|🙆🏾\\u200d♀️|🙆🏿\\u200d♀️|💁|💁🏻|💁🏼|💁🏽|💁🏾|💁🏿|💁\\u200d♂️|💁🏻\\u200d♂️|💁🏼\\u200d♂️|💁🏽\\u200d♂️|💁🏾\\u200d♂️|💁🏿\\u200d♂️|💁\\u200d♀️|💁🏻\\u200d♀️|💁🏼\\u200d♀️|💁🏽\\u200d♀️|💁🏾\\u200d♀️|💁🏿\\u200d♀️|🙋|🙋🏻|🙋🏼|🙋🏽|🙋🏾|🙋🏿|🙋\\u200d♂️|🙋🏻\\u200d♂️|🙋🏼\\u200d♂️|🙋🏽\\u200d♂️|🙋🏾\\u200d♂️|🙋🏿\\u200d♂️|🙋\\u200d♀️|🙋🏻\\u200d♀️|🙋🏼\\u200d♀️|🙋🏽\\u200d♀️|🙋🏾\\u200d♀️|🙋🏿\\u200d♀️|\\U0001f9cf|\\U0001f9cf🏻|\\U0001f9cf🏼|\\U0001f9cf🏽|\\U0001f9cf🏾|\\U0001f9cf🏿|\\U0001f9cf\\u200d♂️|\\U0001f9cf🏻\\u200d♂️|\\U0001f9cf🏼\\u200d♂️|\\U0001f9cf🏽\\u200d♂️|\\U0001f9cf🏾\\u200d♂️|\\U0001f9cf🏿\\u200d♂️|\\U0001f9cf\\u200d♀️|\\U0001f9cf🏻\\u200d♀️|\\U0001f9cf🏼\\u200d♀️|\\U0001f9cf🏽\\u200d♀️|\\U0001f9cf🏾\\u200d♀️|\\U0001f9cf🏿\\u200d♀️|🙇|🙇🏻|🙇🏼|🙇🏽|🙇🏾|🙇🏿|🙇\\u200d♂️|🙇🏻\\u200d♂️|🙇🏼\\u200d♂️|🙇🏽\\u200d♂️|🙇🏾\\u200d♂️|🙇🏿\\u200d♂️|🙇\\u200d♀️|🙇🏻\\u200d♀️|🙇🏼\\u200d♀️|🙇🏽\\u200d♀️|🙇🏾\\u200d♀️|🙇🏿\\u200d♀️|🤦|🤦🏻|🤦🏼|🤦🏽|🤦🏾|🤦🏿|🤦\\u200d♂️|🤦🏻\\u200d♂️|🤦🏼\\u200d♂️|🤦🏽\\u200d♂️|🤦🏾\\u200d♂️|🤦🏿\\u200d♂️|🤦\\u200d♀️|🤦🏻\\u200d♀️|🤦🏼\\u200d♀️|🤦🏽\\u200d♀️|🤦🏾\\u200d♀️|🤦🏿\\u200d♀️|🤷|🤷🏻|🤷🏼|🤷🏽|🤷🏾|🤷🏿|🤷\\u200d♂️|🤷🏻\\u200d♂️|🤷🏼\\u200d♂️|🤷🏽\\u200d♂️|🤷🏾\\u200d♂️|🤷🏿\\u200d♂️|🤷\\u200d♀️|🤷🏻\\u200d♀️|🤷🏼\\u200d♀️|🤷🏽\\u200d♀️|🤷🏾\\u200d♀️|🤷🏿\\u200d♀️|🧑\\u200d⚕️|🧑🏻\\u200d⚕️|🧑🏼\\u200d⚕️|🧑🏽\\u200d⚕️|🧑🏾\\u200d⚕️|🧑🏿\\u200d⚕️|👨\\u200d⚕️|👨🏻\\u200d⚕️|👨🏼\\u200d⚕️|👨🏽\\u200d⚕️|👨🏾\\u200d⚕️|👨🏿\\u200d⚕️|👩\\u200d⚕️|👩🏻\\u200d⚕️|👩🏼\\u200d⚕️|👩🏽\\u200d⚕️|👩🏾\\u200d⚕️|👩🏿\\u200d⚕️|🧑\\u200d🎓|🧑🏻\\u200d🎓|🧑🏼\\u200d🎓|🧑🏽\\u200d🎓|🧑🏾\\u200d🎓|🧑🏿\\u200d🎓|👨\\u200d🎓|👨🏻\\u200d🎓|👨🏼\\u200d🎓|👨🏽\\u200d🎓|👨🏾\\u200d🎓|👨🏿\\u200d🎓|👩\\u200d🎓|👩🏻\\u200d🎓|👩🏼\\u200d🎓|👩🏽\\u200d🎓|👩🏾\\u200d🎓|👩🏿\\u200d🎓|🧑\\u200d🏫|🧑🏻\\u200d🏫|🧑🏼\\u200d🏫|🧑🏽\\u200d🏫|🧑🏾\\u200d🏫|🧑🏿\\u200d🏫|👨\\u200d🏫|👨🏻\\u200d🏫|👨🏼\\u200d🏫|👨🏽\\u200d🏫|👨🏾\\u200d🏫|👨🏿\\u200d🏫|👩\\u200d🏫|👩🏻\\u200d🏫|👩🏼\\u200d🏫|👩🏽\\u200d🏫|👩🏾\\u200d🏫|👩🏿\\u200d🏫|🧑\\u200d⚖️|🧑🏻\\u200d⚖️|🧑🏼\\u200d⚖️|🧑🏽\\u200d⚖️|🧑🏾\\u200d⚖️|🧑🏿\\u200d⚖️|👨\\u200d⚖️|👨🏻\\u200d⚖️|👨🏼\\u200d⚖️|👨🏽\\u200d⚖️|👨🏾\\u200d⚖️|👨🏿\\u200d⚖️|👩\\u200d⚖️|👩🏻\\u200d⚖️|👩🏼\\u200d⚖️|👩🏽\\u200d⚖️|👩🏾\\u200d⚖️|👩🏿\\u200d⚖️|🧑\\u200d🌾|🧑🏻\\u200d🌾|🧑🏼\\u200d🌾|🧑🏽\\u200d🌾|🧑🏾\\u200d🌾|🧑🏿\\u200d🌾|👨\\u200d🌾|👨🏻\\u200d🌾|👨🏼\\u200d🌾|👨🏽\\u200d🌾|👨🏾\\u200d🌾|👨🏿\\u200d🌾|👩\\u200d🌾|👩🏻\\u200d🌾|👩🏼\\u200d🌾|👩🏽\\u200d🌾|👩🏾\\u200d🌾|👩🏿\\u200d🌾|🧑\\u200d🍳|🧑🏻\\u200d🍳|🧑🏼\\u200d🍳|🧑🏽\\u200d🍳|🧑🏾\\u200d🍳|🧑🏿\\u200d🍳|👨\\u200d🍳|👨🏻\\u200d🍳|👨🏼\\u200d🍳|👨🏽\\u200d🍳|👨🏾\\u200d🍳|👨🏿\\u200d🍳|👩\\u200d🍳|👩🏻\\u200d🍳|👩🏼\\u200d🍳|👩🏽\\u200d🍳|👩🏾\\u200d🍳|👩🏿\\u200d🍳|🧑\\u200d🔧|🧑🏻\\u200d🔧|🧑🏼\\u200d🔧|🧑🏽\\u200d🔧|🧑🏾\\u200d🔧|🧑🏿\\u200d🔧|👨\\u200d🔧|👨🏻\\u200d🔧|👨🏼\\u200d🔧|👨🏽\\u200d🔧|👨🏾\\u200d🔧|👨🏿\\u200d🔧|👩\\u200d🔧|👩🏻\\u200d🔧|👩🏼\\u200d🔧|👩🏽\\u200d🔧|👩🏾\\u200d🔧|👩🏿\\u200d🔧|🧑\\u200d🏭|🧑🏻\\u200d🏭|🧑🏼\\u200d🏭|🧑🏽\\u200d🏭|🧑🏾\\u200d🏭|🧑🏿\\u200d🏭|👨\\u200d🏭|👨🏻\\u200d🏭|👨🏼\\u200d🏭|👨🏽\\u200d🏭|👨🏾\\u200d🏭|👨🏿\\u200d🏭|👩\\u200d🏭|👩🏻\\u200d🏭|👩🏼\\u200d🏭|👩🏽\\u200d🏭|👩🏾\\u200d🏭|👩🏿\\u200d🏭|🧑\\u200d💼|🧑🏻\\u200d💼|🧑🏼\\u200d💼|🧑🏽\\u200d💼|🧑🏾\\u200d💼|🧑🏿\\u200d💼|👨\\u200d💼|👨🏻\\u200d💼|👨🏼\\u200d💼|👨🏽\\u200d💼|👨🏾\\u200d💼|👨🏿\\u200d💼|👩\\u200d💼|👩🏻\\u200d💼|👩🏼\\u200d💼|👩🏽\\u200d💼|👩🏾\\u200d💼|👩🏿\\u200d💼|🧑\\u200d🔬|🧑🏻\\u200d🔬|🧑🏼\\u200d🔬|🧑🏽\\u200d🔬|🧑🏾\\u200d🔬|🧑🏿\\u200d🔬|👨\\u200d🔬|👨🏻\\u200d🔬|👨🏼\\u200d🔬|👨🏽\\u200d🔬|👨🏾\\u200d🔬|👨🏿\\u200d🔬|👩\\u200d🔬|👩🏻\\u200d🔬|👩🏼\\u200d🔬|👩🏽\\u200d🔬|👩🏾\\u200d🔬|👩🏿\\u200d🔬|🧑\\u200d💻|🧑🏻\\u200d💻|🧑🏼\\u200d💻|🧑🏽\\u200d💻|🧑🏾\\u200d💻|🧑🏿\\u200d💻|👨\\u200d💻|👨🏻\\u200d💻|👨🏼\\u200d💻|👨🏽\\u200d💻|👨🏾\\u200d💻|👨🏿\\u200d💻|👩\\u200d💻|👩🏻\\u200d💻|👩🏼\\u200d💻|👩🏽\\u200d💻|👩🏾\\u200d💻|👩🏿\\u200d💻|🧑\\u200d🎤|🧑🏻\\u200d🎤|🧑🏼\\u200d🎤|🧑🏽\\u200d🎤|🧑🏾\\u200d🎤|🧑🏿\\u200d🎤|👨\\u200d🎤|👨🏻\\u200d🎤|👨🏼\\u200d🎤|👨🏽\\u200d🎤|👨🏾\\u200d🎤|👨🏿\\u200d🎤|👩\\u200d🎤|👩🏻\\u200d🎤|👩🏼\\u200d🎤|👩🏽\\u200d🎤|👩🏾\\u200d🎤|👩🏿\\u200d🎤|🧑\\u200d🎨|🧑🏻\\u200d🎨|🧑🏼\\u200d🎨|🧑🏽\\u200d🎨|🧑🏾\\u200d🎨|🧑🏿\\u200d🎨|👨\\u200d🎨|👨🏻\\u200d🎨|👨🏼\\u200d🎨|👨🏽\\u200d🎨|👨🏾\\u200d🎨|👨🏿\\u200d🎨|👩\\u200d🎨|👩🏻\\u200d🎨|👩🏼\\u200d🎨|👩🏽\\u200d🎨|👩🏾\\u200d🎨|👩🏿\\u200d🎨|🧑\\u200d✈️|🧑🏻\\u200d✈️|🧑🏼\\u200d✈️|🧑🏽\\u200d✈️|🧑🏾\\u200d✈️|🧑🏿\\u200d✈️|👨\\u200d✈️|👨🏻\\u200d✈️|👨🏼\\u200d✈️|👨🏽\\u200d✈️|👨🏾\\u200d✈️|👨🏿\\u200d✈️|👩\\u200d✈️|👩🏻\\u200d✈️|👩🏼\\u200d✈️|👩🏽\\u200d✈️|👩🏾\\u200d✈️|👩🏿\\u200d✈️|🧑\\u200d🚀|🧑🏻\\u200d🚀|🧑🏼\\u200d🚀|🧑🏽\\u200d🚀|🧑🏾\\u200d🚀|🧑🏿\\u200d🚀|👨\\u200d🚀|👨🏻\\u200d🚀|👨🏼\\u200d🚀|👨🏽\\u200d🚀|👨🏾\\u200d🚀|👨🏿\\u200d🚀|👩\\u200d🚀|👩🏻\\u200d🚀|👩🏼\\u200d🚀|👩🏽\\u200d🚀|👩🏾\\u200d🚀|👩🏿\\u200d🚀|🧑\\u200d🚒|🧑🏻\\u200d🚒|🧑🏼\\u200d🚒|🧑🏽\\u200d🚒|🧑🏾\\u200d🚒|🧑🏿\\u200d🚒|👨\\u200d🚒|👨🏻\\u200d🚒|👨🏼\\u200d🚒|👨🏽\\u200d🚒|👨🏾\\u200d🚒|👨🏿\\u200d🚒|👩\\u200d🚒|👩🏻\\u200d🚒|👩🏼\\u200d🚒|👩🏽\\u200d🚒|👩🏾\\u200d🚒|👩🏿\\u200d🚒|👮|👮🏻|👮🏼|👮🏽|👮🏾|👮🏿|👮\\u200d♂️|👮🏻\\u200d♂️|👮🏼\\u200d♂️|👮🏽\\u200d♂️|👮🏾\\u200d♂️|👮🏿\\u200d♂️|👮\\u200d♀️|👮🏻\\u200d♀️|👮🏼\\u200d♀️|👮🏽\\u200d♀️|👮🏾\\u200d♀️|👮🏿\\u200d♀️|🕵️|🕵🏻|🕵🏼|🕵🏽|🕵🏾|🕵🏿|🕵️\\u200d♂️|🕵🏻\\u200d♂️|🕵🏼\\u200d♂️|🕵🏽\\u200d♂️|🕵🏾\\u200d♂️|🕵🏿\\u200d♂️|🕵️\\u200d♀️|🕵🏻\\u200d♀️|🕵🏼\\u200d♀️|🕵🏽\\u200d♀️|🕵🏾\\u200d♀️|🕵🏿\\u200d♀️|💂|💂🏻|💂🏼|💂🏽|💂🏾|💂🏿|💂\\u200d♂️|💂🏻\\u200d♂️|💂🏼\\u200d♂️|💂🏽\\u200d♂️|💂🏾\\u200d♂️|💂🏿\\u200d♂️|💂\\u200d♀️|💂🏻\\u200d♀️|💂🏼\\u200d♀️|💂🏽\\u200d♀️|💂🏾\\u200d♀️|💂🏿\\u200d♀️|\\U0001f977|\\U0001f977🏻|\\U0001f977🏼|\\U0001f977🏽|\\U0001f977🏾|\\U0001f977🏿|👷|👷🏻|👷🏼|👷🏽|👷🏾|👷🏿|👷\\u200d♂️|👷🏻\\u200d♂️|👷🏼\\u200d♂️|👷🏽\\u200d♂️|👷🏾\\u200d♂️|👷🏿\\u200d♂️|👷\\u200d♀️|👷🏻\\u200d♀️|👷🏼\\u200d♀️|👷🏽\\u200d♀️|👷🏾\\u200d♀️|👷🏿\\u200d♀️|🤴|🤴🏻|🤴🏼|🤴🏽|🤴🏾|🤴🏿|👸|👸🏻|👸🏼|👸🏽|👸🏾|👸🏿|👳|👳🏻|👳🏼|👳🏽|👳🏾|👳🏿|👳\\u200d♂️|👳🏻\\u200d♂️|👳🏼\\u200d♂️|👳🏽\\u200d♂️|👳🏾\\u200d♂️|👳🏿\\u200d♂️|👳\\u200d♀️|👳🏻\\u200d♀️|👳🏼\\u200d♀️|👳🏽\\u200d♀️|👳🏾\\u200d♀️|👳🏿\\u200d♀️|👲|👲🏻|👲🏼|👲🏽|👲🏾|👲🏿|🧕|🧕🏻|🧕🏼|🧕🏽|🧕🏾|🧕🏿|🤵|🤵🏻|🤵🏼|🤵🏽|🤵🏾|🤵🏿|🤵\\u200d♂️|🤵🏻\\u200d♂️|🤵🏼\\u200d♂️|🤵🏽\\u200d♂️|🤵🏾\\u200d♂️|🤵🏿\\u200d♂️|🤵\\u200d♀️|🤵🏻\\u200d♀️|🤵🏼\\u200d♀️|🤵🏽\\u200d♀️|🤵🏾\\u200d♀️|🤵🏿\\u200d♀️|👰|👰🏻|👰🏼|👰🏽|👰🏾|👰🏿|👰\\u200d♂️|👰🏻\\u200d♂️|👰🏼\\u200d♂️|👰🏽\\u200d♂️|👰🏾\\u200d♂️|👰🏿\\u200d♂️|👰\\u200d♀️|👰🏻\\u200d♀️|👰🏼\\u200d♀️|👰🏽\\u200d♀️|👰🏾\\u200d♀️|👰🏿\\u200d♀️|🤰|🤰🏻|🤰🏼|🤰🏽|🤰🏾|🤰🏿|🤱|🤱🏻|🤱🏼|🤱🏽|🤱🏾|🤱🏿|👩\\u200d🍼|👩🏻\\u200d🍼|👩🏼\\u200d🍼|👩🏽\\u200d🍼|👩🏾\\u200d🍼|👩🏿\\u200d🍼|👨\\u200d🍼|👨🏻\\u200d🍼|👨🏼\\u200d🍼|👨🏽\\u200d🍼|👨🏾\\u200d🍼|👨🏿\\u200d🍼|🧑\\u200d🍼|🧑🏻\\u200d🍼|🧑🏼\\u200d🍼|🧑🏽\\u200d🍼|🧑🏾\\u200d🍼|🧑🏿\\u200d🍼|👼|👼🏻|👼🏼|👼🏽|👼🏾|👼🏿|🎅|🎅🏻|🎅🏼|🎅🏽|🎅🏾|🎅🏿|🤶|🤶🏻|🤶🏼|🤶🏽|🤶🏾|🤶🏿|🧑\\u200d🎄|🧑🏻\\u200d🎄|🧑🏼\\u200d🎄|🧑🏽\\u200d🎄|🧑🏾\\u200d🎄|🧑🏿\\u200d🎄|🦸|🦸🏻|🦸🏼|🦸🏽|🦸🏾|🦸🏿|🦸\\u200d♂️|🦸🏻\\u200d♂️|🦸🏼\\u200d♂️|🦸🏽\\u200d♂️|🦸🏾\\u200d♂️|🦸🏿\\u200d♂️|🦸\\u200d♀️|🦸🏻\\u200d♀️|🦸🏼\\u200d♀️|🦸🏽\\u200d♀️|🦸🏾\\u200d♀️|🦸🏿\\u200d♀️|🦹|🦹🏻|🦹🏼|🦹🏽|🦹🏾|🦹🏿|🦹\\u200d♂️|🦹🏻\\u200d♂️|🦹🏼\\u200d♂️|🦹🏽\\u200d♂️|🦹🏾\\u200d♂️|🦹🏿\\u200d♂️|🦹\\u200d♀️|🦹🏻\\u200d♀️|🦹🏼\\u200d♀️|🦹🏽\\u200d♀️|🦹🏾\\u200d♀️|🦹🏿\\u200d♀️|🧙|🧙🏻|🧙🏼|🧙🏽|🧙🏾|🧙🏿|🧙\\u200d♂️|🧙🏻\\u200d♂️|🧙🏼\\u200d♂️|🧙🏽\\u200d♂️|🧙🏾\\u200d♂️|🧙🏿\\u200d♂️|🧙\\u200d♀️|🧙🏻\\u200d♀️|🧙🏼\\u200d♀️|🧙🏽\\u200d♀️|🧙🏾\\u200d♀️|🧙🏿\\u200d♀️|🧚|🧚🏻|🧚🏼|🧚🏽|🧚🏾|🧚🏿|🧚\\u200d♂️|🧚🏻\\u200d♂️|🧚🏼\\u200d♂️|🧚🏽\\u200d♂️|🧚🏾\\u200d♂️|🧚🏿\\u200d♂️|🧚\\u200d♀️|🧚🏻\\u200d♀️|🧚🏼\\u200d♀️|🧚🏽\\u200d♀️|🧚🏾\\u200d♀️|🧚🏿\\u200d♀️|🧛|🧛🏻|🧛🏼|🧛🏽|🧛🏾|🧛🏿|🧛\\u200d♂️|🧛🏻\\u200d♂️|🧛🏼\\u200d♂️|🧛🏽\\u200d♂️|🧛🏾\\u200d♂️|🧛🏿\\u200d♂️|🧛\\u200d♀️|🧛🏻\\u200d♀️|🧛🏼\\u200d♀️|🧛🏽\\u200d♀️|🧛🏾\\u200d♀️|🧛🏿\\u200d♀️|🧜|🧜🏻|🧜🏼|🧜🏽|🧜🏾|🧜🏿|🧜\\u200d♂️|🧜🏻\\u200d♂️|🧜🏼\\u200d♂️|🧜🏽\\u200d♂️|🧜🏾\\u200d♂️|🧜🏿\\u200d♂️|🧜\\u200d♀️|🧜🏻\\u200d♀️|🧜🏼\\u200d♀️|🧜🏽\\u200d♀️|🧜🏾\\u200d♀️|🧜🏿\\u200d♀️|🧝|🧝🏻|🧝🏼|🧝🏽|🧝🏾|🧝🏿|🧝\\u200d♂️|🧝🏻\\u200d♂️|🧝🏼\\u200d♂️|🧝🏽\\u200d♂️|🧝🏾\\u200d♂️|🧝🏿\\u200d♂️|🧝\\u200d♀️|🧝🏻\\u200d♀️|🧝🏼\\u200d♀️|🧝🏽\\u200d♀️|🧝🏾\\u200d♀️|🧝🏿\\u200d♀️|🧞|🧞\\u200d♂️|🧞\\u200d♀️|🧟|🧟\\u200d♂️|🧟\\u200d♀️|💆|💆🏻|💆🏼|💆🏽|💆🏾|💆🏿|💆\\u200d♂️|💆🏻\\u200d♂️|💆🏼\\u200d♂️|💆🏽\\u200d♂️|💆🏾\\u200d♂️|💆🏿\\u200d♂️|💆\\u200d♀️|💆🏻\\u200d♀️|💆🏼\\u200d♀️|💆🏽\\u200d♀️|💆🏾\\u200d♀️|💆🏿\\u200d♀️|💇|💇🏻|💇🏼|💇🏽|💇🏾|💇🏿|💇\\u200d♂️|💇🏻\\u200d♂️|💇🏼\\u200d♂️|💇🏽\\u200d♂️|💇🏾\\u200d♂️|💇🏿\\u200d♂️|💇\\u200d♀️|💇🏻\\u200d♀️|💇🏼\\u200d♀️|💇🏽\\u200d♀️|💇🏾\\u200d♀️|💇🏿\\u200d♀️|🚶|🚶🏻|🚶🏼|🚶🏽|🚶🏾|🚶🏿|🚶\\u200d♂️|🚶🏻\\u200d♂️|🚶🏼\\u200d♂️|🚶🏽\\u200d♂️|🚶🏾\\u200d♂️|🚶🏿\\u200d♂️|🚶\\u200d♀️|🚶🏻\\u200d♀️|🚶🏼\\u200d♀️|🚶🏽\\u200d♀️|🚶🏾\\u200d♀️|🚶🏿\\u200d♀️|\\U0001f9cd|\\U0001f9cd🏻|\\U0001f9cd🏼|\\U0001f9cd🏽|\\U0001f9cd🏾|\\U0001f9cd🏿|\\U0001f9cd\\u200d♂️|\\U0001f9cd🏻\\u200d♂️|\\U0001f9cd🏼\\u200d♂️|\\U0001f9cd🏽\\u200d♂️|\\U0001f9cd🏾\\u200d♂️|\\U0001f9cd🏿\\u200d♂️|\\U0001f9cd\\u200d♀️|\\U0001f9cd🏻\\u200d♀️|\\U0001f9cd🏼\\u200d♀️|\\U0001f9cd🏽\\u200d♀️|\\U0001f9cd🏾\\u200d♀️|\\U0001f9cd🏿\\u200d♀️|\\U0001f9ce|\\U0001f9ce🏻|\\U0001f9ce🏼|\\U0001f9ce🏽|\\U0001f9ce🏾|\\U0001f9ce🏿|\\U0001f9ce\\u200d♂️|\\U0001f9ce🏻\\u200d♂️|\\U0001f9ce🏼\\u200d♂️|\\U0001f9ce🏽\\u200d♂️|\\U0001f9ce🏾\\u200d♂️|\\U0001f9ce🏿\\u200d♂️|\\U0001f9ce\\u200d♀️|\\U0001f9ce🏻\\u200d♀️|\\U0001f9ce🏼\\u200d♀️|\\U0001f9ce🏽\\u200d♀️|\\U0001f9ce🏾\\u200d♀️|\\U0001f9ce🏿\\u200d♀️|🧑\\u200d\\U0001f9af|🧑🏻\\u200d\\U0001f9af|🧑🏼\\u200d\\U0001f9af|🧑🏽\\u200d\\U0001f9af|🧑🏾\\u200d\\U0001f9af|🧑🏿\\u200d\\U0001f9af|👨\\u200d\\U0001f9af|👨🏻\\u200d\\U0001f9af|👨🏼\\u200d\\U0001f9af|👨🏽\\u200d\\U0001f9af|👨🏾\\u200d\\U0001f9af|👨🏿\\u200d\\U0001f9af|👩\\u200d\\U0001f9af|👩🏻\\u200d\\U0001f9af|👩🏼\\u200d\\U0001f9af|👩🏽\\u200d\\U0001f9af|👩🏾\\u200d\\U0001f9af|👩🏿\\u200d\\U0001f9af|🧑\\u200d\\U0001f9bc|🧑🏻\\u200d\\U0001f9bc|🧑🏼\\u200d\\U0001f9bc|🧑🏽\\u200d\\U0001f9bc|🧑🏾\\u200d\\U0001f9bc|🧑🏿\\u200d\\U0001f9bc|👨\\u200d\\U0001f9bc|👨🏻\\u200d\\U0001f9bc|👨🏼\\u200d\\U0001f9bc|👨🏽\\u200d\\U0001f9bc|👨🏾\\u200d\\U0001f9bc|👨🏿\\u200d\\U0001f9bc|👩\\u200d\\U0001f9bc|👩🏻\\u200d\\U0001f9bc|👩🏼\\u200d\\U0001f9bc|👩🏽\\u200d\\U0001f9bc|👩🏾\\u200d\\U0001f9bc|👩🏿\\u200d\\U0001f9bc|🧑\\u200d\\U0001f9bd|🧑🏻\\u200d\\U0001f9bd|🧑🏼\\u200d\\U0001f9bd|🧑🏽\\u200d\\U0001f9bd|🧑🏾\\u200d\\U0001f9bd|🧑🏿\\u200d\\U0001f9bd|👨\\u200d\\U0001f9bd|👨🏻\\u200d\\U0001f9bd|👨🏼\\u200d\\U0001f9bd|👨🏽\\u200d\\U0001f9bd|👨🏾\\u200d\\U0001f9bd|👨🏿\\u200d\\U0001f9bd|👩\\u200d\\U0001f9bd|👩🏻\\u200d\\U0001f9bd|👩🏼\\u200d\\U0001f9bd|👩🏽\\u200d\\U0001f9bd|👩🏾\\u200d\\U0001f9bd|👩🏿\\u200d\\U0001f9bd|🏃|🏃🏻|🏃🏼|🏃🏽|🏃🏾|🏃🏿|🏃\\u200d♂️|🏃🏻\\u200d♂️|🏃🏼\\u200d♂️|🏃🏽\\u200d♂️|🏃🏾\\u200d♂️|🏃🏿\\u200d♂️|🏃\\u200d♀️|🏃🏻\\u200d♀️|🏃🏼\\u200d♀️|🏃🏽\\u200d♀️|🏃🏾\\u200d♀️|🏃🏿\\u200d♀️|💃|💃🏻|💃🏼|💃🏽|💃🏾|💃🏿|🕺|🕺🏻|🕺🏼|🕺🏽|🕺🏾|🕺🏿|🕴️|🕴🏻|🕴🏼|🕴🏽|🕴🏾|🕴🏿|👯|👯\\u200d♂️|👯\\u200d♀️|🧖|🧖🏻|🧖🏼|🧖🏽|🧖🏾|🧖🏿|🧖\\u200d♂️|🧖🏻\\u200d♂️|🧖🏼\\u200d♂️|🧖🏽\\u200d♂️|🧖🏾\\u200d♂️|🧖🏿\\u200d♂️|🧖\\u200d♀️|🧖🏻\\u200d♀️|🧖🏼\\u200d♀️|🧖🏽\\u200d♀️|🧖🏾\\u200d♀️|🧖🏿\\u200d♀️|🧗|🧗🏻|🧗🏼|🧗🏽|🧗🏾|🧗🏿|🧗\\u200d♂️|🧗🏻\\u200d♂️|🧗🏼\\u200d♂️|🧗🏽\\u200d♂️|🧗🏾\\u200d♂️|🧗🏿\\u200d♂️|🧗\\u200d♀️|🧗🏻\\u200d♀️|🧗🏼\\u200d♀️|🧗🏽\\u200d♀️|🧗🏾\\u200d♀️|🧗🏿\\u200d♀️|🤺|🏇|🏇🏻|🏇🏼|🏇🏽|🏇🏾|🏇🏿|⛷️|🏂|🏂🏻|🏂🏼|🏂🏽|🏂🏾|🏂🏿|🏌️|🏌🏻|🏌🏼|🏌🏽|🏌🏾|🏌🏿|🏌️\\u200d♂️|🏌🏻\\u200d♂️|🏌🏼\\u200d♂️|🏌🏽\\u200d♂️|🏌🏾\\u200d♂️|🏌🏿\\u200d♂️|🏌️\\u200d♀️|🏌🏻\\u200d♀️|🏌🏼\\u200d♀️|🏌🏽\\u200d♀️|🏌🏾\\u200d♀️|🏌🏿\\u200d♀️|🏄|🏄🏻|🏄🏼|🏄🏽|🏄🏾|🏄🏿|🏄\\u200d♂️|🏄🏻\\u200d♂️|🏄🏼\\u200d♂️|🏄🏽\\u200d♂️|🏄🏾\\u200d♂️|🏄🏿\\u200d♂️|🏄\\u200d♀️|🏄🏻\\u200d♀️|🏄🏼\\u200d♀️|🏄🏽\\u200d♀️|🏄🏾\\u200d♀️|🏄🏿\\u200d♀️|🚣|🚣🏻|🚣🏼|🚣🏽|🚣🏾|🚣🏿|🚣\\u200d♂️|🚣🏻\\u200d♂️|🚣🏼\\u200d♂️|🚣🏽\\u200d♂️|🚣🏾\\u200d♂️|🚣🏿\\u200d♂️|🚣\\u200d♀️|🚣🏻\\u200d♀️|🚣🏼\\u200d♀️|🚣🏽\\u200d♀️|🚣🏾\\u200d♀️|🚣🏿\\u200d♀️|🏊|🏊🏻|🏊🏼|🏊🏽|🏊🏾|🏊🏿|🏊\\u200d♂️|🏊🏻\\u200d♂️|🏊🏼\\u200d♂️|🏊🏽\\u200d♂️|🏊🏾\\u200d♂️|🏊🏿\\u200d♂️|🏊\\u200d♀️|🏊🏻\\u200d♀️|🏊🏼\\u200d♀️|🏊🏽\\u200d♀️|🏊🏾\\u200d♀️|🏊🏿\\u200d♀️|⛹️|⛹🏻|⛹🏼|⛹🏽|⛹🏾|⛹🏿|⛹️\\u200d♂️|⛹🏻\\u200d♂️|⛹🏼\\u200d♂️|⛹🏽\\u200d♂️|⛹🏾\\u200d♂️|⛹🏿\\u200d♂️|⛹️\\u200d♀️|⛹🏻\\u200d♀️|⛹🏼\\u200d♀️|⛹🏽\\u200d♀️|⛹🏾\\u200d♀️|⛹🏿\\u200d♀️|🏋️|🏋🏻|🏋🏼|🏋🏽|🏋🏾|🏋🏿|🏋️\\u200d♂️|🏋🏻\\u200d♂️|🏋🏼\\u200d♂️|🏋🏽\\u200d♂️|🏋🏾\\u200d♂️|🏋🏿\\u200d♂️|🏋️\\u200d♀️|🏋🏻\\u200d♀️|🏋🏼\\u200d♀️|🏋🏽\\u200d♀️|🏋🏾\\u200d♀️|🏋🏿\\u200d♀️|🚴|🚴🏻|🚴🏼|🚴🏽|🚴🏾|🚴🏿|🚴\\u200d♂️|🚴🏻\\u200d♂️|🚴🏼\\u200d♂️|🚴🏽\\u200d♂️|🚴🏾\\u200d♂️|🚴🏿\\u200d♂️|🚴\\u200d♀️|🚴🏻\\u200d♀️|🚴🏼\\u200d♀️|🚴🏽\\u200d♀️|🚴🏾\\u200d♀️|🚴🏿\\u200d♀️|🚵|🚵🏻|🚵🏼|🚵🏽|🚵🏾|🚵🏿|🚵\\u200d♂️|🚵🏻\\u200d♂️|🚵🏼\\u200d♂️|🚵🏽\\u200d♂️|🚵🏾\\u200d♂️|🚵🏿\\u200d♂️|🚵\\u200d♀️|🚵🏻\\u200d♀️|🚵🏼\\u200d♀️|🚵🏽\\u200d♀️|🚵🏾\\u200d♀️|🚵🏿\\u200d♀️|🤸|🤸🏻|🤸🏼|🤸🏽|🤸🏾|🤸🏿|🤸\\u200d♂️|🤸🏻\\u200d♂️|🤸🏼\\u200d♂️|🤸🏽\\u200d♂️|🤸🏾\\u200d♂️|🤸🏿\\u200d♂️|🤸\\u200d♀️|🤸🏻\\u200d♀️|🤸🏼\\u200d♀️|🤸🏽\\u200d♀️|🤸🏾\\u200d♀️|🤸🏿\\u200d♀️|🤼|🤼\\u200d♂️|🤼\\u200d♀️|🤽|🤽🏻|🤽🏼|🤽🏽|🤽🏾|🤽🏿|🤽\\u200d♂️|🤽🏻\\u200d♂️|🤽🏼\\u200d♂️|🤽🏽\\u200d♂️|🤽🏾\\u200d♂️|🤽🏿\\u200d♂️|🤽\\u200d♀️|🤽🏻\\u200d♀️|🤽🏼\\u200d♀️|🤽🏽\\u200d♀️|🤽🏾\\u200d♀️|🤽🏿\\u200d♀️|🤾|🤾🏻|🤾🏼|🤾🏽|🤾🏾|🤾🏿|🤾\\u200d♂️|🤾🏻\\u200d♂️|🤾🏼\\u200d♂️|🤾🏽\\u200d♂️|🤾🏾\\u200d♂️|🤾🏿\\u200d♂️|🤾\\u200d♀️|🤾🏻\\u200d♀️|🤾🏼\\u200d♀️|🤾🏽\\u200d♀️|🤾🏾\\u200d♀️|🤾🏿\\u200d♀️|🤹|🤹🏻|🤹🏼|🤹🏽|🤹🏾|🤹🏿|🤹\\u200d♂️|🤹🏻\\u200d♂️|🤹🏼\\u200d♂️|🤹🏽\\u200d♂️|🤹🏾\\u200d♂️|🤹🏿\\u200d♂️|🤹\\u200d♀️|🤹🏻\\u200d♀️|🤹🏼\\u200d♀️|🤹🏽\\u200d♀️|🤹🏾\\u200d♀️|🤹🏿\\u200d♀️|🧘|🧘🏻|🧘🏼|🧘🏽|🧘🏾|🧘🏿|🧘\\u200d♂️|🧘🏻\\u200d♂️|🧘🏼\\u200d♂️|🧘🏽\\u200d♂️|🧘🏾\\u200d♂️|🧘🏿\\u200d♂️|🧘\\u200d♀️|🧘🏻\\u200d♀️|🧘🏼\\u200d♀️|🧘🏽\\u200d♀️|🧘🏾\\u200d♀️|🧘🏿\\u200d♀️|🛀|🛀🏻|🛀🏼|🛀🏽|🛀🏾|🛀🏿|🛌|🛌🏻|🛌🏼|🛌🏽|🛌🏾|🛌🏿|🧑\\u200d🤝\\u200d🧑|🧑🏻\\u200d🤝\\u200d🧑🏻|🧑🏻\\u200d🤝\\u200d🧑🏼|🧑🏻\\u200d🤝\\u200d🧑🏽|🧑🏻\\u200d🤝\\u200d🧑🏾|🧑🏻\\u200d🤝\\u200d🧑🏿|🧑🏼\\u200d🤝\\u200d🧑🏻|🧑🏼\\u200d🤝\\u200d🧑🏼|🧑🏼\\u200d🤝\\u200d🧑🏽|🧑🏼\\u200d🤝\\u200d🧑🏾|🧑🏼\\u200d🤝\\u200d🧑🏿|🧑🏽\\u200d🤝\\u200d🧑🏻|🧑🏽\\u200d🤝\\u200d🧑🏼|🧑🏽\\u200d🤝\\u200d🧑🏽|🧑🏽\\u200d🤝\\u200d🧑🏾|🧑🏽\\u200d🤝\\u200d🧑🏿|🧑🏾\\u200d🤝\\u200d🧑🏻|🧑🏾\\u200d🤝\\u200d🧑🏼|🧑🏾\\u200d🤝\\u200d🧑🏽|🧑🏾\\u200d🤝\\u200d🧑🏾|🧑🏾\\u200d🤝\\u200d🧑🏿|🧑🏿\\u200d🤝\\u200d🧑🏻|🧑🏿\\u200d🤝\\u200d🧑🏼|🧑🏿\\u200d🤝\\u200d🧑🏽|🧑🏿\\u200d🤝\\u200d🧑🏾|🧑🏿\\u200d🤝\\u200d🧑🏿|👭|👭🏻|👩🏻\\u200d🤝\\u200d👩🏼|👩🏻\\u200d🤝\\u200d👩🏽|👩🏻\\u200d🤝\\u200d👩🏾|👩🏻\\u200d🤝\\u200d👩🏿|👩🏼\\u200d🤝\\u200d👩🏻|👭🏼|👩🏼\\u200d🤝\\u200d👩🏽|👩🏼\\u200d🤝\\u200d👩🏾|👩🏼\\u200d🤝\\u200d👩🏿|👩🏽\\u200d🤝\\u200d👩🏻|👩🏽\\u200d🤝\\u200d👩🏼|👭🏽|👩🏽\\u200d🤝\\u200d👩🏾|👩🏽\\u200d🤝\\u200d👩🏿|👩🏾\\u200d🤝\\u200d👩🏻|👩🏾\\u200d🤝\\u200d👩🏼|👩🏾\\u200d🤝\\u200d👩🏽|👭🏾|👩🏾\\u200d🤝\\u200d👩🏿|👩🏿\\u200d🤝\\u200d👩🏻|👩🏿\\u200d🤝\\u200d👩🏼|👩🏿\\u200d🤝\\u200d👩🏽|👩🏿\\u200d🤝\\u200d👩🏾|👭🏿|👫|👫🏻|👩🏻\\u200d🤝\\u200d👨🏼|👩🏻\\u200d🤝\\u200d👨🏽|👩🏻\\u200d🤝\\u200d👨🏾|👩🏻\\u200d🤝\\u200d👨🏿|👩🏼\\u200d🤝\\u200d👨🏻|👫🏼|👩🏼\\u200d🤝\\u200d👨🏽|👩🏼\\u200d🤝\\u200d👨🏾|👩🏼\\u200d🤝\\u200d👨🏿|👩🏽\\u200d🤝\\u200d👨🏻|👩🏽\\u200d🤝\\u200d👨🏼|👫🏽|👩🏽\\u200d🤝\\u200d👨🏾|👩🏽\\u200d🤝\\u200d👨🏿|👩🏾\\u200d🤝\\u200d👨🏻|👩🏾\\u200d🤝\\u200d👨🏼|👩🏾\\u200d🤝\\u200d👨🏽|👫🏾|👩🏾\\u200d🤝\\u200d👨🏿|👩🏿\\u200d🤝\\u200d👨🏻|👩🏿\\u200d🤝\\u200d👨🏼|👩🏿\\u200d🤝\\u200d👨🏽|👩🏿\\u200d🤝\\u200d👨🏾|👫🏿|👬|👬🏻|👨🏻\\u200d🤝\\u200d👨🏼|👨🏻\\u200d🤝\\u200d👨🏽|👨🏻\\u200d🤝\\u200d👨🏾|👨🏻\\u200d🤝\\u200d👨🏿|👨🏼\\u200d🤝\\u200d👨🏻|👬🏼|👨🏼\\u200d🤝\\u200d👨🏽|👨🏼\\u200d🤝\\u200d👨🏾|👨🏼\\u200d🤝\\u200d👨🏿|👨🏽\\u200d🤝\\u200d👨🏻|👨🏽\\u200d🤝\\u200d👨🏼|👬🏽|👨🏽\\u200d🤝\\u200d👨🏾|👨🏽\\u200d🤝\\u200d👨🏿|👨🏾\\u200d🤝\\u200d👨🏻|👨🏾\\u200d🤝\\u200d👨🏼|👨🏾\\u200d🤝\\u200d👨🏽|👬🏾|👨🏾\\u200d🤝\\u200d👨🏿|👨🏿\\u200d🤝\\u200d👨🏻|👨🏿\\u200d🤝\\u200d👨🏼|👨🏿\\u200d🤝\\u200d👨🏽|👨🏿\\u200d🤝\\u200d👨🏾|👬🏿|💏|👩\\u200d❤️\\u200d💋\\u200d👨|👨\\u200d❤️\\u200d💋\\u200d👨|👩\\u200d❤️\\u200d💋\\u200d👩|💑|👩\\u200d❤️\\u200d👨|👨\\u200d❤️\\u200d👨|👩\\u200d❤️\\u200d👩|👪|👨\\u200d👩\\u200d👦|👨\\u200d👩\\u200d👧|👨\\u200d👩\\u200d👧\\u200d👦|👨\\u200d👩\\u200d👦\\u200d👦|👨\\u200d👩\\u200d👧\\u200d👧|👨\\u200d👨\\u200d👦|👨\\u200d👨\\u200d👧|👨\\u200d👨\\u200d👧\\u200d👦|👨\\u200d👨\\u200d👦\\u200d👦|👨\\u200d👨\\u200d👧\\u200d👧|👩\\u200d👩\\u200d👦|👩\\u200d👩\\u200d👧|👩\\u200d👩\\u200d👧\\u200d👦|👩\\u200d👩\\u200d👦\\u200d👦|👩\\u200d👩\\u200d👧\\u200d👧|👨\\u200d👦|👨\\u200d👦\\u200d👦|👨\\u200d👧|👨\\u200d👧\\u200d👦|👨\\u200d👧\\u200d👧|👩\\u200d👦|👩\\u200d👦\\u200d👦|👩\\u200d👧|👩\\u200d👧\\u200d👦|👩\\u200d👧\\u200d👧|🗣️|👤|👥|\\U0001fac2|👣|🏻|🏼|🏽|🏾|🏿|🦰|🦱|🦳|🦲|🐵|🐒|🦍|\\U0001f9a7|🐶|🐕|\\U0001f9ae|🐕\\u200d\\U0001f9ba|🐩|🐺|🦊|🦝|🐱|🐈|🐈\\u200d⬛|🦁|🐯|🐅|🐆|🐴|🐎|🦄|🦓|🦌|\\U0001f9ac|🐮|🐂|🐃|🐄|🐷|🐖|🐗|🐽|🐏|🐑|🐐|🐪|🐫|🦙|🦒|🐘|\\U0001f9a3|🦏|🦛|🐭|🐁|🐀|🐹|🐰|🐇|🐿️|\\U0001f9ab|🦔|🦇|🐻|🐻\\u200d❄️|🐨|🐼|\\U0001f9a5|\\U0001f9a6|\\U0001f9a8|🦘|🦡|🐾|🦃|🐔|🐓|🐣|🐤|🐥|🐦|🐧|🕊️|🦅|🦆|🦢|🦉|\\U0001f9a4|\\U0001fab6|\\U0001f9a9|🦚|🦜|🐸|🐊|🐢|🦎|🐍|🐲|🐉|🦕|🦖|🐳|🐋|🐬|\\U0001f9ad|🐟|🐠|🐡|🦈|🐙|🐚|🐌|🦋|🐛|🐜|🐝|\\U0001fab2|🐞|🦗|\\U0001fab3|🕷️|🕸️|🦂|🦟|\\U0001fab0|\\U0001fab1|🦠|💐|🌸|💮|🏵️|🌹|🥀|🌺|🌻|🌼|🌷|🌱|\\U0001fab4|🌲|🌳|🌴|🌵|🌾|🌿|☘️|🍀|🍁|🍂|🍃|🍇|🍈|🍉|🍊|🍋|🍌|🍍|🥭|🍎|🍏|🍐|🍑|🍒|🍓|\\U0001fad0|🥝|🍅|\\U0001fad2|🥥|🥑|🍆|🥔|🥕|🌽|🌶️|\\U0001fad1|🥒|🥬|🥦|\\U0001f9c4|\\U0001f9c5|🍄|🥜|🌰|🍞|🥐|🥖|\\U0001fad3|🥨|🥯|🥞|\\U0001f9c7|🧀|🍖|🍗|🥩|🥓|🍔|🍟|🍕|🌭|🥪|🌮|🌯|\\U0001fad4|🥙|\\U0001f9c6|🥚|🍳|🥘|🍲|\\U0001fad5|🥣|🥗|🍿|\\U0001f9c8|🧂|🥫|🍱|🍘|🍙|🍚|🍛|🍜|🍝|🍠|🍢|🍣|🍤|🍥|🥮|🍡|🥟|🥠|🥡|🦀|🦞|🦐|🦑|\\U0001f9aa|🍦|🍧|🍨|🍩|🍪|🎂|🍰|🧁|🥧|🍫|🍬|🍭|🍮|🍯|🍼|🥛|☕|\\U0001fad6|🍵|🍶|🍾|🍷|🍸|🍹|🍺|🍻|🥂|🥃|🥤|\\U0001f9cb|\\U0001f9c3|\\U0001f9c9|\\U0001f9ca|🥢|🍽️|🍴|🥄|🔪|🏺|🌍|🌎|🌏|🌐|🗺️|🗾|🧭|🏔️|⛰️|🌋|🗻|🏕️|🏖️|🏜️|🏝️|🏞️|🏟️|🏛️|🏗️|🧱|\\U0001faa8|\\U0001fab5|\\U0001f6d6|🏘️|🏚️|🏠|🏡|🏢|🏣|🏤|🏥|🏦|🏨|🏩|🏪|🏫|🏬|🏭|🏯|🏰|💒|🗼|🗽|⛪|🕌|\\U0001f6d5|🕍|⛩️|🕋|⛲|⛺|🌁|🌃|🏙️|🌄|🌅|🌆|🌇|🌉|♨️|🎠|🎡|🎢|💈|🎪|🚂|🚃|🚄|🚅|🚆|🚇|🚈|🚉|🚊|🚝|🚞|🚋|🚌|🚍|🚎|🚐|🚑|🚒|🚓|🚔|🚕|🚖|🚗|🚘|🚙|\\U0001f6fb|🚚|🚛|🚜|🏎️|🏍️|🛵|\\U0001f9bd|\\U0001f9bc|\\U0001f6fa|🚲|🛴|🛹|\\U0001f6fc|🚏|🛣️|🛤️|🛢️|⛽|🚨|🚥|🚦|🛑|🚧|⚓|⛵|🛶|🚤|🛳️|⛴️|🛥️|🚢|✈️|🛩️|🛫|🛬|\\U0001fa82|💺|🚁|🚟|🚠|🚡|🛰️|🚀|🛸|🛎️|🧳|⌛|⏳|⌚|⏰|⏱️|⏲️|🕰️|🕛|🕧|🕐|🕜|🕑|🕝|🕒|🕞|🕓|🕟|🕔|🕠|🕕|🕡|🕖|🕢|🕗|🕣|🕘|🕤|🕙|🕥|🕚|🕦|🌑|🌒|🌓|🌔|🌕|🌖|🌗|🌘|🌙|🌚|🌛|🌜|🌡️|☀️|🌝|🌞|\\U0001fa90|⭐|🌟|🌠|🌌|☁️|⛅|⛈️|🌤️|🌥️|🌦️|🌧️|🌨️|🌩️|🌪️|🌫️|🌬️|🌀|🌈|🌂|☂️|☔|⛱️|⚡|❄️|☃️|⛄|☄️|🔥|💧|🌊|🎃|🎄|🎆|🎇|🧨|✨|🎈|🎉|🎊|🎋|🎍|🎎|🎏|🎐|🎑|🧧|🎀|🎁|🎗️|🎟️|🎫|🎖️|🏆|🏅|🥇|🥈|🥉|⚽|⚾|🥎|🏀|🏐|🏈|🏉|🎾|🥏|🎳|🏏|🏑|🏒|🥍|🏓|🏸|🥊|🥋|🥅|⛳|⛸️|🎣|\\U0001f93f|🎽|🎿|🛷|🥌|🎯|\\U0001fa80|\\U0001fa81|🎱|🔮|\\U0001fa84|🧿|🎮|🕹️|🎰|🎲|🧩|🧸|\\U0001fa85|\\U0001fa86|♠️|♥️|♦️|♣️|♟️|🃏|🀄|🎴|🎭|🖼️|🎨|🧵|\\U0001faa1|🧶|\\U0001faa2|👓|🕶️|🥽|🥼|\\U0001f9ba|👔|👕|👖|🧣|🧤|🧥|🧦|👗|👘|\\U0001f97b|\\U0001fa71|\\U0001fa72|\\U0001fa73|👙|👚|👛|👜|👝|🛍️|🎒|\\U0001fa74|👞|👟|🥾|🥿|👠|👡|\\U0001fa70|👢|👑|👒|🎩|🎓|🧢|\\U0001fa96|⛑️|📿|💄|💍|💎|🔇|🔈|🔉|🔊|📢|📣|📯|🔔|🔕|🎼|🎵|🎶|🎙️|🎚️|🎛️|🎤|🎧|📻|🎷|\\U0001fa97|🎸|🎹|🎺|🎻|\\U0001fa95|🥁|\\U0001fa98|📱|📲|☎️|📞|📟|📠|🔋|🔌|💻|🖥️|🖨️|⌨️|🖱️|🖲️|💽|💾|💿|📀|🧮|🎥|🎞️|📽️|🎬|📺|📷|📸|📹|📼|🔍|🔎|🕯️|💡|🔦|🏮|\\U0001fa94|📔|📕|📖|📗|📘|📙|📚|📓|📒|📃|📜|📄|📰|🗞️|📑|🔖|🏷️|💰|\\U0001fa99|💴|💵|💶|💷|💸|💳|🧾|💹|✉️|📧|📨|📩|📤|📥|📦|📫|📪|📬|📭|📮|🗳️|✏️|✒️|🖋️|🖊️|🖌️|🖍️|📝|💼|📁|📂|🗂️|📅|📆|🗒️|🗓️|📇|📈|📉|📊|📋|📌|📍|📎|🖇️|📏|📐|✂️|🗃️|🗄️|🗑️|🔒|🔓|🔏|🔐|🔑|🗝️|🔨|\\U0001fa93|⛏️|⚒️|🛠️|🗡️|⚔️|🔫|\\U0001fa83|🏹|🛡️|\\U0001fa9a|🔧|\\U0001fa9b|🔩|⚙️|🗜️|⚖️|\\U0001f9af|🔗|⛓️|\\U0001fa9d|🧰|🧲|\\U0001fa9c|⚗️|🧪|🧫|🧬|🔬|🔭|📡|💉|\\U0001fa78|💊|\\U0001fa79|\\U0001fa7a|🚪|\\U0001f6d7|\\U0001fa9e|\\U0001fa9f|🛏️|🛋️|\\U0001fa91|🚽|\\U0001faa0|🚿|🛁|\\U0001faa4|\\U0001fa92|🧴|🧷|🧹|🧺|🧻|\\U0001faa3|🧼|\\U0001faa5|🧽|🧯|🛒|🚬|⚰️|\\U0001faa6|⚱️|🗿|\\U0001faa7|🏧|🚮|🚰|♿|🚹|🚺|🚻|🚼|🚾|🛂|🛃|🛄|🛅|⚠️|🚸|⛔|🚫|🚳|🚭|🚯|🚱|🚷|📵|🔞|☢️|☣️|⬆️|↗️|➡️|↘️|⬇️|↙️|⬅️|↖️|↕️|↔️|↩️|↪️|⤴️|⤵️|🔃|🔄|🔙|🔚|🔛|🔜|🔝|🛐|⚛️|🕉️|✡️|☸️|☯️|✝️|☦️|☪️|☮️|🕎|🔯|♈|♉|♊|♋|♌|♍|♎|♏|♐|♑|♒|♓|⛎|🔀|🔁|🔂|▶️|⏩|⏭️|⏯️|◀️|⏪|⏮️|🔼|⏫|🔽|⏬|⏸️|⏹️|⏺️|⏏️|🎦|🔅|🔆|📶|📳|📴|♀️|♂️|⚧️|✖️|➕|➖|➗|♾️|‼️|⁉️|❓|❔|❕|❗|〰️|💱|💲|⚕️|♻️|⚜️|🔱|📛|🔰|⭕|✅|☑️|✔️|❌|❎|➰|➿|〽️|✳️|✴️|❇️|©️|®️|™️|\\*️⃣|0️⃣|1️⃣|2️⃣|3️⃣|4️⃣|5️⃣|6️⃣|7️⃣|8️⃣|9️⃣|🔟|🔠|🔡|🔢|🔣|🔤|🅰️|🆎|🅱️|🆑|🆒|🆓|ℹ️|🆔|Ⓜ️|🆕|🆖|🅾️|🆗|🅿️|🆘|🆙|🆚|🈁|🈂️|🈷️|🈶|🈯|🉐|🈹|🈚|🈲|🉑|🈸|🈴|🈳|㊗️|㊙️|🈺|🈵|🔴|\\U0001f7e0|\\U0001f7e1|\\U0001f7e2|🔵|\\U0001f7e3|\\U0001f7e4|⚫|⚪|\\U0001f7e5|\\U0001f7e7|\\U0001f7e8|\\U0001f7e9|\\U0001f7e6|\\U0001f7ea|\\U0001f7eb|⬛|⬜|◼️|◻️|◾|◽|▪️|▫️|🔶|🔷|🔸|🔹|🔺|🔻|💠|🔘|🔳|🔲|🏁|🚩|🎌|🏴|🏳️|🏳️\\u200d🌈|🏳️\\u200d⚧️|🏴\\u200d☠️|🇦🇨|🇦🇩|🇦🇪|🇦🇫|🇦🇬|🇦🇮|🇦🇱|🇦🇲|🇦🇴|🇦🇶|🇦🇷|🇦🇸|🇦🇹|🇦🇺|🇦🇼|🇦🇽|🇦🇿|🇧🇦|🇧🇧|🇧🇩|🇧🇪|🇧🇫|🇧🇬|🇧🇭|🇧🇮|🇧🇯|🇧🇱|🇧🇲|🇧🇳|🇧🇴|🇧🇶|🇧🇷|🇧🇸|🇧🇹|🇧🇻|🇧🇼|🇧🇾|🇧🇿|🇨🇦|🇨🇨|🇨🇩|🇨🇫|🇨🇬|🇨🇭|🇨🇮|🇨🇰|🇨🇱|🇨🇲|🇨🇳|🇨🇴|🇨🇵|🇨🇷|🇨🇺|🇨🇻|🇨🇼|🇨🇽|🇨🇾|🇨🇿|🇩🇪|🇩🇬|🇩🇯|🇩🇰|🇩🇲|🇩🇴|🇩🇿|🇪🇦|🇪🇨|🇪🇪|🇪🇬|🇪🇭|🇪🇷|🇪🇸|🇪🇹|🇪🇺|🇫🇮|🇫🇯|🇫🇰|🇫🇲|🇫🇴|🇫🇷|🇬🇦|🇬🇧|🇬🇩|🇬🇪|🇬🇫|🇬🇬|🇬🇭|🇬🇮|🇬🇱|🇬🇲|🇬🇳|🇬🇵|🇬🇶|🇬🇷|🇬🇸|🇬🇹|🇬🇺|🇬🇼|🇬🇾|🇭🇰|🇭🇲|🇭🇳|🇭🇷|🇭🇹|🇭🇺|🇮🇨|🇮🇩|🇮🇪|🇮🇱|🇮🇲|🇮🇳|🇮🇴|🇮🇶|🇮🇷|🇮🇸|🇮🇹|🇯🇪|🇯🇲|🇯🇴|🇯🇵|🇰🇪|🇰🇬|🇰🇭|🇰🇮|🇰🇲|🇰🇳|🇰🇵|🇰🇷|🇰🇼|🇰🇾|🇰🇿|🇱🇦|🇱🇧|🇱🇨|🇱🇮|🇱🇰|🇱🇷|🇱🇸|🇱🇹|🇱🇺|🇱🇻|🇱🇾|🇲🇦|🇲🇨|🇲🇩|🇲🇪|🇲🇫|🇲🇬|🇲🇭|🇲🇰|🇲🇱|🇲🇲|🇲🇳|🇲🇴|🇲🇵|🇲🇶|🇲🇷|🇲🇸|🇲🇹|🇲🇺|🇲🇻|🇲🇼|🇲🇽|🇲🇾|🇲🇿|🇳🇦|🇳🇨|🇳🇪|🇳🇫|🇳🇬|🇳🇮|🇳🇱|🇳🇴|🇳🇵|🇳🇷|🇳🇺|🇳🇿|🇴🇲|🇵🇦|🇵🇪|🇵🇫|🇵🇬|🇵🇭|🇵🇰|🇵🇱|🇵🇲|🇵🇳|🇵🇷|🇵🇸|🇵🇹|🇵🇼|🇵🇾|🇶🇦|🇷🇪|🇷🇴|🇷🇸|🇷🇺|🇷🇼|🇸🇦|🇸🇧|🇸🇨|🇸🇩|🇸🇪|🇸🇬|🇸🇭|🇸🇮|🇸🇯|🇸🇰|🇸🇱|🇸🇲|🇸🇳|🇸🇴|🇸🇷|🇸🇸|🇸🇹|🇸🇻|🇸🇽|🇸🇾|🇸🇿|🇹🇦|🇹🇨|🇹🇩|🇹🇫|🇹🇬|🇹🇭|🇹🇯|🇹🇰|🇹🇱|🇹🇲|🇹🇳|🇹🇴|🇹🇷|🇹🇹|🇹🇻|🇹🇼|🇹🇿|🇺🇦|🇺🇬|🇺🇲|🇺🇳|🇺🇸|🇺🇾|🇺🇿|🇻🇦|🇻🇨|🇻🇪|🇻🇬|🇻🇮|🇻🇳|🇻🇺|🇼🇫|🇼🇸|🇽🇰|🇾🇪|🇾🇹|🇿🇦|🇿🇲|🇿🇼|🏴\\U000e0067\\U000e0062\\U000e0065\\U000e006e\\U000e0067\\U000e007f|🏴\\U000e0067\\U000e0062\\U000e0073\\U000e0063\\U000e0074\\U000e007f|🏴\\U000e0067\\U000e0062\\U000e0077\\U000e006c\\U000e0073\\U000e007f',\n",
              "re.UNICODE)"
            ]
          },
          "metadata": {
            "tags": []
          },
          "execution_count": 153
        }
      ]
    },
    {
      "cell_type": "code",
      "metadata": {
        "id": "KTNQeXgEvXPk"
      },
      "source": [
        "#Copy a dataset\n",
        "whatsapp_df2 = whatsapp_df.copy()\n",
        "\n",
        "#Count the number of emoji\n",
        "emoji_ctr = Counter()\n",
        "emojis_list = map(lambda x: ''.join(x.split()),list(emoji.UNICODE_EMOJI['es'].keys())+list(emoji.UNICODE_EMOJI['en'].keys()) +\n",
        "                  list(emoji.UNICODE_EMOJI['pt'].keys())+list(emoji.UNICODE_EMOJI['it'].keys())) #UNICODE_EMOJI class have a thee emoji code inside\n",
        "r = re.compile('|'.join(re.escape(p) for p in emojis_list))\n",
        "for idx, row in whatsapp_df2.iterrows():\n",
        "    emojis_found = r.findall(row[\"message\"]) #The findall() is a functions for regex that help to find a matches \n",
        "    for emoji_found in emojis_found:\n",
        "        emoji_ctr[emoji_found] += 1\n",
        "    \n",
        "    \n",
        "   "
      ],
      "execution_count": null,
      "outputs": []
    },
    {
      "cell_type": "markdown",
      "metadata": {
        "id": "i9Q4eSL8vXPk"
      },
      "source": [
        "As you can see when already rendered the emoji from the **whatsapp_df2** and also successfully put in the dataframe table.Now all we need to do is just put in the Pie chart as our data visualization."
      ]
    },
    {
      "cell_type": "code",
      "metadata": {
        "id": "LCETIAxYArl6"
      },
      "source": [
        "#Copy a dataset\n",
        "whatsapp_df2 = whatsapp_df.copy()\n",
        "\n",
        "#Count the number of emoji\n",
        "emoji_ctr = Counter()\n",
        "emojis_list = map(lambda x: ''.join(x.split()),list(emoji.UNICODE_EMOJI['en'].keys())) #UNICODE_EMOJI class have a thee emoji code inside\n",
        "r = re.compile('|'.join(re.escape(p) for p in emojis_list))\n",
        "for idx, row in whatsapp_df2.iterrows():\n",
        "    emojis_found = r.findall(row[\"message\"]) #The findall() is a functions for regex that help to find a matches \n",
        "    for emoji_found in emojis_found:\n",
        "        emoji_ctr[emoji_found] += 1"
      ],
      "execution_count": null,
      "outputs": []
    },
    {
      "cell_type": "code",
      "metadata": {
        "id": "k_t73omRFdb0"
      },
      "source": [
        "del emoji_ctr['\\U0001f971']\n",
        "del emoji_ctr['\\U0001f972']\n",
        "del emoji_ctr['\\U0001f9a5']\n",
        "del emoji_ctr['\\U0001f9a7']"
      ],
      "execution_count": null,
      "outputs": []
    },
    {
      "cell_type": "code",
      "metadata": {
        "colab": {
          "base_uri": "https://localhost:8080/"
        },
        "id": "v8jfofthD6bg",
        "outputId": "6452c7d7-bb2d-4955-c4a6-7932071baaf0"
      },
      "source": [
        "emoji_ctr"
      ],
      "execution_count": null,
      "outputs": [
        {
          "output_type": "execute_result",
          "data": {
            "text/plain": [
              "Counter({'☔': 1,\n",
              "         '☠️': 2,\n",
              "         '☹️': 77,\n",
              "         '♥️': 1,\n",
              "         '✋': 4,\n",
              "         '❕': 2,\n",
              "         '❤️': 99,\n",
              "         '➖': 8,\n",
              "         '🃏': 1,\n",
              "         '🌂': 4,\n",
              "         '🌚': 9,\n",
              "         '🌛': 1,\n",
              "         '🌜': 3,\n",
              "         '🌝': 24,\n",
              "         '🌶️': 1,\n",
              "         '🍃': 1,\n",
              "         '🍑': 1,\n",
              "         '🍫': 4,\n",
              "         '🍰': 3,\n",
              "         '🍺': 2,\n",
              "         '🍻': 2,\n",
              "         '🎂': 14,\n",
              "         '🎄': 1,\n",
              "         '🎉': 59,\n",
              "         '🎊': 2,\n",
              "         '🏟️': 1,\n",
              "         '🏳️': 1,\n",
              "         '🐍': 88,\n",
              "         '🐐': 6,\n",
              "         '🐷': 1,\n",
              "         '👁️': 4,\n",
              "         '👃': 2,\n",
              "         '👄': 1,\n",
              "         '👅': 1,\n",
              "         '👉': 1,\n",
              "         '👊': 2,\n",
              "         '👋': 2,\n",
              "         '👌': 38,\n",
              "         '👍': 95,\n",
              "         '👎': 1,\n",
              "         '👏': 24,\n",
              "         '👑': 1,\n",
              "         '👖': 1,\n",
              "         '👟': 2,\n",
              "         '👻': 1,\n",
              "         '💀': 3,\n",
              "         '💁': 1,\n",
              "         '💃': 1,\n",
              "         '💔': 4,\n",
              "         '💗': 1,\n",
              "         '💙': 4,\n",
              "         '💣': 1,\n",
              "         '💥': 2,\n",
              "         '💪': 14,\n",
              "         '💯': 22,\n",
              "         '🔥': 1036,\n",
              "         '🕺': 15,\n",
              "         '🖕': 1,\n",
              "         '🗣': 5,\n",
              "         '🗣️': 15,\n",
              "         '😀': 9,\n",
              "         '😁': 29,\n",
              "         '😂': 2031,\n",
              "         '😃': 1,\n",
              "         '😄': 2,\n",
              "         '😅': 329,\n",
              "         '😆': 4,\n",
              "         '😇': 9,\n",
              "         '😈': 6,\n",
              "         '😉': 5,\n",
              "         '😊': 6,\n",
              "         '😋': 6,\n",
              "         '😌': 32,\n",
              "         '😍': 53,\n",
              "         '😎': 66,\n",
              "         '😏': 87,\n",
              "         '😐': 11,\n",
              "         '😑': 158,\n",
              "         '😒': 74,\n",
              "         '😓': 7,\n",
              "         '😔': 44,\n",
              "         '😕': 79,\n",
              "         '😖': 3,\n",
              "         '😗': 1,\n",
              "         '😛': 19,\n",
              "         '😜': 15,\n",
              "         '😝': 4,\n",
              "         '😞': 5,\n",
              "         '😟': 1,\n",
              "         '😠': 1,\n",
              "         '😡': 33,\n",
              "         '😢': 100,\n",
              "         '😣': 1,\n",
              "         '😤': 108,\n",
              "         '😥': 13,\n",
              "         '😧': 2,\n",
              "         '😨': 9,\n",
              "         '😩': 4,\n",
              "         '😪': 1,\n",
              "         '😫': 5,\n",
              "         '😬': 80,\n",
              "         '😭': 553,\n",
              "         '😮': 28,\n",
              "         '😯': 12,\n",
              "         '😰': 17,\n",
              "         '😱': 24,\n",
              "         '😲': 79,\n",
              "         '😳': 13,\n",
              "         '😵': 11,\n",
              "         '😶': 227,\n",
              "         '😷': 1,\n",
              "         '😸': 1,\n",
              "         '🙁': 27,\n",
              "         '🙂': 6,\n",
              "         '🙃': 33,\n",
              "         '🙄': 197,\n",
              "         '🙆': 2,\n",
              "         '🙇': 1,\n",
              "         '🙈': 10,\n",
              "         '🙋': 5,\n",
              "         '🙏': 64,\n",
              "         '🤐': 2,\n",
              "         '🤑': 1,\n",
              "         '🤓': 3,\n",
              "         '🤔': 46,\n",
              "         '🤕': 8,\n",
              "         '🤗': 4,\n",
              "         '🤘': 8,\n",
              "         '🤛': 1,\n",
              "         '🤜': 1,\n",
              "         '🤝': 10,\n",
              "         '🤟': 66,\n",
              "         '🤠': 2,\n",
              "         '🤡': 12,\n",
              "         '🤢': 4,\n",
              "         '🤣': 123,\n",
              "         '🤥': 10,\n",
              "         '🤦': 439,\n",
              "         '🤧': 2,\n",
              "         '🤨': 12,\n",
              "         '🤩': 38,\n",
              "         '🤪': 1,\n",
              "         '🤫': 4,\n",
              "         '🤬': 57,\n",
              "         '🤭': 28,\n",
              "         '🤮': 13,\n",
              "         '🤯': 150,\n",
              "         '🤷': 22,\n",
              "         '🥰': 14,\n",
              "         '🥳': 125,\n",
              "         '🥴': 43,\n",
              "         '🥵': 3,\n",
              "         '🥶': 2,\n",
              "         '🥺': 48,\n",
              "         '🦊': 3,\n",
              "         '🧐': 25,\n",
              "         '🧠': 1,\n",
              "         '🧡': 8})"
            ]
          },
          "metadata": {
            "tags": []
          },
          "execution_count": 208
        }
      ]
    },
    {
      "cell_type": "code",
      "metadata": {
        "colab": {
          "base_uri": "https://localhost:8080/"
        },
        "id": "XOl8z9KzvXPk",
        "outputId": "9e67d5fb-81bc-4a0c-fb15-9be8fce5948a"
      },
      "source": [
        "#This will help to create or rendered the emoji \n",
        "emojis_df = pd.DataFrame() #The reason to use pd.dataframe is we want to put the emojis_df into the dataframe tables\n",
        "emojis_df['emoji'] = [''] * 10\n",
        "emojis_df['number_of_Emoji'] = [0] * 10\n",
        "\n",
        "i = 0\n",
        "for item in emoji_ctr.most_common(10):\n",
        "    emojis_df.emoji[i] = item[0]\n",
        "    emojis_df.number_of_Emoji[i] = int(item[1])\n",
        "  \n",
        "    i += 1\n",
        "\n",
        "print(emojis_df)"
      ],
      "execution_count": null,
      "outputs": [
        {
          "output_type": "stream",
          "text": [
            "  emoji  number_of_Emoji\n",
            "0     😂             2031\n",
            "1     🔥             1036\n",
            "2     😭              553\n",
            "3     🤦              439\n",
            "4     😅              329\n",
            "5     😶              227\n",
            "6     🙄              197\n",
            "7     😑              158\n",
            "8     🤯              150\n",
            "9     🥳              125\n"
          ],
          "name": "stdout"
        },
        {
          "output_type": "stream",
          "text": [
            "/usr/local/lib/python3.7/dist-packages/ipykernel_launcher.py:8: SettingWithCopyWarning:\n",
            "\n",
            "\n",
            "A value is trying to be set on a copy of a slice from a DataFrame\n",
            "\n",
            "See the caveats in the documentation: https://pandas.pydata.org/pandas-docs/stable/user_guide/indexing.html#returning-a-view-versus-a-copy\n",
            "\n",
            "/usr/local/lib/python3.7/dist-packages/ipykernel_launcher.py:9: SettingWithCopyWarning:\n",
            "\n",
            "\n",
            "A value is trying to be set on a copy of a slice from a DataFrame\n",
            "\n",
            "See the caveats in the documentation: https://pandas.pydata.org/pandas-docs/stable/user_guide/indexing.html#returning-a-view-versus-a-copy\n",
            "\n"
          ],
          "name": "stderr"
        }
      ]
    },
    {
      "cell_type": "markdown",
      "metadata": {
        "id": "McHVcUjHvXPk"
      },
      "source": [
        "Before we go into each of the users to determine which emoji is widely used by the user. We need to look at the overall emoji that have been used from all of the users. As you can see on the results, the most widely use emoji among the three users is Face with **Tears of Joy** that stand around **38.7%** from the overall. So we can agree that most of the time the user will use Face with **Tears of Joy Emoji** in this group chat\n",
        "\n",
        "**Bouns tips**\n",
        "\n",
        "We will use plotly to create our pie-charts for Emojis\n",
        "Learn more: https://plotly.com/python/pie-charts/"
      ]
    },
    {
      "cell_type": "code",
      "metadata": {
        "colab": {
          "base_uri": "https://localhost:8080/",
          "height": 542
        },
        "id": "HVQ1bd_IvXPl",
        "outputId": "ab09c0e9-d737-440d-b7d2-f27f4f77c889"
      },
      "source": [
        "#This pei chart give us and ideas the overall view of which emoji use the most\n",
        "fig = px.pie(emojis_df, values='number_of_Emoji', names='emoji',title='Emoji percentage used in chat group')\n",
        "fig.update_traces(textposition='inside', textinfo='percent+label')\n",
        "fig.show()"
      ],
      "execution_count": null,
      "outputs": [
        {
          "output_type": "display_data",
          "data": {
            "text/html": [
              "<html>\n",
              "<head><meta charset=\"utf-8\" /></head>\n",
              "<body>\n",
              "    <div>\n",
              "            <script src=\"https://cdnjs.cloudflare.com/ajax/libs/mathjax/2.7.5/MathJax.js?config=TeX-AMS-MML_SVG\"></script><script type=\"text/javascript\">if (window.MathJax) {MathJax.Hub.Config({SVG: {font: \"STIX-Web\"}});}</script>\n",
              "                <script type=\"text/javascript\">window.PlotlyConfig = {MathJaxConfig: 'local'};</script>\n",
              "        <script src=\"https://cdn.plot.ly/plotly-latest.min.js\"></script>    \n",
              "            <div id=\"9865b660-0db5-4498-9957-06231627314b\" class=\"plotly-graph-div\" style=\"height:525px; width:100%;\"></div>\n",
              "            <script type=\"text/javascript\">\n",
              "                \n",
              "                    window.PLOTLYENV=window.PLOTLYENV || {};\n",
              "                    \n",
              "                if (document.getElementById(\"9865b660-0db5-4498-9957-06231627314b\")) {\n",
              "                    Plotly.newPlot(\n",
              "                        '9865b660-0db5-4498-9957-06231627314b',\n",
              "                        [{\"domain\": {\"x\": [0.0, 1.0], \"y\": [0.0, 1.0]}, \"hoverlabel\": {\"namelength\": 0}, \"hovertemplate\": \"emoji=%{label}<br>number_of_Emoji=%{value}\", \"labels\": [\"\\ud83d\\ude02\", \"\\ud83d\\udd25\", \"\\ud83d\\ude2d\", \"\\ud83e\\udd26\", \"\\ud83d\\ude05\", \"\\ud83d\\ude36\", \"\\ud83d\\ude44\", \"\\ud83d\\ude11\", \"\\ud83e\\udd2f\", \"\\ud83e\\udd73\"], \"legendgroup\": \"\", \"name\": \"\", \"showlegend\": true, \"textinfo\": \"percent+label\", \"textposition\": \"inside\", \"type\": \"pie\", \"values\": [2031, 1036, 553, 439, 329, 227, 197, 158, 150, 125]}],\n",
              "                        {\"legend\": {\"tracegroupgap\": 0}, \"template\": {\"data\": {\"bar\": [{\"error_x\": {\"color\": \"#2a3f5f\"}, \"error_y\": {\"color\": \"#2a3f5f\"}, \"marker\": {\"line\": {\"color\": \"#E5ECF6\", \"width\": 0.5}}, \"type\": \"bar\"}], \"barpolar\": [{\"marker\": {\"line\": {\"color\": \"#E5ECF6\", \"width\": 0.5}}, \"type\": \"barpolar\"}], \"carpet\": [{\"aaxis\": {\"endlinecolor\": \"#2a3f5f\", \"gridcolor\": \"white\", \"linecolor\": \"white\", \"minorgridcolor\": \"white\", \"startlinecolor\": \"#2a3f5f\"}, \"baxis\": {\"endlinecolor\": \"#2a3f5f\", \"gridcolor\": \"white\", \"linecolor\": \"white\", \"minorgridcolor\": \"white\", \"startlinecolor\": \"#2a3f5f\"}, \"type\": \"carpet\"}], \"choropleth\": [{\"colorbar\": {\"outlinewidth\": 0, \"ticks\": \"\"}, \"type\": \"choropleth\"}], \"contour\": [{\"colorbar\": {\"outlinewidth\": 0, \"ticks\": \"\"}, \"colorscale\": [[0.0, \"#0d0887\"], [0.1111111111111111, \"#46039f\"], [0.2222222222222222, \"#7201a8\"], [0.3333333333333333, \"#9c179e\"], [0.4444444444444444, \"#bd3786\"], [0.5555555555555556, \"#d8576b\"], [0.6666666666666666, \"#ed7953\"], [0.7777777777777778, \"#fb9f3a\"], [0.8888888888888888, \"#fdca26\"], [1.0, \"#f0f921\"]], \"type\": \"contour\"}], \"contourcarpet\": [{\"colorbar\": {\"outlinewidth\": 0, \"ticks\": \"\"}, \"type\": \"contourcarpet\"}], \"heatmap\": [{\"colorbar\": {\"outlinewidth\": 0, \"ticks\": \"\"}, \"colorscale\": [[0.0, \"#0d0887\"], [0.1111111111111111, \"#46039f\"], [0.2222222222222222, \"#7201a8\"], [0.3333333333333333, \"#9c179e\"], [0.4444444444444444, \"#bd3786\"], [0.5555555555555556, \"#d8576b\"], [0.6666666666666666, \"#ed7953\"], [0.7777777777777778, \"#fb9f3a\"], [0.8888888888888888, \"#fdca26\"], [1.0, \"#f0f921\"]], \"type\": \"heatmap\"}], \"heatmapgl\": [{\"colorbar\": {\"outlinewidth\": 0, \"ticks\": \"\"}, \"colorscale\": [[0.0, \"#0d0887\"], [0.1111111111111111, \"#46039f\"], [0.2222222222222222, \"#7201a8\"], [0.3333333333333333, \"#9c179e\"], [0.4444444444444444, \"#bd3786\"], [0.5555555555555556, \"#d8576b\"], [0.6666666666666666, \"#ed7953\"], [0.7777777777777778, \"#fb9f3a\"], [0.8888888888888888, \"#fdca26\"], [1.0, \"#f0f921\"]], \"type\": \"heatmapgl\"}], \"histogram\": [{\"marker\": {\"colorbar\": {\"outlinewidth\": 0, \"ticks\": \"\"}}, \"type\": \"histogram\"}], \"histogram2d\": [{\"colorbar\": {\"outlinewidth\": 0, \"ticks\": \"\"}, \"colorscale\": [[0.0, \"#0d0887\"], [0.1111111111111111, \"#46039f\"], [0.2222222222222222, \"#7201a8\"], [0.3333333333333333, \"#9c179e\"], [0.4444444444444444, \"#bd3786\"], [0.5555555555555556, \"#d8576b\"], [0.6666666666666666, \"#ed7953\"], [0.7777777777777778, \"#fb9f3a\"], [0.8888888888888888, \"#fdca26\"], [1.0, \"#f0f921\"]], \"type\": \"histogram2d\"}], \"histogram2dcontour\": [{\"colorbar\": {\"outlinewidth\": 0, \"ticks\": \"\"}, \"colorscale\": [[0.0, \"#0d0887\"], [0.1111111111111111, \"#46039f\"], [0.2222222222222222, \"#7201a8\"], [0.3333333333333333, \"#9c179e\"], [0.4444444444444444, \"#bd3786\"], [0.5555555555555556, \"#d8576b\"], [0.6666666666666666, \"#ed7953\"], [0.7777777777777778, \"#fb9f3a\"], [0.8888888888888888, \"#fdca26\"], [1.0, \"#f0f921\"]], \"type\": \"histogram2dcontour\"}], \"mesh3d\": [{\"colorbar\": {\"outlinewidth\": 0, \"ticks\": \"\"}, \"type\": \"mesh3d\"}], \"parcoords\": [{\"line\": {\"colorbar\": {\"outlinewidth\": 0, \"ticks\": \"\"}}, \"type\": \"parcoords\"}], \"pie\": [{\"automargin\": true, \"type\": \"pie\"}], \"scatter\": [{\"marker\": {\"colorbar\": {\"outlinewidth\": 0, \"ticks\": \"\"}}, \"type\": \"scatter\"}], \"scatter3d\": [{\"line\": {\"colorbar\": {\"outlinewidth\": 0, \"ticks\": \"\"}}, \"marker\": {\"colorbar\": {\"outlinewidth\": 0, \"ticks\": \"\"}}, \"type\": \"scatter3d\"}], \"scattercarpet\": [{\"marker\": {\"colorbar\": {\"outlinewidth\": 0, \"ticks\": \"\"}}, \"type\": \"scattercarpet\"}], \"scattergeo\": [{\"marker\": {\"colorbar\": {\"outlinewidth\": 0, \"ticks\": \"\"}}, \"type\": \"scattergeo\"}], \"scattergl\": [{\"marker\": {\"colorbar\": {\"outlinewidth\": 0, \"ticks\": \"\"}}, \"type\": \"scattergl\"}], \"scattermapbox\": [{\"marker\": {\"colorbar\": {\"outlinewidth\": 0, \"ticks\": \"\"}}, \"type\": \"scattermapbox\"}], \"scatterpolar\": [{\"marker\": {\"colorbar\": {\"outlinewidth\": 0, \"ticks\": \"\"}}, \"type\": \"scatterpolar\"}], \"scatterpolargl\": [{\"marker\": {\"colorbar\": {\"outlinewidth\": 0, \"ticks\": \"\"}}, \"type\": \"scatterpolargl\"}], \"scatterternary\": [{\"marker\": {\"colorbar\": {\"outlinewidth\": 0, \"ticks\": \"\"}}, \"type\": \"scatterternary\"}], \"surface\": [{\"colorbar\": {\"outlinewidth\": 0, \"ticks\": \"\"}, \"colorscale\": [[0.0, \"#0d0887\"], [0.1111111111111111, \"#46039f\"], [0.2222222222222222, \"#7201a8\"], [0.3333333333333333, \"#9c179e\"], [0.4444444444444444, \"#bd3786\"], [0.5555555555555556, \"#d8576b\"], [0.6666666666666666, \"#ed7953\"], [0.7777777777777778, \"#fb9f3a\"], [0.8888888888888888, \"#fdca26\"], [1.0, \"#f0f921\"]], \"type\": \"surface\"}], \"table\": [{\"cells\": {\"fill\": {\"color\": \"#EBF0F8\"}, \"line\": {\"color\": \"white\"}}, \"header\": {\"fill\": {\"color\": \"#C8D4E3\"}, \"line\": {\"color\": \"white\"}}, \"type\": \"table\"}]}, \"layout\": {\"annotationdefaults\": {\"arrowcolor\": \"#2a3f5f\", \"arrowhead\": 0, \"arrowwidth\": 1}, \"coloraxis\": {\"colorbar\": {\"outlinewidth\": 0, \"ticks\": \"\"}}, \"colorscale\": {\"diverging\": [[0, \"#8e0152\"], [0.1, \"#c51b7d\"], [0.2, \"#de77ae\"], [0.3, \"#f1b6da\"], [0.4, \"#fde0ef\"], [0.5, \"#f7f7f7\"], [0.6, \"#e6f5d0\"], [0.7, \"#b8e186\"], [0.8, \"#7fbc41\"], [0.9, \"#4d9221\"], [1, \"#276419\"]], \"sequential\": [[0.0, \"#0d0887\"], [0.1111111111111111, \"#46039f\"], [0.2222222222222222, \"#7201a8\"], [0.3333333333333333, \"#9c179e\"], [0.4444444444444444, \"#bd3786\"], [0.5555555555555556, \"#d8576b\"], [0.6666666666666666, \"#ed7953\"], [0.7777777777777778, \"#fb9f3a\"], [0.8888888888888888, \"#fdca26\"], [1.0, \"#f0f921\"]], \"sequentialminus\": [[0.0, \"#0d0887\"], [0.1111111111111111, \"#46039f\"], [0.2222222222222222, \"#7201a8\"], [0.3333333333333333, \"#9c179e\"], [0.4444444444444444, \"#bd3786\"], [0.5555555555555556, \"#d8576b\"], [0.6666666666666666, \"#ed7953\"], [0.7777777777777778, \"#fb9f3a\"], [0.8888888888888888, \"#fdca26\"], [1.0, \"#f0f921\"]]}, \"colorway\": [\"#636efa\", \"#EF553B\", \"#00cc96\", \"#ab63fa\", \"#FFA15A\", \"#19d3f3\", \"#FF6692\", \"#B6E880\", \"#FF97FF\", \"#FECB52\"], \"font\": {\"color\": \"#2a3f5f\"}, \"geo\": {\"bgcolor\": \"white\", \"lakecolor\": \"white\", \"landcolor\": \"#E5ECF6\", \"showlakes\": true, \"showland\": true, \"subunitcolor\": \"white\"}, \"hoverlabel\": {\"align\": \"left\"}, \"hovermode\": \"closest\", \"mapbox\": {\"style\": \"light\"}, \"paper_bgcolor\": \"white\", \"plot_bgcolor\": \"#E5ECF6\", \"polar\": {\"angularaxis\": {\"gridcolor\": \"white\", \"linecolor\": \"white\", \"ticks\": \"\"}, \"bgcolor\": \"#E5ECF6\", \"radialaxis\": {\"gridcolor\": \"white\", \"linecolor\": \"white\", \"ticks\": \"\"}}, \"scene\": {\"xaxis\": {\"backgroundcolor\": \"#E5ECF6\", \"gridcolor\": \"white\", \"gridwidth\": 2, \"linecolor\": \"white\", \"showbackground\": true, \"ticks\": \"\", \"zerolinecolor\": \"white\"}, \"yaxis\": {\"backgroundcolor\": \"#E5ECF6\", \"gridcolor\": \"white\", \"gridwidth\": 2, \"linecolor\": \"white\", \"showbackground\": true, \"ticks\": \"\", \"zerolinecolor\": \"white\"}, \"zaxis\": {\"backgroundcolor\": \"#E5ECF6\", \"gridcolor\": \"white\", \"gridwidth\": 2, \"linecolor\": \"white\", \"showbackground\": true, \"ticks\": \"\", \"zerolinecolor\": \"white\"}}, \"shapedefaults\": {\"line\": {\"color\": \"#2a3f5f\"}}, \"ternary\": {\"aaxis\": {\"gridcolor\": \"white\", \"linecolor\": \"white\", \"ticks\": \"\"}, \"baxis\": {\"gridcolor\": \"white\", \"linecolor\": \"white\", \"ticks\": \"\"}, \"bgcolor\": \"#E5ECF6\", \"caxis\": {\"gridcolor\": \"white\", \"linecolor\": \"white\", \"ticks\": \"\"}}, \"title\": {\"x\": 0.05}, \"xaxis\": {\"automargin\": true, \"gridcolor\": \"white\", \"linecolor\": \"white\", \"ticks\": \"\", \"title\": {\"standoff\": 15}, \"zerolinecolor\": \"white\", \"zerolinewidth\": 2}, \"yaxis\": {\"automargin\": true, \"gridcolor\": \"white\", \"linecolor\": \"white\", \"ticks\": \"\", \"title\": {\"standoff\": 15}, \"zerolinecolor\": \"white\", \"zerolinewidth\": 2}}}, \"title\": {\"text\": \"Emoji percentage used in chat group\"}},\n",
              "                        {\"responsive\": true}\n",
              "                    ).then(function(){\n",
              "                            \n",
              "var gd = document.getElementById('9865b660-0db5-4498-9957-06231627314b');\n",
              "var x = new MutationObserver(function (mutations, observer) {{\n",
              "        var display = window.getComputedStyle(gd).display;\n",
              "        if (!display || display === 'none') {{\n",
              "            console.log([gd, 'removed!']);\n",
              "            Plotly.purge(gd);\n",
              "            observer.disconnect();\n",
              "        }}\n",
              "}});\n",
              "\n",
              "// Listen for the removal of the full notebook cells\n",
              "var notebookContainer = gd.closest('#notebook-container');\n",
              "if (notebookContainer) {{\n",
              "    x.observe(notebookContainer, {childList: true});\n",
              "}}\n",
              "\n",
              "// Listen for the clearing of the current output cell\n",
              "var outputEl = gd.closest('.output');\n",
              "if (outputEl) {{\n",
              "    x.observe(outputEl, {childList: true});\n",
              "}}\n",
              "\n",
              "                        })\n",
              "                };\n",
              "                \n",
              "            </script>\n",
              "        </div>\n",
              "</body>\n",
              "</html>"
            ]
          },
          "metadata": {
            "tags": []
          }
        }
      ]
    },
    {
      "cell_type": "markdown",
      "metadata": {
        "id": "pUcLSBPmvXPr"
      },
      "source": [
        "After knowing the **Tears of Joy Emoji** is the most widely use in the group chat. Now we want to understand each of the user use what emoji the most."
      ]
    },
    {
      "cell_type": "markdown",
      "metadata": {
        "id": "TdTjMem4vXPt"
      },
      "source": [
        "This time we will not create a **emoji_df** because we want to use the user row and emoji row. So we are able to know each of the users use what emoji"
      ]
    },
    {
      "cell_type": "code",
      "metadata": {
        "colab": {
          "base_uri": "https://localhost:8080/"
        },
        "id": "qZIJ-W44BgrP",
        "outputId": "eabcba7a-f7d7-4882-c191-c872e4cc1a7e"
      },
      "source": [
        " whatsapp_df2.shape"
      ],
      "execution_count": null,
      "outputs": [
        {
          "output_type": "execute_result",
          "data": {
            "text/plain": [
              "(37614, 3)"
            ]
          },
          "metadata": {
            "tags": []
          },
          "execution_count": 211
        }
      ]
    },
    {
      "cell_type": "code",
      "metadata": {
        "id": "DEFJ5zGivXPt"
      },
      "source": [
        "emojis_df = whatsapp_df2"
      ],
      "execution_count": null,
      "outputs": []
    },
    {
      "cell_type": "markdown",
      "metadata": {
        "id": "Ga1fbZievXPu"
      },
      "source": [
        "## In here we are able to see each of the users use what emoji the most\n",
        "\n"
      ]
    },
    {
      "cell_type": "code",
      "metadata": {
        "id": "la8f3x0xJK1y"
      },
      "source": [
        "import plotly"
      ],
      "execution_count": null,
      "outputs": []
    },
    {
      "cell_type": "code",
      "metadata": {
        "colab": {
          "base_uri": "https://localhost:8080/",
          "height": 1000
        },
        "id": "YgSw6keQvXPv",
        "outputId": "414cd8da-20eb-4170-b6f4-4d7e4c622645"
      },
      "source": [
        "l = emojis_df.user.unique()\n",
        "for i in range(len(l)):\n",
        "    dummy_df = emojis_df[emojis_df['user'] == l[i]]\n",
        "    emoji_x = Counter()\n",
        "    emojis_list = map(lambda x: ''.join(x.split()),list(emoji_ctr.keys())) #UNICODE_EMOJI class have a thee emoji code inside\n",
        "    r = re.compile('|'.join(re.escape(p) for p in emojis_list))\n",
        "    for idx, row in dummy_df.iterrows():\n",
        "      emojis_found = r.findall(row[\"message\"]) #The findall() is a functions for regex that help to find a matches \n",
        "      for emoji_found in emojis_found:\n",
        "        emoji_x[emoji_found] += 1\n",
        "    emoji_dict = sorted(emoji_x.items(), key=lambda x: x[1], reverse=True)\n",
        "    print('Emoji Distribution for', l[i])\n",
        "    user_emoji_df = pd.DataFrame(emoji_dict, columns=['emoji', 'count'])\n",
        "    fig = px.pie(user_emoji_df, values='count', names='emoji')\n",
        "    fig.update_traces(textposition='inside', textinfo='percent+label')\n",
        "    plotly.offline.plot(fig, filename=\"user_\" + str(l[i]) + \".html\")\n",
        "    fig.show()"
      ],
      "execution_count": null,
      "outputs": [
        {
          "output_type": "stream",
          "text": [
            "Emoji Distribution for krishna kaushik\n"
          ],
          "name": "stdout"
        },
        {
          "output_type": "display_data",
          "data": {
            "text/html": [
              "<html>\n",
              "<head><meta charset=\"utf-8\" /></head>\n",
              "<body>\n",
              "    <div>\n",
              "            <script src=\"https://cdnjs.cloudflare.com/ajax/libs/mathjax/2.7.5/MathJax.js?config=TeX-AMS-MML_SVG\"></script><script type=\"text/javascript\">if (window.MathJax) {MathJax.Hub.Config({SVG: {font: \"STIX-Web\"}});}</script>\n",
              "                <script type=\"text/javascript\">window.PlotlyConfig = {MathJaxConfig: 'local'};</script>\n",
              "        <script src=\"https://cdn.plot.ly/plotly-latest.min.js\"></script>    \n",
              "            <div id=\"32d98b24-d60f-4229-9359-1faab73fbfcb\" class=\"plotly-graph-div\" style=\"height:525px; width:100%;\"></div>\n",
              "            <script type=\"text/javascript\">\n",
              "                \n",
              "                    window.PLOTLYENV=window.PLOTLYENV || {};\n",
              "                    \n",
              "                if (document.getElementById(\"32d98b24-d60f-4229-9359-1faab73fbfcb\")) {\n",
              "                    Plotly.newPlot(\n",
              "                        '32d98b24-d60f-4229-9359-1faab73fbfcb',\n",
              "                        [{\"domain\": {\"x\": [0.0, 1.0], \"y\": [0.0, 1.0]}, \"hoverlabel\": {\"namelength\": 0}, \"hovertemplate\": \"emoji=%{label}<br>count=%{value}\", \"labels\": [\"\\ud83d\\ude2d\", \"\\ud83d\\ude02\", \"\\ud83d\\udd25\", \"\\ud83e\\udd26\", \"\\ud83d\\ude05\", \"\\ud83d\\ude11\", \"\\ud83e\\udd2f\", \"\\ud83d\\ude36\", \"\\ud83d\\ude24\", \"\\ud83d\\ude15\", \"\\ud83d\\udc4d\", \"\\ud83d\\ude32\", \"\\ud83e\\udd73\", \"\\ud83d\\ude2c\", \"\\ud83d\\ude12\", \"\\u2764\\ufe0f\", \"\\ud83e\\udd23\", \"\\ud83e\\udd74\", \"\\ud83d\\udc4c\", \"\\ud83d\\ude4f\", \"\\ud83d\\ude0e\", \"\\ud83d\\ude44\", \"\\ud83d\\ude0d\", \"\\ud83e\\udd29\", \"\\ud83d\\ude14\", \"\\ud83e\\udd2c\", \"\\ud83d\\ude21\", \"\\ud83c\\udf1d\", \"\\ud83d\\udcaf\", \"\\ud83d\\ude43\", \"\\ud83e\\udd1f\", \"\\ud83d\\ude22\", \"\\ud83d\\ude0f\", \"\\ud83d\\ude41\", \"\\ud83e\\udd2d\", \"\\ud83d\\ude1b\", \"\\ud83e\\udd14\", \"\\ud83c\\udf89\", \"\\ud83e\\udd25\", \"\\ud83d\\ude1c\", \"\\ud83d\\udc0d\", \"\\ud83e\\udd7a\", \"\\ud83e\\udd2e\", \"\\ud83e\\udd18\", \"\\ud83e\\udd15\", \"\\ud83d\\udde3\\ufe0f\", \"\\ud83d\\ude07\", \"\\ud83d\\ude01\", \"\\ud83d\\udcaa\", \"\\ud83d\\ude0c\", \"\\ud83e\\udd28\", \"\\ud83d\\ude35\", \"\\ud83d\\ude2f\", \"\\ud83d\\udc94\", \"\\ud83e\\udd13\", \"\\ud83d\\ude0b\", \"\\ud83d\\udc4f\", \"\\ud83d\\ude42\", \"\\ud83d\\ude13\", \"\\ud83e\\udd70\", \"\\ud83d\\ude16\", \"\\ud83c\\udf1c\", \"\\ud83d\\ude1d\", \"\\ud83c\\udf7b\", \"\\ud83e\\udd20\", \"\\ud83e\\udd21\", \"\\ud83d\\ude31\", \"\\ud83d\\ude08\", \"\\ud83d\\ude25\", \"\\ud83e\\udd22\", \"\\ud83c\\udf1a\", \"\\ud83e\\udd10\", \"\\ud83d\\ude10\", \"\\ud83e\\udd17\", \"\\ud83c\\udf7a\", \"\\ud83d\\ude4b\", \"\\u2620\\ufe0f\", \"\\ud83d\\udc7b\", \"\\ud83c\\udf43\", \"\\ud83d\\ude1e\", \"\\ud83c\\udf84\", \"\\ud83d\\udc4b\", \"\\ud83d\\udc97\", \"\\ud83d\\udc81\", \"\\u2614\", \"\\ud83d\\ude27\", \"\\ud83c\\udf82\", \"\\ud83c\\udfdf\\ufe0f\", \"\\ud83d\\ude33\", \"\\ud83d\\ude20\", \"\\ud83d\\ude06\", \"\\ud83d\\ude30\", \"\\u2639\\ufe0f\", \"\\ud83d\\ude23\", \"\\ud83d\\ude38\", \"\\ud83e\\udd1d\", \"\\ud83d\\ude04\"], \"legendgroup\": \"\", \"name\": \"\", \"showlegend\": true, \"textinfo\": \"percent+label\", \"textposition\": \"inside\", \"type\": \"pie\", \"values\": [294, 261, 227, 173, 147, 133, 92, 79, 74, 70, 63, 63, 52, 51, 46, 39, 38, 35, 35, 32, 29, 28, 27, 26, 25, 24, 21, 20, 19, 18, 18, 16, 16, 16, 15, 14, 13, 12, 10, 10, 9, 9, 8, 8, 8, 7, 7, 6, 5, 5, 5, 4, 4, 4, 3, 3, 3, 3, 3, 3, 3, 3, 3, 2, 2, 2, 2, 2, 2, 2, 2, 2, 2, 1, 1, 1, 1, 1, 1, 1, 1, 1, 1, 1, 1, 1, 1, 1, 1, 1, 1, 1, 1, 1, 1, 1, 1]}],\n",
              "                        {\"legend\": {\"tracegroupgap\": 0}, \"margin\": {\"t\": 60}, \"template\": {\"data\": {\"bar\": [{\"error_x\": {\"color\": \"#2a3f5f\"}, \"error_y\": {\"color\": \"#2a3f5f\"}, \"marker\": {\"line\": {\"color\": \"#E5ECF6\", \"width\": 0.5}}, \"type\": \"bar\"}], \"barpolar\": [{\"marker\": {\"line\": {\"color\": \"#E5ECF6\", \"width\": 0.5}}, \"type\": \"barpolar\"}], \"carpet\": [{\"aaxis\": {\"endlinecolor\": \"#2a3f5f\", \"gridcolor\": \"white\", \"linecolor\": \"white\", \"minorgridcolor\": \"white\", \"startlinecolor\": \"#2a3f5f\"}, \"baxis\": {\"endlinecolor\": \"#2a3f5f\", \"gridcolor\": \"white\", \"linecolor\": \"white\", \"minorgridcolor\": \"white\", \"startlinecolor\": \"#2a3f5f\"}, \"type\": \"carpet\"}], \"choropleth\": [{\"colorbar\": {\"outlinewidth\": 0, \"ticks\": \"\"}, \"type\": \"choropleth\"}], \"contour\": [{\"colorbar\": {\"outlinewidth\": 0, \"ticks\": \"\"}, \"colorscale\": [[0.0, \"#0d0887\"], [0.1111111111111111, \"#46039f\"], [0.2222222222222222, \"#7201a8\"], [0.3333333333333333, \"#9c179e\"], [0.4444444444444444, \"#bd3786\"], [0.5555555555555556, \"#d8576b\"], [0.6666666666666666, \"#ed7953\"], [0.7777777777777778, \"#fb9f3a\"], [0.8888888888888888, \"#fdca26\"], [1.0, \"#f0f921\"]], \"type\": \"contour\"}], \"contourcarpet\": [{\"colorbar\": {\"outlinewidth\": 0, \"ticks\": \"\"}, \"type\": \"contourcarpet\"}], \"heatmap\": [{\"colorbar\": {\"outlinewidth\": 0, \"ticks\": \"\"}, \"colorscale\": [[0.0, \"#0d0887\"], [0.1111111111111111, \"#46039f\"], [0.2222222222222222, \"#7201a8\"], [0.3333333333333333, \"#9c179e\"], [0.4444444444444444, \"#bd3786\"], [0.5555555555555556, \"#d8576b\"], [0.6666666666666666, \"#ed7953\"], [0.7777777777777778, \"#fb9f3a\"], [0.8888888888888888, \"#fdca26\"], [1.0, \"#f0f921\"]], \"type\": \"heatmap\"}], \"heatmapgl\": [{\"colorbar\": {\"outlinewidth\": 0, \"ticks\": \"\"}, \"colorscale\": [[0.0, \"#0d0887\"], [0.1111111111111111, \"#46039f\"], [0.2222222222222222, \"#7201a8\"], [0.3333333333333333, \"#9c179e\"], [0.4444444444444444, \"#bd3786\"], [0.5555555555555556, \"#d8576b\"], [0.6666666666666666, \"#ed7953\"], [0.7777777777777778, \"#fb9f3a\"], [0.8888888888888888, \"#fdca26\"], [1.0, \"#f0f921\"]], \"type\": \"heatmapgl\"}], \"histogram\": [{\"marker\": {\"colorbar\": {\"outlinewidth\": 0, \"ticks\": \"\"}}, \"type\": \"histogram\"}], \"histogram2d\": [{\"colorbar\": {\"outlinewidth\": 0, \"ticks\": \"\"}, \"colorscale\": [[0.0, \"#0d0887\"], [0.1111111111111111, \"#46039f\"], [0.2222222222222222, \"#7201a8\"], [0.3333333333333333, \"#9c179e\"], [0.4444444444444444, \"#bd3786\"], [0.5555555555555556, \"#d8576b\"], [0.6666666666666666, \"#ed7953\"], [0.7777777777777778, \"#fb9f3a\"], [0.8888888888888888, \"#fdca26\"], [1.0, \"#f0f921\"]], \"type\": \"histogram2d\"}], \"histogram2dcontour\": [{\"colorbar\": {\"outlinewidth\": 0, \"ticks\": \"\"}, \"colorscale\": [[0.0, \"#0d0887\"], [0.1111111111111111, \"#46039f\"], [0.2222222222222222, \"#7201a8\"], [0.3333333333333333, \"#9c179e\"], [0.4444444444444444, \"#bd3786\"], [0.5555555555555556, \"#d8576b\"], [0.6666666666666666, \"#ed7953\"], [0.7777777777777778, \"#fb9f3a\"], [0.8888888888888888, \"#fdca26\"], [1.0, \"#f0f921\"]], \"type\": \"histogram2dcontour\"}], \"mesh3d\": [{\"colorbar\": {\"outlinewidth\": 0, \"ticks\": \"\"}, \"type\": \"mesh3d\"}], \"parcoords\": [{\"line\": {\"colorbar\": {\"outlinewidth\": 0, \"ticks\": \"\"}}, \"type\": \"parcoords\"}], \"pie\": [{\"automargin\": true, \"type\": \"pie\"}], \"scatter\": [{\"marker\": {\"colorbar\": {\"outlinewidth\": 0, \"ticks\": \"\"}}, \"type\": \"scatter\"}], \"scatter3d\": [{\"line\": {\"colorbar\": {\"outlinewidth\": 0, \"ticks\": \"\"}}, \"marker\": {\"colorbar\": {\"outlinewidth\": 0, \"ticks\": \"\"}}, \"type\": \"scatter3d\"}], \"scattercarpet\": [{\"marker\": {\"colorbar\": {\"outlinewidth\": 0, \"ticks\": \"\"}}, \"type\": \"scattercarpet\"}], \"scattergeo\": [{\"marker\": {\"colorbar\": {\"outlinewidth\": 0, \"ticks\": \"\"}}, \"type\": \"scattergeo\"}], \"scattergl\": [{\"marker\": {\"colorbar\": {\"outlinewidth\": 0, \"ticks\": \"\"}}, \"type\": \"scattergl\"}], \"scattermapbox\": [{\"marker\": {\"colorbar\": {\"outlinewidth\": 0, \"ticks\": \"\"}}, \"type\": \"scattermapbox\"}], \"scatterpolar\": [{\"marker\": {\"colorbar\": {\"outlinewidth\": 0, \"ticks\": \"\"}}, \"type\": \"scatterpolar\"}], \"scatterpolargl\": [{\"marker\": {\"colorbar\": {\"outlinewidth\": 0, \"ticks\": \"\"}}, \"type\": \"scatterpolargl\"}], \"scatterternary\": [{\"marker\": {\"colorbar\": {\"outlinewidth\": 0, \"ticks\": \"\"}}, \"type\": \"scatterternary\"}], \"surface\": [{\"colorbar\": {\"outlinewidth\": 0, \"ticks\": \"\"}, \"colorscale\": [[0.0, \"#0d0887\"], [0.1111111111111111, \"#46039f\"], [0.2222222222222222, \"#7201a8\"], [0.3333333333333333, \"#9c179e\"], [0.4444444444444444, \"#bd3786\"], [0.5555555555555556, \"#d8576b\"], [0.6666666666666666, \"#ed7953\"], [0.7777777777777778, \"#fb9f3a\"], [0.8888888888888888, \"#fdca26\"], [1.0, \"#f0f921\"]], \"type\": \"surface\"}], \"table\": [{\"cells\": {\"fill\": {\"color\": \"#EBF0F8\"}, \"line\": {\"color\": \"white\"}}, \"header\": {\"fill\": {\"color\": \"#C8D4E3\"}, \"line\": {\"color\": \"white\"}}, \"type\": \"table\"}]}, \"layout\": {\"annotationdefaults\": {\"arrowcolor\": \"#2a3f5f\", \"arrowhead\": 0, \"arrowwidth\": 1}, \"coloraxis\": {\"colorbar\": {\"outlinewidth\": 0, \"ticks\": \"\"}}, \"colorscale\": {\"diverging\": [[0, \"#8e0152\"], [0.1, \"#c51b7d\"], [0.2, \"#de77ae\"], [0.3, \"#f1b6da\"], [0.4, \"#fde0ef\"], [0.5, \"#f7f7f7\"], [0.6, \"#e6f5d0\"], [0.7, \"#b8e186\"], [0.8, \"#7fbc41\"], [0.9, \"#4d9221\"], [1, \"#276419\"]], \"sequential\": [[0.0, \"#0d0887\"], [0.1111111111111111, \"#46039f\"], [0.2222222222222222, \"#7201a8\"], [0.3333333333333333, \"#9c179e\"], [0.4444444444444444, \"#bd3786\"], [0.5555555555555556, \"#d8576b\"], [0.6666666666666666, \"#ed7953\"], [0.7777777777777778, \"#fb9f3a\"], [0.8888888888888888, \"#fdca26\"], [1.0, \"#f0f921\"]], \"sequentialminus\": [[0.0, \"#0d0887\"], [0.1111111111111111, \"#46039f\"], [0.2222222222222222, \"#7201a8\"], [0.3333333333333333, \"#9c179e\"], [0.4444444444444444, \"#bd3786\"], [0.5555555555555556, \"#d8576b\"], [0.6666666666666666, \"#ed7953\"], [0.7777777777777778, \"#fb9f3a\"], [0.8888888888888888, \"#fdca26\"], [1.0, \"#f0f921\"]]}, \"colorway\": [\"#636efa\", \"#EF553B\", \"#00cc96\", \"#ab63fa\", \"#FFA15A\", \"#19d3f3\", \"#FF6692\", \"#B6E880\", \"#FF97FF\", \"#FECB52\"], \"font\": {\"color\": \"#2a3f5f\"}, \"geo\": {\"bgcolor\": \"white\", \"lakecolor\": \"white\", \"landcolor\": \"#E5ECF6\", \"showlakes\": true, \"showland\": true, \"subunitcolor\": \"white\"}, \"hoverlabel\": {\"align\": \"left\"}, \"hovermode\": \"closest\", \"mapbox\": {\"style\": \"light\"}, \"paper_bgcolor\": \"white\", \"plot_bgcolor\": \"#E5ECF6\", \"polar\": {\"angularaxis\": {\"gridcolor\": \"white\", \"linecolor\": \"white\", \"ticks\": \"\"}, \"bgcolor\": \"#E5ECF6\", \"radialaxis\": {\"gridcolor\": \"white\", \"linecolor\": \"white\", \"ticks\": \"\"}}, \"scene\": {\"xaxis\": {\"backgroundcolor\": \"#E5ECF6\", \"gridcolor\": \"white\", \"gridwidth\": 2, \"linecolor\": \"white\", \"showbackground\": true, \"ticks\": \"\", \"zerolinecolor\": \"white\"}, \"yaxis\": {\"backgroundcolor\": \"#E5ECF6\", \"gridcolor\": \"white\", \"gridwidth\": 2, \"linecolor\": \"white\", \"showbackground\": true, \"ticks\": \"\", \"zerolinecolor\": \"white\"}, \"zaxis\": {\"backgroundcolor\": \"#E5ECF6\", \"gridcolor\": \"white\", \"gridwidth\": 2, \"linecolor\": \"white\", \"showbackground\": true, \"ticks\": \"\", \"zerolinecolor\": \"white\"}}, \"shapedefaults\": {\"line\": {\"color\": \"#2a3f5f\"}}, \"ternary\": {\"aaxis\": {\"gridcolor\": \"white\", \"linecolor\": \"white\", \"ticks\": \"\"}, \"baxis\": {\"gridcolor\": \"white\", \"linecolor\": \"white\", \"ticks\": \"\"}, \"bgcolor\": \"#E5ECF6\", \"caxis\": {\"gridcolor\": \"white\", \"linecolor\": \"white\", \"ticks\": \"\"}}, \"title\": {\"x\": 0.05}, \"xaxis\": {\"automargin\": true, \"gridcolor\": \"white\", \"linecolor\": \"white\", \"ticks\": \"\", \"title\": {\"standoff\": 15}, \"zerolinecolor\": \"white\", \"zerolinewidth\": 2}, \"yaxis\": {\"automargin\": true, \"gridcolor\": \"white\", \"linecolor\": \"white\", \"ticks\": \"\", \"title\": {\"standoff\": 15}, \"zerolinecolor\": \"white\", \"zerolinewidth\": 2}}}},\n",
              "                        {\"responsive\": true}\n",
              "                    ).then(function(){\n",
              "                            \n",
              "var gd = document.getElementById('32d98b24-d60f-4229-9359-1faab73fbfcb');\n",
              "var x = new MutationObserver(function (mutations, observer) {{\n",
              "        var display = window.getComputedStyle(gd).display;\n",
              "        if (!display || display === 'none') {{\n",
              "            console.log([gd, 'removed!']);\n",
              "            Plotly.purge(gd);\n",
              "            observer.disconnect();\n",
              "        }}\n",
              "}});\n",
              "\n",
              "// Listen for the removal of the full notebook cells\n",
              "var notebookContainer = gd.closest('#notebook-container');\n",
              "if (notebookContainer) {{\n",
              "    x.observe(notebookContainer, {childList: true});\n",
              "}}\n",
              "\n",
              "// Listen for the clearing of the current output cell\n",
              "var outputEl = gd.closest('.output');\n",
              "if (outputEl) {{\n",
              "    x.observe(outputEl, {childList: true});\n",
              "}}\n",
              "\n",
              "                        })\n",
              "                };\n",
              "                \n",
              "            </script>\n",
              "        </div>\n",
              "</body>\n",
              "</html>"
            ]
          },
          "metadata": {
            "tags": []
          }
        },
        {
          "output_type": "stream",
          "text": [
            "Emoji Distribution for Suraj\n"
          ],
          "name": "stdout"
        },
        {
          "output_type": "display_data",
          "data": {
            "text/html": [
              "<html>\n",
              "<head><meta charset=\"utf-8\" /></head>\n",
              "<body>\n",
              "    <div>\n",
              "            <script src=\"https://cdnjs.cloudflare.com/ajax/libs/mathjax/2.7.5/MathJax.js?config=TeX-AMS-MML_SVG\"></script><script type=\"text/javascript\">if (window.MathJax) {MathJax.Hub.Config({SVG: {font: \"STIX-Web\"}});}</script>\n",
              "                <script type=\"text/javascript\">window.PlotlyConfig = {MathJaxConfig: 'local'};</script>\n",
              "        <script src=\"https://cdn.plot.ly/plotly-latest.min.js\"></script>    \n",
              "            <div id=\"a93ed022-058a-4759-a461-dbdb0fa27edf\" class=\"plotly-graph-div\" style=\"height:525px; width:100%;\"></div>\n",
              "            <script type=\"text/javascript\">\n",
              "                \n",
              "                    window.PLOTLYENV=window.PLOTLYENV || {};\n",
              "                    \n",
              "                if (document.getElementById(\"a93ed022-058a-4759-a461-dbdb0fa27edf\")) {\n",
              "                    Plotly.newPlot(\n",
              "                        'a93ed022-058a-4759-a461-dbdb0fa27edf',\n",
              "                        [{\"domain\": {\"x\": [0.0, 1.0], \"y\": [0.0, 1.0]}, \"hoverlabel\": {\"namelength\": 0}, \"hovertemplate\": \"emoji=%{label}<br>count=%{value}\", \"labels\": [\"\\ud83d\\udd25\", \"\\ud83d\\ude02\", \"\\ud83d\\ude2d\", \"\\ud83e\\udd26\", \"\\ud83d\\udc0d\", \"\\ud83e\\udd2f\", \"\\ud83d\\ude11\", \"\\ud83e\\udd73\", \"\\u2764\\ufe0f\", \"\\ud83d\\ude14\", \"\\ud83e\\udd14\", \"\\ud83d\\ude0d\", \"\\ud83e\\udde1\", \"\\ud83e\\udd2d\", \"\\ud83d\\ude32\", \"\\ud83d\\udde3\\ufe0f\", \"\\ud83d\\ude15\", \"\\ud83d\\ude33\", \"\\ud83d\\ude2e\", \"\\ud83e\\udd2c\", \"\\ud83d\\ude44\", \"\\ud83c\\udf1a\", \"\\ud83c\\udf89\", \"\\ud83d\\udc4d\", \"\\ud83e\\udd28\", \"\\ud83d\\ude35\", \"\\ud83d\\ude2c\", \"\\ud83d\\ude36\", \"\\ud83d\\ude4f\", \"\\ud83d\\ude21\", \"\\ud83e\\udd7a\", \"\\ud83d\\ude0a\", \"\\ud83d\\ude00\", \"\\ud83d\\ude03\", \"\\u2665\\ufe0f\", \"\\ud83d\\ude37\", \"\\ud83d\\ude0b\", \"\\ud83d\\ude01\", \"\\ud83d\\ude1c\", \"\\ud83c\\udff3\\ufe0f\", \"\\ud83d\\ude4b\", \"\\ud83d\\udd95\", \"\\ud83e\\udd1c\", \"\\ud83e\\udd1b\", \"\\ud83d\\ude47\", \"\\ud83e\\udd2e\", \"\\ud83d\\udcaa\", \"\\ud83d\\udc83\", \"\\ud83d\\udd7a\", \"\\ud83d\\ude0e\", \"\\ud83d\\ude41\", \"\\ud83d\\ude0f\", \"\\ud83d\\ude43\", \"\\ud83d\\udc10\", \"\\ud83d\\udc4e\", \"\\u2639\\ufe0f\", \"\\ud83d\\ude05\", \"\\ud83d\\ude0c\", \"\\ud83e\\udd23\"], \"legendgroup\": \"\", \"name\": \"\", \"showlegend\": true, \"textinfo\": \"percent+label\", \"textposition\": \"inside\", \"type\": \"pie\", \"values\": [305, 90, 58, 41, 20, 16, 15, 14, 13, 12, 8, 8, 8, 6, 6, 6, 5, 5, 4, 4, 4, 4, 4, 3, 3, 3, 3, 3, 2, 2, 2, 2, 2, 1, 1, 1, 1, 1, 1, 1, 1, 1, 1, 1, 1, 1, 1, 1, 1, 1, 1, 1, 1, 1, 1, 1, 1, 1, 1]}],\n",
              "                        {\"legend\": {\"tracegroupgap\": 0}, \"margin\": {\"t\": 60}, \"template\": {\"data\": {\"bar\": [{\"error_x\": {\"color\": \"#2a3f5f\"}, \"error_y\": {\"color\": \"#2a3f5f\"}, \"marker\": {\"line\": {\"color\": \"#E5ECF6\", \"width\": 0.5}}, \"type\": \"bar\"}], \"barpolar\": [{\"marker\": {\"line\": {\"color\": \"#E5ECF6\", \"width\": 0.5}}, \"type\": \"barpolar\"}], \"carpet\": [{\"aaxis\": {\"endlinecolor\": \"#2a3f5f\", \"gridcolor\": \"white\", \"linecolor\": \"white\", \"minorgridcolor\": \"white\", \"startlinecolor\": \"#2a3f5f\"}, \"baxis\": {\"endlinecolor\": \"#2a3f5f\", \"gridcolor\": \"white\", \"linecolor\": \"white\", \"minorgridcolor\": \"white\", \"startlinecolor\": \"#2a3f5f\"}, \"type\": \"carpet\"}], \"choropleth\": [{\"colorbar\": {\"outlinewidth\": 0, \"ticks\": \"\"}, \"type\": \"choropleth\"}], \"contour\": [{\"colorbar\": {\"outlinewidth\": 0, \"ticks\": \"\"}, \"colorscale\": [[0.0, \"#0d0887\"], [0.1111111111111111, \"#46039f\"], [0.2222222222222222, \"#7201a8\"], [0.3333333333333333, \"#9c179e\"], [0.4444444444444444, \"#bd3786\"], [0.5555555555555556, \"#d8576b\"], [0.6666666666666666, \"#ed7953\"], [0.7777777777777778, \"#fb9f3a\"], [0.8888888888888888, \"#fdca26\"], [1.0, \"#f0f921\"]], \"type\": \"contour\"}], \"contourcarpet\": [{\"colorbar\": {\"outlinewidth\": 0, \"ticks\": \"\"}, \"type\": \"contourcarpet\"}], \"heatmap\": [{\"colorbar\": {\"outlinewidth\": 0, \"ticks\": \"\"}, \"colorscale\": [[0.0, \"#0d0887\"], [0.1111111111111111, \"#46039f\"], [0.2222222222222222, \"#7201a8\"], [0.3333333333333333, \"#9c179e\"], [0.4444444444444444, \"#bd3786\"], [0.5555555555555556, \"#d8576b\"], [0.6666666666666666, \"#ed7953\"], [0.7777777777777778, \"#fb9f3a\"], [0.8888888888888888, \"#fdca26\"], [1.0, \"#f0f921\"]], \"type\": \"heatmap\"}], \"heatmapgl\": [{\"colorbar\": {\"outlinewidth\": 0, \"ticks\": \"\"}, \"colorscale\": [[0.0, \"#0d0887\"], [0.1111111111111111, \"#46039f\"], [0.2222222222222222, \"#7201a8\"], [0.3333333333333333, \"#9c179e\"], [0.4444444444444444, \"#bd3786\"], [0.5555555555555556, \"#d8576b\"], [0.6666666666666666, \"#ed7953\"], [0.7777777777777778, \"#fb9f3a\"], [0.8888888888888888, \"#fdca26\"], [1.0, \"#f0f921\"]], \"type\": \"heatmapgl\"}], \"histogram\": [{\"marker\": {\"colorbar\": {\"outlinewidth\": 0, \"ticks\": \"\"}}, \"type\": \"histogram\"}], \"histogram2d\": [{\"colorbar\": {\"outlinewidth\": 0, \"ticks\": \"\"}, \"colorscale\": [[0.0, \"#0d0887\"], [0.1111111111111111, \"#46039f\"], [0.2222222222222222, \"#7201a8\"], [0.3333333333333333, \"#9c179e\"], [0.4444444444444444, \"#bd3786\"], [0.5555555555555556, \"#d8576b\"], [0.6666666666666666, \"#ed7953\"], [0.7777777777777778, \"#fb9f3a\"], [0.8888888888888888, \"#fdca26\"], [1.0, \"#f0f921\"]], \"type\": \"histogram2d\"}], \"histogram2dcontour\": [{\"colorbar\": {\"outlinewidth\": 0, \"ticks\": \"\"}, \"colorscale\": [[0.0, \"#0d0887\"], [0.1111111111111111, \"#46039f\"], [0.2222222222222222, \"#7201a8\"], [0.3333333333333333, \"#9c179e\"], [0.4444444444444444, \"#bd3786\"], [0.5555555555555556, \"#d8576b\"], [0.6666666666666666, \"#ed7953\"], [0.7777777777777778, \"#fb9f3a\"], [0.8888888888888888, \"#fdca26\"], [1.0, \"#f0f921\"]], \"type\": \"histogram2dcontour\"}], \"mesh3d\": [{\"colorbar\": {\"outlinewidth\": 0, \"ticks\": \"\"}, \"type\": \"mesh3d\"}], \"parcoords\": [{\"line\": {\"colorbar\": {\"outlinewidth\": 0, \"ticks\": \"\"}}, \"type\": \"parcoords\"}], \"pie\": [{\"automargin\": true, \"type\": \"pie\"}], \"scatter\": [{\"marker\": {\"colorbar\": {\"outlinewidth\": 0, \"ticks\": \"\"}}, \"type\": \"scatter\"}], \"scatter3d\": [{\"line\": {\"colorbar\": {\"outlinewidth\": 0, \"ticks\": \"\"}}, \"marker\": {\"colorbar\": {\"outlinewidth\": 0, \"ticks\": \"\"}}, \"type\": \"scatter3d\"}], \"scattercarpet\": [{\"marker\": {\"colorbar\": {\"outlinewidth\": 0, \"ticks\": \"\"}}, \"type\": \"scattercarpet\"}], \"scattergeo\": [{\"marker\": {\"colorbar\": {\"outlinewidth\": 0, \"ticks\": \"\"}}, \"type\": \"scattergeo\"}], \"scattergl\": [{\"marker\": {\"colorbar\": {\"outlinewidth\": 0, \"ticks\": \"\"}}, \"type\": \"scattergl\"}], \"scattermapbox\": [{\"marker\": {\"colorbar\": {\"outlinewidth\": 0, \"ticks\": \"\"}}, \"type\": \"scattermapbox\"}], \"scatterpolar\": [{\"marker\": {\"colorbar\": {\"outlinewidth\": 0, \"ticks\": \"\"}}, \"type\": \"scatterpolar\"}], \"scatterpolargl\": [{\"marker\": {\"colorbar\": {\"outlinewidth\": 0, \"ticks\": \"\"}}, \"type\": \"scatterpolargl\"}], \"scatterternary\": [{\"marker\": {\"colorbar\": {\"outlinewidth\": 0, \"ticks\": \"\"}}, \"type\": \"scatterternary\"}], \"surface\": [{\"colorbar\": {\"outlinewidth\": 0, \"ticks\": \"\"}, \"colorscale\": [[0.0, \"#0d0887\"], [0.1111111111111111, \"#46039f\"], [0.2222222222222222, \"#7201a8\"], [0.3333333333333333, \"#9c179e\"], [0.4444444444444444, \"#bd3786\"], [0.5555555555555556, \"#d8576b\"], [0.6666666666666666, \"#ed7953\"], [0.7777777777777778, \"#fb9f3a\"], [0.8888888888888888, \"#fdca26\"], [1.0, \"#f0f921\"]], \"type\": \"surface\"}], \"table\": [{\"cells\": {\"fill\": {\"color\": \"#EBF0F8\"}, \"line\": {\"color\": \"white\"}}, \"header\": {\"fill\": {\"color\": \"#C8D4E3\"}, \"line\": {\"color\": \"white\"}}, \"type\": \"table\"}]}, \"layout\": {\"annotationdefaults\": {\"arrowcolor\": \"#2a3f5f\", \"arrowhead\": 0, \"arrowwidth\": 1}, \"coloraxis\": {\"colorbar\": {\"outlinewidth\": 0, \"ticks\": \"\"}}, \"colorscale\": {\"diverging\": [[0, \"#8e0152\"], [0.1, \"#c51b7d\"], [0.2, \"#de77ae\"], [0.3, \"#f1b6da\"], [0.4, \"#fde0ef\"], [0.5, \"#f7f7f7\"], [0.6, \"#e6f5d0\"], [0.7, \"#b8e186\"], [0.8, \"#7fbc41\"], [0.9, \"#4d9221\"], [1, \"#276419\"]], \"sequential\": [[0.0, \"#0d0887\"], [0.1111111111111111, \"#46039f\"], [0.2222222222222222, \"#7201a8\"], [0.3333333333333333, \"#9c179e\"], [0.4444444444444444, \"#bd3786\"], [0.5555555555555556, \"#d8576b\"], [0.6666666666666666, \"#ed7953\"], [0.7777777777777778, \"#fb9f3a\"], [0.8888888888888888, \"#fdca26\"], [1.0, \"#f0f921\"]], \"sequentialminus\": [[0.0, \"#0d0887\"], [0.1111111111111111, \"#46039f\"], [0.2222222222222222, \"#7201a8\"], [0.3333333333333333, \"#9c179e\"], [0.4444444444444444, \"#bd3786\"], [0.5555555555555556, \"#d8576b\"], [0.6666666666666666, \"#ed7953\"], [0.7777777777777778, \"#fb9f3a\"], [0.8888888888888888, \"#fdca26\"], [1.0, \"#f0f921\"]]}, \"colorway\": [\"#636efa\", \"#EF553B\", \"#00cc96\", \"#ab63fa\", \"#FFA15A\", \"#19d3f3\", \"#FF6692\", \"#B6E880\", \"#FF97FF\", \"#FECB52\"], \"font\": {\"color\": \"#2a3f5f\"}, \"geo\": {\"bgcolor\": \"white\", \"lakecolor\": \"white\", \"landcolor\": \"#E5ECF6\", \"showlakes\": true, \"showland\": true, \"subunitcolor\": \"white\"}, \"hoverlabel\": {\"align\": \"left\"}, \"hovermode\": \"closest\", \"mapbox\": {\"style\": \"light\"}, \"paper_bgcolor\": \"white\", \"plot_bgcolor\": \"#E5ECF6\", \"polar\": {\"angularaxis\": {\"gridcolor\": \"white\", \"linecolor\": \"white\", \"ticks\": \"\"}, \"bgcolor\": \"#E5ECF6\", \"radialaxis\": {\"gridcolor\": \"white\", \"linecolor\": \"white\", \"ticks\": \"\"}}, \"scene\": {\"xaxis\": {\"backgroundcolor\": \"#E5ECF6\", \"gridcolor\": \"white\", \"gridwidth\": 2, \"linecolor\": \"white\", \"showbackground\": true, \"ticks\": \"\", \"zerolinecolor\": \"white\"}, \"yaxis\": {\"backgroundcolor\": \"#E5ECF6\", \"gridcolor\": \"white\", \"gridwidth\": 2, \"linecolor\": \"white\", \"showbackground\": true, \"ticks\": \"\", \"zerolinecolor\": \"white\"}, \"zaxis\": {\"backgroundcolor\": \"#E5ECF6\", \"gridcolor\": \"white\", \"gridwidth\": 2, \"linecolor\": \"white\", \"showbackground\": true, \"ticks\": \"\", \"zerolinecolor\": \"white\"}}, \"shapedefaults\": {\"line\": {\"color\": \"#2a3f5f\"}}, \"ternary\": {\"aaxis\": {\"gridcolor\": \"white\", \"linecolor\": \"white\", \"ticks\": \"\"}, \"baxis\": {\"gridcolor\": \"white\", \"linecolor\": \"white\", \"ticks\": \"\"}, \"bgcolor\": \"#E5ECF6\", \"caxis\": {\"gridcolor\": \"white\", \"linecolor\": \"white\", \"ticks\": \"\"}}, \"title\": {\"x\": 0.05}, \"xaxis\": {\"automargin\": true, \"gridcolor\": \"white\", \"linecolor\": \"white\", \"ticks\": \"\", \"title\": {\"standoff\": 15}, \"zerolinecolor\": \"white\", \"zerolinewidth\": 2}, \"yaxis\": {\"automargin\": true, \"gridcolor\": \"white\", \"linecolor\": \"white\", \"ticks\": \"\", \"title\": {\"standoff\": 15}, \"zerolinecolor\": \"white\", \"zerolinewidth\": 2}}}},\n",
              "                        {\"responsive\": true}\n",
              "                    ).then(function(){\n",
              "                            \n",
              "var gd = document.getElementById('a93ed022-058a-4759-a461-dbdb0fa27edf');\n",
              "var x = new MutationObserver(function (mutations, observer) {{\n",
              "        var display = window.getComputedStyle(gd).display;\n",
              "        if (!display || display === 'none') {{\n",
              "            console.log([gd, 'removed!']);\n",
              "            Plotly.purge(gd);\n",
              "            observer.disconnect();\n",
              "        }}\n",
              "}});\n",
              "\n",
              "// Listen for the removal of the full notebook cells\n",
              "var notebookContainer = gd.closest('#notebook-container');\n",
              "if (notebookContainer) {{\n",
              "    x.observe(notebookContainer, {childList: true});\n",
              "}}\n",
              "\n",
              "// Listen for the clearing of the current output cell\n",
              "var outputEl = gd.closest('.output');\n",
              "if (outputEl) {{\n",
              "    x.observe(outputEl, {childList: true});\n",
              "}}\n",
              "\n",
              "                        })\n",
              "                };\n",
              "                \n",
              "            </script>\n",
              "        </div>\n",
              "</body>\n",
              "</html>"
            ]
          },
          "metadata": {
            "tags": []
          }
        },
        {
          "output_type": "stream",
          "text": [
            "Emoji Distribution for Lochin\n"
          ],
          "name": "stdout"
        },
        {
          "output_type": "display_data",
          "data": {
            "text/html": [
              "<html>\n",
              "<head><meta charset=\"utf-8\" /></head>\n",
              "<body>\n",
              "    <div>\n",
              "            <script src=\"https://cdnjs.cloudflare.com/ajax/libs/mathjax/2.7.5/MathJax.js?config=TeX-AMS-MML_SVG\"></script><script type=\"text/javascript\">if (window.MathJax) {MathJax.Hub.Config({SVG: {font: \"STIX-Web\"}});}</script>\n",
              "                <script type=\"text/javascript\">window.PlotlyConfig = {MathJaxConfig: 'local'};</script>\n",
              "        <script src=\"https://cdn.plot.ly/plotly-latest.min.js\"></script>    \n",
              "            <div id=\"8cb959db-93b8-4f20-87b1-001e04991740\" class=\"plotly-graph-div\" style=\"height:525px; width:100%;\"></div>\n",
              "            <script type=\"text/javascript\">\n",
              "                \n",
              "                    window.PLOTLYENV=window.PLOTLYENV || {};\n",
              "                    \n",
              "                if (document.getElementById(\"8cb959db-93b8-4f20-87b1-001e04991740\")) {\n",
              "                    Plotly.newPlot(\n",
              "                        '8cb959db-93b8-4f20-87b1-001e04991740',\n",
              "                        [{\"domain\": {\"x\": [0.0, 1.0], \"y\": [0.0, 1.0]}, \"hoverlabel\": {\"namelength\": 0}, \"hovertemplate\": \"emoji=%{label}<br>count=%{value}\", \"labels\": [\"\\ud83d\\ude02\", \"\\ud83d\\udd25\", \"\\ud83d\\ude2d\", \"\\ud83e\\udd26\", \"\\ud83d\\udc0d\", \"\\ud83d\\ude24\", \"\\u2764\\ufe0f\", \"\\ud83e\\udd2f\", \"\\ud83c\\udf89\", \"\\ud83d\\ude2e\", \"\\ud83d\\ude0f\", \"\\ud83d\\ude31\", \"\\ud83e\\udd2c\", \"\\ud83d\\ude0c\", \"\\ud83d\\ude36\", \"\\ud83d\\ude05\", \"\\ud83e\\udd37\", \"\\ud83d\\ude44\", \"\\ud83d\\ude22\", \"\\ud83d\\ude0d\", \"\\ud83d\\ude2c\", \"\\ud83d\\ude43\", \"\\ud83d\\ude0e\", \"\\ud83e\\udd70\", \"\\ud83d\\ude25\", \"\\ud83e\\udd14\", \"\\ud83d\\ude21\", \"\\ud83e\\udd7a\", \"\\ud83e\\udd21\", \"\\ud83d\\udc10\", \"\\ud83d\\udc4f\", \"\\ud83e\\udd29\", \"\\ud83c\\udf82\", \"\\ud83d\\ude33\", \"\\ud83e\\udd2e\", \"\\ud83d\\ude29\", \"\\ud83e\\udd2b\", \"\\ud83d\\ude35\", \"\\ud83e\\udd1d\", \"\\ud83e\\udd8a\", \"\\ud83d\\udc80\", \"\\ud83d\\ude2b\", \"\\ud83e\\udd23\", \"\\ud83d\\ude11\", \"\\ud83e\\udd73\", \"\\ud83e\\udd76\", \"\\ud83d\\ude10\", \"\\ud83e\\udd2d\", \"\\ud83d\\ude42\", \"\\ud83d\\ude08\", \"\\ud83c\\udf1d\", \"\\ud83d\\ude32\", \"\\ud83d\\ude00\", \"\\ud83d\\ude0a\", \"\\ud83e\\udd28\", \"\\ud83d\\udc4d\", \"\\ud83e\\udd75\", \"\\ud83c\\udf1a\", \"\\ud83d\\ude1e\"], \"legendgroup\": \"\", \"name\": \"\", \"showlegend\": true, \"textinfo\": \"percent+label\", \"textposition\": \"inside\", \"type\": \"pie\", \"values\": [877, 353, 174, 114, 46, 34, 30, 30, 28, 21, 19, 19, 19, 18, 18, 17, 14, 14, 14, 13, 13, 12, 11, 11, 9, 8, 8, 8, 6, 5, 5, 5, 5, 4, 4, 4, 4, 4, 3, 3, 3, 3, 2, 2, 2, 2, 2, 2, 2, 1, 1, 1, 1, 1, 1, 1, 1, 1, 1]}],\n",
              "                        {\"legend\": {\"tracegroupgap\": 0}, \"margin\": {\"t\": 60}, \"template\": {\"data\": {\"bar\": [{\"error_x\": {\"color\": \"#2a3f5f\"}, \"error_y\": {\"color\": \"#2a3f5f\"}, \"marker\": {\"line\": {\"color\": \"#E5ECF6\", \"width\": 0.5}}, \"type\": \"bar\"}], \"barpolar\": [{\"marker\": {\"line\": {\"color\": \"#E5ECF6\", \"width\": 0.5}}, \"type\": \"barpolar\"}], \"carpet\": [{\"aaxis\": {\"endlinecolor\": \"#2a3f5f\", \"gridcolor\": \"white\", \"linecolor\": \"white\", \"minorgridcolor\": \"white\", \"startlinecolor\": \"#2a3f5f\"}, \"baxis\": {\"endlinecolor\": \"#2a3f5f\", \"gridcolor\": \"white\", \"linecolor\": \"white\", \"minorgridcolor\": \"white\", \"startlinecolor\": \"#2a3f5f\"}, \"type\": \"carpet\"}], \"choropleth\": [{\"colorbar\": {\"outlinewidth\": 0, \"ticks\": \"\"}, \"type\": \"choropleth\"}], \"contour\": [{\"colorbar\": {\"outlinewidth\": 0, \"ticks\": \"\"}, \"colorscale\": [[0.0, \"#0d0887\"], [0.1111111111111111, \"#46039f\"], [0.2222222222222222, \"#7201a8\"], [0.3333333333333333, \"#9c179e\"], [0.4444444444444444, \"#bd3786\"], [0.5555555555555556, \"#d8576b\"], [0.6666666666666666, \"#ed7953\"], [0.7777777777777778, \"#fb9f3a\"], [0.8888888888888888, \"#fdca26\"], [1.0, \"#f0f921\"]], \"type\": \"contour\"}], \"contourcarpet\": [{\"colorbar\": {\"outlinewidth\": 0, \"ticks\": \"\"}, \"type\": \"contourcarpet\"}], \"heatmap\": [{\"colorbar\": {\"outlinewidth\": 0, \"ticks\": \"\"}, \"colorscale\": [[0.0, \"#0d0887\"], [0.1111111111111111, \"#46039f\"], [0.2222222222222222, \"#7201a8\"], [0.3333333333333333, \"#9c179e\"], [0.4444444444444444, \"#bd3786\"], [0.5555555555555556, \"#d8576b\"], [0.6666666666666666, \"#ed7953\"], [0.7777777777777778, \"#fb9f3a\"], [0.8888888888888888, \"#fdca26\"], [1.0, \"#f0f921\"]], \"type\": \"heatmap\"}], \"heatmapgl\": [{\"colorbar\": {\"outlinewidth\": 0, \"ticks\": \"\"}, \"colorscale\": [[0.0, \"#0d0887\"], [0.1111111111111111, \"#46039f\"], [0.2222222222222222, \"#7201a8\"], [0.3333333333333333, \"#9c179e\"], [0.4444444444444444, \"#bd3786\"], [0.5555555555555556, \"#d8576b\"], [0.6666666666666666, \"#ed7953\"], [0.7777777777777778, \"#fb9f3a\"], [0.8888888888888888, \"#fdca26\"], [1.0, \"#f0f921\"]], \"type\": \"heatmapgl\"}], \"histogram\": [{\"marker\": {\"colorbar\": {\"outlinewidth\": 0, \"ticks\": \"\"}}, \"type\": \"histogram\"}], \"histogram2d\": [{\"colorbar\": {\"outlinewidth\": 0, \"ticks\": \"\"}, \"colorscale\": [[0.0, \"#0d0887\"], [0.1111111111111111, \"#46039f\"], [0.2222222222222222, \"#7201a8\"], [0.3333333333333333, \"#9c179e\"], [0.4444444444444444, \"#bd3786\"], [0.5555555555555556, \"#d8576b\"], [0.6666666666666666, \"#ed7953\"], [0.7777777777777778, \"#fb9f3a\"], [0.8888888888888888, \"#fdca26\"], [1.0, \"#f0f921\"]], \"type\": \"histogram2d\"}], \"histogram2dcontour\": [{\"colorbar\": {\"outlinewidth\": 0, \"ticks\": \"\"}, \"colorscale\": [[0.0, \"#0d0887\"], [0.1111111111111111, \"#46039f\"], [0.2222222222222222, \"#7201a8\"], [0.3333333333333333, \"#9c179e\"], [0.4444444444444444, \"#bd3786\"], [0.5555555555555556, \"#d8576b\"], [0.6666666666666666, \"#ed7953\"], [0.7777777777777778, \"#fb9f3a\"], [0.8888888888888888, \"#fdca26\"], [1.0, \"#f0f921\"]], \"type\": \"histogram2dcontour\"}], \"mesh3d\": [{\"colorbar\": {\"outlinewidth\": 0, \"ticks\": \"\"}, \"type\": \"mesh3d\"}], \"parcoords\": [{\"line\": {\"colorbar\": {\"outlinewidth\": 0, \"ticks\": \"\"}}, \"type\": \"parcoords\"}], \"pie\": [{\"automargin\": true, \"type\": \"pie\"}], \"scatter\": [{\"marker\": {\"colorbar\": {\"outlinewidth\": 0, \"ticks\": \"\"}}, \"type\": \"scatter\"}], \"scatter3d\": [{\"line\": {\"colorbar\": {\"outlinewidth\": 0, \"ticks\": \"\"}}, \"marker\": {\"colorbar\": {\"outlinewidth\": 0, \"ticks\": \"\"}}, \"type\": \"scatter3d\"}], \"scattercarpet\": [{\"marker\": {\"colorbar\": {\"outlinewidth\": 0, \"ticks\": \"\"}}, \"type\": \"scattercarpet\"}], \"scattergeo\": [{\"marker\": {\"colorbar\": {\"outlinewidth\": 0, \"ticks\": \"\"}}, \"type\": \"scattergeo\"}], \"scattergl\": [{\"marker\": {\"colorbar\": {\"outlinewidth\": 0, \"ticks\": \"\"}}, \"type\": \"scattergl\"}], \"scattermapbox\": [{\"marker\": {\"colorbar\": {\"outlinewidth\": 0, \"ticks\": \"\"}}, \"type\": \"scattermapbox\"}], \"scatterpolar\": [{\"marker\": {\"colorbar\": {\"outlinewidth\": 0, \"ticks\": \"\"}}, \"type\": \"scatterpolar\"}], \"scatterpolargl\": [{\"marker\": {\"colorbar\": {\"outlinewidth\": 0, \"ticks\": \"\"}}, \"type\": \"scatterpolargl\"}], \"scatterternary\": [{\"marker\": {\"colorbar\": {\"outlinewidth\": 0, \"ticks\": \"\"}}, \"type\": \"scatterternary\"}], \"surface\": [{\"colorbar\": {\"outlinewidth\": 0, \"ticks\": \"\"}, \"colorscale\": [[0.0, \"#0d0887\"], [0.1111111111111111, \"#46039f\"], [0.2222222222222222, \"#7201a8\"], [0.3333333333333333, \"#9c179e\"], [0.4444444444444444, \"#bd3786\"], [0.5555555555555556, \"#d8576b\"], [0.6666666666666666, \"#ed7953\"], [0.7777777777777778, \"#fb9f3a\"], [0.8888888888888888, \"#fdca26\"], [1.0, \"#f0f921\"]], \"type\": \"surface\"}], \"table\": [{\"cells\": {\"fill\": {\"color\": \"#EBF0F8\"}, \"line\": {\"color\": \"white\"}}, \"header\": {\"fill\": {\"color\": \"#C8D4E3\"}, \"line\": {\"color\": \"white\"}}, \"type\": \"table\"}]}, \"layout\": {\"annotationdefaults\": {\"arrowcolor\": \"#2a3f5f\", \"arrowhead\": 0, \"arrowwidth\": 1}, \"coloraxis\": {\"colorbar\": {\"outlinewidth\": 0, \"ticks\": \"\"}}, \"colorscale\": {\"diverging\": [[0, \"#8e0152\"], [0.1, \"#c51b7d\"], [0.2, \"#de77ae\"], [0.3, \"#f1b6da\"], [0.4, \"#fde0ef\"], [0.5, \"#f7f7f7\"], [0.6, \"#e6f5d0\"], [0.7, \"#b8e186\"], [0.8, \"#7fbc41\"], [0.9, \"#4d9221\"], [1, \"#276419\"]], \"sequential\": [[0.0, \"#0d0887\"], [0.1111111111111111, \"#46039f\"], [0.2222222222222222, \"#7201a8\"], [0.3333333333333333, \"#9c179e\"], [0.4444444444444444, \"#bd3786\"], [0.5555555555555556, \"#d8576b\"], [0.6666666666666666, \"#ed7953\"], [0.7777777777777778, \"#fb9f3a\"], [0.8888888888888888, \"#fdca26\"], [1.0, \"#f0f921\"]], \"sequentialminus\": [[0.0, \"#0d0887\"], [0.1111111111111111, \"#46039f\"], [0.2222222222222222, \"#7201a8\"], [0.3333333333333333, \"#9c179e\"], [0.4444444444444444, \"#bd3786\"], [0.5555555555555556, \"#d8576b\"], [0.6666666666666666, \"#ed7953\"], [0.7777777777777778, \"#fb9f3a\"], [0.8888888888888888, \"#fdca26\"], [1.0, \"#f0f921\"]]}, \"colorway\": [\"#636efa\", \"#EF553B\", \"#00cc96\", \"#ab63fa\", \"#FFA15A\", \"#19d3f3\", \"#FF6692\", \"#B6E880\", \"#FF97FF\", \"#FECB52\"], \"font\": {\"color\": \"#2a3f5f\"}, \"geo\": {\"bgcolor\": \"white\", \"lakecolor\": \"white\", \"landcolor\": \"#E5ECF6\", \"showlakes\": true, \"showland\": true, \"subunitcolor\": \"white\"}, \"hoverlabel\": {\"align\": \"left\"}, \"hovermode\": \"closest\", \"mapbox\": {\"style\": \"light\"}, \"paper_bgcolor\": \"white\", \"plot_bgcolor\": \"#E5ECF6\", \"polar\": {\"angularaxis\": {\"gridcolor\": \"white\", \"linecolor\": \"white\", \"ticks\": \"\"}, \"bgcolor\": \"#E5ECF6\", \"radialaxis\": {\"gridcolor\": \"white\", \"linecolor\": \"white\", \"ticks\": \"\"}}, \"scene\": {\"xaxis\": {\"backgroundcolor\": \"#E5ECF6\", \"gridcolor\": \"white\", \"gridwidth\": 2, \"linecolor\": \"white\", \"showbackground\": true, \"ticks\": \"\", \"zerolinecolor\": \"white\"}, \"yaxis\": {\"backgroundcolor\": \"#E5ECF6\", \"gridcolor\": \"white\", \"gridwidth\": 2, \"linecolor\": \"white\", \"showbackground\": true, \"ticks\": \"\", \"zerolinecolor\": \"white\"}, \"zaxis\": {\"backgroundcolor\": \"#E5ECF6\", \"gridcolor\": \"white\", \"gridwidth\": 2, \"linecolor\": \"white\", \"showbackground\": true, \"ticks\": \"\", \"zerolinecolor\": \"white\"}}, \"shapedefaults\": {\"line\": {\"color\": \"#2a3f5f\"}}, \"ternary\": {\"aaxis\": {\"gridcolor\": \"white\", \"linecolor\": \"white\", \"ticks\": \"\"}, \"baxis\": {\"gridcolor\": \"white\", \"linecolor\": \"white\", \"ticks\": \"\"}, \"bgcolor\": \"#E5ECF6\", \"caxis\": {\"gridcolor\": \"white\", \"linecolor\": \"white\", \"ticks\": \"\"}}, \"title\": {\"x\": 0.05}, \"xaxis\": {\"automargin\": true, \"gridcolor\": \"white\", \"linecolor\": \"white\", \"ticks\": \"\", \"title\": {\"standoff\": 15}, \"zerolinecolor\": \"white\", \"zerolinewidth\": 2}, \"yaxis\": {\"automargin\": true, \"gridcolor\": \"white\", \"linecolor\": \"white\", \"ticks\": \"\", \"title\": {\"standoff\": 15}, \"zerolinecolor\": \"white\", \"zerolinewidth\": 2}}}},\n",
              "                        {\"responsive\": true}\n",
              "                    ).then(function(){\n",
              "                            \n",
              "var gd = document.getElementById('8cb959db-93b8-4f20-87b1-001e04991740');\n",
              "var x = new MutationObserver(function (mutations, observer) {{\n",
              "        var display = window.getComputedStyle(gd).display;\n",
              "        if (!display || display === 'none') {{\n",
              "            console.log([gd, 'removed!']);\n",
              "            Plotly.purge(gd);\n",
              "            observer.disconnect();\n",
              "        }}\n",
              "}});\n",
              "\n",
              "// Listen for the removal of the full notebook cells\n",
              "var notebookContainer = gd.closest('#notebook-container');\n",
              "if (notebookContainer) {{\n",
              "    x.observe(notebookContainer, {childList: true});\n",
              "}}\n",
              "\n",
              "// Listen for the clearing of the current output cell\n",
              "var outputEl = gd.closest('.output');\n",
              "if (outputEl) {{\n",
              "    x.observe(outputEl, {childList: true});\n",
              "}}\n",
              "\n",
              "                        })\n",
              "                };\n",
              "                \n",
              "            </script>\n",
              "        </div>\n",
              "</body>\n",
              "</html>"
            ]
          },
          "metadata": {
            "tags": []
          }
        },
        {
          "output_type": "stream",
          "text": [
            "Emoji Distribution for Chandan Iitg\n"
          ],
          "name": "stdout"
        },
        {
          "output_type": "display_data",
          "data": {
            "text/html": [
              "<html>\n",
              "<head><meta charset=\"utf-8\" /></head>\n",
              "<body>\n",
              "    <div>\n",
              "            <script src=\"https://cdnjs.cloudflare.com/ajax/libs/mathjax/2.7.5/MathJax.js?config=TeX-AMS-MML_SVG\"></script><script type=\"text/javascript\">if (window.MathJax) {MathJax.Hub.Config({SVG: {font: \"STIX-Web\"}});}</script>\n",
              "                <script type=\"text/javascript\">window.PlotlyConfig = {MathJaxConfig: 'local'};</script>\n",
              "        <script src=\"https://cdn.plot.ly/plotly-latest.min.js\"></script>    \n",
              "            <div id=\"0e8cb690-4b1e-4027-81f0-0101b033efcc\" class=\"plotly-graph-div\" style=\"height:525px; width:100%;\"></div>\n",
              "            <script type=\"text/javascript\">\n",
              "                \n",
              "                    window.PLOTLYENV=window.PLOTLYENV || {};\n",
              "                    \n",
              "                if (document.getElementById(\"0e8cb690-4b1e-4027-81f0-0101b033efcc\")) {\n",
              "                    Plotly.newPlot(\n",
              "                        '0e8cb690-4b1e-4027-81f0-0101b033efcc',\n",
              "                        [{\"domain\": {\"x\": [0.0, 1.0], \"y\": [0.0, 1.0]}, \"hoverlabel\": {\"namelength\": 0}, \"hovertemplate\": \"emoji=%{label}<br>count=%{value}\", \"labels\": [\"\\ud83d\\ude02\", \"\\ud83d\\ude44\", \"\\ud83d\\ude36\", \"\\ud83d\\ude05\", \"\\u2639\\ufe0f\", \"\\ud83d\\udd25\", \"\\ud83e\\udd1f\", \"\\ud83e\\udd26\", \"\\ud83d\\ude0f\", \"\\ud83d\\ude12\", \"\\ud83e\\uddd0\", \"\\ud83d\\ude22\", \"\\ud83e\\udd73\", \"\\ud83d\\udd7a\", \"\\ud83e\\udd14\", \"\\ud83d\\ude0e\", \"\\ud83d\\ude2d\", \"\\ud83c\\udf89\", \"\\ud83e\\udd2c\", \"\\ud83d\\ude0c\", \"\\ud83d\\ude14\", \"\\ud83d\\ude4f\", \"\\ud83d\\udc4f\", \"\\ud83d\\udc99\", \"\\ud83e\\udd17\", \"\\ud83d\\ude01\", \"\\ud83d\\ude4b\", \"\\ud83e\\udd1d\", \"\\ud83d\\ude2c\", \"\\ud83d\\ude0b\", \"\\ud83d\\ude0a\", \"\\ud83d\\udcaa\", \"\\ud83e\\udd28\", \"\\ud83c\\udf82\", \"\\ud83d\\udc51\", \"\\ud83d\\ude0d\", \"\\ud83d\\ude10\", \"\\ud83d\\ude09\", \"\\ud83d\\ude00\", \"\\ud83d\\udc4d\"], \"legendgroup\": \"\", \"name\": \"\", \"showlegend\": true, \"textinfo\": \"percent+label\", \"textposition\": \"inside\", \"type\": \"pie\", \"values\": [297, 145, 106, 67, 60, 53, 46, 35, 33, 24, 24, 19, 14, 14, 13, 12, 11, 10, 9, 7, 5, 5, 4, 4, 3, 2, 2, 2, 2, 2, 2, 1, 1, 1, 1, 1, 1, 1, 1, 1]}],\n",
              "                        {\"legend\": {\"tracegroupgap\": 0}, \"margin\": {\"t\": 60}, \"template\": {\"data\": {\"bar\": [{\"error_x\": {\"color\": \"#2a3f5f\"}, \"error_y\": {\"color\": \"#2a3f5f\"}, \"marker\": {\"line\": {\"color\": \"#E5ECF6\", \"width\": 0.5}}, \"type\": \"bar\"}], \"barpolar\": [{\"marker\": {\"line\": {\"color\": \"#E5ECF6\", \"width\": 0.5}}, \"type\": \"barpolar\"}], \"carpet\": [{\"aaxis\": {\"endlinecolor\": \"#2a3f5f\", \"gridcolor\": \"white\", \"linecolor\": \"white\", \"minorgridcolor\": \"white\", \"startlinecolor\": \"#2a3f5f\"}, \"baxis\": {\"endlinecolor\": \"#2a3f5f\", \"gridcolor\": \"white\", \"linecolor\": \"white\", \"minorgridcolor\": \"white\", \"startlinecolor\": \"#2a3f5f\"}, \"type\": \"carpet\"}], \"choropleth\": [{\"colorbar\": {\"outlinewidth\": 0, \"ticks\": \"\"}, \"type\": \"choropleth\"}], \"contour\": [{\"colorbar\": {\"outlinewidth\": 0, \"ticks\": \"\"}, \"colorscale\": [[0.0, \"#0d0887\"], [0.1111111111111111, \"#46039f\"], [0.2222222222222222, \"#7201a8\"], [0.3333333333333333, \"#9c179e\"], [0.4444444444444444, \"#bd3786\"], [0.5555555555555556, \"#d8576b\"], [0.6666666666666666, \"#ed7953\"], [0.7777777777777778, \"#fb9f3a\"], [0.8888888888888888, \"#fdca26\"], [1.0, \"#f0f921\"]], \"type\": \"contour\"}], \"contourcarpet\": [{\"colorbar\": {\"outlinewidth\": 0, \"ticks\": \"\"}, \"type\": \"contourcarpet\"}], \"heatmap\": [{\"colorbar\": {\"outlinewidth\": 0, \"ticks\": \"\"}, \"colorscale\": [[0.0, \"#0d0887\"], [0.1111111111111111, \"#46039f\"], [0.2222222222222222, \"#7201a8\"], [0.3333333333333333, \"#9c179e\"], [0.4444444444444444, \"#bd3786\"], [0.5555555555555556, \"#d8576b\"], [0.6666666666666666, \"#ed7953\"], [0.7777777777777778, \"#fb9f3a\"], [0.8888888888888888, \"#fdca26\"], [1.0, \"#f0f921\"]], \"type\": \"heatmap\"}], \"heatmapgl\": [{\"colorbar\": {\"outlinewidth\": 0, \"ticks\": \"\"}, \"colorscale\": [[0.0, \"#0d0887\"], [0.1111111111111111, \"#46039f\"], [0.2222222222222222, \"#7201a8\"], [0.3333333333333333, \"#9c179e\"], [0.4444444444444444, \"#bd3786\"], [0.5555555555555556, \"#d8576b\"], [0.6666666666666666, \"#ed7953\"], [0.7777777777777778, \"#fb9f3a\"], [0.8888888888888888, \"#fdca26\"], [1.0, \"#f0f921\"]], \"type\": \"heatmapgl\"}], \"histogram\": [{\"marker\": {\"colorbar\": {\"outlinewidth\": 0, \"ticks\": \"\"}}, \"type\": \"histogram\"}], \"histogram2d\": [{\"colorbar\": {\"outlinewidth\": 0, \"ticks\": \"\"}, \"colorscale\": [[0.0, \"#0d0887\"], [0.1111111111111111, \"#46039f\"], [0.2222222222222222, \"#7201a8\"], [0.3333333333333333, \"#9c179e\"], [0.4444444444444444, \"#bd3786\"], [0.5555555555555556, \"#d8576b\"], [0.6666666666666666, \"#ed7953\"], [0.7777777777777778, \"#fb9f3a\"], [0.8888888888888888, \"#fdca26\"], [1.0, \"#f0f921\"]], \"type\": \"histogram2d\"}], \"histogram2dcontour\": [{\"colorbar\": {\"outlinewidth\": 0, \"ticks\": \"\"}, \"colorscale\": [[0.0, \"#0d0887\"], [0.1111111111111111, \"#46039f\"], [0.2222222222222222, \"#7201a8\"], [0.3333333333333333, \"#9c179e\"], [0.4444444444444444, \"#bd3786\"], [0.5555555555555556, \"#d8576b\"], [0.6666666666666666, \"#ed7953\"], [0.7777777777777778, \"#fb9f3a\"], [0.8888888888888888, \"#fdca26\"], [1.0, \"#f0f921\"]], \"type\": \"histogram2dcontour\"}], \"mesh3d\": [{\"colorbar\": {\"outlinewidth\": 0, \"ticks\": \"\"}, \"type\": \"mesh3d\"}], \"parcoords\": [{\"line\": {\"colorbar\": {\"outlinewidth\": 0, \"ticks\": \"\"}}, \"type\": \"parcoords\"}], \"pie\": [{\"automargin\": true, \"type\": \"pie\"}], \"scatter\": [{\"marker\": {\"colorbar\": {\"outlinewidth\": 0, \"ticks\": \"\"}}, \"type\": \"scatter\"}], \"scatter3d\": [{\"line\": {\"colorbar\": {\"outlinewidth\": 0, \"ticks\": \"\"}}, \"marker\": {\"colorbar\": {\"outlinewidth\": 0, \"ticks\": \"\"}}, \"type\": \"scatter3d\"}], \"scattercarpet\": [{\"marker\": {\"colorbar\": {\"outlinewidth\": 0, \"ticks\": \"\"}}, \"type\": \"scattercarpet\"}], \"scattergeo\": [{\"marker\": {\"colorbar\": {\"outlinewidth\": 0, \"ticks\": \"\"}}, \"type\": \"scattergeo\"}], \"scattergl\": [{\"marker\": {\"colorbar\": {\"outlinewidth\": 0, \"ticks\": \"\"}}, \"type\": \"scattergl\"}], \"scattermapbox\": [{\"marker\": {\"colorbar\": {\"outlinewidth\": 0, \"ticks\": \"\"}}, \"type\": \"scattermapbox\"}], \"scatterpolar\": [{\"marker\": {\"colorbar\": {\"outlinewidth\": 0, \"ticks\": \"\"}}, \"type\": \"scatterpolar\"}], \"scatterpolargl\": [{\"marker\": {\"colorbar\": {\"outlinewidth\": 0, \"ticks\": \"\"}}, \"type\": \"scatterpolargl\"}], \"scatterternary\": [{\"marker\": {\"colorbar\": {\"outlinewidth\": 0, \"ticks\": \"\"}}, \"type\": \"scatterternary\"}], \"surface\": [{\"colorbar\": {\"outlinewidth\": 0, \"ticks\": \"\"}, \"colorscale\": [[0.0, \"#0d0887\"], [0.1111111111111111, \"#46039f\"], [0.2222222222222222, \"#7201a8\"], [0.3333333333333333, \"#9c179e\"], [0.4444444444444444, \"#bd3786\"], [0.5555555555555556, \"#d8576b\"], [0.6666666666666666, \"#ed7953\"], [0.7777777777777778, \"#fb9f3a\"], [0.8888888888888888, \"#fdca26\"], [1.0, \"#f0f921\"]], \"type\": \"surface\"}], \"table\": [{\"cells\": {\"fill\": {\"color\": \"#EBF0F8\"}, \"line\": {\"color\": \"white\"}}, \"header\": {\"fill\": {\"color\": \"#C8D4E3\"}, \"line\": {\"color\": \"white\"}}, \"type\": \"table\"}]}, \"layout\": {\"annotationdefaults\": {\"arrowcolor\": \"#2a3f5f\", \"arrowhead\": 0, \"arrowwidth\": 1}, \"coloraxis\": {\"colorbar\": {\"outlinewidth\": 0, \"ticks\": \"\"}}, \"colorscale\": {\"diverging\": [[0, \"#8e0152\"], [0.1, \"#c51b7d\"], [0.2, \"#de77ae\"], [0.3, \"#f1b6da\"], [0.4, \"#fde0ef\"], [0.5, \"#f7f7f7\"], [0.6, \"#e6f5d0\"], [0.7, \"#b8e186\"], [0.8, \"#7fbc41\"], [0.9, \"#4d9221\"], [1, \"#276419\"]], \"sequential\": [[0.0, \"#0d0887\"], [0.1111111111111111, \"#46039f\"], [0.2222222222222222, \"#7201a8\"], [0.3333333333333333, \"#9c179e\"], [0.4444444444444444, \"#bd3786\"], [0.5555555555555556, \"#d8576b\"], [0.6666666666666666, \"#ed7953\"], [0.7777777777777778, \"#fb9f3a\"], [0.8888888888888888, \"#fdca26\"], [1.0, \"#f0f921\"]], \"sequentialminus\": [[0.0, \"#0d0887\"], [0.1111111111111111, \"#46039f\"], [0.2222222222222222, \"#7201a8\"], [0.3333333333333333, \"#9c179e\"], [0.4444444444444444, \"#bd3786\"], [0.5555555555555556, \"#d8576b\"], [0.6666666666666666, \"#ed7953\"], [0.7777777777777778, \"#fb9f3a\"], [0.8888888888888888, \"#fdca26\"], [1.0, \"#f0f921\"]]}, \"colorway\": [\"#636efa\", \"#EF553B\", \"#00cc96\", \"#ab63fa\", \"#FFA15A\", \"#19d3f3\", \"#FF6692\", \"#B6E880\", \"#FF97FF\", \"#FECB52\"], \"font\": {\"color\": \"#2a3f5f\"}, \"geo\": {\"bgcolor\": \"white\", \"lakecolor\": \"white\", \"landcolor\": \"#E5ECF6\", \"showlakes\": true, \"showland\": true, \"subunitcolor\": \"white\"}, \"hoverlabel\": {\"align\": \"left\"}, \"hovermode\": \"closest\", \"mapbox\": {\"style\": \"light\"}, \"paper_bgcolor\": \"white\", \"plot_bgcolor\": \"#E5ECF6\", \"polar\": {\"angularaxis\": {\"gridcolor\": \"white\", \"linecolor\": \"white\", \"ticks\": \"\"}, \"bgcolor\": \"#E5ECF6\", \"radialaxis\": {\"gridcolor\": \"white\", \"linecolor\": \"white\", \"ticks\": \"\"}}, \"scene\": {\"xaxis\": {\"backgroundcolor\": \"#E5ECF6\", \"gridcolor\": \"white\", \"gridwidth\": 2, \"linecolor\": \"white\", \"showbackground\": true, \"ticks\": \"\", \"zerolinecolor\": \"white\"}, \"yaxis\": {\"backgroundcolor\": \"#E5ECF6\", \"gridcolor\": \"white\", \"gridwidth\": 2, \"linecolor\": \"white\", \"showbackground\": true, \"ticks\": \"\", \"zerolinecolor\": \"white\"}, \"zaxis\": {\"backgroundcolor\": \"#E5ECF6\", \"gridcolor\": \"white\", \"gridwidth\": 2, \"linecolor\": \"white\", \"showbackground\": true, \"ticks\": \"\", \"zerolinecolor\": \"white\"}}, \"shapedefaults\": {\"line\": {\"color\": \"#2a3f5f\"}}, \"ternary\": {\"aaxis\": {\"gridcolor\": \"white\", \"linecolor\": \"white\", \"ticks\": \"\"}, \"baxis\": {\"gridcolor\": \"white\", \"linecolor\": \"white\", \"ticks\": \"\"}, \"bgcolor\": \"#E5ECF6\", \"caxis\": {\"gridcolor\": \"white\", \"linecolor\": \"white\", \"ticks\": \"\"}}, \"title\": {\"x\": 0.05}, \"xaxis\": {\"automargin\": true, \"gridcolor\": \"white\", \"linecolor\": \"white\", \"ticks\": \"\", \"title\": {\"standoff\": 15}, \"zerolinecolor\": \"white\", \"zerolinewidth\": 2}, \"yaxis\": {\"automargin\": true, \"gridcolor\": \"white\", \"linecolor\": \"white\", \"ticks\": \"\", \"title\": {\"standoff\": 15}, \"zerolinecolor\": \"white\", \"zerolinewidth\": 2}}}},\n",
              "                        {\"responsive\": true}\n",
              "                    ).then(function(){\n",
              "                            \n",
              "var gd = document.getElementById('0e8cb690-4b1e-4027-81f0-0101b033efcc');\n",
              "var x = new MutationObserver(function (mutations, observer) {{\n",
              "        var display = window.getComputedStyle(gd).display;\n",
              "        if (!display || display === 'none') {{\n",
              "            console.log([gd, 'removed!']);\n",
              "            Plotly.purge(gd);\n",
              "            observer.disconnect();\n",
              "        }}\n",
              "}});\n",
              "\n",
              "// Listen for the removal of the full notebook cells\n",
              "var notebookContainer = gd.closest('#notebook-container');\n",
              "if (notebookContainer) {{\n",
              "    x.observe(notebookContainer, {childList: true});\n",
              "}}\n",
              "\n",
              "// Listen for the clearing of the current output cell\n",
              "var outputEl = gd.closest('.output');\n",
              "if (outputEl) {{\n",
              "    x.observe(outputEl, {childList: true});\n",
              "}}\n",
              "\n",
              "                        })\n",
              "                };\n",
              "                \n",
              "            </script>\n",
              "        </div>\n",
              "</body>\n",
              "</html>"
            ]
          },
          "metadata": {
            "tags": []
          }
        },
        {
          "output_type": "stream",
          "text": [
            "Emoji Distribution for Dhanush\n"
          ],
          "name": "stdout"
        },
        {
          "output_type": "display_data",
          "data": {
            "text/html": [
              "<html>\n",
              "<head><meta charset=\"utf-8\" /></head>\n",
              "<body>\n",
              "    <div>\n",
              "            <script src=\"https://cdnjs.cloudflare.com/ajax/libs/mathjax/2.7.5/MathJax.js?config=TeX-AMS-MML_SVG\"></script><script type=\"text/javascript\">if (window.MathJax) {MathJax.Hub.Config({SVG: {font: \"STIX-Web\"}});}</script>\n",
              "                <script type=\"text/javascript\">window.PlotlyConfig = {MathJaxConfig: 'local'};</script>\n",
              "        <script src=\"https://cdn.plot.ly/plotly-latest.min.js\"></script>    \n",
              "            <div id=\"c069f5c6-541f-4a23-80c1-99656f04e8e2\" class=\"plotly-graph-div\" style=\"height:525px; width:100%;\"></div>\n",
              "            <script type=\"text/javascript\">\n",
              "                \n",
              "                    window.PLOTLYENV=window.PLOTLYENV || {};\n",
              "                    \n",
              "                if (document.getElementById(\"c069f5c6-541f-4a23-80c1-99656f04e8e2\")) {\n",
              "                    Plotly.newPlot(\n",
              "                        'c069f5c6-541f-4a23-80c1-99656f04e8e2',\n",
              "                        [{\"domain\": {\"x\": [0.0, 1.0], \"y\": [0.0, 1.0]}, \"hoverlabel\": {\"namelength\": 0}, \"hovertemplate\": \"emoji=%{label}<br>count=%{value}\", \"labels\": [\"\\ud83d\\ude02\", \"\\ud83e\\udd26\", \"\\ud83d\\ude22\", \"\\ud83d\\udd25\", \"\\ud83d\\ude05\", \"\\ud83e\\udd7a\", \"\\ud83d\\ude32\", \"\\ud83d\\udc0d\", \"\\ud83d\\ude0f\", \"\\ud83d\\ude0e\", \"\\ud83d\\ude01\", \"\\ud83d\\ude2f\", \"\\ud83d\\ude4f\", \"\\ud83d\\ude2d\", \"\\ud83e\\udd73\", \"\\ud83d\\udc41\\ufe0f\", \"\\ud83d\\ude15\", \"\\ud83d\\udc4d\", \"\\ud83d\\ude1c\", \"\\ud83e\\udd2f\", \"\\ud83c\\udf1d\", \"\\ud83d\\udc43\", \"\\ud83c\\udf70\", \"\\ud83e\\udd2d\", \"\\ud83d\\ude36\", \"\\ud83e\\udd21\", \"\\ud83d\\ude2e\", \"\\u2764\\ufe0f\", \"\\ud83d\\ude2b\", \"\\ud83e\\udd1f\", \"\\ud83e\\udd28\", \"\\ud83d\\ude13\", \"\\ud83c\\udf1a\", \"\\ud83d\\udde3\\ufe0f\", \"\\ud83c\\udf89\", \"\\ud83c\\udf82\", \"\\ud83d\\udc45\", \"\\ud83d\\udc44\", \"\\ud83c\\udf51\", \"\\ud83c\\udf36\\ufe0f\", \"\\ud83e\\udd14\", \"\\ud83e\\udd11\", \"\\ud83d\\ude09\", \"\\u270b\", \"\\ud83d\\ude27\", \"\\ud83d\\ude1b\", \"\\ud83d\\ude31\", \"\\ud83d\\udca3\", \"\\ud83d\\udcaf\", \"\\ud83d\\udc37\", \"\\ud83d\\ude10\", \"\\ud83d\\ude28\", \"\\ud83d\\udc4c\", \"\\ud83c\\udf1b\", \"\\ud83d\\ude1f\", \"\\ud83c\\udccf\", \"\\ud83e\\udde0\", \"\\ud83d\\ude07\", \"\\u2620\\ufe0f\"], \"legendgroup\": \"\", \"name\": \"\", \"showlegend\": true, \"textinfo\": \"percent+label\", \"textposition\": \"inside\", \"type\": \"pie\", \"values\": [205, 45, 26, 14, 11, 11, 9, 9, 8, 7, 7, 6, 6, 5, 5, 4, 4, 4, 3, 3, 3, 2, 2, 2, 2, 2, 2, 2, 2, 2, 2, 2, 2, 2, 2, 2, 1, 1, 1, 1, 1, 1, 1, 1, 1, 1, 1, 1, 1, 1, 1, 1, 1, 1, 1, 1, 1, 1, 1]}],\n",
              "                        {\"legend\": {\"tracegroupgap\": 0}, \"margin\": {\"t\": 60}, \"template\": {\"data\": {\"bar\": [{\"error_x\": {\"color\": \"#2a3f5f\"}, \"error_y\": {\"color\": \"#2a3f5f\"}, \"marker\": {\"line\": {\"color\": \"#E5ECF6\", \"width\": 0.5}}, \"type\": \"bar\"}], \"barpolar\": [{\"marker\": {\"line\": {\"color\": \"#E5ECF6\", \"width\": 0.5}}, \"type\": \"barpolar\"}], \"carpet\": [{\"aaxis\": {\"endlinecolor\": \"#2a3f5f\", \"gridcolor\": \"white\", \"linecolor\": \"white\", \"minorgridcolor\": \"white\", \"startlinecolor\": \"#2a3f5f\"}, \"baxis\": {\"endlinecolor\": \"#2a3f5f\", \"gridcolor\": \"white\", \"linecolor\": \"white\", \"minorgridcolor\": \"white\", \"startlinecolor\": \"#2a3f5f\"}, \"type\": \"carpet\"}], \"choropleth\": [{\"colorbar\": {\"outlinewidth\": 0, \"ticks\": \"\"}, \"type\": \"choropleth\"}], \"contour\": [{\"colorbar\": {\"outlinewidth\": 0, \"ticks\": \"\"}, \"colorscale\": [[0.0, \"#0d0887\"], [0.1111111111111111, \"#46039f\"], [0.2222222222222222, \"#7201a8\"], [0.3333333333333333, \"#9c179e\"], [0.4444444444444444, \"#bd3786\"], [0.5555555555555556, \"#d8576b\"], [0.6666666666666666, \"#ed7953\"], [0.7777777777777778, \"#fb9f3a\"], [0.8888888888888888, \"#fdca26\"], [1.0, \"#f0f921\"]], \"type\": \"contour\"}], \"contourcarpet\": [{\"colorbar\": {\"outlinewidth\": 0, \"ticks\": \"\"}, \"type\": \"contourcarpet\"}], \"heatmap\": [{\"colorbar\": {\"outlinewidth\": 0, \"ticks\": \"\"}, \"colorscale\": [[0.0, \"#0d0887\"], [0.1111111111111111, \"#46039f\"], [0.2222222222222222, \"#7201a8\"], [0.3333333333333333, \"#9c179e\"], [0.4444444444444444, \"#bd3786\"], [0.5555555555555556, \"#d8576b\"], [0.6666666666666666, \"#ed7953\"], [0.7777777777777778, \"#fb9f3a\"], [0.8888888888888888, \"#fdca26\"], [1.0, \"#f0f921\"]], \"type\": \"heatmap\"}], \"heatmapgl\": [{\"colorbar\": {\"outlinewidth\": 0, \"ticks\": \"\"}, \"colorscale\": [[0.0, \"#0d0887\"], [0.1111111111111111, \"#46039f\"], [0.2222222222222222, \"#7201a8\"], [0.3333333333333333, \"#9c179e\"], [0.4444444444444444, \"#bd3786\"], [0.5555555555555556, \"#d8576b\"], [0.6666666666666666, \"#ed7953\"], [0.7777777777777778, \"#fb9f3a\"], [0.8888888888888888, \"#fdca26\"], [1.0, \"#f0f921\"]], \"type\": \"heatmapgl\"}], \"histogram\": [{\"marker\": {\"colorbar\": {\"outlinewidth\": 0, \"ticks\": \"\"}}, \"type\": \"histogram\"}], \"histogram2d\": [{\"colorbar\": {\"outlinewidth\": 0, \"ticks\": \"\"}, \"colorscale\": [[0.0, \"#0d0887\"], [0.1111111111111111, \"#46039f\"], [0.2222222222222222, \"#7201a8\"], [0.3333333333333333, \"#9c179e\"], [0.4444444444444444, \"#bd3786\"], [0.5555555555555556, \"#d8576b\"], [0.6666666666666666, \"#ed7953\"], [0.7777777777777778, \"#fb9f3a\"], [0.8888888888888888, \"#fdca26\"], [1.0, \"#f0f921\"]], \"type\": \"histogram2d\"}], \"histogram2dcontour\": [{\"colorbar\": {\"outlinewidth\": 0, \"ticks\": \"\"}, \"colorscale\": [[0.0, \"#0d0887\"], [0.1111111111111111, \"#46039f\"], [0.2222222222222222, \"#7201a8\"], [0.3333333333333333, \"#9c179e\"], [0.4444444444444444, \"#bd3786\"], [0.5555555555555556, \"#d8576b\"], [0.6666666666666666, \"#ed7953\"], [0.7777777777777778, \"#fb9f3a\"], [0.8888888888888888, \"#fdca26\"], [1.0, \"#f0f921\"]], \"type\": \"histogram2dcontour\"}], \"mesh3d\": [{\"colorbar\": {\"outlinewidth\": 0, \"ticks\": \"\"}, \"type\": \"mesh3d\"}], \"parcoords\": [{\"line\": {\"colorbar\": {\"outlinewidth\": 0, \"ticks\": \"\"}}, \"type\": \"parcoords\"}], \"pie\": [{\"automargin\": true, \"type\": \"pie\"}], \"scatter\": [{\"marker\": {\"colorbar\": {\"outlinewidth\": 0, \"ticks\": \"\"}}, \"type\": \"scatter\"}], \"scatter3d\": [{\"line\": {\"colorbar\": {\"outlinewidth\": 0, \"ticks\": \"\"}}, \"marker\": {\"colorbar\": {\"outlinewidth\": 0, \"ticks\": \"\"}}, \"type\": \"scatter3d\"}], \"scattercarpet\": [{\"marker\": {\"colorbar\": {\"outlinewidth\": 0, \"ticks\": \"\"}}, \"type\": \"scattercarpet\"}], \"scattergeo\": [{\"marker\": {\"colorbar\": {\"outlinewidth\": 0, \"ticks\": \"\"}}, \"type\": \"scattergeo\"}], \"scattergl\": [{\"marker\": {\"colorbar\": {\"outlinewidth\": 0, \"ticks\": \"\"}}, \"type\": \"scattergl\"}], \"scattermapbox\": [{\"marker\": {\"colorbar\": {\"outlinewidth\": 0, \"ticks\": \"\"}}, \"type\": \"scattermapbox\"}], \"scatterpolar\": [{\"marker\": {\"colorbar\": {\"outlinewidth\": 0, \"ticks\": \"\"}}, \"type\": \"scatterpolar\"}], \"scatterpolargl\": [{\"marker\": {\"colorbar\": {\"outlinewidth\": 0, \"ticks\": \"\"}}, \"type\": \"scatterpolargl\"}], \"scatterternary\": [{\"marker\": {\"colorbar\": {\"outlinewidth\": 0, \"ticks\": \"\"}}, \"type\": \"scatterternary\"}], \"surface\": [{\"colorbar\": {\"outlinewidth\": 0, \"ticks\": \"\"}, \"colorscale\": [[0.0, \"#0d0887\"], [0.1111111111111111, \"#46039f\"], [0.2222222222222222, \"#7201a8\"], [0.3333333333333333, \"#9c179e\"], [0.4444444444444444, \"#bd3786\"], [0.5555555555555556, \"#d8576b\"], [0.6666666666666666, \"#ed7953\"], [0.7777777777777778, \"#fb9f3a\"], [0.8888888888888888, \"#fdca26\"], [1.0, \"#f0f921\"]], \"type\": \"surface\"}], \"table\": [{\"cells\": {\"fill\": {\"color\": \"#EBF0F8\"}, \"line\": {\"color\": \"white\"}}, \"header\": {\"fill\": {\"color\": \"#C8D4E3\"}, \"line\": {\"color\": \"white\"}}, \"type\": \"table\"}]}, \"layout\": {\"annotationdefaults\": {\"arrowcolor\": \"#2a3f5f\", \"arrowhead\": 0, \"arrowwidth\": 1}, \"coloraxis\": {\"colorbar\": {\"outlinewidth\": 0, \"ticks\": \"\"}}, \"colorscale\": {\"diverging\": [[0, \"#8e0152\"], [0.1, \"#c51b7d\"], [0.2, \"#de77ae\"], [0.3, \"#f1b6da\"], [0.4, \"#fde0ef\"], [0.5, \"#f7f7f7\"], [0.6, \"#e6f5d0\"], [0.7, \"#b8e186\"], [0.8, \"#7fbc41\"], [0.9, \"#4d9221\"], [1, \"#276419\"]], \"sequential\": [[0.0, \"#0d0887\"], [0.1111111111111111, \"#46039f\"], [0.2222222222222222, \"#7201a8\"], [0.3333333333333333, \"#9c179e\"], [0.4444444444444444, \"#bd3786\"], [0.5555555555555556, \"#d8576b\"], [0.6666666666666666, \"#ed7953\"], [0.7777777777777778, \"#fb9f3a\"], [0.8888888888888888, \"#fdca26\"], [1.0, \"#f0f921\"]], \"sequentialminus\": [[0.0, \"#0d0887\"], [0.1111111111111111, \"#46039f\"], [0.2222222222222222, \"#7201a8\"], [0.3333333333333333, \"#9c179e\"], [0.4444444444444444, \"#bd3786\"], [0.5555555555555556, \"#d8576b\"], [0.6666666666666666, \"#ed7953\"], [0.7777777777777778, \"#fb9f3a\"], [0.8888888888888888, \"#fdca26\"], [1.0, \"#f0f921\"]]}, \"colorway\": [\"#636efa\", \"#EF553B\", \"#00cc96\", \"#ab63fa\", \"#FFA15A\", \"#19d3f3\", \"#FF6692\", \"#B6E880\", \"#FF97FF\", \"#FECB52\"], \"font\": {\"color\": \"#2a3f5f\"}, \"geo\": {\"bgcolor\": \"white\", \"lakecolor\": \"white\", \"landcolor\": \"#E5ECF6\", \"showlakes\": true, \"showland\": true, \"subunitcolor\": \"white\"}, \"hoverlabel\": {\"align\": \"left\"}, \"hovermode\": \"closest\", \"mapbox\": {\"style\": \"light\"}, \"paper_bgcolor\": \"white\", \"plot_bgcolor\": \"#E5ECF6\", \"polar\": {\"angularaxis\": {\"gridcolor\": \"white\", \"linecolor\": \"white\", \"ticks\": \"\"}, \"bgcolor\": \"#E5ECF6\", \"radialaxis\": {\"gridcolor\": \"white\", \"linecolor\": \"white\", \"ticks\": \"\"}}, \"scene\": {\"xaxis\": {\"backgroundcolor\": \"#E5ECF6\", \"gridcolor\": \"white\", \"gridwidth\": 2, \"linecolor\": \"white\", \"showbackground\": true, \"ticks\": \"\", \"zerolinecolor\": \"white\"}, \"yaxis\": {\"backgroundcolor\": \"#E5ECF6\", \"gridcolor\": \"white\", \"gridwidth\": 2, \"linecolor\": \"white\", \"showbackground\": true, \"ticks\": \"\", \"zerolinecolor\": \"white\"}, \"zaxis\": {\"backgroundcolor\": \"#E5ECF6\", \"gridcolor\": \"white\", \"gridwidth\": 2, \"linecolor\": \"white\", \"showbackground\": true, \"ticks\": \"\", \"zerolinecolor\": \"white\"}}, \"shapedefaults\": {\"line\": {\"color\": \"#2a3f5f\"}}, \"ternary\": {\"aaxis\": {\"gridcolor\": \"white\", \"linecolor\": \"white\", \"ticks\": \"\"}, \"baxis\": {\"gridcolor\": \"white\", \"linecolor\": \"white\", \"ticks\": \"\"}, \"bgcolor\": \"#E5ECF6\", \"caxis\": {\"gridcolor\": \"white\", \"linecolor\": \"white\", \"ticks\": \"\"}}, \"title\": {\"x\": 0.05}, \"xaxis\": {\"automargin\": true, \"gridcolor\": \"white\", \"linecolor\": \"white\", \"ticks\": \"\", \"title\": {\"standoff\": 15}, \"zerolinecolor\": \"white\", \"zerolinewidth\": 2}, \"yaxis\": {\"automargin\": true, \"gridcolor\": \"white\", \"linecolor\": \"white\", \"ticks\": \"\", \"title\": {\"standoff\": 15}, \"zerolinecolor\": \"white\", \"zerolinewidth\": 2}}}},\n",
              "                        {\"responsive\": true}\n",
              "                    ).then(function(){\n",
              "                            \n",
              "var gd = document.getElementById('c069f5c6-541f-4a23-80c1-99656f04e8e2');\n",
              "var x = new MutationObserver(function (mutations, observer) {{\n",
              "        var display = window.getComputedStyle(gd).display;\n",
              "        if (!display || display === 'none') {{\n",
              "            console.log([gd, 'removed!']);\n",
              "            Plotly.purge(gd);\n",
              "            observer.disconnect();\n",
              "        }}\n",
              "}});\n",
              "\n",
              "// Listen for the removal of the full notebook cells\n",
              "var notebookContainer = gd.closest('#notebook-container');\n",
              "if (notebookContainer) {{\n",
              "    x.observe(notebookContainer, {childList: true});\n",
              "}}\n",
              "\n",
              "// Listen for the clearing of the current output cell\n",
              "var outputEl = gd.closest('.output');\n",
              "if (outputEl) {{\n",
              "    x.observe(outputEl, {childList: true});\n",
              "}}\n",
              "\n",
              "                        })\n",
              "                };\n",
              "                \n",
              "            </script>\n",
              "        </div>\n",
              "</body>\n",
              "</html>"
            ]
          },
          "metadata": {
            "tags": []
          }
        },
        {
          "output_type": "stream",
          "text": [
            "Emoji Distribution for Hrishi\n"
          ],
          "name": "stdout"
        },
        {
          "output_type": "display_data",
          "data": {
            "text/html": [
              "<html>\n",
              "<head><meta charset=\"utf-8\" /></head>\n",
              "<body>\n",
              "    <div>\n",
              "            <script src=\"https://cdnjs.cloudflare.com/ajax/libs/mathjax/2.7.5/MathJax.js?config=TeX-AMS-MML_SVG\"></script><script type=\"text/javascript\">if (window.MathJax) {MathJax.Hub.Config({SVG: {font: \"STIX-Web\"}});}</script>\n",
              "                <script type=\"text/javascript\">window.PlotlyConfig = {MathJaxConfig: 'local'};</script>\n",
              "        <script src=\"https://cdn.plot.ly/plotly-latest.min.js\"></script>    \n",
              "            <div id=\"8036fbf7-747f-46e7-906c-1305cef42a8b\" class=\"plotly-graph-div\" style=\"height:525px; width:100%;\"></div>\n",
              "            <script type=\"text/javascript\">\n",
              "                \n",
              "                    window.PLOTLYENV=window.PLOTLYENV || {};\n",
              "                    \n",
              "                if (document.getElementById(\"8036fbf7-747f-46e7-906c-1305cef42a8b\")) {\n",
              "                    Plotly.newPlot(\n",
              "                        '8036fbf7-747f-46e7-906c-1305cef42a8b',\n",
              "                        [{\"domain\": {\"x\": [0.0, 1.0], \"y\": [0.0, 1.0]}, \"hoverlabel\": {\"namelength\": 0}, \"hovertemplate\": \"emoji=%{label}<br>count=%{value}\", \"labels\": [\"\\ud83d\\ude02\", \"\\ud83d\\ude05\", \"\\ud83e\\udd23\", \"\\ud83d\\udd25\", \"\\ud83e\\udd26\", \"\\ud83d\\ude30\", \"\\ud83d\\ude4f\", \"\\u2639\\ufe0f\", \"\\ud83d\\udc4d\", \"\\ud83d\\udc4f\", \"\\ud83d\\ude41\", \"\\ud83d\\ude22\", \"\\ud83d\\ude2d\", \"\\ud83d\\ude0f\", \"\\ud83d\\ude28\", \"\\ud83e\\udd7a\", \"\\ud83d\\ude48\", \"\\ud83e\\udd74\", \"\\ud83d\\ude2c\", \"\\ud83c\\udf6b\", \"\\ud83c\\udf02\", \"\\ud83d\\ude1e\", \"\\ud83d\\ude0e\", \"\\ud83e\\udd1d\", \"\\ud83d\\ude36\", \"\\ud83d\\ude00\", \"\\ud83e\\udd2f\", \"\\ud83c\\udf7a\", \"\\ud83c\\udf70\", \"\\u2764\\ufe0f\", \"\\ud83d\\ude0d\", \"\\ud83e\\udd73\", \"\\ud83d\\ude04\", \"\\ud83d\\ude17\", \"\\ud83e\\udd14\", \"\\ud83e\\udd2a\"], \"legendgroup\": \"\", \"name\": \"\", \"showlegend\": true, \"textinfo\": \"percent+label\", \"textposition\": \"inside\", \"type\": \"pie\", \"values\": [179, 65, 45, 33, 19, 16, 15, 14, 13, 11, 10, 10, 9, 8, 8, 6, 4, 4, 4, 4, 4, 3, 3, 3, 3, 3, 2, 1, 1, 1, 1, 1, 1, 1, 1, 1]}],\n",
              "                        {\"legend\": {\"tracegroupgap\": 0}, \"margin\": {\"t\": 60}, \"template\": {\"data\": {\"bar\": [{\"error_x\": {\"color\": \"#2a3f5f\"}, \"error_y\": {\"color\": \"#2a3f5f\"}, \"marker\": {\"line\": {\"color\": \"#E5ECF6\", \"width\": 0.5}}, \"type\": \"bar\"}], \"barpolar\": [{\"marker\": {\"line\": {\"color\": \"#E5ECF6\", \"width\": 0.5}}, \"type\": \"barpolar\"}], \"carpet\": [{\"aaxis\": {\"endlinecolor\": \"#2a3f5f\", \"gridcolor\": \"white\", \"linecolor\": \"white\", \"minorgridcolor\": \"white\", \"startlinecolor\": \"#2a3f5f\"}, \"baxis\": {\"endlinecolor\": \"#2a3f5f\", \"gridcolor\": \"white\", \"linecolor\": \"white\", \"minorgridcolor\": \"white\", \"startlinecolor\": \"#2a3f5f\"}, \"type\": \"carpet\"}], \"choropleth\": [{\"colorbar\": {\"outlinewidth\": 0, \"ticks\": \"\"}, \"type\": \"choropleth\"}], \"contour\": [{\"colorbar\": {\"outlinewidth\": 0, \"ticks\": \"\"}, \"colorscale\": [[0.0, \"#0d0887\"], [0.1111111111111111, \"#46039f\"], [0.2222222222222222, \"#7201a8\"], [0.3333333333333333, \"#9c179e\"], [0.4444444444444444, \"#bd3786\"], [0.5555555555555556, \"#d8576b\"], [0.6666666666666666, \"#ed7953\"], [0.7777777777777778, \"#fb9f3a\"], [0.8888888888888888, \"#fdca26\"], [1.0, \"#f0f921\"]], \"type\": \"contour\"}], \"contourcarpet\": [{\"colorbar\": {\"outlinewidth\": 0, \"ticks\": \"\"}, \"type\": \"contourcarpet\"}], \"heatmap\": [{\"colorbar\": {\"outlinewidth\": 0, \"ticks\": \"\"}, \"colorscale\": [[0.0, \"#0d0887\"], [0.1111111111111111, \"#46039f\"], [0.2222222222222222, \"#7201a8\"], [0.3333333333333333, \"#9c179e\"], [0.4444444444444444, \"#bd3786\"], [0.5555555555555556, \"#d8576b\"], [0.6666666666666666, \"#ed7953\"], [0.7777777777777778, \"#fb9f3a\"], [0.8888888888888888, \"#fdca26\"], [1.0, \"#f0f921\"]], \"type\": \"heatmap\"}], \"heatmapgl\": [{\"colorbar\": {\"outlinewidth\": 0, \"ticks\": \"\"}, \"colorscale\": [[0.0, \"#0d0887\"], [0.1111111111111111, \"#46039f\"], [0.2222222222222222, \"#7201a8\"], [0.3333333333333333, \"#9c179e\"], [0.4444444444444444, \"#bd3786\"], [0.5555555555555556, \"#d8576b\"], [0.6666666666666666, \"#ed7953\"], [0.7777777777777778, \"#fb9f3a\"], [0.8888888888888888, \"#fdca26\"], [1.0, \"#f0f921\"]], \"type\": \"heatmapgl\"}], \"histogram\": [{\"marker\": {\"colorbar\": {\"outlinewidth\": 0, \"ticks\": \"\"}}, \"type\": \"histogram\"}], \"histogram2d\": [{\"colorbar\": {\"outlinewidth\": 0, \"ticks\": \"\"}, \"colorscale\": [[0.0, \"#0d0887\"], [0.1111111111111111, \"#46039f\"], [0.2222222222222222, \"#7201a8\"], [0.3333333333333333, \"#9c179e\"], [0.4444444444444444, \"#bd3786\"], [0.5555555555555556, \"#d8576b\"], [0.6666666666666666, \"#ed7953\"], [0.7777777777777778, \"#fb9f3a\"], [0.8888888888888888, \"#fdca26\"], [1.0, \"#f0f921\"]], \"type\": \"histogram2d\"}], \"histogram2dcontour\": [{\"colorbar\": {\"outlinewidth\": 0, \"ticks\": \"\"}, \"colorscale\": [[0.0, \"#0d0887\"], [0.1111111111111111, \"#46039f\"], [0.2222222222222222, \"#7201a8\"], [0.3333333333333333, \"#9c179e\"], [0.4444444444444444, \"#bd3786\"], [0.5555555555555556, \"#d8576b\"], [0.6666666666666666, \"#ed7953\"], [0.7777777777777778, \"#fb9f3a\"], [0.8888888888888888, \"#fdca26\"], [1.0, \"#f0f921\"]], \"type\": \"histogram2dcontour\"}], \"mesh3d\": [{\"colorbar\": {\"outlinewidth\": 0, \"ticks\": \"\"}, \"type\": \"mesh3d\"}], \"parcoords\": [{\"line\": {\"colorbar\": {\"outlinewidth\": 0, \"ticks\": \"\"}}, \"type\": \"parcoords\"}], \"pie\": [{\"automargin\": true, \"type\": \"pie\"}], \"scatter\": [{\"marker\": {\"colorbar\": {\"outlinewidth\": 0, \"ticks\": \"\"}}, \"type\": \"scatter\"}], \"scatter3d\": [{\"line\": {\"colorbar\": {\"outlinewidth\": 0, \"ticks\": \"\"}}, \"marker\": {\"colorbar\": {\"outlinewidth\": 0, \"ticks\": \"\"}}, \"type\": \"scatter3d\"}], \"scattercarpet\": [{\"marker\": {\"colorbar\": {\"outlinewidth\": 0, \"ticks\": \"\"}}, \"type\": \"scattercarpet\"}], \"scattergeo\": [{\"marker\": {\"colorbar\": {\"outlinewidth\": 0, \"ticks\": \"\"}}, \"type\": \"scattergeo\"}], \"scattergl\": [{\"marker\": {\"colorbar\": {\"outlinewidth\": 0, \"ticks\": \"\"}}, \"type\": \"scattergl\"}], \"scattermapbox\": [{\"marker\": {\"colorbar\": {\"outlinewidth\": 0, \"ticks\": \"\"}}, \"type\": \"scattermapbox\"}], \"scatterpolar\": [{\"marker\": {\"colorbar\": {\"outlinewidth\": 0, \"ticks\": \"\"}}, \"type\": \"scatterpolar\"}], \"scatterpolargl\": [{\"marker\": {\"colorbar\": {\"outlinewidth\": 0, \"ticks\": \"\"}}, \"type\": \"scatterpolargl\"}], \"scatterternary\": [{\"marker\": {\"colorbar\": {\"outlinewidth\": 0, \"ticks\": \"\"}}, \"type\": \"scatterternary\"}], \"surface\": [{\"colorbar\": {\"outlinewidth\": 0, \"ticks\": \"\"}, \"colorscale\": [[0.0, \"#0d0887\"], [0.1111111111111111, \"#46039f\"], [0.2222222222222222, \"#7201a8\"], [0.3333333333333333, \"#9c179e\"], [0.4444444444444444, \"#bd3786\"], [0.5555555555555556, \"#d8576b\"], [0.6666666666666666, \"#ed7953\"], [0.7777777777777778, \"#fb9f3a\"], [0.8888888888888888, \"#fdca26\"], [1.0, \"#f0f921\"]], \"type\": \"surface\"}], \"table\": [{\"cells\": {\"fill\": {\"color\": \"#EBF0F8\"}, \"line\": {\"color\": \"white\"}}, \"header\": {\"fill\": {\"color\": \"#C8D4E3\"}, \"line\": {\"color\": \"white\"}}, \"type\": \"table\"}]}, \"layout\": {\"annotationdefaults\": {\"arrowcolor\": \"#2a3f5f\", \"arrowhead\": 0, \"arrowwidth\": 1}, \"coloraxis\": {\"colorbar\": {\"outlinewidth\": 0, \"ticks\": \"\"}}, \"colorscale\": {\"diverging\": [[0, \"#8e0152\"], [0.1, \"#c51b7d\"], [0.2, \"#de77ae\"], [0.3, \"#f1b6da\"], [0.4, \"#fde0ef\"], [0.5, \"#f7f7f7\"], [0.6, \"#e6f5d0\"], [0.7, \"#b8e186\"], [0.8, \"#7fbc41\"], [0.9, \"#4d9221\"], [1, \"#276419\"]], \"sequential\": [[0.0, \"#0d0887\"], [0.1111111111111111, \"#46039f\"], [0.2222222222222222, \"#7201a8\"], [0.3333333333333333, \"#9c179e\"], [0.4444444444444444, \"#bd3786\"], [0.5555555555555556, \"#d8576b\"], [0.6666666666666666, \"#ed7953\"], [0.7777777777777778, \"#fb9f3a\"], [0.8888888888888888, \"#fdca26\"], [1.0, \"#f0f921\"]], \"sequentialminus\": [[0.0, \"#0d0887\"], [0.1111111111111111, \"#46039f\"], [0.2222222222222222, \"#7201a8\"], [0.3333333333333333, \"#9c179e\"], [0.4444444444444444, \"#bd3786\"], [0.5555555555555556, \"#d8576b\"], [0.6666666666666666, \"#ed7953\"], [0.7777777777777778, \"#fb9f3a\"], [0.8888888888888888, \"#fdca26\"], [1.0, \"#f0f921\"]]}, \"colorway\": [\"#636efa\", \"#EF553B\", \"#00cc96\", \"#ab63fa\", \"#FFA15A\", \"#19d3f3\", \"#FF6692\", \"#B6E880\", \"#FF97FF\", \"#FECB52\"], \"font\": {\"color\": \"#2a3f5f\"}, \"geo\": {\"bgcolor\": \"white\", \"lakecolor\": \"white\", \"landcolor\": \"#E5ECF6\", \"showlakes\": true, \"showland\": true, \"subunitcolor\": \"white\"}, \"hoverlabel\": {\"align\": \"left\"}, \"hovermode\": \"closest\", \"mapbox\": {\"style\": \"light\"}, \"paper_bgcolor\": \"white\", \"plot_bgcolor\": \"#E5ECF6\", \"polar\": {\"angularaxis\": {\"gridcolor\": \"white\", \"linecolor\": \"white\", \"ticks\": \"\"}, \"bgcolor\": \"#E5ECF6\", \"radialaxis\": {\"gridcolor\": \"white\", \"linecolor\": \"white\", \"ticks\": \"\"}}, \"scene\": {\"xaxis\": {\"backgroundcolor\": \"#E5ECF6\", \"gridcolor\": \"white\", \"gridwidth\": 2, \"linecolor\": \"white\", \"showbackground\": true, \"ticks\": \"\", \"zerolinecolor\": \"white\"}, \"yaxis\": {\"backgroundcolor\": \"#E5ECF6\", \"gridcolor\": \"white\", \"gridwidth\": 2, \"linecolor\": \"white\", \"showbackground\": true, \"ticks\": \"\", \"zerolinecolor\": \"white\"}, \"zaxis\": {\"backgroundcolor\": \"#E5ECF6\", \"gridcolor\": \"white\", \"gridwidth\": 2, \"linecolor\": \"white\", \"showbackground\": true, \"ticks\": \"\", \"zerolinecolor\": \"white\"}}, \"shapedefaults\": {\"line\": {\"color\": \"#2a3f5f\"}}, \"ternary\": {\"aaxis\": {\"gridcolor\": \"white\", \"linecolor\": \"white\", \"ticks\": \"\"}, \"baxis\": {\"gridcolor\": \"white\", \"linecolor\": \"white\", \"ticks\": \"\"}, \"bgcolor\": \"#E5ECF6\", \"caxis\": {\"gridcolor\": \"white\", \"linecolor\": \"white\", \"ticks\": \"\"}}, \"title\": {\"x\": 0.05}, \"xaxis\": {\"automargin\": true, \"gridcolor\": \"white\", \"linecolor\": \"white\", \"ticks\": \"\", \"title\": {\"standoff\": 15}, \"zerolinecolor\": \"white\", \"zerolinewidth\": 2}, \"yaxis\": {\"automargin\": true, \"gridcolor\": \"white\", \"linecolor\": \"white\", \"ticks\": \"\", \"title\": {\"standoff\": 15}, \"zerolinecolor\": \"white\", \"zerolinewidth\": 2}}}},\n",
              "                        {\"responsive\": true}\n",
              "                    ).then(function(){\n",
              "                            \n",
              "var gd = document.getElementById('8036fbf7-747f-46e7-906c-1305cef42a8b');\n",
              "var x = new MutationObserver(function (mutations, observer) {{\n",
              "        var display = window.getComputedStyle(gd).display;\n",
              "        if (!display || display === 'none') {{\n",
              "            console.log([gd, 'removed!']);\n",
              "            Plotly.purge(gd);\n",
              "            observer.disconnect();\n",
              "        }}\n",
              "}});\n",
              "\n",
              "// Listen for the removal of the full notebook cells\n",
              "var notebookContainer = gd.closest('#notebook-container');\n",
              "if (notebookContainer) {{\n",
              "    x.observe(notebookContainer, {childList: true});\n",
              "}}\n",
              "\n",
              "// Listen for the clearing of the current output cell\n",
              "var outputEl = gd.closest('.output');\n",
              "if (outputEl) {{\n",
              "    x.observe(outputEl, {childList: true});\n",
              "}}\n",
              "\n",
              "                        })\n",
              "                };\n",
              "                \n",
              "            </script>\n",
              "        </div>\n",
              "</body>\n",
              "</html>"
            ]
          },
          "metadata": {
            "tags": []
          }
        },
        {
          "output_type": "stream",
          "text": [
            "Emoji Distribution for Phanindra\n"
          ],
          "name": "stdout"
        },
        {
          "output_type": "display_data",
          "data": {
            "text/html": [
              "<html>\n",
              "<head><meta charset=\"utf-8\" /></head>\n",
              "<body>\n",
              "    <div>\n",
              "            <script src=\"https://cdnjs.cloudflare.com/ajax/libs/mathjax/2.7.5/MathJax.js?config=TeX-AMS-MML_SVG\"></script><script type=\"text/javascript\">if (window.MathJax) {MathJax.Hub.Config({SVG: {font: \"STIX-Web\"}});}</script>\n",
              "                <script type=\"text/javascript\">window.PlotlyConfig = {MathJaxConfig: 'local'};</script>\n",
              "        <script src=\"https://cdn.plot.ly/plotly-latest.min.js\"></script>    \n",
              "            <div id=\"438029ef-2cb4-4070-a3cb-64ac9de00975\" class=\"plotly-graph-div\" style=\"height:525px; width:100%;\"></div>\n",
              "            <script type=\"text/javascript\">\n",
              "                \n",
              "                    window.PLOTLYENV=window.PLOTLYENV || {};\n",
              "                    \n",
              "                if (document.getElementById(\"438029ef-2cb4-4070-a3cb-64ac9de00975\")) {\n",
              "                    Plotly.newPlot(\n",
              "                        '438029ef-2cb4-4070-a3cb-64ac9de00975',\n",
              "                        [{\"domain\": {\"x\": [0.0, 1.0], \"y\": [0.0, 1.0]}, \"hoverlabel\": {\"namelength\": 0}, \"hovertemplate\": \"emoji=%{label}<br>count=%{value}\", \"labels\": [\"\\ud83e\\udd73\", \"\\ud83e\\udd23\", \"\\ud83d\\ude36\", \"\\ud83d\\ude01\", \"\\ud83d\\ude02\", \"\\ud83d\\ude05\", \"\\ud83d\\udde3\", \"\\ud83d\\udc0d\", \"\\ud83d\\ude22\", \"\\ud83d\\ude00\", \"\\ud83d\\ude0a\", \"\\ud83e\\udd7a\", \"\\ud83e\\udd1d\", \"\\ud83d\\ude44\", \"\\ud83d\\ude2a\", \"\\ud83d\\ude11\", \"\\ud83d\\ude14\", \"\\ud83d\\udc4f\", \"\\ud83d\\ude21\", \"\\ud83d\\udc4d\", \"\\ud83d\\ude42\", \"\\ud83d\\ude07\", \"\\ud83d\\udcaf\"], \"legendgroup\": \"\", \"name\": \"\", \"showlegend\": true, \"textinfo\": \"percent+label\", \"textposition\": \"inside\", \"type\": \"pie\", \"values\": [8, 7, 7, 6, 6, 5, 5, 4, 2, 2, 1, 1, 1, 1, 1, 1, 1, 1, 1, 1, 1, 1, 1]}],\n",
              "                        {\"legend\": {\"tracegroupgap\": 0}, \"margin\": {\"t\": 60}, \"template\": {\"data\": {\"bar\": [{\"error_x\": {\"color\": \"#2a3f5f\"}, \"error_y\": {\"color\": \"#2a3f5f\"}, \"marker\": {\"line\": {\"color\": \"#E5ECF6\", \"width\": 0.5}}, \"type\": \"bar\"}], \"barpolar\": [{\"marker\": {\"line\": {\"color\": \"#E5ECF6\", \"width\": 0.5}}, \"type\": \"barpolar\"}], \"carpet\": [{\"aaxis\": {\"endlinecolor\": \"#2a3f5f\", \"gridcolor\": \"white\", \"linecolor\": \"white\", \"minorgridcolor\": \"white\", \"startlinecolor\": \"#2a3f5f\"}, \"baxis\": {\"endlinecolor\": \"#2a3f5f\", \"gridcolor\": \"white\", \"linecolor\": \"white\", \"minorgridcolor\": \"white\", \"startlinecolor\": \"#2a3f5f\"}, \"type\": \"carpet\"}], \"choropleth\": [{\"colorbar\": {\"outlinewidth\": 0, \"ticks\": \"\"}, \"type\": \"choropleth\"}], \"contour\": [{\"colorbar\": {\"outlinewidth\": 0, \"ticks\": \"\"}, \"colorscale\": [[0.0, \"#0d0887\"], [0.1111111111111111, \"#46039f\"], [0.2222222222222222, \"#7201a8\"], [0.3333333333333333, \"#9c179e\"], [0.4444444444444444, \"#bd3786\"], [0.5555555555555556, \"#d8576b\"], [0.6666666666666666, \"#ed7953\"], [0.7777777777777778, \"#fb9f3a\"], [0.8888888888888888, \"#fdca26\"], [1.0, \"#f0f921\"]], \"type\": \"contour\"}], \"contourcarpet\": [{\"colorbar\": {\"outlinewidth\": 0, \"ticks\": \"\"}, \"type\": \"contourcarpet\"}], \"heatmap\": [{\"colorbar\": {\"outlinewidth\": 0, \"ticks\": \"\"}, \"colorscale\": [[0.0, \"#0d0887\"], [0.1111111111111111, \"#46039f\"], [0.2222222222222222, \"#7201a8\"], [0.3333333333333333, \"#9c179e\"], [0.4444444444444444, \"#bd3786\"], [0.5555555555555556, \"#d8576b\"], [0.6666666666666666, \"#ed7953\"], [0.7777777777777778, \"#fb9f3a\"], [0.8888888888888888, \"#fdca26\"], [1.0, \"#f0f921\"]], \"type\": \"heatmap\"}], \"heatmapgl\": [{\"colorbar\": {\"outlinewidth\": 0, \"ticks\": \"\"}, \"colorscale\": [[0.0, \"#0d0887\"], [0.1111111111111111, \"#46039f\"], [0.2222222222222222, \"#7201a8\"], [0.3333333333333333, \"#9c179e\"], [0.4444444444444444, \"#bd3786\"], [0.5555555555555556, \"#d8576b\"], [0.6666666666666666, \"#ed7953\"], [0.7777777777777778, \"#fb9f3a\"], [0.8888888888888888, \"#fdca26\"], [1.0, \"#f0f921\"]], \"type\": \"heatmapgl\"}], \"histogram\": [{\"marker\": {\"colorbar\": {\"outlinewidth\": 0, \"ticks\": \"\"}}, \"type\": \"histogram\"}], \"histogram2d\": [{\"colorbar\": {\"outlinewidth\": 0, \"ticks\": \"\"}, \"colorscale\": [[0.0, \"#0d0887\"], [0.1111111111111111, \"#46039f\"], [0.2222222222222222, \"#7201a8\"], [0.3333333333333333, \"#9c179e\"], [0.4444444444444444, \"#bd3786\"], [0.5555555555555556, \"#d8576b\"], [0.6666666666666666, \"#ed7953\"], [0.7777777777777778, \"#fb9f3a\"], [0.8888888888888888, \"#fdca26\"], [1.0, \"#f0f921\"]], \"type\": \"histogram2d\"}], \"histogram2dcontour\": [{\"colorbar\": {\"outlinewidth\": 0, \"ticks\": \"\"}, \"colorscale\": [[0.0, \"#0d0887\"], [0.1111111111111111, \"#46039f\"], [0.2222222222222222, \"#7201a8\"], [0.3333333333333333, \"#9c179e\"], [0.4444444444444444, \"#bd3786\"], [0.5555555555555556, \"#d8576b\"], [0.6666666666666666, \"#ed7953\"], [0.7777777777777778, \"#fb9f3a\"], [0.8888888888888888, \"#fdca26\"], [1.0, \"#f0f921\"]], \"type\": \"histogram2dcontour\"}], \"mesh3d\": [{\"colorbar\": {\"outlinewidth\": 0, \"ticks\": \"\"}, \"type\": \"mesh3d\"}], \"parcoords\": [{\"line\": {\"colorbar\": {\"outlinewidth\": 0, \"ticks\": \"\"}}, \"type\": \"parcoords\"}], \"pie\": [{\"automargin\": true, \"type\": \"pie\"}], \"scatter\": [{\"marker\": {\"colorbar\": {\"outlinewidth\": 0, \"ticks\": \"\"}}, \"type\": \"scatter\"}], \"scatter3d\": [{\"line\": {\"colorbar\": {\"outlinewidth\": 0, \"ticks\": \"\"}}, \"marker\": {\"colorbar\": {\"outlinewidth\": 0, \"ticks\": \"\"}}, \"type\": \"scatter3d\"}], \"scattercarpet\": [{\"marker\": {\"colorbar\": {\"outlinewidth\": 0, \"ticks\": \"\"}}, \"type\": \"scattercarpet\"}], \"scattergeo\": [{\"marker\": {\"colorbar\": {\"outlinewidth\": 0, \"ticks\": \"\"}}, \"type\": \"scattergeo\"}], \"scattergl\": [{\"marker\": {\"colorbar\": {\"outlinewidth\": 0, \"ticks\": \"\"}}, \"type\": \"scattergl\"}], \"scattermapbox\": [{\"marker\": {\"colorbar\": {\"outlinewidth\": 0, \"ticks\": \"\"}}, \"type\": \"scattermapbox\"}], \"scatterpolar\": [{\"marker\": {\"colorbar\": {\"outlinewidth\": 0, \"ticks\": \"\"}}, \"type\": \"scatterpolar\"}], \"scatterpolargl\": [{\"marker\": {\"colorbar\": {\"outlinewidth\": 0, \"ticks\": \"\"}}, \"type\": \"scatterpolargl\"}], \"scatterternary\": [{\"marker\": {\"colorbar\": {\"outlinewidth\": 0, \"ticks\": \"\"}}, \"type\": \"scatterternary\"}], \"surface\": [{\"colorbar\": {\"outlinewidth\": 0, \"ticks\": \"\"}, \"colorscale\": [[0.0, \"#0d0887\"], [0.1111111111111111, \"#46039f\"], [0.2222222222222222, \"#7201a8\"], [0.3333333333333333, \"#9c179e\"], [0.4444444444444444, \"#bd3786\"], [0.5555555555555556, \"#d8576b\"], [0.6666666666666666, \"#ed7953\"], [0.7777777777777778, \"#fb9f3a\"], [0.8888888888888888, \"#fdca26\"], [1.0, \"#f0f921\"]], \"type\": \"surface\"}], \"table\": [{\"cells\": {\"fill\": {\"color\": \"#EBF0F8\"}, \"line\": {\"color\": \"white\"}}, \"header\": {\"fill\": {\"color\": \"#C8D4E3\"}, \"line\": {\"color\": \"white\"}}, \"type\": \"table\"}]}, \"layout\": {\"annotationdefaults\": {\"arrowcolor\": \"#2a3f5f\", \"arrowhead\": 0, \"arrowwidth\": 1}, \"coloraxis\": {\"colorbar\": {\"outlinewidth\": 0, \"ticks\": \"\"}}, \"colorscale\": {\"diverging\": [[0, \"#8e0152\"], [0.1, \"#c51b7d\"], [0.2, \"#de77ae\"], [0.3, \"#f1b6da\"], [0.4, \"#fde0ef\"], [0.5, \"#f7f7f7\"], [0.6, \"#e6f5d0\"], [0.7, \"#b8e186\"], [0.8, \"#7fbc41\"], [0.9, \"#4d9221\"], [1, \"#276419\"]], \"sequential\": [[0.0, \"#0d0887\"], [0.1111111111111111, \"#46039f\"], [0.2222222222222222, \"#7201a8\"], [0.3333333333333333, \"#9c179e\"], [0.4444444444444444, \"#bd3786\"], [0.5555555555555556, \"#d8576b\"], [0.6666666666666666, \"#ed7953\"], [0.7777777777777778, \"#fb9f3a\"], [0.8888888888888888, \"#fdca26\"], [1.0, \"#f0f921\"]], \"sequentialminus\": [[0.0, \"#0d0887\"], [0.1111111111111111, \"#46039f\"], [0.2222222222222222, \"#7201a8\"], [0.3333333333333333, \"#9c179e\"], [0.4444444444444444, \"#bd3786\"], [0.5555555555555556, \"#d8576b\"], [0.6666666666666666, \"#ed7953\"], [0.7777777777777778, \"#fb9f3a\"], [0.8888888888888888, \"#fdca26\"], [1.0, \"#f0f921\"]]}, \"colorway\": [\"#636efa\", \"#EF553B\", \"#00cc96\", \"#ab63fa\", \"#FFA15A\", \"#19d3f3\", \"#FF6692\", \"#B6E880\", \"#FF97FF\", \"#FECB52\"], \"font\": {\"color\": \"#2a3f5f\"}, \"geo\": {\"bgcolor\": \"white\", \"lakecolor\": \"white\", \"landcolor\": \"#E5ECF6\", \"showlakes\": true, \"showland\": true, \"subunitcolor\": \"white\"}, \"hoverlabel\": {\"align\": \"left\"}, \"hovermode\": \"closest\", \"mapbox\": {\"style\": \"light\"}, \"paper_bgcolor\": \"white\", \"plot_bgcolor\": \"#E5ECF6\", \"polar\": {\"angularaxis\": {\"gridcolor\": \"white\", \"linecolor\": \"white\", \"ticks\": \"\"}, \"bgcolor\": \"#E5ECF6\", \"radialaxis\": {\"gridcolor\": \"white\", \"linecolor\": \"white\", \"ticks\": \"\"}}, \"scene\": {\"xaxis\": {\"backgroundcolor\": \"#E5ECF6\", \"gridcolor\": \"white\", \"gridwidth\": 2, \"linecolor\": \"white\", \"showbackground\": true, \"ticks\": \"\", \"zerolinecolor\": \"white\"}, \"yaxis\": {\"backgroundcolor\": \"#E5ECF6\", \"gridcolor\": \"white\", \"gridwidth\": 2, \"linecolor\": \"white\", \"showbackground\": true, \"ticks\": \"\", \"zerolinecolor\": \"white\"}, \"zaxis\": {\"backgroundcolor\": \"#E5ECF6\", \"gridcolor\": \"white\", \"gridwidth\": 2, \"linecolor\": \"white\", \"showbackground\": true, \"ticks\": \"\", \"zerolinecolor\": \"white\"}}, \"shapedefaults\": {\"line\": {\"color\": \"#2a3f5f\"}}, \"ternary\": {\"aaxis\": {\"gridcolor\": \"white\", \"linecolor\": \"white\", \"ticks\": \"\"}, \"baxis\": {\"gridcolor\": \"white\", \"linecolor\": \"white\", \"ticks\": \"\"}, \"bgcolor\": \"#E5ECF6\", \"caxis\": {\"gridcolor\": \"white\", \"linecolor\": \"white\", \"ticks\": \"\"}}, \"title\": {\"x\": 0.05}, \"xaxis\": {\"automargin\": true, \"gridcolor\": \"white\", \"linecolor\": \"white\", \"ticks\": \"\", \"title\": {\"standoff\": 15}, \"zerolinecolor\": \"white\", \"zerolinewidth\": 2}, \"yaxis\": {\"automargin\": true, \"gridcolor\": \"white\", \"linecolor\": \"white\", \"ticks\": \"\", \"title\": {\"standoff\": 15}, \"zerolinecolor\": \"white\", \"zerolinewidth\": 2}}}},\n",
              "                        {\"responsive\": true}\n",
              "                    ).then(function(){\n",
              "                            \n",
              "var gd = document.getElementById('438029ef-2cb4-4070-a3cb-64ac9de00975');\n",
              "var x = new MutationObserver(function (mutations, observer) {{\n",
              "        var display = window.getComputedStyle(gd).display;\n",
              "        if (!display || display === 'none') {{\n",
              "            console.log([gd, 'removed!']);\n",
              "            Plotly.purge(gd);\n",
              "            observer.disconnect();\n",
              "        }}\n",
              "}});\n",
              "\n",
              "// Listen for the removal of the full notebook cells\n",
              "var notebookContainer = gd.closest('#notebook-container');\n",
              "if (notebookContainer) {{\n",
              "    x.observe(notebookContainer, {childList: true});\n",
              "}}\n",
              "\n",
              "// Listen for the clearing of the current output cell\n",
              "var outputEl = gd.closest('.output');\n",
              "if (outputEl) {{\n",
              "    x.observe(outputEl, {childList: true});\n",
              "}}\n",
              "\n",
              "                        })\n",
              "                };\n",
              "                \n",
              "            </script>\n",
              "        </div>\n",
              "</body>\n",
              "</html>"
            ]
          },
          "metadata": {
            "tags": []
          }
        },
        {
          "output_type": "stream",
          "text": [
            "Emoji Distribution for Raghava\n"
          ],
          "name": "stdout"
        },
        {
          "output_type": "display_data",
          "data": {
            "text/html": [
              "<html>\n",
              "<head><meta charset=\"utf-8\" /></head>\n",
              "<body>\n",
              "    <div>\n",
              "            <script src=\"https://cdnjs.cloudflare.com/ajax/libs/mathjax/2.7.5/MathJax.js?config=TeX-AMS-MML_SVG\"></script><script type=\"text/javascript\">if (window.MathJax) {MathJax.Hub.Config({SVG: {font: \"STIX-Web\"}});}</script>\n",
              "                <script type=\"text/javascript\">window.PlotlyConfig = {MathJaxConfig: 'local'};</script>\n",
              "        <script src=\"https://cdn.plot.ly/plotly-latest.min.js\"></script>    \n",
              "            <div id=\"22c68201-5350-475f-ad43-1fe105f4423c\" class=\"plotly-graph-div\" style=\"height:525px; width:100%;\"></div>\n",
              "            <script type=\"text/javascript\">\n",
              "                \n",
              "                    window.PLOTLYENV=window.PLOTLYENV || {};\n",
              "                    \n",
              "                if (document.getElementById(\"22c68201-5350-475f-ad43-1fe105f4423c\")) {\n",
              "                    Plotly.newPlot(\n",
              "                        '22c68201-5350-475f-ad43-1fe105f4423c',\n",
              "                        [{\"domain\": {\"x\": [0.0, 1.0], \"y\": [0.0, 1.0]}, \"hoverlabel\": {\"namelength\": 0}, \"hovertemplate\": \"emoji=%{label}<br>count=%{value}\", \"labels\": [\"\\ud83d\\ude02\", \"\\ud83d\\udd25\", \"\\ud83e\\udd73\", \"\\ud83e\\udd23\", \"\\ud83e\\udd26\", \"\\ud83e\\udd7a\", \"\\u2796\", \"\\ud83e\\udd37\", \"\\ud83d\\ude05\", \"\\ud83d\\udcaa\", \"\\u2764\\ufe0f\", \"\\ud83d\\ude36\", \"\\ud83d\\ude48\", \"\\ud83d\\udc4d\", \"\\ud83e\\udd2f\", \"\\ud83d\\ude22\", \"\\ud83e\\udd29\", \"\\ud83e\\udd2d\", \"\\ud83d\\ude1b\", \"\\ud83d\\ude43\", \"\\ud83d\\ude44\", \"\\ud83d\\ude4f\", \"\\ud83e\\udd74\", \"\\ud83d\\ude06\", \"\\ud83e\\udd27\", \"\\ud83d\\ude13\", \"\\ud83e\\udd75\", \"\\ud83d\\ude01\", \"\\ud83d\\ude2c\", \"\\ud83d\\ude2f\", \"\\ud83d\\udca5\", \"\\ud83d\\ude31\", \"\\ud83d\\ude46\", \"\\ud83d\\udc4a\", \"\\u2755\", \"\\ud83d\\udc5f\", \"\\ud83d\\udc4c\", \"\\ud83d\\udc49\", \"\\ud83d\\ude2e\", \"\\ud83d\\ude0f\", \"\\ud83d\\ude0e\", \"\\ud83d\\udcaf\", \"\\ud83d\\ude1c\", \"\\ud83d\\ude1d\", \"\\ud83d\\udc56\"], \"legendgroup\": \"\", \"name\": \"\", \"showlegend\": true, \"textinfo\": \"percent+label\", \"textposition\": \"inside\", \"type\": \"pie\", \"values\": [45, 23, 23, 22, 9, 8, 8, 7, 7, 7, 7, 6, 6, 6, 5, 4, 3, 3, 3, 2, 2, 2, 2, 2, 2, 2, 2, 2, 2, 2, 2, 2, 2, 2, 2, 2, 2, 1, 1, 1, 1, 1, 1, 1, 1]}],\n",
              "                        {\"legend\": {\"tracegroupgap\": 0}, \"margin\": {\"t\": 60}, \"template\": {\"data\": {\"bar\": [{\"error_x\": {\"color\": \"#2a3f5f\"}, \"error_y\": {\"color\": \"#2a3f5f\"}, \"marker\": {\"line\": {\"color\": \"#E5ECF6\", \"width\": 0.5}}, \"type\": \"bar\"}], \"barpolar\": [{\"marker\": {\"line\": {\"color\": \"#E5ECF6\", \"width\": 0.5}}, \"type\": \"barpolar\"}], \"carpet\": [{\"aaxis\": {\"endlinecolor\": \"#2a3f5f\", \"gridcolor\": \"white\", \"linecolor\": \"white\", \"minorgridcolor\": \"white\", \"startlinecolor\": \"#2a3f5f\"}, \"baxis\": {\"endlinecolor\": \"#2a3f5f\", \"gridcolor\": \"white\", \"linecolor\": \"white\", \"minorgridcolor\": \"white\", \"startlinecolor\": \"#2a3f5f\"}, \"type\": \"carpet\"}], \"choropleth\": [{\"colorbar\": {\"outlinewidth\": 0, \"ticks\": \"\"}, \"type\": \"choropleth\"}], \"contour\": [{\"colorbar\": {\"outlinewidth\": 0, \"ticks\": \"\"}, \"colorscale\": [[0.0, \"#0d0887\"], [0.1111111111111111, \"#46039f\"], [0.2222222222222222, \"#7201a8\"], [0.3333333333333333, \"#9c179e\"], [0.4444444444444444, \"#bd3786\"], [0.5555555555555556, \"#d8576b\"], [0.6666666666666666, \"#ed7953\"], [0.7777777777777778, \"#fb9f3a\"], [0.8888888888888888, \"#fdca26\"], [1.0, \"#f0f921\"]], \"type\": \"contour\"}], \"contourcarpet\": [{\"colorbar\": {\"outlinewidth\": 0, \"ticks\": \"\"}, \"type\": \"contourcarpet\"}], \"heatmap\": [{\"colorbar\": {\"outlinewidth\": 0, \"ticks\": \"\"}, \"colorscale\": [[0.0, \"#0d0887\"], [0.1111111111111111, \"#46039f\"], [0.2222222222222222, \"#7201a8\"], [0.3333333333333333, \"#9c179e\"], [0.4444444444444444, \"#bd3786\"], [0.5555555555555556, \"#d8576b\"], [0.6666666666666666, \"#ed7953\"], [0.7777777777777778, \"#fb9f3a\"], [0.8888888888888888, \"#fdca26\"], [1.0, \"#f0f921\"]], \"type\": \"heatmap\"}], \"heatmapgl\": [{\"colorbar\": {\"outlinewidth\": 0, \"ticks\": \"\"}, \"colorscale\": [[0.0, \"#0d0887\"], [0.1111111111111111, \"#46039f\"], [0.2222222222222222, \"#7201a8\"], [0.3333333333333333, \"#9c179e\"], [0.4444444444444444, \"#bd3786\"], [0.5555555555555556, \"#d8576b\"], [0.6666666666666666, \"#ed7953\"], [0.7777777777777778, \"#fb9f3a\"], [0.8888888888888888, \"#fdca26\"], [1.0, \"#f0f921\"]], \"type\": \"heatmapgl\"}], \"histogram\": [{\"marker\": {\"colorbar\": {\"outlinewidth\": 0, \"ticks\": \"\"}}, \"type\": \"histogram\"}], \"histogram2d\": [{\"colorbar\": {\"outlinewidth\": 0, \"ticks\": \"\"}, \"colorscale\": [[0.0, \"#0d0887\"], [0.1111111111111111, \"#46039f\"], [0.2222222222222222, \"#7201a8\"], [0.3333333333333333, \"#9c179e\"], [0.4444444444444444, \"#bd3786\"], [0.5555555555555556, \"#d8576b\"], [0.6666666666666666, \"#ed7953\"], [0.7777777777777778, \"#fb9f3a\"], [0.8888888888888888, \"#fdca26\"], [1.0, \"#f0f921\"]], \"type\": \"histogram2d\"}], \"histogram2dcontour\": [{\"colorbar\": {\"outlinewidth\": 0, \"ticks\": \"\"}, \"colorscale\": [[0.0, \"#0d0887\"], [0.1111111111111111, \"#46039f\"], [0.2222222222222222, \"#7201a8\"], [0.3333333333333333, \"#9c179e\"], [0.4444444444444444, \"#bd3786\"], [0.5555555555555556, \"#d8576b\"], [0.6666666666666666, \"#ed7953\"], [0.7777777777777778, \"#fb9f3a\"], [0.8888888888888888, \"#fdca26\"], [1.0, \"#f0f921\"]], \"type\": \"histogram2dcontour\"}], \"mesh3d\": [{\"colorbar\": {\"outlinewidth\": 0, \"ticks\": \"\"}, \"type\": \"mesh3d\"}], \"parcoords\": [{\"line\": {\"colorbar\": {\"outlinewidth\": 0, \"ticks\": \"\"}}, \"type\": \"parcoords\"}], \"pie\": [{\"automargin\": true, \"type\": \"pie\"}], \"scatter\": [{\"marker\": {\"colorbar\": {\"outlinewidth\": 0, \"ticks\": \"\"}}, \"type\": \"scatter\"}], \"scatter3d\": [{\"line\": {\"colorbar\": {\"outlinewidth\": 0, \"ticks\": \"\"}}, \"marker\": {\"colorbar\": {\"outlinewidth\": 0, \"ticks\": \"\"}}, \"type\": \"scatter3d\"}], \"scattercarpet\": [{\"marker\": {\"colorbar\": {\"outlinewidth\": 0, \"ticks\": \"\"}}, \"type\": \"scattercarpet\"}], \"scattergeo\": [{\"marker\": {\"colorbar\": {\"outlinewidth\": 0, \"ticks\": \"\"}}, \"type\": \"scattergeo\"}], \"scattergl\": [{\"marker\": {\"colorbar\": {\"outlinewidth\": 0, \"ticks\": \"\"}}, \"type\": \"scattergl\"}], \"scattermapbox\": [{\"marker\": {\"colorbar\": {\"outlinewidth\": 0, \"ticks\": \"\"}}, \"type\": \"scattermapbox\"}], \"scatterpolar\": [{\"marker\": {\"colorbar\": {\"outlinewidth\": 0, \"ticks\": \"\"}}, \"type\": \"scatterpolar\"}], \"scatterpolargl\": [{\"marker\": {\"colorbar\": {\"outlinewidth\": 0, \"ticks\": \"\"}}, \"type\": \"scatterpolargl\"}], \"scatterternary\": [{\"marker\": {\"colorbar\": {\"outlinewidth\": 0, \"ticks\": \"\"}}, \"type\": \"scatterternary\"}], \"surface\": [{\"colorbar\": {\"outlinewidth\": 0, \"ticks\": \"\"}, \"colorscale\": [[0.0, \"#0d0887\"], [0.1111111111111111, \"#46039f\"], [0.2222222222222222, \"#7201a8\"], [0.3333333333333333, \"#9c179e\"], [0.4444444444444444, \"#bd3786\"], [0.5555555555555556, \"#d8576b\"], [0.6666666666666666, \"#ed7953\"], [0.7777777777777778, \"#fb9f3a\"], [0.8888888888888888, \"#fdca26\"], [1.0, \"#f0f921\"]], \"type\": \"surface\"}], \"table\": [{\"cells\": {\"fill\": {\"color\": \"#EBF0F8\"}, \"line\": {\"color\": \"white\"}}, \"header\": {\"fill\": {\"color\": \"#C8D4E3\"}, \"line\": {\"color\": \"white\"}}, \"type\": \"table\"}]}, \"layout\": {\"annotationdefaults\": {\"arrowcolor\": \"#2a3f5f\", \"arrowhead\": 0, \"arrowwidth\": 1}, \"coloraxis\": {\"colorbar\": {\"outlinewidth\": 0, \"ticks\": \"\"}}, \"colorscale\": {\"diverging\": [[0, \"#8e0152\"], [0.1, \"#c51b7d\"], [0.2, \"#de77ae\"], [0.3, \"#f1b6da\"], [0.4, \"#fde0ef\"], [0.5, \"#f7f7f7\"], [0.6, \"#e6f5d0\"], [0.7, \"#b8e186\"], [0.8, \"#7fbc41\"], [0.9, \"#4d9221\"], [1, \"#276419\"]], \"sequential\": [[0.0, \"#0d0887\"], [0.1111111111111111, \"#46039f\"], [0.2222222222222222, \"#7201a8\"], [0.3333333333333333, \"#9c179e\"], [0.4444444444444444, \"#bd3786\"], [0.5555555555555556, \"#d8576b\"], [0.6666666666666666, \"#ed7953\"], [0.7777777777777778, \"#fb9f3a\"], [0.8888888888888888, \"#fdca26\"], [1.0, \"#f0f921\"]], \"sequentialminus\": [[0.0, \"#0d0887\"], [0.1111111111111111, \"#46039f\"], [0.2222222222222222, \"#7201a8\"], [0.3333333333333333, \"#9c179e\"], [0.4444444444444444, \"#bd3786\"], [0.5555555555555556, \"#d8576b\"], [0.6666666666666666, \"#ed7953\"], [0.7777777777777778, \"#fb9f3a\"], [0.8888888888888888, \"#fdca26\"], [1.0, \"#f0f921\"]]}, \"colorway\": [\"#636efa\", \"#EF553B\", \"#00cc96\", \"#ab63fa\", \"#FFA15A\", \"#19d3f3\", \"#FF6692\", \"#B6E880\", \"#FF97FF\", \"#FECB52\"], \"font\": {\"color\": \"#2a3f5f\"}, \"geo\": {\"bgcolor\": \"white\", \"lakecolor\": \"white\", \"landcolor\": \"#E5ECF6\", \"showlakes\": true, \"showland\": true, \"subunitcolor\": \"white\"}, \"hoverlabel\": {\"align\": \"left\"}, \"hovermode\": \"closest\", \"mapbox\": {\"style\": \"light\"}, \"paper_bgcolor\": \"white\", \"plot_bgcolor\": \"#E5ECF6\", \"polar\": {\"angularaxis\": {\"gridcolor\": \"white\", \"linecolor\": \"white\", \"ticks\": \"\"}, \"bgcolor\": \"#E5ECF6\", \"radialaxis\": {\"gridcolor\": \"white\", \"linecolor\": \"white\", \"ticks\": \"\"}}, \"scene\": {\"xaxis\": {\"backgroundcolor\": \"#E5ECF6\", \"gridcolor\": \"white\", \"gridwidth\": 2, \"linecolor\": \"white\", \"showbackground\": true, \"ticks\": \"\", \"zerolinecolor\": \"white\"}, \"yaxis\": {\"backgroundcolor\": \"#E5ECF6\", \"gridcolor\": \"white\", \"gridwidth\": 2, \"linecolor\": \"white\", \"showbackground\": true, \"ticks\": \"\", \"zerolinecolor\": \"white\"}, \"zaxis\": {\"backgroundcolor\": \"#E5ECF6\", \"gridcolor\": \"white\", \"gridwidth\": 2, \"linecolor\": \"white\", \"showbackground\": true, \"ticks\": \"\", \"zerolinecolor\": \"white\"}}, \"shapedefaults\": {\"line\": {\"color\": \"#2a3f5f\"}}, \"ternary\": {\"aaxis\": {\"gridcolor\": \"white\", \"linecolor\": \"white\", \"ticks\": \"\"}, \"baxis\": {\"gridcolor\": \"white\", \"linecolor\": \"white\", \"ticks\": \"\"}, \"bgcolor\": \"#E5ECF6\", \"caxis\": {\"gridcolor\": \"white\", \"linecolor\": \"white\", \"ticks\": \"\"}}, \"title\": {\"x\": 0.05}, \"xaxis\": {\"automargin\": true, \"gridcolor\": \"white\", \"linecolor\": \"white\", \"ticks\": \"\", \"title\": {\"standoff\": 15}, \"zerolinecolor\": \"white\", \"zerolinewidth\": 2}, \"yaxis\": {\"automargin\": true, \"gridcolor\": \"white\", \"linecolor\": \"white\", \"ticks\": \"\", \"title\": {\"standoff\": 15}, \"zerolinecolor\": \"white\", \"zerolinewidth\": 2}}}},\n",
              "                        {\"responsive\": true}\n",
              "                    ).then(function(){\n",
              "                            \n",
              "var gd = document.getElementById('22c68201-5350-475f-ad43-1fe105f4423c');\n",
              "var x = new MutationObserver(function (mutations, observer) {{\n",
              "        var display = window.getComputedStyle(gd).display;\n",
              "        if (!display || display === 'none') {{\n",
              "            console.log([gd, 'removed!']);\n",
              "            Plotly.purge(gd);\n",
              "            observer.disconnect();\n",
              "        }}\n",
              "}});\n",
              "\n",
              "// Listen for the removal of the full notebook cells\n",
              "var notebookContainer = gd.closest('#notebook-container');\n",
              "if (notebookContainer) {{\n",
              "    x.observe(notebookContainer, {childList: true});\n",
              "}}\n",
              "\n",
              "// Listen for the clearing of the current output cell\n",
              "var outputEl = gd.closest('.output');\n",
              "if (outputEl) {{\n",
              "    x.observe(outputEl, {childList: true});\n",
              "}}\n",
              "\n",
              "                        })\n",
              "                };\n",
              "                \n",
              "            </script>\n",
              "        </div>\n",
              "</body>\n",
              "</html>"
            ]
          },
          "metadata": {
            "tags": []
          }
        },
        {
          "output_type": "stream",
          "text": [
            "Emoji Distribution for Anand\n"
          ],
          "name": "stdout"
        },
        {
          "output_type": "display_data",
          "data": {
            "text/html": [
              "<html>\n",
              "<head><meta charset=\"utf-8\" /></head>\n",
              "<body>\n",
              "    <div>\n",
              "            <script src=\"https://cdnjs.cloudflare.com/ajax/libs/mathjax/2.7.5/MathJax.js?config=TeX-AMS-MML_SVG\"></script><script type=\"text/javascript\">if (window.MathJax) {MathJax.Hub.Config({SVG: {font: \"STIX-Web\"}});}</script>\n",
              "                <script type=\"text/javascript\">window.PlotlyConfig = {MathJaxConfig: 'local'};</script>\n",
              "        <script src=\"https://cdn.plot.ly/plotly-latest.min.js\"></script>    \n",
              "            <div id=\"aec2e559-6c4b-47ff-a443-133d384d5c22\" class=\"plotly-graph-div\" style=\"height:525px; width:100%;\"></div>\n",
              "            <script type=\"text/javascript\">\n",
              "                \n",
              "                    window.PLOTLYENV=window.PLOTLYENV || {};\n",
              "                    \n",
              "                if (document.getElementById(\"aec2e559-6c4b-47ff-a443-133d384d5c22\")) {\n",
              "                    Plotly.newPlot(\n",
              "                        'aec2e559-6c4b-47ff-a443-133d384d5c22',\n",
              "                        [{\"domain\": {\"x\": [0.0, 1.0], \"y\": [0.0, 1.0]}, \"hoverlabel\": {\"namelength\": 0}, \"hovertemplate\": \"emoji=%{label}<br>count=%{value}\", \"labels\": [\"\\ud83d\\ude02\", \"\\ud83d\\ude22\", \"\\ud83d\\ude05\", \"\\ud83d\\ude12\", \"\\ud83c\\udf82\", \"\\ud83d\\ude33\", \"\\ud83d\\ude09\", \"\\ud83d\\ude08\", \"\\ud83e\\udd7a\", \"\\ud83e\\udd73\", \"\\ud83e\\udd21\", \"\\ud83d\\ude0e\", \"\\ud83d\\ude25\", \"\\ud83d\\udd25\", \"\\ud83e\\udd26\", \"\\ud83e\\uddd0\", \"\\ud83d\\udc4b\", \"\\ud83e\\udd37\", \"\\ud83d\\ude0c\", \"\\ud83e\\udd29\", \"\\u270b\", \"\\ud83d\\ude4b\", \"\\ud83d\\ude36\", \"\\ud83d\\ude14\", \"\\ud83d\\ude44\", \"\\ud83c\\udf8a\", \"\\ud83d\\ude0f\"], \"legendgroup\": \"\", \"name\": \"\", \"showlegend\": true, \"textinfo\": \"percent+label\", \"textposition\": \"inside\", \"type\": \"pie\", \"values\": [43, 9, 7, 4, 4, 3, 3, 3, 3, 3, 2, 2, 2, 2, 2, 1, 1, 1, 1, 1, 1, 1, 1, 1, 1, 1, 1]}],\n",
              "                        {\"legend\": {\"tracegroupgap\": 0}, \"margin\": {\"t\": 60}, \"template\": {\"data\": {\"bar\": [{\"error_x\": {\"color\": \"#2a3f5f\"}, \"error_y\": {\"color\": \"#2a3f5f\"}, \"marker\": {\"line\": {\"color\": \"#E5ECF6\", \"width\": 0.5}}, \"type\": \"bar\"}], \"barpolar\": [{\"marker\": {\"line\": {\"color\": \"#E5ECF6\", \"width\": 0.5}}, \"type\": \"barpolar\"}], \"carpet\": [{\"aaxis\": {\"endlinecolor\": \"#2a3f5f\", \"gridcolor\": \"white\", \"linecolor\": \"white\", \"minorgridcolor\": \"white\", \"startlinecolor\": \"#2a3f5f\"}, \"baxis\": {\"endlinecolor\": \"#2a3f5f\", \"gridcolor\": \"white\", \"linecolor\": \"white\", \"minorgridcolor\": \"white\", \"startlinecolor\": \"#2a3f5f\"}, \"type\": \"carpet\"}], \"choropleth\": [{\"colorbar\": {\"outlinewidth\": 0, \"ticks\": \"\"}, \"type\": \"choropleth\"}], \"contour\": [{\"colorbar\": {\"outlinewidth\": 0, \"ticks\": \"\"}, \"colorscale\": [[0.0, \"#0d0887\"], [0.1111111111111111, \"#46039f\"], [0.2222222222222222, \"#7201a8\"], [0.3333333333333333, \"#9c179e\"], [0.4444444444444444, \"#bd3786\"], [0.5555555555555556, \"#d8576b\"], [0.6666666666666666, \"#ed7953\"], [0.7777777777777778, \"#fb9f3a\"], [0.8888888888888888, \"#fdca26\"], [1.0, \"#f0f921\"]], \"type\": \"contour\"}], \"contourcarpet\": [{\"colorbar\": {\"outlinewidth\": 0, \"ticks\": \"\"}, \"type\": \"contourcarpet\"}], \"heatmap\": [{\"colorbar\": {\"outlinewidth\": 0, \"ticks\": \"\"}, \"colorscale\": [[0.0, \"#0d0887\"], [0.1111111111111111, \"#46039f\"], [0.2222222222222222, \"#7201a8\"], [0.3333333333333333, \"#9c179e\"], [0.4444444444444444, \"#bd3786\"], [0.5555555555555556, \"#d8576b\"], [0.6666666666666666, \"#ed7953\"], [0.7777777777777778, \"#fb9f3a\"], [0.8888888888888888, \"#fdca26\"], [1.0, \"#f0f921\"]], \"type\": \"heatmap\"}], \"heatmapgl\": [{\"colorbar\": {\"outlinewidth\": 0, \"ticks\": \"\"}, \"colorscale\": [[0.0, \"#0d0887\"], [0.1111111111111111, \"#46039f\"], [0.2222222222222222, \"#7201a8\"], [0.3333333333333333, \"#9c179e\"], [0.4444444444444444, \"#bd3786\"], [0.5555555555555556, \"#d8576b\"], [0.6666666666666666, \"#ed7953\"], [0.7777777777777778, \"#fb9f3a\"], [0.8888888888888888, \"#fdca26\"], [1.0, \"#f0f921\"]], \"type\": \"heatmapgl\"}], \"histogram\": [{\"marker\": {\"colorbar\": {\"outlinewidth\": 0, \"ticks\": \"\"}}, \"type\": \"histogram\"}], \"histogram2d\": [{\"colorbar\": {\"outlinewidth\": 0, \"ticks\": \"\"}, \"colorscale\": [[0.0, \"#0d0887\"], [0.1111111111111111, \"#46039f\"], [0.2222222222222222, \"#7201a8\"], [0.3333333333333333, \"#9c179e\"], [0.4444444444444444, \"#bd3786\"], [0.5555555555555556, \"#d8576b\"], [0.6666666666666666, \"#ed7953\"], [0.7777777777777778, \"#fb9f3a\"], [0.8888888888888888, \"#fdca26\"], [1.0, \"#f0f921\"]], \"type\": \"histogram2d\"}], \"histogram2dcontour\": [{\"colorbar\": {\"outlinewidth\": 0, \"ticks\": \"\"}, \"colorscale\": [[0.0, \"#0d0887\"], [0.1111111111111111, \"#46039f\"], [0.2222222222222222, \"#7201a8\"], [0.3333333333333333, \"#9c179e\"], [0.4444444444444444, \"#bd3786\"], [0.5555555555555556, \"#d8576b\"], [0.6666666666666666, \"#ed7953\"], [0.7777777777777778, \"#fb9f3a\"], [0.8888888888888888, \"#fdca26\"], [1.0, \"#f0f921\"]], \"type\": \"histogram2dcontour\"}], \"mesh3d\": [{\"colorbar\": {\"outlinewidth\": 0, \"ticks\": \"\"}, \"type\": \"mesh3d\"}], \"parcoords\": [{\"line\": {\"colorbar\": {\"outlinewidth\": 0, \"ticks\": \"\"}}, \"type\": \"parcoords\"}], \"pie\": [{\"automargin\": true, \"type\": \"pie\"}], \"scatter\": [{\"marker\": {\"colorbar\": {\"outlinewidth\": 0, \"ticks\": \"\"}}, \"type\": \"scatter\"}], \"scatter3d\": [{\"line\": {\"colorbar\": {\"outlinewidth\": 0, \"ticks\": \"\"}}, \"marker\": {\"colorbar\": {\"outlinewidth\": 0, \"ticks\": \"\"}}, \"type\": \"scatter3d\"}], \"scattercarpet\": [{\"marker\": {\"colorbar\": {\"outlinewidth\": 0, \"ticks\": \"\"}}, \"type\": \"scattercarpet\"}], \"scattergeo\": [{\"marker\": {\"colorbar\": {\"outlinewidth\": 0, \"ticks\": \"\"}}, \"type\": \"scattergeo\"}], \"scattergl\": [{\"marker\": {\"colorbar\": {\"outlinewidth\": 0, \"ticks\": \"\"}}, \"type\": \"scattergl\"}], \"scattermapbox\": [{\"marker\": {\"colorbar\": {\"outlinewidth\": 0, \"ticks\": \"\"}}, \"type\": \"scattermapbox\"}], \"scatterpolar\": [{\"marker\": {\"colorbar\": {\"outlinewidth\": 0, \"ticks\": \"\"}}, \"type\": \"scatterpolar\"}], \"scatterpolargl\": [{\"marker\": {\"colorbar\": {\"outlinewidth\": 0, \"ticks\": \"\"}}, \"type\": \"scatterpolargl\"}], \"scatterternary\": [{\"marker\": {\"colorbar\": {\"outlinewidth\": 0, \"ticks\": \"\"}}, \"type\": \"scatterternary\"}], \"surface\": [{\"colorbar\": {\"outlinewidth\": 0, \"ticks\": \"\"}, \"colorscale\": [[0.0, \"#0d0887\"], [0.1111111111111111, \"#46039f\"], [0.2222222222222222, \"#7201a8\"], [0.3333333333333333, \"#9c179e\"], [0.4444444444444444, \"#bd3786\"], [0.5555555555555556, \"#d8576b\"], [0.6666666666666666, \"#ed7953\"], [0.7777777777777778, \"#fb9f3a\"], [0.8888888888888888, \"#fdca26\"], [1.0, \"#f0f921\"]], \"type\": \"surface\"}], \"table\": [{\"cells\": {\"fill\": {\"color\": \"#EBF0F8\"}, \"line\": {\"color\": \"white\"}}, \"header\": {\"fill\": {\"color\": \"#C8D4E3\"}, \"line\": {\"color\": \"white\"}}, \"type\": \"table\"}]}, \"layout\": {\"annotationdefaults\": {\"arrowcolor\": \"#2a3f5f\", \"arrowhead\": 0, \"arrowwidth\": 1}, \"coloraxis\": {\"colorbar\": {\"outlinewidth\": 0, \"ticks\": \"\"}}, \"colorscale\": {\"diverging\": [[0, \"#8e0152\"], [0.1, \"#c51b7d\"], [0.2, \"#de77ae\"], [0.3, \"#f1b6da\"], [0.4, \"#fde0ef\"], [0.5, \"#f7f7f7\"], [0.6, \"#e6f5d0\"], [0.7, \"#b8e186\"], [0.8, \"#7fbc41\"], [0.9, \"#4d9221\"], [1, \"#276419\"]], \"sequential\": [[0.0, \"#0d0887\"], [0.1111111111111111, \"#46039f\"], [0.2222222222222222, \"#7201a8\"], [0.3333333333333333, \"#9c179e\"], [0.4444444444444444, \"#bd3786\"], [0.5555555555555556, \"#d8576b\"], [0.6666666666666666, \"#ed7953\"], [0.7777777777777778, \"#fb9f3a\"], [0.8888888888888888, \"#fdca26\"], [1.0, \"#f0f921\"]], \"sequentialminus\": [[0.0, \"#0d0887\"], [0.1111111111111111, \"#46039f\"], [0.2222222222222222, \"#7201a8\"], [0.3333333333333333, \"#9c179e\"], [0.4444444444444444, \"#bd3786\"], [0.5555555555555556, \"#d8576b\"], [0.6666666666666666, \"#ed7953\"], [0.7777777777777778, \"#fb9f3a\"], [0.8888888888888888, \"#fdca26\"], [1.0, \"#f0f921\"]]}, \"colorway\": [\"#636efa\", \"#EF553B\", \"#00cc96\", \"#ab63fa\", \"#FFA15A\", \"#19d3f3\", \"#FF6692\", \"#B6E880\", \"#FF97FF\", \"#FECB52\"], \"font\": {\"color\": \"#2a3f5f\"}, \"geo\": {\"bgcolor\": \"white\", \"lakecolor\": \"white\", \"landcolor\": \"#E5ECF6\", \"showlakes\": true, \"showland\": true, \"subunitcolor\": \"white\"}, \"hoverlabel\": {\"align\": \"left\"}, \"hovermode\": \"closest\", \"mapbox\": {\"style\": \"light\"}, \"paper_bgcolor\": \"white\", \"plot_bgcolor\": \"#E5ECF6\", \"polar\": {\"angularaxis\": {\"gridcolor\": \"white\", \"linecolor\": \"white\", \"ticks\": \"\"}, \"bgcolor\": \"#E5ECF6\", \"radialaxis\": {\"gridcolor\": \"white\", \"linecolor\": \"white\", \"ticks\": \"\"}}, \"scene\": {\"xaxis\": {\"backgroundcolor\": \"#E5ECF6\", \"gridcolor\": \"white\", \"gridwidth\": 2, \"linecolor\": \"white\", \"showbackground\": true, \"ticks\": \"\", \"zerolinecolor\": \"white\"}, \"yaxis\": {\"backgroundcolor\": \"#E5ECF6\", \"gridcolor\": \"white\", \"gridwidth\": 2, \"linecolor\": \"white\", \"showbackground\": true, \"ticks\": \"\", \"zerolinecolor\": \"white\"}, \"zaxis\": {\"backgroundcolor\": \"#E5ECF6\", \"gridcolor\": \"white\", \"gridwidth\": 2, \"linecolor\": \"white\", \"showbackground\": true, \"ticks\": \"\", \"zerolinecolor\": \"white\"}}, \"shapedefaults\": {\"line\": {\"color\": \"#2a3f5f\"}}, \"ternary\": {\"aaxis\": {\"gridcolor\": \"white\", \"linecolor\": \"white\", \"ticks\": \"\"}, \"baxis\": {\"gridcolor\": \"white\", \"linecolor\": \"white\", \"ticks\": \"\"}, \"bgcolor\": \"#E5ECF6\", \"caxis\": {\"gridcolor\": \"white\", \"linecolor\": \"white\", \"ticks\": \"\"}}, \"title\": {\"x\": 0.05}, \"xaxis\": {\"automargin\": true, \"gridcolor\": \"white\", \"linecolor\": \"white\", \"ticks\": \"\", \"title\": {\"standoff\": 15}, \"zerolinecolor\": \"white\", \"zerolinewidth\": 2}, \"yaxis\": {\"automargin\": true, \"gridcolor\": \"white\", \"linecolor\": \"white\", \"ticks\": \"\", \"title\": {\"standoff\": 15}, \"zerolinecolor\": \"white\", \"zerolinewidth\": 2}}}},\n",
              "                        {\"responsive\": true}\n",
              "                    ).then(function(){\n",
              "                            \n",
              "var gd = document.getElementById('aec2e559-6c4b-47ff-a443-133d384d5c22');\n",
              "var x = new MutationObserver(function (mutations, observer) {{\n",
              "        var display = window.getComputedStyle(gd).display;\n",
              "        if (!display || display === 'none') {{\n",
              "            console.log([gd, 'removed!']);\n",
              "            Plotly.purge(gd);\n",
              "            observer.disconnect();\n",
              "        }}\n",
              "}});\n",
              "\n",
              "// Listen for the removal of the full notebook cells\n",
              "var notebookContainer = gd.closest('#notebook-container');\n",
              "if (notebookContainer) {{\n",
              "    x.observe(notebookContainer, {childList: true});\n",
              "}}\n",
              "\n",
              "// Listen for the clearing of the current output cell\n",
              "var outputEl = gd.closest('.output');\n",
              "if (outputEl) {{\n",
              "    x.observe(outputEl, {childList: true});\n",
              "}}\n",
              "\n",
              "                        })\n",
              "                };\n",
              "                \n",
              "            </script>\n",
              "        </div>\n",
              "</body>\n",
              "</html>"
            ]
          },
          "metadata": {
            "tags": []
          }
        },
        {
          "output_type": "stream",
          "text": [
            "Emoji Distribution for K Sakeesh ECE IITG A-39\n"
          ],
          "name": "stdout"
        },
        {
          "output_type": "display_data",
          "data": {
            "text/html": [
              "<html>\n",
              "<head><meta charset=\"utf-8\" /></head>\n",
              "<body>\n",
              "    <div>\n",
              "            <script src=\"https://cdnjs.cloudflare.com/ajax/libs/mathjax/2.7.5/MathJax.js?config=TeX-AMS-MML_SVG\"></script><script type=\"text/javascript\">if (window.MathJax) {MathJax.Hub.Config({SVG: {font: \"STIX-Web\"}});}</script>\n",
              "                <script type=\"text/javascript\">window.PlotlyConfig = {MathJaxConfig: 'local'};</script>\n",
              "        <script src=\"https://cdn.plot.ly/plotly-latest.min.js\"></script>    \n",
              "            <div id=\"49887855-6268-4927-9ba7-832e8ddd190d\" class=\"plotly-graph-div\" style=\"height:525px; width:100%;\"></div>\n",
              "            <script type=\"text/javascript\">\n",
              "                \n",
              "                    window.PLOTLYENV=window.PLOTLYENV || {};\n",
              "                    \n",
              "                if (document.getElementById(\"49887855-6268-4927-9ba7-832e8ddd190d\")) {\n",
              "                    Plotly.newPlot(\n",
              "                        '49887855-6268-4927-9ba7-832e8ddd190d',\n",
              "                        [{\"domain\": {\"x\": [0.0, 1.0], \"y\": [0.0, 1.0]}, \"hoverlabel\": {\"namelength\": 0}, \"hovertemplate\": \"emoji=%{label}<br>count=%{value}\", \"labels\": [\"\\ud83d\\ude01\", \"\\ud83d\\ude1b\", \"\\u2639\\ufe0f\", \"\\ud83c\\udf82\", \"\\ud83c\\udf8a\", \"\\ud83e\\udd73\"], \"legendgroup\": \"\", \"name\": \"\", \"showlegend\": true, \"textinfo\": \"percent+label\", \"textposition\": \"inside\", \"type\": \"pie\", \"values\": [3, 1, 1, 1, 1, 1]}],\n",
              "                        {\"legend\": {\"tracegroupgap\": 0}, \"margin\": {\"t\": 60}, \"template\": {\"data\": {\"bar\": [{\"error_x\": {\"color\": \"#2a3f5f\"}, \"error_y\": {\"color\": \"#2a3f5f\"}, \"marker\": {\"line\": {\"color\": \"#E5ECF6\", \"width\": 0.5}}, \"type\": \"bar\"}], \"barpolar\": [{\"marker\": {\"line\": {\"color\": \"#E5ECF6\", \"width\": 0.5}}, \"type\": \"barpolar\"}], \"carpet\": [{\"aaxis\": {\"endlinecolor\": \"#2a3f5f\", \"gridcolor\": \"white\", \"linecolor\": \"white\", \"minorgridcolor\": \"white\", \"startlinecolor\": \"#2a3f5f\"}, \"baxis\": {\"endlinecolor\": \"#2a3f5f\", \"gridcolor\": \"white\", \"linecolor\": \"white\", \"minorgridcolor\": \"white\", \"startlinecolor\": \"#2a3f5f\"}, \"type\": \"carpet\"}], \"choropleth\": [{\"colorbar\": {\"outlinewidth\": 0, \"ticks\": \"\"}, \"type\": \"choropleth\"}], \"contour\": [{\"colorbar\": {\"outlinewidth\": 0, \"ticks\": \"\"}, \"colorscale\": [[0.0, \"#0d0887\"], [0.1111111111111111, \"#46039f\"], [0.2222222222222222, \"#7201a8\"], [0.3333333333333333, \"#9c179e\"], [0.4444444444444444, \"#bd3786\"], [0.5555555555555556, \"#d8576b\"], [0.6666666666666666, \"#ed7953\"], [0.7777777777777778, \"#fb9f3a\"], [0.8888888888888888, \"#fdca26\"], [1.0, \"#f0f921\"]], \"type\": \"contour\"}], \"contourcarpet\": [{\"colorbar\": {\"outlinewidth\": 0, \"ticks\": \"\"}, \"type\": \"contourcarpet\"}], \"heatmap\": [{\"colorbar\": {\"outlinewidth\": 0, \"ticks\": \"\"}, \"colorscale\": [[0.0, \"#0d0887\"], [0.1111111111111111, \"#46039f\"], [0.2222222222222222, \"#7201a8\"], [0.3333333333333333, \"#9c179e\"], [0.4444444444444444, \"#bd3786\"], [0.5555555555555556, \"#d8576b\"], [0.6666666666666666, \"#ed7953\"], [0.7777777777777778, \"#fb9f3a\"], [0.8888888888888888, \"#fdca26\"], [1.0, \"#f0f921\"]], \"type\": \"heatmap\"}], \"heatmapgl\": [{\"colorbar\": {\"outlinewidth\": 0, \"ticks\": \"\"}, \"colorscale\": [[0.0, \"#0d0887\"], [0.1111111111111111, \"#46039f\"], [0.2222222222222222, \"#7201a8\"], [0.3333333333333333, \"#9c179e\"], [0.4444444444444444, \"#bd3786\"], [0.5555555555555556, \"#d8576b\"], [0.6666666666666666, \"#ed7953\"], [0.7777777777777778, \"#fb9f3a\"], [0.8888888888888888, \"#fdca26\"], [1.0, \"#f0f921\"]], \"type\": \"heatmapgl\"}], \"histogram\": [{\"marker\": {\"colorbar\": {\"outlinewidth\": 0, \"ticks\": \"\"}}, \"type\": \"histogram\"}], \"histogram2d\": [{\"colorbar\": {\"outlinewidth\": 0, \"ticks\": \"\"}, \"colorscale\": [[0.0, \"#0d0887\"], [0.1111111111111111, \"#46039f\"], [0.2222222222222222, \"#7201a8\"], [0.3333333333333333, \"#9c179e\"], [0.4444444444444444, \"#bd3786\"], [0.5555555555555556, \"#d8576b\"], [0.6666666666666666, \"#ed7953\"], [0.7777777777777778, \"#fb9f3a\"], [0.8888888888888888, \"#fdca26\"], [1.0, \"#f0f921\"]], \"type\": \"histogram2d\"}], \"histogram2dcontour\": [{\"colorbar\": {\"outlinewidth\": 0, \"ticks\": \"\"}, \"colorscale\": [[0.0, \"#0d0887\"], [0.1111111111111111, \"#46039f\"], [0.2222222222222222, \"#7201a8\"], [0.3333333333333333, \"#9c179e\"], [0.4444444444444444, \"#bd3786\"], [0.5555555555555556, \"#d8576b\"], [0.6666666666666666, \"#ed7953\"], [0.7777777777777778, \"#fb9f3a\"], [0.8888888888888888, \"#fdca26\"], [1.0, \"#f0f921\"]], \"type\": \"histogram2dcontour\"}], \"mesh3d\": [{\"colorbar\": {\"outlinewidth\": 0, \"ticks\": \"\"}, \"type\": \"mesh3d\"}], \"parcoords\": [{\"line\": {\"colorbar\": {\"outlinewidth\": 0, \"ticks\": \"\"}}, \"type\": \"parcoords\"}], \"pie\": [{\"automargin\": true, \"type\": \"pie\"}], \"scatter\": [{\"marker\": {\"colorbar\": {\"outlinewidth\": 0, \"ticks\": \"\"}}, \"type\": \"scatter\"}], \"scatter3d\": [{\"line\": {\"colorbar\": {\"outlinewidth\": 0, \"ticks\": \"\"}}, \"marker\": {\"colorbar\": {\"outlinewidth\": 0, \"ticks\": \"\"}}, \"type\": \"scatter3d\"}], \"scattercarpet\": [{\"marker\": {\"colorbar\": {\"outlinewidth\": 0, \"ticks\": \"\"}}, \"type\": \"scattercarpet\"}], \"scattergeo\": [{\"marker\": {\"colorbar\": {\"outlinewidth\": 0, \"ticks\": \"\"}}, \"type\": \"scattergeo\"}], \"scattergl\": [{\"marker\": {\"colorbar\": {\"outlinewidth\": 0, \"ticks\": \"\"}}, \"type\": \"scattergl\"}], \"scattermapbox\": [{\"marker\": {\"colorbar\": {\"outlinewidth\": 0, \"ticks\": \"\"}}, \"type\": \"scattermapbox\"}], \"scatterpolar\": [{\"marker\": {\"colorbar\": {\"outlinewidth\": 0, \"ticks\": \"\"}}, \"type\": \"scatterpolar\"}], \"scatterpolargl\": [{\"marker\": {\"colorbar\": {\"outlinewidth\": 0, \"ticks\": \"\"}}, \"type\": \"scatterpolargl\"}], \"scatterternary\": [{\"marker\": {\"colorbar\": {\"outlinewidth\": 0, \"ticks\": \"\"}}, \"type\": \"scatterternary\"}], \"surface\": [{\"colorbar\": {\"outlinewidth\": 0, \"ticks\": \"\"}, \"colorscale\": [[0.0, \"#0d0887\"], [0.1111111111111111, \"#46039f\"], [0.2222222222222222, \"#7201a8\"], [0.3333333333333333, \"#9c179e\"], [0.4444444444444444, \"#bd3786\"], [0.5555555555555556, \"#d8576b\"], [0.6666666666666666, \"#ed7953\"], [0.7777777777777778, \"#fb9f3a\"], [0.8888888888888888, \"#fdca26\"], [1.0, \"#f0f921\"]], \"type\": \"surface\"}], \"table\": [{\"cells\": {\"fill\": {\"color\": \"#EBF0F8\"}, \"line\": {\"color\": \"white\"}}, \"header\": {\"fill\": {\"color\": \"#C8D4E3\"}, \"line\": {\"color\": \"white\"}}, \"type\": \"table\"}]}, \"layout\": {\"annotationdefaults\": {\"arrowcolor\": \"#2a3f5f\", \"arrowhead\": 0, \"arrowwidth\": 1}, \"coloraxis\": {\"colorbar\": {\"outlinewidth\": 0, \"ticks\": \"\"}}, \"colorscale\": {\"diverging\": [[0, \"#8e0152\"], [0.1, \"#c51b7d\"], [0.2, \"#de77ae\"], [0.3, \"#f1b6da\"], [0.4, \"#fde0ef\"], [0.5, \"#f7f7f7\"], [0.6, \"#e6f5d0\"], [0.7, \"#b8e186\"], [0.8, \"#7fbc41\"], [0.9, \"#4d9221\"], [1, \"#276419\"]], \"sequential\": [[0.0, \"#0d0887\"], [0.1111111111111111, \"#46039f\"], [0.2222222222222222, \"#7201a8\"], [0.3333333333333333, \"#9c179e\"], [0.4444444444444444, \"#bd3786\"], [0.5555555555555556, \"#d8576b\"], [0.6666666666666666, \"#ed7953\"], [0.7777777777777778, \"#fb9f3a\"], [0.8888888888888888, \"#fdca26\"], [1.0, \"#f0f921\"]], \"sequentialminus\": [[0.0, \"#0d0887\"], [0.1111111111111111, \"#46039f\"], [0.2222222222222222, \"#7201a8\"], [0.3333333333333333, \"#9c179e\"], [0.4444444444444444, \"#bd3786\"], [0.5555555555555556, \"#d8576b\"], [0.6666666666666666, \"#ed7953\"], [0.7777777777777778, \"#fb9f3a\"], [0.8888888888888888, \"#fdca26\"], [1.0, \"#f0f921\"]]}, \"colorway\": [\"#636efa\", \"#EF553B\", \"#00cc96\", \"#ab63fa\", \"#FFA15A\", \"#19d3f3\", \"#FF6692\", \"#B6E880\", \"#FF97FF\", \"#FECB52\"], \"font\": {\"color\": \"#2a3f5f\"}, \"geo\": {\"bgcolor\": \"white\", \"lakecolor\": \"white\", \"landcolor\": \"#E5ECF6\", \"showlakes\": true, \"showland\": true, \"subunitcolor\": \"white\"}, \"hoverlabel\": {\"align\": \"left\"}, \"hovermode\": \"closest\", \"mapbox\": {\"style\": \"light\"}, \"paper_bgcolor\": \"white\", \"plot_bgcolor\": \"#E5ECF6\", \"polar\": {\"angularaxis\": {\"gridcolor\": \"white\", \"linecolor\": \"white\", \"ticks\": \"\"}, \"bgcolor\": \"#E5ECF6\", \"radialaxis\": {\"gridcolor\": \"white\", \"linecolor\": \"white\", \"ticks\": \"\"}}, \"scene\": {\"xaxis\": {\"backgroundcolor\": \"#E5ECF6\", \"gridcolor\": \"white\", \"gridwidth\": 2, \"linecolor\": \"white\", \"showbackground\": true, \"ticks\": \"\", \"zerolinecolor\": \"white\"}, \"yaxis\": {\"backgroundcolor\": \"#E5ECF6\", \"gridcolor\": \"white\", \"gridwidth\": 2, \"linecolor\": \"white\", \"showbackground\": true, \"ticks\": \"\", \"zerolinecolor\": \"white\"}, \"zaxis\": {\"backgroundcolor\": \"#E5ECF6\", \"gridcolor\": \"white\", \"gridwidth\": 2, \"linecolor\": \"white\", \"showbackground\": true, \"ticks\": \"\", \"zerolinecolor\": \"white\"}}, \"shapedefaults\": {\"line\": {\"color\": \"#2a3f5f\"}}, \"ternary\": {\"aaxis\": {\"gridcolor\": \"white\", \"linecolor\": \"white\", \"ticks\": \"\"}, \"baxis\": {\"gridcolor\": \"white\", \"linecolor\": \"white\", \"ticks\": \"\"}, \"bgcolor\": \"#E5ECF6\", \"caxis\": {\"gridcolor\": \"white\", \"linecolor\": \"white\", \"ticks\": \"\"}}, \"title\": {\"x\": 0.05}, \"xaxis\": {\"automargin\": true, \"gridcolor\": \"white\", \"linecolor\": \"white\", \"ticks\": \"\", \"title\": {\"standoff\": 15}, \"zerolinecolor\": \"white\", \"zerolinewidth\": 2}, \"yaxis\": {\"automargin\": true, \"gridcolor\": \"white\", \"linecolor\": \"white\", \"ticks\": \"\", \"title\": {\"standoff\": 15}, \"zerolinecolor\": \"white\", \"zerolinewidth\": 2}}}},\n",
              "                        {\"responsive\": true}\n",
              "                    ).then(function(){\n",
              "                            \n",
              "var gd = document.getElementById('49887855-6268-4927-9ba7-832e8ddd190d');\n",
              "var x = new MutationObserver(function (mutations, observer) {{\n",
              "        var display = window.getComputedStyle(gd).display;\n",
              "        if (!display || display === 'none') {{\n",
              "            console.log([gd, 'removed!']);\n",
              "            Plotly.purge(gd);\n",
              "            observer.disconnect();\n",
              "        }}\n",
              "}});\n",
              "\n",
              "// Listen for the removal of the full notebook cells\n",
              "var notebookContainer = gd.closest('#notebook-container');\n",
              "if (notebookContainer) {{\n",
              "    x.observe(notebookContainer, {childList: true});\n",
              "}}\n",
              "\n",
              "// Listen for the clearing of the current output cell\n",
              "var outputEl = gd.closest('.output');\n",
              "if (outputEl) {{\n",
              "    x.observe(outputEl, {childList: true});\n",
              "}}\n",
              "\n",
              "                        })\n",
              "                };\n",
              "                \n",
              "            </script>\n",
              "        </div>\n",
              "</body>\n",
              "</html>"
            ]
          },
          "metadata": {
            "tags": []
          }
        },
        {
          "output_type": "stream",
          "text": [
            "Emoji Distribution for Likith\n"
          ],
          "name": "stdout"
        },
        {
          "output_type": "display_data",
          "data": {
            "text/html": [
              "<html>\n",
              "<head><meta charset=\"utf-8\" /></head>\n",
              "<body>\n",
              "    <div>\n",
              "            <script src=\"https://cdnjs.cloudflare.com/ajax/libs/mathjax/2.7.5/MathJax.js?config=TeX-AMS-MML_SVG\"></script><script type=\"text/javascript\">if (window.MathJax) {MathJax.Hub.Config({SVG: {font: \"STIX-Web\"}});}</script>\n",
              "                <script type=\"text/javascript\">window.PlotlyConfig = {MathJaxConfig: 'local'};</script>\n",
              "        <script src=\"https://cdn.plot.ly/plotly-latest.min.js\"></script>    \n",
              "            <div id=\"12b3648d-bfb9-4f08-aca6-3a6116115d97\" class=\"plotly-graph-div\" style=\"height:525px; width:100%;\"></div>\n",
              "            <script type=\"text/javascript\">\n",
              "                \n",
              "                    window.PLOTLYENV=window.PLOTLYENV || {};\n",
              "                    \n",
              "                if (document.getElementById(\"12b3648d-bfb9-4f08-aca6-3a6116115d97\")) {\n",
              "                    Plotly.newPlot(\n",
              "                        '12b3648d-bfb9-4f08-aca6-3a6116115d97',\n",
              "                        [{\"domain\": {\"x\": [0.0, 1.0], \"y\": [0.0, 1.0]}, \"hoverlabel\": {\"namelength\": 0}, \"hovertemplate\": \"emoji=%{label}<br>count=%{value}\", \"labels\": [\"\\ud83d\\ude02\", \"\\ud83d\\udd25\", \"\\ud83e\\udd23\", \"\\ud83d\\ude11\", \"\\u2764\\ufe0f\", \"\\ud83d\\ude10\", \"\\ud83d\\ude2c\", \"\\ud83d\\ude0d\", \"\\ud83c\\udf89\", \"\\ud83e\\udd22\", \"\\ud83e\\udd14\", \"\\u270b\", \"\\ud83d\\ude36\", \"\\ud83d\\ude2d\", \"\\ud83e\\udd2f\", \"\\ud83e\\udd29\", \"\\ud83d\\ude01\", \"\\ud83d\\ude44\", \"\\ud83e\\udd73\", \"\\ud83d\\ude06\", \"\\ud83e\\udd74\", \"\\ud83e\\udd26\", \"\\ud83d\\ude21\", \"\\ud83d\\udc4d\"], \"legendgroup\": \"\", \"name\": \"\", \"showlegend\": true, \"textinfo\": \"percent+label\", \"textposition\": \"inside\", \"type\": \"pie\", \"values\": [27, 25, 8, 7, 7, 5, 5, 3, 3, 2, 2, 2, 2, 2, 2, 2, 2, 2, 1, 1, 1, 1, 1, 1]}],\n",
              "                        {\"legend\": {\"tracegroupgap\": 0}, \"margin\": {\"t\": 60}, \"template\": {\"data\": {\"bar\": [{\"error_x\": {\"color\": \"#2a3f5f\"}, \"error_y\": {\"color\": \"#2a3f5f\"}, \"marker\": {\"line\": {\"color\": \"#E5ECF6\", \"width\": 0.5}}, \"type\": \"bar\"}], \"barpolar\": [{\"marker\": {\"line\": {\"color\": \"#E5ECF6\", \"width\": 0.5}}, \"type\": \"barpolar\"}], \"carpet\": [{\"aaxis\": {\"endlinecolor\": \"#2a3f5f\", \"gridcolor\": \"white\", \"linecolor\": \"white\", \"minorgridcolor\": \"white\", \"startlinecolor\": \"#2a3f5f\"}, \"baxis\": {\"endlinecolor\": \"#2a3f5f\", \"gridcolor\": \"white\", \"linecolor\": \"white\", \"minorgridcolor\": \"white\", \"startlinecolor\": \"#2a3f5f\"}, \"type\": \"carpet\"}], \"choropleth\": [{\"colorbar\": {\"outlinewidth\": 0, \"ticks\": \"\"}, \"type\": \"choropleth\"}], \"contour\": [{\"colorbar\": {\"outlinewidth\": 0, \"ticks\": \"\"}, \"colorscale\": [[0.0, \"#0d0887\"], [0.1111111111111111, \"#46039f\"], [0.2222222222222222, \"#7201a8\"], [0.3333333333333333, \"#9c179e\"], [0.4444444444444444, \"#bd3786\"], [0.5555555555555556, \"#d8576b\"], [0.6666666666666666, \"#ed7953\"], [0.7777777777777778, \"#fb9f3a\"], [0.8888888888888888, \"#fdca26\"], [1.0, \"#f0f921\"]], \"type\": \"contour\"}], \"contourcarpet\": [{\"colorbar\": {\"outlinewidth\": 0, \"ticks\": \"\"}, \"type\": \"contourcarpet\"}], \"heatmap\": [{\"colorbar\": {\"outlinewidth\": 0, \"ticks\": \"\"}, \"colorscale\": [[0.0, \"#0d0887\"], [0.1111111111111111, \"#46039f\"], [0.2222222222222222, \"#7201a8\"], [0.3333333333333333, \"#9c179e\"], [0.4444444444444444, \"#bd3786\"], [0.5555555555555556, \"#d8576b\"], [0.6666666666666666, \"#ed7953\"], [0.7777777777777778, \"#fb9f3a\"], [0.8888888888888888, \"#fdca26\"], [1.0, \"#f0f921\"]], \"type\": \"heatmap\"}], \"heatmapgl\": [{\"colorbar\": {\"outlinewidth\": 0, \"ticks\": \"\"}, \"colorscale\": [[0.0, \"#0d0887\"], [0.1111111111111111, \"#46039f\"], [0.2222222222222222, \"#7201a8\"], [0.3333333333333333, \"#9c179e\"], [0.4444444444444444, \"#bd3786\"], [0.5555555555555556, \"#d8576b\"], [0.6666666666666666, \"#ed7953\"], [0.7777777777777778, \"#fb9f3a\"], [0.8888888888888888, \"#fdca26\"], [1.0, \"#f0f921\"]], \"type\": \"heatmapgl\"}], \"histogram\": [{\"marker\": {\"colorbar\": {\"outlinewidth\": 0, \"ticks\": \"\"}}, \"type\": \"histogram\"}], \"histogram2d\": [{\"colorbar\": {\"outlinewidth\": 0, \"ticks\": \"\"}, \"colorscale\": [[0.0, \"#0d0887\"], [0.1111111111111111, \"#46039f\"], [0.2222222222222222, \"#7201a8\"], [0.3333333333333333, \"#9c179e\"], [0.4444444444444444, \"#bd3786\"], [0.5555555555555556, \"#d8576b\"], [0.6666666666666666, \"#ed7953\"], [0.7777777777777778, \"#fb9f3a\"], [0.8888888888888888, \"#fdca26\"], [1.0, \"#f0f921\"]], \"type\": \"histogram2d\"}], \"histogram2dcontour\": [{\"colorbar\": {\"outlinewidth\": 0, \"ticks\": \"\"}, \"colorscale\": [[0.0, \"#0d0887\"], [0.1111111111111111, \"#46039f\"], [0.2222222222222222, \"#7201a8\"], [0.3333333333333333, \"#9c179e\"], [0.4444444444444444, \"#bd3786\"], [0.5555555555555556, \"#d8576b\"], [0.6666666666666666, \"#ed7953\"], [0.7777777777777778, \"#fb9f3a\"], [0.8888888888888888, \"#fdca26\"], [1.0, \"#f0f921\"]], \"type\": \"histogram2dcontour\"}], \"mesh3d\": [{\"colorbar\": {\"outlinewidth\": 0, \"ticks\": \"\"}, \"type\": \"mesh3d\"}], \"parcoords\": [{\"line\": {\"colorbar\": {\"outlinewidth\": 0, \"ticks\": \"\"}}, \"type\": \"parcoords\"}], \"pie\": [{\"automargin\": true, \"type\": \"pie\"}], \"scatter\": [{\"marker\": {\"colorbar\": {\"outlinewidth\": 0, \"ticks\": \"\"}}, \"type\": \"scatter\"}], \"scatter3d\": [{\"line\": {\"colorbar\": {\"outlinewidth\": 0, \"ticks\": \"\"}}, \"marker\": {\"colorbar\": {\"outlinewidth\": 0, \"ticks\": \"\"}}, \"type\": \"scatter3d\"}], \"scattercarpet\": [{\"marker\": {\"colorbar\": {\"outlinewidth\": 0, \"ticks\": \"\"}}, \"type\": \"scattercarpet\"}], \"scattergeo\": [{\"marker\": {\"colorbar\": {\"outlinewidth\": 0, \"ticks\": \"\"}}, \"type\": \"scattergeo\"}], \"scattergl\": [{\"marker\": {\"colorbar\": {\"outlinewidth\": 0, \"ticks\": \"\"}}, \"type\": \"scattergl\"}], \"scattermapbox\": [{\"marker\": {\"colorbar\": {\"outlinewidth\": 0, \"ticks\": \"\"}}, \"type\": \"scattermapbox\"}], \"scatterpolar\": [{\"marker\": {\"colorbar\": {\"outlinewidth\": 0, \"ticks\": \"\"}}, \"type\": \"scatterpolar\"}], \"scatterpolargl\": [{\"marker\": {\"colorbar\": {\"outlinewidth\": 0, \"ticks\": \"\"}}, \"type\": \"scatterpolargl\"}], \"scatterternary\": [{\"marker\": {\"colorbar\": {\"outlinewidth\": 0, \"ticks\": \"\"}}, \"type\": \"scatterternary\"}], \"surface\": [{\"colorbar\": {\"outlinewidth\": 0, \"ticks\": \"\"}, \"colorscale\": [[0.0, \"#0d0887\"], [0.1111111111111111, \"#46039f\"], [0.2222222222222222, \"#7201a8\"], [0.3333333333333333, \"#9c179e\"], [0.4444444444444444, \"#bd3786\"], [0.5555555555555556, \"#d8576b\"], [0.6666666666666666, \"#ed7953\"], [0.7777777777777778, \"#fb9f3a\"], [0.8888888888888888, \"#fdca26\"], [1.0, \"#f0f921\"]], \"type\": \"surface\"}], \"table\": [{\"cells\": {\"fill\": {\"color\": \"#EBF0F8\"}, \"line\": {\"color\": \"white\"}}, \"header\": {\"fill\": {\"color\": \"#C8D4E3\"}, \"line\": {\"color\": \"white\"}}, \"type\": \"table\"}]}, \"layout\": {\"annotationdefaults\": {\"arrowcolor\": \"#2a3f5f\", \"arrowhead\": 0, \"arrowwidth\": 1}, \"coloraxis\": {\"colorbar\": {\"outlinewidth\": 0, \"ticks\": \"\"}}, \"colorscale\": {\"diverging\": [[0, \"#8e0152\"], [0.1, \"#c51b7d\"], [0.2, \"#de77ae\"], [0.3, \"#f1b6da\"], [0.4, \"#fde0ef\"], [0.5, \"#f7f7f7\"], [0.6, \"#e6f5d0\"], [0.7, \"#b8e186\"], [0.8, \"#7fbc41\"], [0.9, \"#4d9221\"], [1, \"#276419\"]], \"sequential\": [[0.0, \"#0d0887\"], [0.1111111111111111, \"#46039f\"], [0.2222222222222222, \"#7201a8\"], [0.3333333333333333, \"#9c179e\"], [0.4444444444444444, \"#bd3786\"], [0.5555555555555556, \"#d8576b\"], [0.6666666666666666, \"#ed7953\"], [0.7777777777777778, \"#fb9f3a\"], [0.8888888888888888, \"#fdca26\"], [1.0, \"#f0f921\"]], \"sequentialminus\": [[0.0, \"#0d0887\"], [0.1111111111111111, \"#46039f\"], [0.2222222222222222, \"#7201a8\"], [0.3333333333333333, \"#9c179e\"], [0.4444444444444444, \"#bd3786\"], [0.5555555555555556, \"#d8576b\"], [0.6666666666666666, \"#ed7953\"], [0.7777777777777778, \"#fb9f3a\"], [0.8888888888888888, \"#fdca26\"], [1.0, \"#f0f921\"]]}, \"colorway\": [\"#636efa\", \"#EF553B\", \"#00cc96\", \"#ab63fa\", \"#FFA15A\", \"#19d3f3\", \"#FF6692\", \"#B6E880\", \"#FF97FF\", \"#FECB52\"], \"font\": {\"color\": \"#2a3f5f\"}, \"geo\": {\"bgcolor\": \"white\", \"lakecolor\": \"white\", \"landcolor\": \"#E5ECF6\", \"showlakes\": true, \"showland\": true, \"subunitcolor\": \"white\"}, \"hoverlabel\": {\"align\": \"left\"}, \"hovermode\": \"closest\", \"mapbox\": {\"style\": \"light\"}, \"paper_bgcolor\": \"white\", \"plot_bgcolor\": \"#E5ECF6\", \"polar\": {\"angularaxis\": {\"gridcolor\": \"white\", \"linecolor\": \"white\", \"ticks\": \"\"}, \"bgcolor\": \"#E5ECF6\", \"radialaxis\": {\"gridcolor\": \"white\", \"linecolor\": \"white\", \"ticks\": \"\"}}, \"scene\": {\"xaxis\": {\"backgroundcolor\": \"#E5ECF6\", \"gridcolor\": \"white\", \"gridwidth\": 2, \"linecolor\": \"white\", \"showbackground\": true, \"ticks\": \"\", \"zerolinecolor\": \"white\"}, \"yaxis\": {\"backgroundcolor\": \"#E5ECF6\", \"gridcolor\": \"white\", \"gridwidth\": 2, \"linecolor\": \"white\", \"showbackground\": true, \"ticks\": \"\", \"zerolinecolor\": \"white\"}, \"zaxis\": {\"backgroundcolor\": \"#E5ECF6\", \"gridcolor\": \"white\", \"gridwidth\": 2, \"linecolor\": \"white\", \"showbackground\": true, \"ticks\": \"\", \"zerolinecolor\": \"white\"}}, \"shapedefaults\": {\"line\": {\"color\": \"#2a3f5f\"}}, \"ternary\": {\"aaxis\": {\"gridcolor\": \"white\", \"linecolor\": \"white\", \"ticks\": \"\"}, \"baxis\": {\"gridcolor\": \"white\", \"linecolor\": \"white\", \"ticks\": \"\"}, \"bgcolor\": \"#E5ECF6\", \"caxis\": {\"gridcolor\": \"white\", \"linecolor\": \"white\", \"ticks\": \"\"}}, \"title\": {\"x\": 0.05}, \"xaxis\": {\"automargin\": true, \"gridcolor\": \"white\", \"linecolor\": \"white\", \"ticks\": \"\", \"title\": {\"standoff\": 15}, \"zerolinecolor\": \"white\", \"zerolinewidth\": 2}, \"yaxis\": {\"automargin\": true, \"gridcolor\": \"white\", \"linecolor\": \"white\", \"ticks\": \"\", \"title\": {\"standoff\": 15}, \"zerolinecolor\": \"white\", \"zerolinewidth\": 2}}}},\n",
              "                        {\"responsive\": true}\n",
              "                    ).then(function(){\n",
              "                            \n",
              "var gd = document.getElementById('12b3648d-bfb9-4f08-aca6-3a6116115d97');\n",
              "var x = new MutationObserver(function (mutations, observer) {{\n",
              "        var display = window.getComputedStyle(gd).display;\n",
              "        if (!display || display === 'none') {{\n",
              "            console.log([gd, 'removed!']);\n",
              "            Plotly.purge(gd);\n",
              "            observer.disconnect();\n",
              "        }}\n",
              "}});\n",
              "\n",
              "// Listen for the removal of the full notebook cells\n",
              "var notebookContainer = gd.closest('#notebook-container');\n",
              "if (notebookContainer) {{\n",
              "    x.observe(notebookContainer, {childList: true});\n",
              "}}\n",
              "\n",
              "// Listen for the clearing of the current output cell\n",
              "var outputEl = gd.closest('.output');\n",
              "if (outputEl) {{\n",
              "    x.observe(outputEl, {childList: true});\n",
              "}}\n",
              "\n",
              "                        })\n",
              "                };\n",
              "                \n",
              "            </script>\n",
              "        </div>\n",
              "</body>\n",
              "</html>"
            ]
          },
          "metadata": {
            "tags": []
          }
        },
        {
          "output_type": "stream",
          "text": [
            "Emoji Distribution for Vishal IITG Lohit\n"
          ],
          "name": "stdout"
        },
        {
          "output_type": "display_data",
          "data": {
            "text/html": [
              "<html>\n",
              "<head><meta charset=\"utf-8\" /></head>\n",
              "<body>\n",
              "    <div>\n",
              "            <script src=\"https://cdnjs.cloudflare.com/ajax/libs/mathjax/2.7.5/MathJax.js?config=TeX-AMS-MML_SVG\"></script><script type=\"text/javascript\">if (window.MathJax) {MathJax.Hub.Config({SVG: {font: \"STIX-Web\"}});}</script>\n",
              "                <script type=\"text/javascript\">window.PlotlyConfig = {MathJaxConfig: 'local'};</script>\n",
              "        <script src=\"https://cdn.plot.ly/plotly-latest.min.js\"></script>    \n",
              "            <div id=\"72996ebb-6f0b-4dd5-8336-1eaad50089f3\" class=\"plotly-graph-div\" style=\"height:525px; width:100%;\"></div>\n",
              "            <script type=\"text/javascript\">\n",
              "                \n",
              "                    window.PLOTLYENV=window.PLOTLYENV || {};\n",
              "                    \n",
              "                if (document.getElementById(\"72996ebb-6f0b-4dd5-8336-1eaad50089f3\")) {\n",
              "                    Plotly.newPlot(\n",
              "                        '72996ebb-6f0b-4dd5-8336-1eaad50089f3',\n",
              "                        [{\"domain\": {\"x\": [0.0, 1.0], \"y\": [0.0, 1.0]}, \"hoverlabel\": {\"namelength\": 0}, \"hovertemplate\": \"emoji=%{label}<br>count=%{value}\", \"labels\": [\"\\ud83e\\udd2c\", \"\\ud83d\\ude05\", \"\\ud83d\\ude4f\"], \"legendgroup\": \"\", \"name\": \"\", \"showlegend\": true, \"textinfo\": \"percent+label\", \"textposition\": \"inside\", \"type\": \"pie\", \"values\": [1, 1, 1]}],\n",
              "                        {\"legend\": {\"tracegroupgap\": 0}, \"margin\": {\"t\": 60}, \"template\": {\"data\": {\"bar\": [{\"error_x\": {\"color\": \"#2a3f5f\"}, \"error_y\": {\"color\": \"#2a3f5f\"}, \"marker\": {\"line\": {\"color\": \"#E5ECF6\", \"width\": 0.5}}, \"type\": \"bar\"}], \"barpolar\": [{\"marker\": {\"line\": {\"color\": \"#E5ECF6\", \"width\": 0.5}}, \"type\": \"barpolar\"}], \"carpet\": [{\"aaxis\": {\"endlinecolor\": \"#2a3f5f\", \"gridcolor\": \"white\", \"linecolor\": \"white\", \"minorgridcolor\": \"white\", \"startlinecolor\": \"#2a3f5f\"}, \"baxis\": {\"endlinecolor\": \"#2a3f5f\", \"gridcolor\": \"white\", \"linecolor\": \"white\", \"minorgridcolor\": \"white\", \"startlinecolor\": \"#2a3f5f\"}, \"type\": \"carpet\"}], \"choropleth\": [{\"colorbar\": {\"outlinewidth\": 0, \"ticks\": \"\"}, \"type\": \"choropleth\"}], \"contour\": [{\"colorbar\": {\"outlinewidth\": 0, \"ticks\": \"\"}, \"colorscale\": [[0.0, \"#0d0887\"], [0.1111111111111111, \"#46039f\"], [0.2222222222222222, \"#7201a8\"], [0.3333333333333333, \"#9c179e\"], [0.4444444444444444, \"#bd3786\"], [0.5555555555555556, \"#d8576b\"], [0.6666666666666666, \"#ed7953\"], [0.7777777777777778, \"#fb9f3a\"], [0.8888888888888888, \"#fdca26\"], [1.0, \"#f0f921\"]], \"type\": \"contour\"}], \"contourcarpet\": [{\"colorbar\": {\"outlinewidth\": 0, \"ticks\": \"\"}, \"type\": \"contourcarpet\"}], \"heatmap\": [{\"colorbar\": {\"outlinewidth\": 0, \"ticks\": \"\"}, \"colorscale\": [[0.0, \"#0d0887\"], [0.1111111111111111, \"#46039f\"], [0.2222222222222222, \"#7201a8\"], [0.3333333333333333, \"#9c179e\"], [0.4444444444444444, \"#bd3786\"], [0.5555555555555556, \"#d8576b\"], [0.6666666666666666, \"#ed7953\"], [0.7777777777777778, \"#fb9f3a\"], [0.8888888888888888, \"#fdca26\"], [1.0, \"#f0f921\"]], \"type\": \"heatmap\"}], \"heatmapgl\": [{\"colorbar\": {\"outlinewidth\": 0, \"ticks\": \"\"}, \"colorscale\": [[0.0, \"#0d0887\"], [0.1111111111111111, \"#46039f\"], [0.2222222222222222, \"#7201a8\"], [0.3333333333333333, \"#9c179e\"], [0.4444444444444444, \"#bd3786\"], [0.5555555555555556, \"#d8576b\"], [0.6666666666666666, \"#ed7953\"], [0.7777777777777778, \"#fb9f3a\"], [0.8888888888888888, \"#fdca26\"], [1.0, \"#f0f921\"]], \"type\": \"heatmapgl\"}], \"histogram\": [{\"marker\": {\"colorbar\": {\"outlinewidth\": 0, \"ticks\": \"\"}}, \"type\": \"histogram\"}], \"histogram2d\": [{\"colorbar\": {\"outlinewidth\": 0, \"ticks\": \"\"}, \"colorscale\": [[0.0, \"#0d0887\"], [0.1111111111111111, \"#46039f\"], [0.2222222222222222, \"#7201a8\"], [0.3333333333333333, \"#9c179e\"], [0.4444444444444444, \"#bd3786\"], [0.5555555555555556, \"#d8576b\"], [0.6666666666666666, \"#ed7953\"], [0.7777777777777778, \"#fb9f3a\"], [0.8888888888888888, \"#fdca26\"], [1.0, \"#f0f921\"]], \"type\": \"histogram2d\"}], \"histogram2dcontour\": [{\"colorbar\": {\"outlinewidth\": 0, \"ticks\": \"\"}, \"colorscale\": [[0.0, \"#0d0887\"], [0.1111111111111111, \"#46039f\"], [0.2222222222222222, \"#7201a8\"], [0.3333333333333333, \"#9c179e\"], [0.4444444444444444, \"#bd3786\"], [0.5555555555555556, \"#d8576b\"], [0.6666666666666666, \"#ed7953\"], [0.7777777777777778, \"#fb9f3a\"], [0.8888888888888888, \"#fdca26\"], [1.0, \"#f0f921\"]], \"type\": \"histogram2dcontour\"}], \"mesh3d\": [{\"colorbar\": {\"outlinewidth\": 0, \"ticks\": \"\"}, \"type\": \"mesh3d\"}], \"parcoords\": [{\"line\": {\"colorbar\": {\"outlinewidth\": 0, \"ticks\": \"\"}}, \"type\": \"parcoords\"}], \"pie\": [{\"automargin\": true, \"type\": \"pie\"}], \"scatter\": [{\"marker\": {\"colorbar\": {\"outlinewidth\": 0, \"ticks\": \"\"}}, \"type\": \"scatter\"}], \"scatter3d\": [{\"line\": {\"colorbar\": {\"outlinewidth\": 0, \"ticks\": \"\"}}, \"marker\": {\"colorbar\": {\"outlinewidth\": 0, \"ticks\": \"\"}}, \"type\": \"scatter3d\"}], \"scattercarpet\": [{\"marker\": {\"colorbar\": {\"outlinewidth\": 0, \"ticks\": \"\"}}, \"type\": \"scattercarpet\"}], \"scattergeo\": [{\"marker\": {\"colorbar\": {\"outlinewidth\": 0, \"ticks\": \"\"}}, \"type\": \"scattergeo\"}], \"scattergl\": [{\"marker\": {\"colorbar\": {\"outlinewidth\": 0, \"ticks\": \"\"}}, \"type\": \"scattergl\"}], \"scattermapbox\": [{\"marker\": {\"colorbar\": {\"outlinewidth\": 0, \"ticks\": \"\"}}, \"type\": \"scattermapbox\"}], \"scatterpolar\": [{\"marker\": {\"colorbar\": {\"outlinewidth\": 0, \"ticks\": \"\"}}, \"type\": \"scatterpolar\"}], \"scatterpolargl\": [{\"marker\": {\"colorbar\": {\"outlinewidth\": 0, \"ticks\": \"\"}}, \"type\": \"scatterpolargl\"}], \"scatterternary\": [{\"marker\": {\"colorbar\": {\"outlinewidth\": 0, \"ticks\": \"\"}}, \"type\": \"scatterternary\"}], \"surface\": [{\"colorbar\": {\"outlinewidth\": 0, \"ticks\": \"\"}, \"colorscale\": [[0.0, \"#0d0887\"], [0.1111111111111111, \"#46039f\"], [0.2222222222222222, \"#7201a8\"], [0.3333333333333333, \"#9c179e\"], [0.4444444444444444, \"#bd3786\"], [0.5555555555555556, \"#d8576b\"], [0.6666666666666666, \"#ed7953\"], [0.7777777777777778, \"#fb9f3a\"], [0.8888888888888888, \"#fdca26\"], [1.0, \"#f0f921\"]], \"type\": \"surface\"}], \"table\": [{\"cells\": {\"fill\": {\"color\": \"#EBF0F8\"}, \"line\": {\"color\": \"white\"}}, \"header\": {\"fill\": {\"color\": \"#C8D4E3\"}, \"line\": {\"color\": \"white\"}}, \"type\": \"table\"}]}, \"layout\": {\"annotationdefaults\": {\"arrowcolor\": \"#2a3f5f\", \"arrowhead\": 0, \"arrowwidth\": 1}, \"coloraxis\": {\"colorbar\": {\"outlinewidth\": 0, \"ticks\": \"\"}}, \"colorscale\": {\"diverging\": [[0, \"#8e0152\"], [0.1, \"#c51b7d\"], [0.2, \"#de77ae\"], [0.3, \"#f1b6da\"], [0.4, \"#fde0ef\"], [0.5, \"#f7f7f7\"], [0.6, \"#e6f5d0\"], [0.7, \"#b8e186\"], [0.8, \"#7fbc41\"], [0.9, \"#4d9221\"], [1, \"#276419\"]], \"sequential\": [[0.0, \"#0d0887\"], [0.1111111111111111, \"#46039f\"], [0.2222222222222222, \"#7201a8\"], [0.3333333333333333, \"#9c179e\"], [0.4444444444444444, \"#bd3786\"], [0.5555555555555556, \"#d8576b\"], [0.6666666666666666, \"#ed7953\"], [0.7777777777777778, \"#fb9f3a\"], [0.8888888888888888, \"#fdca26\"], [1.0, \"#f0f921\"]], \"sequentialminus\": [[0.0, \"#0d0887\"], [0.1111111111111111, \"#46039f\"], [0.2222222222222222, \"#7201a8\"], [0.3333333333333333, \"#9c179e\"], [0.4444444444444444, \"#bd3786\"], [0.5555555555555556, \"#d8576b\"], [0.6666666666666666, \"#ed7953\"], [0.7777777777777778, \"#fb9f3a\"], [0.8888888888888888, \"#fdca26\"], [1.0, \"#f0f921\"]]}, \"colorway\": [\"#636efa\", \"#EF553B\", \"#00cc96\", \"#ab63fa\", \"#FFA15A\", \"#19d3f3\", \"#FF6692\", \"#B6E880\", \"#FF97FF\", \"#FECB52\"], \"font\": {\"color\": \"#2a3f5f\"}, \"geo\": {\"bgcolor\": \"white\", \"lakecolor\": \"white\", \"landcolor\": \"#E5ECF6\", \"showlakes\": true, \"showland\": true, \"subunitcolor\": \"white\"}, \"hoverlabel\": {\"align\": \"left\"}, \"hovermode\": \"closest\", \"mapbox\": {\"style\": \"light\"}, \"paper_bgcolor\": \"white\", \"plot_bgcolor\": \"#E5ECF6\", \"polar\": {\"angularaxis\": {\"gridcolor\": \"white\", \"linecolor\": \"white\", \"ticks\": \"\"}, \"bgcolor\": \"#E5ECF6\", \"radialaxis\": {\"gridcolor\": \"white\", \"linecolor\": \"white\", \"ticks\": \"\"}}, \"scene\": {\"xaxis\": {\"backgroundcolor\": \"#E5ECF6\", \"gridcolor\": \"white\", \"gridwidth\": 2, \"linecolor\": \"white\", \"showbackground\": true, \"ticks\": \"\", \"zerolinecolor\": \"white\"}, \"yaxis\": {\"backgroundcolor\": \"#E5ECF6\", \"gridcolor\": \"white\", \"gridwidth\": 2, \"linecolor\": \"white\", \"showbackground\": true, \"ticks\": \"\", \"zerolinecolor\": \"white\"}, \"zaxis\": {\"backgroundcolor\": \"#E5ECF6\", \"gridcolor\": \"white\", \"gridwidth\": 2, \"linecolor\": \"white\", \"showbackground\": true, \"ticks\": \"\", \"zerolinecolor\": \"white\"}}, \"shapedefaults\": {\"line\": {\"color\": \"#2a3f5f\"}}, \"ternary\": {\"aaxis\": {\"gridcolor\": \"white\", \"linecolor\": \"white\", \"ticks\": \"\"}, \"baxis\": {\"gridcolor\": \"white\", \"linecolor\": \"white\", \"ticks\": \"\"}, \"bgcolor\": \"#E5ECF6\", \"caxis\": {\"gridcolor\": \"white\", \"linecolor\": \"white\", \"ticks\": \"\"}}, \"title\": {\"x\": 0.05}, \"xaxis\": {\"automargin\": true, \"gridcolor\": \"white\", \"linecolor\": \"white\", \"ticks\": \"\", \"title\": {\"standoff\": 15}, \"zerolinecolor\": \"white\", \"zerolinewidth\": 2}, \"yaxis\": {\"automargin\": true, \"gridcolor\": \"white\", \"linecolor\": \"white\", \"ticks\": \"\", \"title\": {\"standoff\": 15}, \"zerolinecolor\": \"white\", \"zerolinewidth\": 2}}}},\n",
              "                        {\"responsive\": true}\n",
              "                    ).then(function(){\n",
              "                            \n",
              "var gd = document.getElementById('72996ebb-6f0b-4dd5-8336-1eaad50089f3');\n",
              "var x = new MutationObserver(function (mutations, observer) {{\n",
              "        var display = window.getComputedStyle(gd).display;\n",
              "        if (!display || display === 'none') {{\n",
              "            console.log([gd, 'removed!']);\n",
              "            Plotly.purge(gd);\n",
              "            observer.disconnect();\n",
              "        }}\n",
              "}});\n",
              "\n",
              "// Listen for the removal of the full notebook cells\n",
              "var notebookContainer = gd.closest('#notebook-container');\n",
              "if (notebookContainer) {{\n",
              "    x.observe(notebookContainer, {childList: true});\n",
              "}}\n",
              "\n",
              "// Listen for the clearing of the current output cell\n",
              "var outputEl = gd.closest('.output');\n",
              "if (outputEl) {{\n",
              "    x.observe(outputEl, {childList: true});\n",
              "}}\n",
              "\n",
              "                        })\n",
              "                };\n",
              "                \n",
              "            </script>\n",
              "        </div>\n",
              "</body>\n",
              "</html>"
            ]
          },
          "metadata": {
            "tags": []
          }
        },
        {
          "output_type": "stream",
          "text": [
            "Emoji Distribution for Vamshi Ece Iitg\n"
          ],
          "name": "stdout"
        },
        {
          "output_type": "display_data",
          "data": {
            "text/html": [
              "<html>\n",
              "<head><meta charset=\"utf-8\" /></head>\n",
              "<body>\n",
              "    <div>\n",
              "            <script src=\"https://cdnjs.cloudflare.com/ajax/libs/mathjax/2.7.5/MathJax.js?config=TeX-AMS-MML_SVG\"></script><script type=\"text/javascript\">if (window.MathJax) {MathJax.Hub.Config({SVG: {font: \"STIX-Web\"}});}</script>\n",
              "                <script type=\"text/javascript\">window.PlotlyConfig = {MathJaxConfig: 'local'};</script>\n",
              "        <script src=\"https://cdn.plot.ly/plotly-latest.min.js\"></script>    \n",
              "            <div id=\"e07bcba9-532c-41cf-8941-6b8c91df5e3c\" class=\"plotly-graph-div\" style=\"height:525px; width:100%;\"></div>\n",
              "            <script type=\"text/javascript\">\n",
              "                \n",
              "                    window.PLOTLYENV=window.PLOTLYENV || {};\n",
              "                    \n",
              "                if (document.getElementById(\"e07bcba9-532c-41cf-8941-6b8c91df5e3c\")) {\n",
              "                    Plotly.newPlot(\n",
              "                        'e07bcba9-532c-41cf-8941-6b8c91df5e3c',\n",
              "                        [{\"domain\": {\"x\": [0.0, 1.0], \"y\": [0.0, 1.0]}, \"hoverlabel\": {\"namelength\": 0}, \"hovertemplate\": \"emoji=%{label}<br>count=%{value}\", \"labels\": [\"\\ud83d\\udc4d\", \"\\ud83e\\udd29\", \"\\ud83d\\udd25\", \"\\ud83d\\ude05\", \"\\ud83e\\udd73\", \"\\ud83e\\udd74\"], \"legendgroup\": \"\", \"name\": \"\", \"showlegend\": true, \"textinfo\": \"percent+label\", \"textposition\": \"inside\", \"type\": \"pie\", \"values\": [2, 1, 1, 1, 1, 1]}],\n",
              "                        {\"legend\": {\"tracegroupgap\": 0}, \"margin\": {\"t\": 60}, \"template\": {\"data\": {\"bar\": [{\"error_x\": {\"color\": \"#2a3f5f\"}, \"error_y\": {\"color\": \"#2a3f5f\"}, \"marker\": {\"line\": {\"color\": \"#E5ECF6\", \"width\": 0.5}}, \"type\": \"bar\"}], \"barpolar\": [{\"marker\": {\"line\": {\"color\": \"#E5ECF6\", \"width\": 0.5}}, \"type\": \"barpolar\"}], \"carpet\": [{\"aaxis\": {\"endlinecolor\": \"#2a3f5f\", \"gridcolor\": \"white\", \"linecolor\": \"white\", \"minorgridcolor\": \"white\", \"startlinecolor\": \"#2a3f5f\"}, \"baxis\": {\"endlinecolor\": \"#2a3f5f\", \"gridcolor\": \"white\", \"linecolor\": \"white\", \"minorgridcolor\": \"white\", \"startlinecolor\": \"#2a3f5f\"}, \"type\": \"carpet\"}], \"choropleth\": [{\"colorbar\": {\"outlinewidth\": 0, \"ticks\": \"\"}, \"type\": \"choropleth\"}], \"contour\": [{\"colorbar\": {\"outlinewidth\": 0, \"ticks\": \"\"}, \"colorscale\": [[0.0, \"#0d0887\"], [0.1111111111111111, \"#46039f\"], [0.2222222222222222, \"#7201a8\"], [0.3333333333333333, \"#9c179e\"], [0.4444444444444444, \"#bd3786\"], [0.5555555555555556, \"#d8576b\"], [0.6666666666666666, \"#ed7953\"], [0.7777777777777778, \"#fb9f3a\"], [0.8888888888888888, \"#fdca26\"], [1.0, \"#f0f921\"]], \"type\": \"contour\"}], \"contourcarpet\": [{\"colorbar\": {\"outlinewidth\": 0, \"ticks\": \"\"}, \"type\": \"contourcarpet\"}], \"heatmap\": [{\"colorbar\": {\"outlinewidth\": 0, \"ticks\": \"\"}, \"colorscale\": [[0.0, \"#0d0887\"], [0.1111111111111111, \"#46039f\"], [0.2222222222222222, \"#7201a8\"], [0.3333333333333333, \"#9c179e\"], [0.4444444444444444, \"#bd3786\"], [0.5555555555555556, \"#d8576b\"], [0.6666666666666666, \"#ed7953\"], [0.7777777777777778, \"#fb9f3a\"], [0.8888888888888888, \"#fdca26\"], [1.0, \"#f0f921\"]], \"type\": \"heatmap\"}], \"heatmapgl\": [{\"colorbar\": {\"outlinewidth\": 0, \"ticks\": \"\"}, \"colorscale\": [[0.0, \"#0d0887\"], [0.1111111111111111, \"#46039f\"], [0.2222222222222222, \"#7201a8\"], [0.3333333333333333, \"#9c179e\"], [0.4444444444444444, \"#bd3786\"], [0.5555555555555556, \"#d8576b\"], [0.6666666666666666, \"#ed7953\"], [0.7777777777777778, \"#fb9f3a\"], [0.8888888888888888, \"#fdca26\"], [1.0, \"#f0f921\"]], \"type\": \"heatmapgl\"}], \"histogram\": [{\"marker\": {\"colorbar\": {\"outlinewidth\": 0, \"ticks\": \"\"}}, \"type\": \"histogram\"}], \"histogram2d\": [{\"colorbar\": {\"outlinewidth\": 0, \"ticks\": \"\"}, \"colorscale\": [[0.0, \"#0d0887\"], [0.1111111111111111, \"#46039f\"], [0.2222222222222222, \"#7201a8\"], [0.3333333333333333, \"#9c179e\"], [0.4444444444444444, \"#bd3786\"], [0.5555555555555556, \"#d8576b\"], [0.6666666666666666, \"#ed7953\"], [0.7777777777777778, \"#fb9f3a\"], [0.8888888888888888, \"#fdca26\"], [1.0, \"#f0f921\"]], \"type\": \"histogram2d\"}], \"histogram2dcontour\": [{\"colorbar\": {\"outlinewidth\": 0, \"ticks\": \"\"}, \"colorscale\": [[0.0, \"#0d0887\"], [0.1111111111111111, \"#46039f\"], [0.2222222222222222, \"#7201a8\"], [0.3333333333333333, \"#9c179e\"], [0.4444444444444444, \"#bd3786\"], [0.5555555555555556, \"#d8576b\"], [0.6666666666666666, \"#ed7953\"], [0.7777777777777778, \"#fb9f3a\"], [0.8888888888888888, \"#fdca26\"], [1.0, \"#f0f921\"]], \"type\": \"histogram2dcontour\"}], \"mesh3d\": [{\"colorbar\": {\"outlinewidth\": 0, \"ticks\": \"\"}, \"type\": \"mesh3d\"}], \"parcoords\": [{\"line\": {\"colorbar\": {\"outlinewidth\": 0, \"ticks\": \"\"}}, \"type\": \"parcoords\"}], \"pie\": [{\"automargin\": true, \"type\": \"pie\"}], \"scatter\": [{\"marker\": {\"colorbar\": {\"outlinewidth\": 0, \"ticks\": \"\"}}, \"type\": \"scatter\"}], \"scatter3d\": [{\"line\": {\"colorbar\": {\"outlinewidth\": 0, \"ticks\": \"\"}}, \"marker\": {\"colorbar\": {\"outlinewidth\": 0, \"ticks\": \"\"}}, \"type\": \"scatter3d\"}], \"scattercarpet\": [{\"marker\": {\"colorbar\": {\"outlinewidth\": 0, \"ticks\": \"\"}}, \"type\": \"scattercarpet\"}], \"scattergeo\": [{\"marker\": {\"colorbar\": {\"outlinewidth\": 0, \"ticks\": \"\"}}, \"type\": \"scattergeo\"}], \"scattergl\": [{\"marker\": {\"colorbar\": {\"outlinewidth\": 0, \"ticks\": \"\"}}, \"type\": \"scattergl\"}], \"scattermapbox\": [{\"marker\": {\"colorbar\": {\"outlinewidth\": 0, \"ticks\": \"\"}}, \"type\": \"scattermapbox\"}], \"scatterpolar\": [{\"marker\": {\"colorbar\": {\"outlinewidth\": 0, \"ticks\": \"\"}}, \"type\": \"scatterpolar\"}], \"scatterpolargl\": [{\"marker\": {\"colorbar\": {\"outlinewidth\": 0, \"ticks\": \"\"}}, \"type\": \"scatterpolargl\"}], \"scatterternary\": [{\"marker\": {\"colorbar\": {\"outlinewidth\": 0, \"ticks\": \"\"}}, \"type\": \"scatterternary\"}], \"surface\": [{\"colorbar\": {\"outlinewidth\": 0, \"ticks\": \"\"}, \"colorscale\": [[0.0, \"#0d0887\"], [0.1111111111111111, \"#46039f\"], [0.2222222222222222, \"#7201a8\"], [0.3333333333333333, \"#9c179e\"], [0.4444444444444444, \"#bd3786\"], [0.5555555555555556, \"#d8576b\"], [0.6666666666666666, \"#ed7953\"], [0.7777777777777778, \"#fb9f3a\"], [0.8888888888888888, \"#fdca26\"], [1.0, \"#f0f921\"]], \"type\": \"surface\"}], \"table\": [{\"cells\": {\"fill\": {\"color\": \"#EBF0F8\"}, \"line\": {\"color\": \"white\"}}, \"header\": {\"fill\": {\"color\": \"#C8D4E3\"}, \"line\": {\"color\": \"white\"}}, \"type\": \"table\"}]}, \"layout\": {\"annotationdefaults\": {\"arrowcolor\": \"#2a3f5f\", \"arrowhead\": 0, \"arrowwidth\": 1}, \"coloraxis\": {\"colorbar\": {\"outlinewidth\": 0, \"ticks\": \"\"}}, \"colorscale\": {\"diverging\": [[0, \"#8e0152\"], [0.1, \"#c51b7d\"], [0.2, \"#de77ae\"], [0.3, \"#f1b6da\"], [0.4, \"#fde0ef\"], [0.5, \"#f7f7f7\"], [0.6, \"#e6f5d0\"], [0.7, \"#b8e186\"], [0.8, \"#7fbc41\"], [0.9, \"#4d9221\"], [1, \"#276419\"]], \"sequential\": [[0.0, \"#0d0887\"], [0.1111111111111111, \"#46039f\"], [0.2222222222222222, \"#7201a8\"], [0.3333333333333333, \"#9c179e\"], [0.4444444444444444, \"#bd3786\"], [0.5555555555555556, \"#d8576b\"], [0.6666666666666666, \"#ed7953\"], [0.7777777777777778, \"#fb9f3a\"], [0.8888888888888888, \"#fdca26\"], [1.0, \"#f0f921\"]], \"sequentialminus\": [[0.0, \"#0d0887\"], [0.1111111111111111, \"#46039f\"], [0.2222222222222222, \"#7201a8\"], [0.3333333333333333, \"#9c179e\"], [0.4444444444444444, \"#bd3786\"], [0.5555555555555556, \"#d8576b\"], [0.6666666666666666, \"#ed7953\"], [0.7777777777777778, \"#fb9f3a\"], [0.8888888888888888, \"#fdca26\"], [1.0, \"#f0f921\"]]}, \"colorway\": [\"#636efa\", \"#EF553B\", \"#00cc96\", \"#ab63fa\", \"#FFA15A\", \"#19d3f3\", \"#FF6692\", \"#B6E880\", \"#FF97FF\", \"#FECB52\"], \"font\": {\"color\": \"#2a3f5f\"}, \"geo\": {\"bgcolor\": \"white\", \"lakecolor\": \"white\", \"landcolor\": \"#E5ECF6\", \"showlakes\": true, \"showland\": true, \"subunitcolor\": \"white\"}, \"hoverlabel\": {\"align\": \"left\"}, \"hovermode\": \"closest\", \"mapbox\": {\"style\": \"light\"}, \"paper_bgcolor\": \"white\", \"plot_bgcolor\": \"#E5ECF6\", \"polar\": {\"angularaxis\": {\"gridcolor\": \"white\", \"linecolor\": \"white\", \"ticks\": \"\"}, \"bgcolor\": \"#E5ECF6\", \"radialaxis\": {\"gridcolor\": \"white\", \"linecolor\": \"white\", \"ticks\": \"\"}}, \"scene\": {\"xaxis\": {\"backgroundcolor\": \"#E5ECF6\", \"gridcolor\": \"white\", \"gridwidth\": 2, \"linecolor\": \"white\", \"showbackground\": true, \"ticks\": \"\", \"zerolinecolor\": \"white\"}, \"yaxis\": {\"backgroundcolor\": \"#E5ECF6\", \"gridcolor\": \"white\", \"gridwidth\": 2, \"linecolor\": \"white\", \"showbackground\": true, \"ticks\": \"\", \"zerolinecolor\": \"white\"}, \"zaxis\": {\"backgroundcolor\": \"#E5ECF6\", \"gridcolor\": \"white\", \"gridwidth\": 2, \"linecolor\": \"white\", \"showbackground\": true, \"ticks\": \"\", \"zerolinecolor\": \"white\"}}, \"shapedefaults\": {\"line\": {\"color\": \"#2a3f5f\"}}, \"ternary\": {\"aaxis\": {\"gridcolor\": \"white\", \"linecolor\": \"white\", \"ticks\": \"\"}, \"baxis\": {\"gridcolor\": \"white\", \"linecolor\": \"white\", \"ticks\": \"\"}, \"bgcolor\": \"#E5ECF6\", \"caxis\": {\"gridcolor\": \"white\", \"linecolor\": \"white\", \"ticks\": \"\"}}, \"title\": {\"x\": 0.05}, \"xaxis\": {\"automargin\": true, \"gridcolor\": \"white\", \"linecolor\": \"white\", \"ticks\": \"\", \"title\": {\"standoff\": 15}, \"zerolinecolor\": \"white\", \"zerolinewidth\": 2}, \"yaxis\": {\"automargin\": true, \"gridcolor\": \"white\", \"linecolor\": \"white\", \"ticks\": \"\", \"title\": {\"standoff\": 15}, \"zerolinecolor\": \"white\", \"zerolinewidth\": 2}}}},\n",
              "                        {\"responsive\": true}\n",
              "                    ).then(function(){\n",
              "                            \n",
              "var gd = document.getElementById('e07bcba9-532c-41cf-8941-6b8c91df5e3c');\n",
              "var x = new MutationObserver(function (mutations, observer) {{\n",
              "        var display = window.getComputedStyle(gd).display;\n",
              "        if (!display || display === 'none') {{\n",
              "            console.log([gd, 'removed!']);\n",
              "            Plotly.purge(gd);\n",
              "            observer.disconnect();\n",
              "        }}\n",
              "}});\n",
              "\n",
              "// Listen for the removal of the full notebook cells\n",
              "var notebookContainer = gd.closest('#notebook-container');\n",
              "if (notebookContainer) {{\n",
              "    x.observe(notebookContainer, {childList: true});\n",
              "}}\n",
              "\n",
              "// Listen for the clearing of the current output cell\n",
              "var outputEl = gd.closest('.output');\n",
              "if (outputEl) {{\n",
              "    x.observe(outputEl, {childList: true});\n",
              "}}\n",
              "\n",
              "                        })\n",
              "                };\n",
              "                \n",
              "            </script>\n",
              "        </div>\n",
              "</body>\n",
              "</html>"
            ]
          },
          "metadata": {
            "tags": []
          }
        },
        {
          "output_type": "stream",
          "text": [
            "Emoji Distribution for Mohan\n"
          ],
          "name": "stdout"
        },
        {
          "output_type": "display_data",
          "data": {
            "text/html": [
              "<html>\n",
              "<head><meta charset=\"utf-8\" /></head>\n",
              "<body>\n",
              "    <div>\n",
              "            <script src=\"https://cdnjs.cloudflare.com/ajax/libs/mathjax/2.7.5/MathJax.js?config=TeX-AMS-MML_SVG\"></script><script type=\"text/javascript\">if (window.MathJax) {MathJax.Hub.Config({SVG: {font: \"STIX-Web\"}});}</script>\n",
              "                <script type=\"text/javascript\">window.PlotlyConfig = {MathJaxConfig: 'local'};</script>\n",
              "        <script src=\"https://cdn.plot.ly/plotly-latest.min.js\"></script>    \n",
              "            <div id=\"7209dcdc-fe98-4d37-8c3a-2c85ee493f12\" class=\"plotly-graph-div\" style=\"height:525px; width:100%;\"></div>\n",
              "            <script type=\"text/javascript\">\n",
              "                \n",
              "                    window.PLOTLYENV=window.PLOTLYENV || {};\n",
              "                    \n",
              "                if (document.getElementById(\"7209dcdc-fe98-4d37-8c3a-2c85ee493f12\")) {\n",
              "                    Plotly.newPlot(\n",
              "                        '7209dcdc-fe98-4d37-8c3a-2c85ee493f12',\n",
              "                        [{\"domain\": {\"x\": [0.0, 1.0], \"y\": [0.0, 1.0]}, \"hoverlabel\": {\"namelength\": 0}, \"hovertemplate\": \"emoji=%{label}<br>count=%{value}\", \"labels\": [\"\\ud83d\\ude4f\", \"\\ud83d\\ude02\"], \"legendgroup\": \"\", \"name\": \"\", \"showlegend\": true, \"textinfo\": \"percent+label\", \"textposition\": \"inside\", \"type\": \"pie\", \"values\": [1, 1]}],\n",
              "                        {\"legend\": {\"tracegroupgap\": 0}, \"margin\": {\"t\": 60}, \"template\": {\"data\": {\"bar\": [{\"error_x\": {\"color\": \"#2a3f5f\"}, \"error_y\": {\"color\": \"#2a3f5f\"}, \"marker\": {\"line\": {\"color\": \"#E5ECF6\", \"width\": 0.5}}, \"type\": \"bar\"}], \"barpolar\": [{\"marker\": {\"line\": {\"color\": \"#E5ECF6\", \"width\": 0.5}}, \"type\": \"barpolar\"}], \"carpet\": [{\"aaxis\": {\"endlinecolor\": \"#2a3f5f\", \"gridcolor\": \"white\", \"linecolor\": \"white\", \"minorgridcolor\": \"white\", \"startlinecolor\": \"#2a3f5f\"}, \"baxis\": {\"endlinecolor\": \"#2a3f5f\", \"gridcolor\": \"white\", \"linecolor\": \"white\", \"minorgridcolor\": \"white\", \"startlinecolor\": \"#2a3f5f\"}, \"type\": \"carpet\"}], \"choropleth\": [{\"colorbar\": {\"outlinewidth\": 0, \"ticks\": \"\"}, \"type\": \"choropleth\"}], \"contour\": [{\"colorbar\": {\"outlinewidth\": 0, \"ticks\": \"\"}, \"colorscale\": [[0.0, \"#0d0887\"], [0.1111111111111111, \"#46039f\"], [0.2222222222222222, \"#7201a8\"], [0.3333333333333333, \"#9c179e\"], [0.4444444444444444, \"#bd3786\"], [0.5555555555555556, \"#d8576b\"], [0.6666666666666666, \"#ed7953\"], [0.7777777777777778, \"#fb9f3a\"], [0.8888888888888888, \"#fdca26\"], [1.0, \"#f0f921\"]], \"type\": \"contour\"}], \"contourcarpet\": [{\"colorbar\": {\"outlinewidth\": 0, \"ticks\": \"\"}, \"type\": \"contourcarpet\"}], \"heatmap\": [{\"colorbar\": {\"outlinewidth\": 0, \"ticks\": \"\"}, \"colorscale\": [[0.0, \"#0d0887\"], [0.1111111111111111, \"#46039f\"], [0.2222222222222222, \"#7201a8\"], [0.3333333333333333, \"#9c179e\"], [0.4444444444444444, \"#bd3786\"], [0.5555555555555556, \"#d8576b\"], [0.6666666666666666, \"#ed7953\"], [0.7777777777777778, \"#fb9f3a\"], [0.8888888888888888, \"#fdca26\"], [1.0, \"#f0f921\"]], \"type\": \"heatmap\"}], \"heatmapgl\": [{\"colorbar\": {\"outlinewidth\": 0, \"ticks\": \"\"}, \"colorscale\": [[0.0, \"#0d0887\"], [0.1111111111111111, \"#46039f\"], [0.2222222222222222, \"#7201a8\"], [0.3333333333333333, \"#9c179e\"], [0.4444444444444444, \"#bd3786\"], [0.5555555555555556, \"#d8576b\"], [0.6666666666666666, \"#ed7953\"], [0.7777777777777778, \"#fb9f3a\"], [0.8888888888888888, \"#fdca26\"], [1.0, \"#f0f921\"]], \"type\": \"heatmapgl\"}], \"histogram\": [{\"marker\": {\"colorbar\": {\"outlinewidth\": 0, \"ticks\": \"\"}}, \"type\": \"histogram\"}], \"histogram2d\": [{\"colorbar\": {\"outlinewidth\": 0, \"ticks\": \"\"}, \"colorscale\": [[0.0, \"#0d0887\"], [0.1111111111111111, \"#46039f\"], [0.2222222222222222, \"#7201a8\"], [0.3333333333333333, \"#9c179e\"], [0.4444444444444444, \"#bd3786\"], [0.5555555555555556, \"#d8576b\"], [0.6666666666666666, \"#ed7953\"], [0.7777777777777778, \"#fb9f3a\"], [0.8888888888888888, \"#fdca26\"], [1.0, \"#f0f921\"]], \"type\": \"histogram2d\"}], \"histogram2dcontour\": [{\"colorbar\": {\"outlinewidth\": 0, \"ticks\": \"\"}, \"colorscale\": [[0.0, \"#0d0887\"], [0.1111111111111111, \"#46039f\"], [0.2222222222222222, \"#7201a8\"], [0.3333333333333333, \"#9c179e\"], [0.4444444444444444, \"#bd3786\"], [0.5555555555555556, \"#d8576b\"], [0.6666666666666666, \"#ed7953\"], [0.7777777777777778, \"#fb9f3a\"], [0.8888888888888888, \"#fdca26\"], [1.0, \"#f0f921\"]], \"type\": \"histogram2dcontour\"}], \"mesh3d\": [{\"colorbar\": {\"outlinewidth\": 0, \"ticks\": \"\"}, \"type\": \"mesh3d\"}], \"parcoords\": [{\"line\": {\"colorbar\": {\"outlinewidth\": 0, \"ticks\": \"\"}}, \"type\": \"parcoords\"}], \"pie\": [{\"automargin\": true, \"type\": \"pie\"}], \"scatter\": [{\"marker\": {\"colorbar\": {\"outlinewidth\": 0, \"ticks\": \"\"}}, \"type\": \"scatter\"}], \"scatter3d\": [{\"line\": {\"colorbar\": {\"outlinewidth\": 0, \"ticks\": \"\"}}, \"marker\": {\"colorbar\": {\"outlinewidth\": 0, \"ticks\": \"\"}}, \"type\": \"scatter3d\"}], \"scattercarpet\": [{\"marker\": {\"colorbar\": {\"outlinewidth\": 0, \"ticks\": \"\"}}, \"type\": \"scattercarpet\"}], \"scattergeo\": [{\"marker\": {\"colorbar\": {\"outlinewidth\": 0, \"ticks\": \"\"}}, \"type\": \"scattergeo\"}], \"scattergl\": [{\"marker\": {\"colorbar\": {\"outlinewidth\": 0, \"ticks\": \"\"}}, \"type\": \"scattergl\"}], \"scattermapbox\": [{\"marker\": {\"colorbar\": {\"outlinewidth\": 0, \"ticks\": \"\"}}, \"type\": \"scattermapbox\"}], \"scatterpolar\": [{\"marker\": {\"colorbar\": {\"outlinewidth\": 0, \"ticks\": \"\"}}, \"type\": \"scatterpolar\"}], \"scatterpolargl\": [{\"marker\": {\"colorbar\": {\"outlinewidth\": 0, \"ticks\": \"\"}}, \"type\": \"scatterpolargl\"}], \"scatterternary\": [{\"marker\": {\"colorbar\": {\"outlinewidth\": 0, \"ticks\": \"\"}}, \"type\": \"scatterternary\"}], \"surface\": [{\"colorbar\": {\"outlinewidth\": 0, \"ticks\": \"\"}, \"colorscale\": [[0.0, \"#0d0887\"], [0.1111111111111111, \"#46039f\"], [0.2222222222222222, \"#7201a8\"], [0.3333333333333333, \"#9c179e\"], [0.4444444444444444, \"#bd3786\"], [0.5555555555555556, \"#d8576b\"], [0.6666666666666666, \"#ed7953\"], [0.7777777777777778, \"#fb9f3a\"], [0.8888888888888888, \"#fdca26\"], [1.0, \"#f0f921\"]], \"type\": \"surface\"}], \"table\": [{\"cells\": {\"fill\": {\"color\": \"#EBF0F8\"}, \"line\": {\"color\": \"white\"}}, \"header\": {\"fill\": {\"color\": \"#C8D4E3\"}, \"line\": {\"color\": \"white\"}}, \"type\": \"table\"}]}, \"layout\": {\"annotationdefaults\": {\"arrowcolor\": \"#2a3f5f\", \"arrowhead\": 0, \"arrowwidth\": 1}, \"coloraxis\": {\"colorbar\": {\"outlinewidth\": 0, \"ticks\": \"\"}}, \"colorscale\": {\"diverging\": [[0, \"#8e0152\"], [0.1, \"#c51b7d\"], [0.2, \"#de77ae\"], [0.3, \"#f1b6da\"], [0.4, \"#fde0ef\"], [0.5, \"#f7f7f7\"], [0.6, \"#e6f5d0\"], [0.7, \"#b8e186\"], [0.8, \"#7fbc41\"], [0.9, \"#4d9221\"], [1, \"#276419\"]], \"sequential\": [[0.0, \"#0d0887\"], [0.1111111111111111, \"#46039f\"], [0.2222222222222222, \"#7201a8\"], [0.3333333333333333, \"#9c179e\"], [0.4444444444444444, \"#bd3786\"], [0.5555555555555556, \"#d8576b\"], [0.6666666666666666, \"#ed7953\"], [0.7777777777777778, \"#fb9f3a\"], [0.8888888888888888, \"#fdca26\"], [1.0, \"#f0f921\"]], \"sequentialminus\": [[0.0, \"#0d0887\"], [0.1111111111111111, \"#46039f\"], [0.2222222222222222, \"#7201a8\"], [0.3333333333333333, \"#9c179e\"], [0.4444444444444444, \"#bd3786\"], [0.5555555555555556, \"#d8576b\"], [0.6666666666666666, \"#ed7953\"], [0.7777777777777778, \"#fb9f3a\"], [0.8888888888888888, \"#fdca26\"], [1.0, \"#f0f921\"]]}, \"colorway\": [\"#636efa\", \"#EF553B\", \"#00cc96\", \"#ab63fa\", \"#FFA15A\", \"#19d3f3\", \"#FF6692\", \"#B6E880\", \"#FF97FF\", \"#FECB52\"], \"font\": {\"color\": \"#2a3f5f\"}, \"geo\": {\"bgcolor\": \"white\", \"lakecolor\": \"white\", \"landcolor\": \"#E5ECF6\", \"showlakes\": true, \"showland\": true, \"subunitcolor\": \"white\"}, \"hoverlabel\": {\"align\": \"left\"}, \"hovermode\": \"closest\", \"mapbox\": {\"style\": \"light\"}, \"paper_bgcolor\": \"white\", \"plot_bgcolor\": \"#E5ECF6\", \"polar\": {\"angularaxis\": {\"gridcolor\": \"white\", \"linecolor\": \"white\", \"ticks\": \"\"}, \"bgcolor\": \"#E5ECF6\", \"radialaxis\": {\"gridcolor\": \"white\", \"linecolor\": \"white\", \"ticks\": \"\"}}, \"scene\": {\"xaxis\": {\"backgroundcolor\": \"#E5ECF6\", \"gridcolor\": \"white\", \"gridwidth\": 2, \"linecolor\": \"white\", \"showbackground\": true, \"ticks\": \"\", \"zerolinecolor\": \"white\"}, \"yaxis\": {\"backgroundcolor\": \"#E5ECF6\", \"gridcolor\": \"white\", \"gridwidth\": 2, \"linecolor\": \"white\", \"showbackground\": true, \"ticks\": \"\", \"zerolinecolor\": \"white\"}, \"zaxis\": {\"backgroundcolor\": \"#E5ECF6\", \"gridcolor\": \"white\", \"gridwidth\": 2, \"linecolor\": \"white\", \"showbackground\": true, \"ticks\": \"\", \"zerolinecolor\": \"white\"}}, \"shapedefaults\": {\"line\": {\"color\": \"#2a3f5f\"}}, \"ternary\": {\"aaxis\": {\"gridcolor\": \"white\", \"linecolor\": \"white\", \"ticks\": \"\"}, \"baxis\": {\"gridcolor\": \"white\", \"linecolor\": \"white\", \"ticks\": \"\"}, \"bgcolor\": \"#E5ECF6\", \"caxis\": {\"gridcolor\": \"white\", \"linecolor\": \"white\", \"ticks\": \"\"}}, \"title\": {\"x\": 0.05}, \"xaxis\": {\"automargin\": true, \"gridcolor\": \"white\", \"linecolor\": \"white\", \"ticks\": \"\", \"title\": {\"standoff\": 15}, \"zerolinecolor\": \"white\", \"zerolinewidth\": 2}, \"yaxis\": {\"automargin\": true, \"gridcolor\": \"white\", \"linecolor\": \"white\", \"ticks\": \"\", \"title\": {\"standoff\": 15}, \"zerolinecolor\": \"white\", \"zerolinewidth\": 2}}}},\n",
              "                        {\"responsive\": true}\n",
              "                    ).then(function(){\n",
              "                            \n",
              "var gd = document.getElementById('7209dcdc-fe98-4d37-8c3a-2c85ee493f12');\n",
              "var x = new MutationObserver(function (mutations, observer) {{\n",
              "        var display = window.getComputedStyle(gd).display;\n",
              "        if (!display || display === 'none') {{\n",
              "            console.log([gd, 'removed!']);\n",
              "            Plotly.purge(gd);\n",
              "            observer.disconnect();\n",
              "        }}\n",
              "}});\n",
              "\n",
              "// Listen for the removal of the full notebook cells\n",
              "var notebookContainer = gd.closest('#notebook-container');\n",
              "if (notebookContainer) {{\n",
              "    x.observe(notebookContainer, {childList: true});\n",
              "}}\n",
              "\n",
              "// Listen for the clearing of the current output cell\n",
              "var outputEl = gd.closest('.output');\n",
              "if (outputEl) {{\n",
              "    x.observe(outputEl, {childList: true});\n",
              "}}\n",
              "\n",
              "                        })\n",
              "                };\n",
              "                \n",
              "            </script>\n",
              "        </div>\n",
              "</body>\n",
              "</html>"
            ]
          },
          "metadata": {
            "tags": []
          }
        }
      ]
    },
    {
      "cell_type": "markdown",
      "metadata": {
        "id": "DUyS4thpvXPw"
      },
      "source": [
        "# 3. Most active hour in whatsapps"
      ]
    },
    {
      "cell_type": "markdown",
      "metadata": {
        "id": "qmv8lzp6vXPw"
      },
      "source": [
        "In this analysis, it helps us to understand what is the hours where all the member is very active in WhatsApp. We will depend on two variable on is the number of messages and the hours. Then we will able to know when is the most active hours"
      ]
    },
    {
      "cell_type": "code",
      "metadata": {
        "id": "U4nsV7ZGvXPx",
        "colab": {
          "base_uri": "https://localhost:8080/"
        },
        "outputId": "d0df4fe7-43d8-4d30-aa61-5904b10359a7"
      },
      "source": [
        "#Copy a dataframe\n",
        "whatsapp_df3 = whatsapp_df.copy()\n",
        "\n",
        "whatsapp_df3['number_of_message'] = [1] * whatsapp_df3.shape[0]\n",
        "\n",
        "whatsapp_df3['hours'] = whatsapp_df3['datetime'].apply(lambda x: x.hour)\n",
        "\n",
        "time_df = whatsapp_df3.groupby('hours').count().reset_index().sort_values(by = 'hours')\n",
        "\n",
        "\n",
        "time_df\n",
        "print(time_df)\n",
        "\n",
        "\n"
      ],
      "execution_count": 29,
      "outputs": [
        {
          "output_type": "stream",
          "text": [
            "    hours  datetime  user  message  number_of_message\n",
            "0       0      1407  1407     1407               1407\n",
            "1       1       276   276      276                276\n",
            "2       2        54    54       54                 54\n",
            "3       3        93    93       93                 93\n",
            "4       4         5     5        5                  5\n",
            "5       5         9     9        9                  9\n",
            "6       6        27    27       27                 27\n",
            "7       7        81    81       81                 81\n",
            "8       8       247   247      247                247\n",
            "9       9      1000  1000     1000               1000\n",
            "10     10      1327  1327     1327               1327\n",
            "11     11      2125  2125     2125               2125\n",
            "12     12      2363  2363     2363               2363\n",
            "13     13      2102  2102     2102               2102\n",
            "14     14      1945  1945     1945               1945\n",
            "15     15      1883  1883     1883               1883\n",
            "16     16      2198  2198     2198               2198\n",
            "17     17      2822  2822     2822               2822\n",
            "18     18      2199  2199     2199               2199\n",
            "19     19      2855  2855     2855               2855\n",
            "20     20      2457  2457     2457               2457\n",
            "21     21      3140  3140     3140               3140\n",
            "22     22      3218  3218     3218               3218\n",
            "23     23      3781  3781     3781               3781\n"
          ],
          "name": "stdout"
        }
      ]
    },
    {
      "cell_type": "code",
      "metadata": {
        "id": "Q6e9v9ixvXPy",
        "colab": {
          "base_uri": "https://localhost:8080/",
          "height": 602
        },
        "outputId": "501daa35-c640-4635-b3a4-831003bfa212"
      },
      "source": [
        "#Create the formatting of the graph \n",
        "matplotlib.rcParams['font.size'] = 20\n",
        "matplotlib.rcParams['figure.figsize'] = (20, 8)\n",
        "\n",
        "\n",
        "# Using the seaborn style \n",
        "sns.set_style(\"darkgrid\")\n",
        "\n",
        "plt.title('Most active hour in whatsapps');\n",
        "sns.barplot(time_df.hours,time_df.number_of_message,data = time_df,dodge=False)\n",
        "\n",
        "\n",
        "\n",
        "\n"
      ],
      "execution_count": 32,
      "outputs": [
        {
          "output_type": "stream",
          "text": [
            "/usr/local/lib/python3.7/dist-packages/seaborn/_decorators.py:43: FutureWarning:\n",
            "\n",
            "Pass the following variables as keyword args: x, y. From version 0.12, the only valid positional argument will be `data`, and passing other arguments without an explicit keyword will result in an error or misinterpretation.\n",
            "\n"
          ],
          "name": "stderr"
        },
        {
          "output_type": "execute_result",
          "data": {
            "text/plain": [
              "<matplotlib.axes._subplots.AxesSubplot at 0x7f504991ffd0>"
            ]
          },
          "metadata": {
            "tags": []
          },
          "execution_count": 32
        },
        {
          "output_type": "display_data",
          "data": {
            "image/png": "[encoded data removed]",
            "text/plain": [
              "<Figure size 1440x576 with 1 Axes>"
            ]
          },
          "metadata": {
            "tags": []
          }
        }
      ]
    },
    {
      "cell_type": "markdown",
      "metadata": {
        "id": "4qOR3dIUvXPy"
      },
      "source": [
        "# 4. Which month have the highest messages and also the busiest month?\n"
      ]
    },
    {
      "cell_type": "markdown",
      "metadata": {
        "id": "qYDVGZr-vXPy"
      },
      "source": [
        "Here we hope to found out the month that we are busiest and we look in the amount of message is generated."
      ]
    },
    {
      "cell_type": "code",
      "metadata": {
        "id": "DuZesUdnvXPz",
        "colab": {
          "base_uri": "https://localhost:8080/"
        },
        "outputId": "b46c8299-a610-49b5-b75b-7f8e60818636"
      },
      "source": [
        "whatsapp_df4 = whatsapp_df.copy()\n",
        "whatsapp_df4['Number_of_messages'] = [1] * whatsapp_df4.shape[0]\n",
        "\n",
        "whatsapp_df4['month'] = whatsapp_df4['datetime'].apply(lambda x: x.month)  \n",
        "\n",
        "df_month = whatsapp_df4.groupby('month')['Number_of_messages'].count().sort_values(ascending = False).reset_index()\n",
        "print(df_month)\n"
      ],
      "execution_count": 35,
      "outputs": [
        {
          "output_type": "stream",
          "text": [
            "    month  Number_of_messages\n",
            "0       9                7972\n",
            "1       7                7257\n",
            "2       8                5113\n",
            "3       6                5042\n",
            "4      10                4004\n",
            "5       5                1747\n",
            "6       2                1364\n",
            "7       4                1304\n",
            "8      11                1193\n",
            "9       1                 902\n",
            "10      3                 871\n",
            "11     12                 845\n"
          ],
          "name": "stdout"
        }
      ]
    },
    {
      "cell_type": "code",
      "metadata": {
        "id": "uxYXtNVsvXPz",
        "colab": {
          "base_uri": "https://localhost:8080/",
          "height": 591
        },
        "outputId": "9e9dcc41-44e6-446b-c6d5-5586fcb9a465"
      },
      "source": [
        "#Formating\n",
        "sns.set_style(\"darkgrid\")\n",
        "  \n",
        "from pandas.compat._optional import import_optional_dependency\n",
        "\n",
        "#The background of the chart\n",
        "matplotlib.rcParams['font.size'] = 12\n",
        "matplotlib.rcParams['figure.figsize'] = (12, 9)\n",
        "matplotlib.rcParams['figure.facecolor'] = '#00000000'\n",
        "fig, ax = plt.subplots()\n",
        "\n",
        "#Creating a bar chart\n",
        "sns.barplot(x=df_month.month,y=df_month.Number_of_messages,data=df_month,dodge=False,)\n",
        "plt.title(\"Month that have the highest messages and the busiest month?\")"
      ],
      "execution_count": 38,
      "outputs": [
        {
          "output_type": "execute_result",
          "data": {
            "text/plain": [
              "Text(0.5, 1.0, 'Month that have the highest messages and the busiest month?')"
            ]
          },
          "metadata": {
            "tags": []
          },
          "execution_count": 38
        },
        {
          "output_type": "display_data",
          "data": {
            "image/png": "[encoded data removed]",
            "text/plain": [
              "<Figure size 864x648 with 1 Axes>"
            ]
          },
          "metadata": {
            "tags": [],
            "needs_background": "light"
          }
        }
      ]
    },
    {
      "cell_type": "markdown",
      "metadata": {
        "id": "EnwZnUcWvXP0"
      },
      "source": [
        "# 5.Determine which word or text did the user use the most?"
      ]
    },
    {
      "cell_type": "markdown",
      "metadata": {
        "id": "5O4n9NA-vXP0"
      },
      "source": [
        "In here we are going to use a word cloud to visual representation of word in the chat and determine which word is widely use by the user? The reason behide this  analysis is to understand the user behaviors. Why do we say so? Because if the word is repeating use we can say that the user will more likely to use the particular or text again in the other chat."
      ]
    },
    {
      "cell_type": "code",
      "metadata": {
        "id": "a8db3wPivXP0"
      },
      "source": [
        "whatsapp_df5 = whatsapp_df.copy()\n"
      ],
      "execution_count": 39,
      "outputs": []
    },
    {
      "cell_type": "code",
      "metadata": {
        "colab": {
          "base_uri": "https://localhost:8080/"
        },
        "id": "iG6U7E1Tkuiq",
        "outputId": "e6700923-c140-413d-f3f6-77042c9ffd66"
      },
      "source": [
        "!pip install -U spacy"
      ],
      "execution_count": 55,
      "outputs": [
        {
          "output_type": "stream",
          "text": [
            "Collecting spacy\n",
            "\u001b[?25l  Downloading https://files.pythonhosted.org/packages/c1/da/61f934c6ae177a291c77246ef91a78cab44a2d76f79e6892ca7b17571adf/spacy-3.1.0-cp37-cp37m-manylinux_2_17_x86_64.manylinux2014_x86_64.whl (6.4MB)\n",
            "\u001b[K     |████████████████████████████████| 6.4MB 4.2MB/s \n",
            "\u001b[?25hCollecting pathy>=0.3.5\n",
            "\u001b[?25l  Downloading https://files.pythonhosted.org/packages/65/ae/ecfa3e2dc267010fa320034be0eb3a8e683dc98dae7e70f92b41605b4d35/pathy-0.6.0-py3-none-any.whl (42kB)\n",
            "\u001b[K     |████████████████████████████████| 51kB 5.0MB/s \n",
            "\u001b[?25hCollecting pydantic!=1.8,!=1.8.1,<1.9.0,>=1.7.4\n",
            "\u001b[?25l  Downloading https://files.pythonhosted.org/packages/9f/f2/2d5425efe57f6c4e06cbe5e587c1fd16929dcf0eb90bd4d3d1e1c97d1151/pydantic-1.8.2-cp37-cp37m-manylinux2014_x86_64.whl (10.1MB)\n",
            "\u001b[K     |████████████████████████████████| 10.1MB 30.5MB/s \n",
            "\u001b[?25hRequirement already satisfied, skipping upgrade: tqdm<5.0.0,>=4.38.0 in /usr/local/lib/python3.7/dist-packages (from spacy) (4.41.1)\n",
            "Collecting catalogue<2.1.0,>=2.0.4\n",
            "  Downloading https://files.pythonhosted.org/packages/9c/10/dbc1203a4b1367c7b02fddf08cb2981d9aa3e688d398f587cea0ab9e3bec/catalogue-2.0.4-py3-none-any.whl\n",
            "Requirement already satisfied, skipping upgrade: numpy>=1.15.0 in /usr/local/lib/python3.7/dist-packages (from spacy) (1.21.0)\n",
            "Requirement already satisfied, skipping upgrade: cymem<2.1.0,>=2.0.2 in /usr/local/lib/python3.7/dist-packages (from spacy) (2.0.5)\n",
            "Requirement already satisfied, skipping upgrade: preshed<3.1.0,>=3.0.2 in /usr/local/lib/python3.7/dist-packages (from spacy) (3.0.5)\n",
            "Collecting srsly<3.0.0,>=2.4.1\n",
            "\u001b[?25l  Downloading https://files.pythonhosted.org/packages/c3/84/dfdfc9f6f04f6b88207d96d9520b911e5fec0c67ff47a0dea31ab5429a1e/srsly-2.4.1-cp37-cp37m-manylinux2014_x86_64.whl (456kB)\n",
            "\u001b[K     |████████████████████████████████| 460kB 43.8MB/s \n",
            "\u001b[?25hCollecting spacy-legacy<3.1.0,>=3.0.7\n",
            "  Downloading https://files.pythonhosted.org/packages/d3/e8/1bc00eeff3faf1c50bde941f88a491a5c1128debb75dd8c913401e71585c/spacy_legacy-3.0.8-py2.py3-none-any.whl\n",
            "Requirement already satisfied, skipping upgrade: packaging>=20.0 in /usr/local/lib/python3.7/dist-packages (from spacy) (20.9)\n",
            "Requirement already satisfied, skipping upgrade: wasabi<1.1.0,>=0.8.1 in /usr/local/lib/python3.7/dist-packages (from spacy) (0.8.2)\n",
            "Requirement already satisfied, skipping upgrade: jinja2 in /usr/local/lib/python3.7/dist-packages (from spacy) (2.11.3)\n",
            "Requirement already satisfied, skipping upgrade: typing-extensions<4.0.0.0,>=3.7.4; python_version < \"3.8\" in /usr/local/lib/python3.7/dist-packages (from spacy) (3.7.4.3)\n",
            "Collecting typer<0.4.0,>=0.3.0\n",
            "  Downloading https://files.pythonhosted.org/packages/90/34/d138832f6945432c638f32137e6c79a3b682f06a63c488dcfaca6b166c64/typer-0.3.2-py3-none-any.whl\n",
            "Requirement already satisfied, skipping upgrade: setuptools in /usr/local/lib/python3.7/dist-packages (from spacy) (57.0.0)\n",
            "Requirement already satisfied, skipping upgrade: murmurhash<1.1.0,>=0.28.0 in /usr/local/lib/python3.7/dist-packages (from spacy) (1.0.5)\n",
            "Requirement already satisfied, skipping upgrade: blis<0.8.0,>=0.4.0 in /usr/local/lib/python3.7/dist-packages (from spacy) (0.4.1)\n",
            "Collecting thinc<8.1.0,>=8.0.7\n",
            "\u001b[?25l  Downloading https://files.pythonhosted.org/packages/7a/6e/bd2da3d71ab2d175248949ac106fee09ae13bfaca39002eabdbd908b7440/thinc-8.0.7-cp37-cp37m-manylinux_2_17_x86_64.manylinux2014_x86_64.whl (619kB)\n",
            "\u001b[K     |████████████████████████████████| 624kB 52.7MB/s \n",
            "\u001b[?25hRequirement already satisfied, skipping upgrade: requests<3.0.0,>=2.13.0 in /usr/local/lib/python3.7/dist-packages (from spacy) (2.23.0)\n",
            "Requirement already satisfied, skipping upgrade: smart-open<6.0.0,>=5.0.0 in /usr/local/lib/python3.7/dist-packages (from pathy>=0.3.5->spacy) (5.1.0)\n",
            "Requirement already satisfied, skipping upgrade: zipp>=0.5; python_version < \"3.8\" in /usr/local/lib/python3.7/dist-packages (from catalogue<2.1.0,>=2.0.4->spacy) (3.4.1)\n",
            "Requirement already satisfied, skipping upgrade: pyparsing>=2.0.2 in /usr/local/lib/python3.7/dist-packages (from packaging>=20.0->spacy) (2.4.7)\n",
            "Requirement already satisfied, skipping upgrade: MarkupSafe>=0.23 in /usr/local/lib/python3.7/dist-packages (from jinja2->spacy) (2.0.1)\n",
            "Requirement already satisfied, skipping upgrade: click<7.2.0,>=7.1.1 in /usr/local/lib/python3.7/dist-packages (from typer<0.4.0,>=0.3.0->spacy) (7.1.2)\n",
            "Requirement already satisfied, skipping upgrade: certifi>=2017.4.17 in /usr/local/lib/python3.7/dist-packages (from requests<3.0.0,>=2.13.0->spacy) (2021.5.30)\n",
            "Requirement already satisfied, skipping upgrade: idna<3,>=2.5 in /usr/local/lib/python3.7/dist-packages (from requests<3.0.0,>=2.13.0->spacy) (2.10)\n",
            "Requirement already satisfied, skipping upgrade: urllib3!=1.25.0,!=1.25.1,<1.26,>=1.21.1 in /usr/local/lib/python3.7/dist-packages (from requests<3.0.0,>=2.13.0->spacy) (1.24.3)\n",
            "Requirement already satisfied, skipping upgrade: chardet<4,>=3.0.2 in /usr/local/lib/python3.7/dist-packages (from requests<3.0.0,>=2.13.0->spacy) (3.0.4)\n",
            "Installing collected packages: typer, pathy, pydantic, catalogue, srsly, spacy-legacy, thinc, spacy\n",
            "  Found existing installation: catalogue 1.0.0\n",
            "    Uninstalling catalogue-1.0.0:\n",
            "      Successfully uninstalled catalogue-1.0.0\n",
            "  Found existing installation: srsly 1.0.5\n",
            "    Uninstalling srsly-1.0.5:\n",
            "      Successfully uninstalled srsly-1.0.5\n",
            "  Found existing installation: thinc 7.4.0\n",
            "    Uninstalling thinc-7.4.0:\n",
            "      Successfully uninstalled thinc-7.4.0\n",
            "  Found existing installation: spacy 2.2.4\n",
            "    Uninstalling spacy-2.2.4:\n",
            "      Successfully uninstalled spacy-2.2.4\n",
            "Successfully installed catalogue-2.0.4 pathy-0.6.0 pydantic-1.8.2 spacy-3.1.0 spacy-legacy-3.0.8 srsly-2.4.1 thinc-8.0.7 typer-0.3.2\n"
          ],
          "name": "stdout"
        }
      ]
    },
    {
      "cell_type": "code",
      "metadata": {
        "colab": {
          "base_uri": "https://localhost:8080/"
        },
        "id": "3VpFqFUNlHra",
        "outputId": "de3dbe0b-0ff4-4ebf-b394-984122d30bf7"
      },
      "source": [
        "!python -m spacy download en_core_web_sm"
      ],
      "execution_count": 57,
      "outputs": [
        {
          "output_type": "stream",
          "text": [
            "2021-07-13 06:36:12.471290: I tensorflow/stream_executor/platform/default/dso_loader.cc:53] Successfully opened dynamic library libcudart.so.11.0\n",
            "Collecting en-core-web-sm==3.1.0\n",
            "\u001b[?25l  Downloading https://github.com/explosion/spacy-models/releases/download/en_core_web_sm-3.1.0/en_core_web_sm-3.1.0-py3-none-any.whl (13.6MB)\n",
            "\u001b[K     |████████████████████████████████| 13.6MB 218kB/s \n",
            "\u001b[?25hRequirement already satisfied: spacy<3.2.0,>=3.1.0 in /usr/local/lib/python3.7/dist-packages (from en-core-web-sm==3.1.0) (3.1.0)\n",
            "Requirement already satisfied: thinc<8.1.0,>=8.0.7 in /usr/local/lib/python3.7/dist-packages (from spacy<3.2.0,>=3.1.0->en-core-web-sm==3.1.0) (8.0.7)\n",
            "Requirement already satisfied: setuptools in /usr/local/lib/python3.7/dist-packages (from spacy<3.2.0,>=3.1.0->en-core-web-sm==3.1.0) (57.0.0)\n",
            "Requirement already satisfied: tqdm<5.0.0,>=4.38.0 in /usr/local/lib/python3.7/dist-packages (from spacy<3.2.0,>=3.1.0->en-core-web-sm==3.1.0) (4.41.1)\n",
            "Requirement already satisfied: jinja2 in /usr/local/lib/python3.7/dist-packages (from spacy<3.2.0,>=3.1.0->en-core-web-sm==3.1.0) (2.11.3)\n",
            "Requirement already satisfied: typer<0.4.0,>=0.3.0 in /usr/local/lib/python3.7/dist-packages (from spacy<3.2.0,>=3.1.0->en-core-web-sm==3.1.0) (0.3.2)\n",
            "Requirement already satisfied: blis<0.8.0,>=0.4.0 in /usr/local/lib/python3.7/dist-packages (from spacy<3.2.0,>=3.1.0->en-core-web-sm==3.1.0) (0.4.1)\n",
            "Requirement already satisfied: requests<3.0.0,>=2.13.0 in /usr/local/lib/python3.7/dist-packages (from spacy<3.2.0,>=3.1.0->en-core-web-sm==3.1.0) (2.23.0)\n",
            "Requirement already satisfied: pydantic!=1.8,!=1.8.1,<1.9.0,>=1.7.4 in /usr/local/lib/python3.7/dist-packages (from spacy<3.2.0,>=3.1.0->en-core-web-sm==3.1.0) (1.8.2)\n",
            "Requirement already satisfied: murmurhash<1.1.0,>=0.28.0 in /usr/local/lib/python3.7/dist-packages (from spacy<3.2.0,>=3.1.0->en-core-web-sm==3.1.0) (1.0.5)\n",
            "Requirement already satisfied: typing-extensions<4.0.0.0,>=3.7.4; python_version < \"3.8\" in /usr/local/lib/python3.7/dist-packages (from spacy<3.2.0,>=3.1.0->en-core-web-sm==3.1.0) (3.7.4.3)\n",
            "Requirement already satisfied: spacy-legacy<3.1.0,>=3.0.7 in /usr/local/lib/python3.7/dist-packages (from spacy<3.2.0,>=3.1.0->en-core-web-sm==3.1.0) (3.0.8)\n",
            "Requirement already satisfied: srsly<3.0.0,>=2.4.1 in /usr/local/lib/python3.7/dist-packages (from spacy<3.2.0,>=3.1.0->en-core-web-sm==3.1.0) (2.4.1)\n",
            "Requirement already satisfied: wasabi<1.1.0,>=0.8.1 in /usr/local/lib/python3.7/dist-packages (from spacy<3.2.0,>=3.1.0->en-core-web-sm==3.1.0) (0.8.2)\n",
            "Requirement already satisfied: cymem<2.1.0,>=2.0.2 in /usr/local/lib/python3.7/dist-packages (from spacy<3.2.0,>=3.1.0->en-core-web-sm==3.1.0) (2.0.5)\n",
            "Requirement already satisfied: catalogue<2.1.0,>=2.0.4 in /usr/local/lib/python3.7/dist-packages (from spacy<3.2.0,>=3.1.0->en-core-web-sm==3.1.0) (2.0.4)\n",
            "Requirement already satisfied: numpy>=1.15.0 in /usr/local/lib/python3.7/dist-packages (from spacy<3.2.0,>=3.1.0->en-core-web-sm==3.1.0) (1.21.0)\n",
            "Requirement already satisfied: pathy>=0.3.5 in /usr/local/lib/python3.7/dist-packages (from spacy<3.2.0,>=3.1.0->en-core-web-sm==3.1.0) (0.6.0)\n",
            "Requirement already satisfied: packaging>=20.0 in /usr/local/lib/python3.7/dist-packages (from spacy<3.2.0,>=3.1.0->en-core-web-sm==3.1.0) (20.9)\n",
            "Requirement already satisfied: preshed<3.1.0,>=3.0.2 in /usr/local/lib/python3.7/dist-packages (from spacy<3.2.0,>=3.1.0->en-core-web-sm==3.1.0) (3.0.5)\n",
            "Requirement already satisfied: MarkupSafe>=0.23 in /usr/local/lib/python3.7/dist-packages (from jinja2->spacy<3.2.0,>=3.1.0->en-core-web-sm==3.1.0) (2.0.1)\n",
            "Requirement already satisfied: click<7.2.0,>=7.1.1 in /usr/local/lib/python3.7/dist-packages (from typer<0.4.0,>=0.3.0->spacy<3.2.0,>=3.1.0->en-core-web-sm==3.1.0) (7.1.2)\n",
            "Requirement already satisfied: idna<3,>=2.5 in /usr/local/lib/python3.7/dist-packages (from requests<3.0.0,>=2.13.0->spacy<3.2.0,>=3.1.0->en-core-web-sm==3.1.0) (2.10)\n",
            "Requirement already satisfied: urllib3!=1.25.0,!=1.25.1,<1.26,>=1.21.1 in /usr/local/lib/python3.7/dist-packages (from requests<3.0.0,>=2.13.0->spacy<3.2.0,>=3.1.0->en-core-web-sm==3.1.0) (1.24.3)\n",
            "Requirement already satisfied: chardet<4,>=3.0.2 in /usr/local/lib/python3.7/dist-packages (from requests<3.0.0,>=2.13.0->spacy<3.2.0,>=3.1.0->en-core-web-sm==3.1.0) (3.0.4)\n",
            "Requirement already satisfied: certifi>=2017.4.17 in /usr/local/lib/python3.7/dist-packages (from requests<3.0.0,>=2.13.0->spacy<3.2.0,>=3.1.0->en-core-web-sm==3.1.0) (2021.5.30)\n",
            "Requirement already satisfied: zipp>=0.5; python_version < \"3.8\" in /usr/local/lib/python3.7/dist-packages (from catalogue<2.1.0,>=2.0.4->spacy<3.2.0,>=3.1.0->en-core-web-sm==3.1.0) (3.4.1)\n",
            "Requirement already satisfied: smart-open<6.0.0,>=5.0.0 in /usr/local/lib/python3.7/dist-packages (from pathy>=0.3.5->spacy<3.2.0,>=3.1.0->en-core-web-sm==3.1.0) (5.1.0)\n",
            "Requirement already satisfied: pyparsing>=2.0.2 in /usr/local/lib/python3.7/dist-packages (from packaging>=20.0->spacy<3.2.0,>=3.1.0->en-core-web-sm==3.1.0) (2.4.7)\n",
            "Installing collected packages: en-core-web-sm\n",
            "  Found existing installation: en-core-web-sm 2.2.5\n",
            "    Uninstalling en-core-web-sm-2.2.5:\n",
            "      Successfully uninstalled en-core-web-sm-2.2.5\n",
            "Successfully installed en-core-web-sm-3.1.0\n",
            "\u001b[38;5;2m✔ Download and installation successful\u001b[0m\n",
            "You can now load the package via spacy.load('en_core_web_sm')\n"
          ],
          "name": "stdout"
        }
      ]
    },
    {
      "cell_type": "code",
      "metadata": {
        "id": "ftATIfTDkzWX"
      },
      "source": [
        "import spacy\n",
        "sp = spacy.load('en_core_web_sm')\n",
        "\n",
        "all_stopwords = sp.Defaults.stop_words\n",
        "all_stopwords.add(\"u\")\n",
        "all_stopwords.add(\"https\")\n",
        "all_stopwords.add('?')\n",
        "all_stopwords.add(',')\n",
        "all_stopwords.add('...')\n",
        "all_stopwords.add('I')\n",
        "all_stopwords.add(':')\n",
        "all_stopwords.add('@')\n",
        "all_stopwords.add('!')\n",
        "all_stopwords.add('.')\n"
      ],
      "execution_count": 68,
      "outputs": []
    },
    {
      "cell_type": "code",
      "metadata": {
        "id": "e0Dog38nlgkG"
      },
      "source": [
        "from nltk.tokenize import word_tokenize"
      ],
      "execution_count": 69,
      "outputs": []
    },
    {
      "cell_type": "code",
      "metadata": {
        "colab": {
          "base_uri": "https://localhost:8080/"
        },
        "id": "v07RyIPvl-mB",
        "outputId": "843e64f2-0551-4e53-ddf4-febcf501c9d1"
      },
      "source": [
        "import nltk\n",
        "nltk.download('punkt')"
      ],
      "execution_count": 70,
      "outputs": [
        {
          "output_type": "stream",
          "text": [
            "[nltk_data] Downloading package punkt to /root/nltk_data...\n",
            "[nltk_data]   Package punkt is already up-to-date!\n"
          ],
          "name": "stdout"
        },
        {
          "output_type": "execute_result",
          "data": {
            "text/plain": [
              "True"
            ]
          },
          "metadata": {
            "tags": []
          },
          "execution_count": 70
        }
      ]
    },
    {
      "cell_type": "code",
      "metadata": {
        "id": "q3GebnTskoSa"
      },
      "source": [
        "text= \" \".join(review for review in whatsapp_df5.message)\n",
        "text_tokens = word_tokenize(text)\n",
        "tokens_without_sw = [word for word in text_tokens if not word in all_stopwords]\n",
        "def word_count(str):\n",
        "    counts = dict()\n",
        "\n",
        "\n",
        "    for word in str:\n",
        "        if word in counts:\n",
        "            counts[word] += 1\n",
        "        else:\n",
        "            counts[word] = 1\n",
        "\n",
        "    return counts"
      ],
      "execution_count": 71,
      "outputs": []
    },
    {
      "cell_type": "code",
      "metadata": {
        "id": "-FiLIZDRmFFK"
      },
      "source": [
        "ct=word_count(tokens_without_sw)"
      ],
      "execution_count": 72,
      "outputs": []
    },
    {
      "cell_type": "code",
      "metadata": {
        "colab": {
          "base_uri": "https://localhost:8080/"
        },
        "id": "NM6JqvIimCD_",
        "outputId": "e4d0f40d-45f2-4d83-95dd-1d9591786586"
      },
      "source": [
        "dict(sorted(ct.items(), key=lambda item: -item[1]))"
      ],
      "execution_count": 73,
      "outputs": [
        {
          "output_type": "execute_result",
          "data": {
            "text/plain": [
              "{'lol': 974,\n",
              " 'lo': 965,\n",
              " 'ra': 794,\n",
              " 'xD': 658,\n",
              " 'kada': 633,\n",
              " '😂': 621,\n",
              " 'ki': 560,\n",
              " 'like': 558,\n",
              " 'yeah': 463,\n",
              " 'think': 456,\n",
              " 'good': 450,\n",
              " 'kuda': 448,\n",
              " '2': 421,\n",
              " 'anta': 396,\n",
              " 'time': 352,\n",
              " 'ani': 327,\n",
              " '3': 321,\n",
              " 'ga': 316,\n",
              " 'know': 313,\n",
              " 'r': 311,\n",
              " 'No': 297,\n",
              " 'nan': 297,\n",
              " '😂😂': 296,\n",
              " 'Lol': 289,\n",
              " 'year': 287,\n",
              " 'match': 284,\n",
              " 'damn': 275,\n",
              " 'This': 274,\n",
              " 'got': 274,\n",
              " 'em': 265,\n",
              " 'message': 262,\n",
              " 'nice': 261,\n",
              " '1': 257,\n",
              " 'team': 257,\n",
              " 'deleted': 252,\n",
              " '``': 249,\n",
              " 'oh': 249,\n",
              " 'city': 240,\n",
              " 'e': 239,\n",
              " 'better': 231,\n",
              " 'dont': 223,\n",
              " 'right': 215,\n",
              " 'ur': 210,\n",
              " 'undi': 209,\n",
              " 'Ha': 202,\n",
              " 'U': 202,\n",
              " '4': 199,\n",
              " '916303364300': 198,\n",
              " 'Yes': 196,\n",
              " 'test': 196,\n",
              " 'ante': 194,\n",
              " 'yes': 193,\n",
              " '(': 193,\n",
              " ')': 191,\n",
              " 'Haa': 191,\n",
              " 'srh': 186,\n",
              " 'rcb': 186,\n",
              " 'It': 182,\n",
              " 'Oh': 180,\n",
              " 'na': 178,\n",
              " 'anukunta': 178,\n",
              " 'thing': 177,\n",
              " 'people': 176,\n",
              " '>': 175,\n",
              " 'best': 174,\n",
              " '5': 172,\n",
              " 'inka': 171,\n",
              " 'wtf': 170,\n",
              " 'ig': 170,\n",
              " 'guys': 167,\n",
              " 'want': 166,\n",
              " 'ok': 165,\n",
              " '916900400923': 164,\n",
              " 'start': 163,\n",
              " 'shd': 163,\n",
              " 'bro': 161,\n",
              " 'What': 161,\n",
              " '🤦\\u200d♂️': 159,\n",
              " 'win': 159,\n",
              " 'thought': 157,\n",
              " 'ipl': 154,\n",
              " 'He': 153,\n",
              " 'sem': 153,\n",
              " 'players': 152,\n",
              " '🔥': 149,\n",
              " 'P': 148,\n",
              " 'Yeah': 148,\n",
              " 'season': 147,\n",
              " 'matches': 146,\n",
              " 'And': 145,\n",
              " 'mail': 145,\n",
              " '10': 145,\n",
              " '😅': 145,\n",
              " 'p': 145,\n",
              " 'movie': 142,\n",
              " 'emo': 142,\n",
              " 'aithe': 140,\n",
              " 'need': 139,\n",
              " '919502215191': 138,\n",
              " 'F': 138,\n",
              " 'thope': 137,\n",
              " 'aa': 133,\n",
              " 'today': 133,\n",
              " 'enti': 132,\n",
              " 'shit': 132,\n",
              " 'play': 131,\n",
              " 'man': 131,\n",
              " 'going': 130,\n",
              " 'use': 130,\n",
              " 'That': 130,\n",
              " '919391013579': 129,\n",
              " 'ledu': 127,\n",
              " 'watch': 127,\n",
              " 'nenu': 124,\n",
              " 'So': 123,\n",
              " 'adhe': 123,\n",
              " 'course': 121,\n",
              " 'days': 121,\n",
              " 'lot': 120,\n",
              " 'vs': 120,\n",
              " 'haa': 120,\n",
              " 'come': 119,\n",
              " '%': 119,\n",
              " 'said': 119,\n",
              " 'tho': 118,\n",
              " 'ni': 118,\n",
              " '😂😂😂': 118,\n",
              " 'day': 116,\n",
              " 'But': 115,\n",
              " 'intern': 115,\n",
              " 'They': 113,\n",
              " 'open': 113,\n",
              " 'online': 113,\n",
              " 'Damn': 111,\n",
              " 'probably': 111,\n",
              " 'ya': 111,\n",
              " 'You': 110,\n",
              " 'guy': 110,\n",
              " 'Ok': 109,\n",
              " 'form': 109,\n",
              " 'group': 108,\n",
              " '-': 108,\n",
              " 'ippudu': 108,\n",
              " 'idk': 107,\n",
              " 'big': 106,\n",
              " 'ekkuva': 106,\n",
              " '+1': 105,\n",
              " 'The': 104,\n",
              " 'csk': 104,\n",
              " '1st': 103,\n",
              " 'le': 102,\n",
              " 'dhoni': 102,\n",
              " 'saw': 101,\n",
              " 'won': 101,\n",
              " 'change': 100,\n",
              " '2nd': 100,\n",
              " 'cool': 100,\n",
              " '6': 100,\n",
              " 'Happy': 99,\n",
              " 'campus': 97,\n",
              " 'Ade': 96,\n",
              " 'ela': 96,\n",
              " 'game': 96,\n",
              " 'didnt': 96,\n",
              " 'We': 95,\n",
              " 'new': 95,\n",
              " 'If': 95,\n",
              " '7': 95,\n",
              " 'Rey': 94,\n",
              " 'mari': 94,\n",
              " 'enduku': 94,\n",
              " 'league': 94,\n",
              " 'years': 93,\n",
              " '&': 93,\n",
              " 'prof': 93,\n",
              " '916900400929': 93,\n",
              " 'How': 92,\n",
              " '919706308200': 92,\n",
              " 'ohh': 92,\n",
              " 'unde': 91,\n",
              " 'mean': 91,\n",
              " '`': 91,\n",
              " 'bad': 90,\n",
              " 'telidu': 90,\n",
              " 'teams': 90,\n",
              " 'kaadu': 89,\n",
              " 'Ya': 89,\n",
              " 'sure': 89,\n",
              " 'way': 88,\n",
              " 'india': 88,\n",
              " 'cricket': 87,\n",
              " 'try': 87,\n",
              " 'mi': 86,\n",
              " 'unte': 86,\n",
              " 'untadi': 86,\n",
              " 'questions': 86,\n",
              " 'Nice': 85,\n",
              " 'sad': 84,\n",
              " '919030267303': 84,\n",
              " 'naaku': 84,\n",
              " 'stuff': 83,\n",
              " 'oka': 83,\n",
              " 'cpi': 83,\n",
              " 'saying': 82,\n",
              " 'Ante': 82,\n",
              " '/': 82,\n",
              " 'came': 82,\n",
              " '😶': 82,\n",
              " 'player': 82,\n",
              " 'getting': 82,\n",
              " 'companies': 81,\n",
              " 'class': 81,\n",
              " 'ade': 81,\n",
              " 'club': 81,\n",
              " '🔥🔥🔥': 81,\n",
              " 'chesaru': 80,\n",
              " 'chala': 80,\n",
              " 'things': 80,\n",
              " 'classes': 80,\n",
              " 'overs': 80,\n",
              " 'govt': 79,\n",
              " 'easy': 79,\n",
              " 'work': 79,\n",
              " 'round': 79,\n",
              " 'actually': 78,\n",
              " '9': 78,\n",
              " 'Nenu': 78,\n",
              " 'cases': 78,\n",
              " 'nuvvu': 77,\n",
              " 'cup': 77,\n",
              " 'exam': 76,\n",
              " 'understand': 76,\n",
              " 'feel': 76,\n",
              " 'Emo': 76,\n",
              " 'adhi': 75,\n",
              " '8': 75,\n",
              " 'company': 75,\n",
              " 'long': 75,\n",
              " 'anna': 75,\n",
              " \"''\": 74,\n",
              " 'pretty': 74,\n",
              " 'Kuda': 74,\n",
              " 'ala': 74,\n",
              " ':3': 74,\n",
              " 'playing': 74,\n",
              " 'money': 73,\n",
              " 'ee': 73,\n",
              " 'lost': 73,\n",
              " 'left': 73,\n",
              " 'yep': 73,\n",
              " 'lab': 72,\n",
              " 'question': 72,\n",
              " 'Why': 72,\n",
              " 'ppl': 71,\n",
              " 'nee': 71,\n",
              " 'free': 71,\n",
              " ';': 71,\n",
              " 'fans': 71,\n",
              " 'anni': 70,\n",
              " 'Y': 70,\n",
              " 'final': 70,\n",
              " 'different': 70,\n",
              " 'video': 70,\n",
              " 'apply': 70,\n",
              " 'spurs': 70,\n",
              " 'undhi': 69,\n",
              " 'home': 69,\n",
              " 'covid': 69,\n",
              " 'atleast': 68,\n",
              " 'tests': 68,\n",
              " 'read': 67,\n",
              " 'Only': 67,\n",
              " 'Yep': 67,\n",
              " 'sir': 67,\n",
              " '=': 66,\n",
              " 'andaru': 66,\n",
              " 'pay': 66,\n",
              " '919441846984': 66,\n",
              " '🔥🔥': 66,\n",
              " 'phone': 65,\n",
              " 'wud': 65,\n",
              " 'thats': 65,\n",
              " 'runs': 65,\n",
              " 'series': 64,\n",
              " 'Not': 64,\n",
              " 'played': 64,\n",
              " 'min': 64,\n",
              " 'week': 64,\n",
              " 'coding': 64,\n",
              " 'gon': 64,\n",
              " 'nunchi': 63,\n",
              " 'times': 63,\n",
              " 'entra': 63,\n",
              " 'im': 63,\n",
              " 'Wtf': 63,\n",
              " 'Em': 63,\n",
              " 'definitely': 63,\n",
              " 'wont': 62,\n",
              " 'join': 62,\n",
              " 'news': 62,\n",
              " 'started': 62,\n",
              " 'gurinchi': 62,\n",
              " 'nope': 62,\n",
              " 'problem': 62,\n",
              " 'world': 62,\n",
              " 'fill': 62,\n",
              " 'look': 61,\n",
              " 'send': 61,\n",
              " '3rd': 61,\n",
              " 'Mari': 61,\n",
              " 'idhi': 61,\n",
              " 'talk': 61,\n",
              " 'wow': 61,\n",
              " 'stadium': 61,\n",
              " 'hell': 61,\n",
              " 'bowling': 61,\n",
              " 'remember': 60,\n",
              " '🙄': 60,\n",
              " 'ha': 60,\n",
              " '20': 60,\n",
              " 'happened': 60,\n",
              " 'tbh': 60,\n",
              " 'chance': 60,\n",
              " 'unnayi': 59,\n",
              " '👍': 59,\n",
              " 'Naaku': 59,\n",
              " 'Last': 59,\n",
              " 'type': 59,\n",
              " 'took': 59,\n",
              " 'number': 59,\n",
              " 'guess': 59,\n",
              " 'tell': 58,\n",
              " 'wo': 58,\n",
              " 'Ohh': 58,\n",
              " '..': 58,\n",
              " 'month': 58,\n",
              " 'Do': 58,\n",
              " '916302781108': 58,\n",
              " '100': 58,\n",
              " 'dude': 58,\n",
              " 'post': 57,\n",
              " 'India': 57,\n",
              " 'entha': 57,\n",
              " 'ne': 57,\n",
              " 'idea': 57,\n",
              " 'coming': 57,\n",
              " 'level': 57,\n",
              " 'goal': 57,\n",
              " 'went': 57,\n",
              " '😭': 57,\n",
              " 'Even': 56,\n",
              " 'students': 56,\n",
              " 'Wow': 56,\n",
              " 'matter': 56,\n",
              " 'amazing': 56,\n",
              " 'adi': 56,\n",
              " 'football': 56,\n",
              " 'Inka': 56,\n",
              " 'link': 56,\n",
              " 'shud': 56,\n",
              " 'batting': 56,\n",
              " 'Ohk': 55,\n",
              " 'eppudu': 55,\n",
              " 'branch': 55,\n",
              " 'antha': 55,\n",
              " 'school': 55,\n",
              " 'check': 55,\n",
              " '😢': 54,\n",
              " 'run': 54,\n",
              " 'appudu': 54,\n",
              " 'order': 54,\n",
              " 'interview': 54,\n",
              " 'watching': 53,\n",
              " 'laptop': 53,\n",
              " 'possible': 53,\n",
              " 'idi': 53,\n",
              " 'college': 53,\n",
              " '#': 53,\n",
              " 'Chelsea': 53,\n",
              " 'kind': 53,\n",
              " 'Is': 53,\n",
              " '50': 52,\n",
              " 'y': 52,\n",
              " 'anthe': 52,\n",
              " 'yesterday': 52,\n",
              " 'birthday': 52,\n",
              " 'called': 52,\n",
              " 'half': 52,\n",
              " '🤣': 52,\n",
              " 'till': 51,\n",
              " 'let': 51,\n",
              " 'hope': 51,\n",
              " 'looks': 51,\n",
              " 'option': 51,\n",
              " 'kept': 51,\n",
              " 'In': 51,\n",
              " 'list': 51,\n",
              " 'kane': 51,\n",
              " '30': 50,\n",
              " 'point': 50,\n",
              " 'ece': 50,\n",
              " '4th': 50,\n",
              " 'neeku': 50,\n",
              " 'code': 50,\n",
              " 'Birthday': 50,\n",
              " 'hss': 50,\n",
              " 'Thanks': 50,\n",
              " 'shortlist': 50,\n",
              " 'help': 49,\n",
              " 'super': 49,\n",
              " 'fuck': 49,\n",
              " 'wait': 49,\n",
              " 'telugu': 49,\n",
              " 'dhanush': 49,\n",
              " 'vachindi': 48,\n",
              " 'end': 48,\n",
              " 'edo': 48,\n",
              " 'There': 48,\n",
              " '0': 48,\n",
              " 'happy': 48,\n",
              " 'doubt': 48,\n",
              " 'forgot': 48,\n",
              " 'obv': 48,\n",
              " 'games': 48,\n",
              " 'movies': 47,\n",
              " 'talking': 47,\n",
              " 'support': 47,\n",
              " 'gone': 47,\n",
              " 'mana': 47,\n",
              " 'For': 47,\n",
              " 'valla': 47,\n",
              " 'di': 47,\n",
              " 'XD': 47,\n",
              " 'Liverpool': 47,\n",
              " 'kohli': 47,\n",
              " 'ball': 47,\n",
              " 'm': 46,\n",
              " 'kani': 46,\n",
              " 'second': 46,\n",
              " 'related': 46,\n",
              " 'wrong': 46,\n",
              " 'chesi': 46,\n",
              " 'far': 46,\n",
              " 'chesadu': 46,\n",
              " 'courses': 46,\n",
              " '++': 46,\n",
              " '😑': 46,\n",
              " 'small': 45,\n",
              " 'buy': 45,\n",
              " 'evaru': 45,\n",
              " 'Ledu': 45,\n",
              " 'All': 45,\n",
              " 'vaalu': 45,\n",
              " 'Ippudu': 45,\n",
              " 'lakh': 45,\n",
              " '//www.youtube.com/watch': 45,\n",
              " 'annadu': 45,\n",
              " 'vachindhi': 45,\n",
              " 'maa': 45,\n",
              " '🙄🙄': 45,\n",
              " 'cant': 45,\n",
              " 'chill': 45,\n",
              " '❤️': 45,\n",
              " '😲': 45,\n",
              " 'ohhh': 45,\n",
              " 'unda': 45,\n",
              " 'arsenal': 45,\n",
              " 'winning': 45,\n",
              " 'expected': 44,\n",
              " 'pettu': 44,\n",
              " 'kaani': 44,\n",
              " 'Did': 44,\n",
              " 'abt': 44,\n",
              " 'ask': 44,\n",
              " 'utd': 44,\n",
              " 'kkr': 44,\n",
              " 'close': 43,\n",
              " 'Woah': 43,\n",
              " 'Who': 43,\n",
              " 'vaadu': 43,\n",
              " 'Just': 43,\n",
              " 'asala': 43,\n",
              " 'light': 43,\n",
              " 'comes': 43,\n",
              " 'place': 43,\n",
              " 'submit': 43,\n",
              " 'normal': 43,\n",
              " \"'\": 43,\n",
              " 'lmao': 43,\n",
              " '🤯': 43,\n",
              " 'told': 43,\n",
              " 'Amazon': 43,\n",
              " 'wins': 43,\n",
              " 'find': 42,\n",
              " 'coz': 42,\n",
              " 'Arey': 42,\n",
              " 'fine': 42,\n",
              " 'story': 42,\n",
              " 'indian': 42,\n",
              " 'ochindi': 42,\n",
              " 'life': 42,\n",
              " 'hyd': 42,\n",
              " 'share': 42,\n",
              " 'happen': 41,\n",
              " 'untayi': 41,\n",
              " 'kadu': 41,\n",
              " 'Yo': 41,\n",
              " 'cheppu': 41,\n",
              " 'grp': 41,\n",
              " 'lose': 41,\n",
              " 'sense': 41,\n",
              " 'case': 41,\n",
              " 'lochan': 41,\n",
              " 'old': 41,\n",
              " 'food': 41,\n",
              " '15': 41,\n",
              " 'United': 41,\n",
              " 'given': 41,\n",
              " 'direct': 41,\n",
              " 'gave': 41,\n",
              " 'selected': 41,\n",
              " 'Then': 40,\n",
              " 'real': 40,\n",
              " 'lone': 40,\n",
              " 'anukunna': 40,\n",
              " 'main': 40,\n",
              " 'My': 40,\n",
              " 'live': 40,\n",
              " 'thinking': 40,\n",
              " 'high': 40,\n",
              " 'positive': 40,\n",
              " 'card': 40,\n",
              " 'balls': 40,\n",
              " 'girls': 40,\n",
              " '😕': 40,\n",
              " 'dc': 40,\n",
              " 'easily': 39,\n",
              " 'person': 39,\n",
              " 'hard': 39,\n",
              " 'manam': 39,\n",
              " 'reason': 39,\n",
              " 'unna': 39,\n",
              " 'unnaru': 39,\n",
              " 'members': 39,\n",
              " 'cheyyi': 39,\n",
              " 'lekapote': 39,\n",
              " 'champions': 39,\n",
              " 'chesa': 39,\n",
              " 'changed': 39,\n",
              " 'score': 39,\n",
              " 'Me': 39,\n",
              " 'maaku': 39,\n",
              " 'select': 39,\n",
              " 'Congrats': 39,\n",
              " 'middle': 38,\n",
              " 'Same': 38,\n",
              " 'project': 38,\n",
              " '🤦\\u200d♂️🤦\\u200d♂️': 38,\n",
              " 'enni': 38,\n",
              " 'Anni': 38,\n",
              " 'Oka': 38,\n",
              " 'true': 38,\n",
              " 'telusu': 38,\n",
              " 'leave': 38,\n",
              " 'seeing': 38,\n",
              " 'naku': 38,\n",
              " 'untadhi': 38,\n",
              " 'lite': 38,\n",
              " 'data': 38,\n",
              " 'mundu': 38,\n",
              " 'Google': 38,\n",
              " 'sent': 38,\n",
              " 'beat': 38,\n",
              " 'boys': 38,\n",
              " 'google': 38,\n",
              " 'state': 37,\n",
              " 'care': 37,\n",
              " 'mandi': 37,\n",
              " 'maybe': 37,\n",
              " 'iitg': 37,\n",
              " '+': 37,\n",
              " 'mumbai': 37,\n",
              " 'okay': 37,\n",
              " 'taking': 37,\n",
              " 'injured': 37,\n",
              " 'okati': 37,\n",
              " 'highest': 37,\n",
              " 'film': 37,\n",
              " 'delhi': 37,\n",
              " 'rr': 37,\n",
              " 'power': 36,\n",
              " 'points': 36,\n",
              " 'pakka': 36,\n",
              " 'Like': 36,\n",
              " 'chaala': 36,\n",
              " 'Anta': 36,\n",
              " '😶😶': 36,\n",
              " 'mind': 36,\n",
              " 'asked': 36,\n",
              " 'fun': 36,\n",
              " 'party': 36,\n",
              " 'ekkada': 36,\n",
              " 'united': 36,\n",
              " 'When': 36,\n",
              " 'fan': 36,\n",
              " 'away': 36,\n",
              " 'great': 36,\n",
              " 'captain': 36,\n",
              " 'total': 36,\n",
              " '5th': 36,\n",
              " 'slot': 36,\n",
              " 'instead': 35,\n",
              " 'malli': 35,\n",
              " 'Edo': 35,\n",
              " 'director': 35,\n",
              " 'wrote': 35,\n",
              " 'lockdown': 35,\n",
              " 'Nuvvu': 35,\n",
              " 'projects': 35,\n",
              " 'City': 35,\n",
              " 'woah': 35,\n",
              " 'waste': 35,\n",
              " 'release': 35,\n",
              " 'lucky': 35,\n",
              " 'bois': 35,\n",
              " 'raale': 35,\n",
              " 'max': 34,\n",
              " 'minutes': 34,\n",
              " 'chusa': 34,\n",
              " 'comments': 34,\n",
              " 'tough': 34,\n",
              " '*': 34,\n",
              " 'Aina': 34,\n",
              " 'batch': 34,\n",
              " 'months': 34,\n",
              " 'See': 34,\n",
              " 'actual': 34,\n",
              " 'tomorrow': 34,\n",
              " 'unnadu': 34,\n",
              " 'based': 34,\n",
              " 'working': 34,\n",
              " 'goals': 34,\n",
              " 'results': 34,\n",
              " 'interviews': 34,\n",
              " 'IPL': 34,\n",
              " 'Bro': 33,\n",
              " 'ones': 33,\n",
              " 'asalu': 33,\n",
              " 'exams': 33,\n",
              " '😎': 33,\n",
              " 'exactly': 33,\n",
              " 'ah': 33,\n",
              " 'difference': 33,\n",
              " 'clear': 33,\n",
              " 'pedda': 33,\n",
              " 'Enti': 33,\n",
              " '11': 33,\n",
              " 'emaindi': 33,\n",
              " 'attack': 33,\n",
              " 'Hyderabad': 33,\n",
              " 'clubs': 33,\n",
              " 'draw': 33,\n",
              " 'kxip': 33,\n",
              " 'knows': 32,\n",
              " 'ila': 32,\n",
              " 'control': 32,\n",
              " 'night': 32,\n",
              " 'gets': 32,\n",
              " 'thanks': 32,\n",
              " 'experience': 32,\n",
              " 'expect': 32,\n",
              " 'th': 32,\n",
              " 'giving': 32,\n",
              " 'punjab': 32,\n",
              " 'dad': 32,\n",
              " 'grades': 32,\n",
              " 'account': 32,\n",
              " 'elective': 32,\n",
              " 'de': 32,\n",
              " 'strong': 32,\n",
              " '919381331571': 32,\n",
              " 'suraj': 32,\n",
              " 'wicket': 32,\n",
              " 'arey': 31,\n",
              " 'k': 31,\n",
              " 'annaru': 31,\n",
              " 'IIT': 31,\n",
              " 'motham': 31,\n",
              " 'A': 31,\n",
              " 'write': 31,\n",
              " 'stay': 31,\n",
              " 'love': 31,\n",
              " 'yrs': 31,\n",
              " 'btw': 31,\n",
              " 'ma': 31,\n",
              " '😏': 31,\n",
              " '🐍': 31,\n",
              " 'having': 31,\n",
              " 'grade': 31,\n",
              " 'pl': 31,\n",
              " 'Yup': 31,\n",
              " 'sorted': 31,\n",
              " 'wickets': 31,\n",
              " '//': 31,\n",
              " 'dept': 30,\n",
              " 'konchem': 30,\n",
              " 'happening': 30,\n",
              " 'internet': 30,\n",
              " 'meeting': 30,\n",
              " 'email': 30,\n",
              " 'chesara': 30,\n",
              " 's': 30,\n",
              " 'Warner': 30,\n",
              " 'table': 30,\n",
              " 'cheyyali': 30,\n",
              " 'starting': 30,\n",
              " 'f': 30,\n",
              " 'ready': 30,\n",
              " 'completely': 30,\n",
              " 'heard': 30,\n",
              " 'kaushik': 30,\n",
              " 'hit': 30,\n",
              " 'wan': 30,\n",
              " 'morning': 30,\n",
              " 'oracle': 30,\n",
              " 'hospital': 30,\n",
              " 'ouna': 30,\n",
              " 'huge': 30,\n",
              " 'single': 30,\n",
              " 'aina': 30,\n",
              " 'extra': 30,\n",
              " 'liv': 30,\n",
              " 'playoffs': 30,\n",
              " 'Rashid': 30,\n",
              " 'Shit': 29,\n",
              " 'job': 29,\n",
              " 'telusa': 29,\n",
              " 'kosam': 29,\n",
              " 'mails': 29,\n",
              " 'means': 29,\n",
              " 'Telugu': 29,\n",
              " 'research': 29,\n",
              " 'Oki': 29,\n",
              " 'website': 29,\n",
              " 'quiz': 29,\n",
              " 'dhi': 29,\n",
              " 'room': 29,\n",
              " 'Ra': 29,\n",
              " 'Dhanush': 29,\n",
              " 'internship': 29,\n",
              " 'record': 29,\n",
              " '200': 29,\n",
              " 'rate': 29,\n",
              " 'england': 29,\n",
              " 'plays': 29,\n",
              " 'bowlers': 29,\n",
              " 'bowler': 29,\n",
              " 'batsman': 29,\n",
              " 'price': 28,\n",
              " 'Actually': 28,\n",
              " 'Mana': 28,\n",
              " 'situation': 28,\n",
              " 'correct': 28,\n",
              " 'laga': 28,\n",
              " 'goes': 28,\n",
              " 'page': 28,\n",
              " 'corona': 28,\n",
              " 'Adhi': 28,\n",
              " '12': 28,\n",
              " 'vere': 28,\n",
              " 'position': 28,\n",
              " 'vadu': 28,\n",
              " 'add': 28,\n",
              " 'emaina': 28,\n",
              " 'private': 28,\n",
              " 'varaku': 28,\n",
              " '🙏': 28,\n",
              " 'everybody': 28,\n",
              " 'soon': 28,\n",
              " 'low': 28,\n",
              " 'Delhi': 28,\n",
              " 'found': 28,\n",
              " 'section': 28,\n",
              " 'common': 28,\n",
              " 'jio': 28,\n",
              " 'RCB': 28,\n",
              " 'profile': 28,\n",
              " 'pep': 28,\n",
              " 'catch': 28,\n",
              " 'portal': 28,\n",
              " '\\u200b': 28,\n",
              " 'spend': 27,\n",
              " '2-3': 27,\n",
              " 'marks': 27,\n",
              " 'Neeku': 27,\n",
              " 'First': 27,\n",
              " 'Chala': 27,\n",
              " 'intha': 27,\n",
              " 'increase': 27,\n",
              " 'Im': 27,\n",
              " 'decide': 27,\n",
              " 'comment': 27,\n",
              " 'app': 27,\n",
              " 'anduke': 27,\n",
              " 'phani': 27,\n",
              " 'Telangana': 27,\n",
              " 'cheyyale': 27,\n",
              " 'ippude': 27,\n",
              " 'Next': 27,\n",
              " 'manaki': 27,\n",
              " 'Aa': 27,\n",
              " 'book': 27,\n",
              " 'happens': 27,\n",
              " 'star': 27,\n",
              " 'manager': 27,\n",
              " 'cv': 27,\n",
              " '\\u206c': 27,\n",
              " 'value': 26,\n",
              " 'study': 26,\n",
              " 'little': 26,\n",
              " 'groups': 26,\n",
              " 'English': 26,\n",
              " 'problems': 26,\n",
              " 'mnc': 26,\n",
              " 'Or': 26,\n",
              " 'ardam': 26,\n",
              " 'tried': 26,\n",
              " 'copy': 26,\n",
              " 'obviously': 26,\n",
              " 'pass': 26,\n",
              " 'evaraina': 26,\n",
              " 'chudale': 26,\n",
              " 'Now': 26,\n",
              " 'meant': 26,\n",
              " 'Which': 26,\n",
              " 'boi': 26,\n",
              " 'msg': 26,\n",
              " 'scored': 26,\n",
              " 'date': 26,\n",
              " 'rey': 26,\n",
              " '+inf': 26,\n",
              " 'set': 26,\n",
              " 'England': 26,\n",
              " 'jadeja': 26,\n",
              " 'whoa': 26,\n",
              " 'Oracle': 26,\n",
              " 'jpmc': 26,\n",
              " 'Bairstow': 26,\n",
              " 'language': 25,\n",
              " 'taken': 25,\n",
              " 'wish': 25,\n",
              " 'Hmm': 25,\n",
              " 'follow': 25,\n",
              " 'Enduku': 25,\n",
              " 'chudu': 25,\n",
              " 'decision': 25,\n",
              " 'important': 25,\n",
              " 'ayyindhi': 25,\n",
              " 'house': 25,\n",
              " 'windows': 25,\n",
              " 'o': 25,\n",
              " 'ninchi': 25,\n",
              " 'makes': 25,\n",
              " 'similar': 25,\n",
              " 'Ludo': 25,\n",
              " 'plan': 25,\n",
              " 'ke': 25,\n",
              " 'meeru': 25,\n",
              " 'Evaru': 25,\n",
              " 'evadu': 25,\n",
              " 'chaalu': 25,\n",
              " '14': 25,\n",
              " 'count': 25,\n",
              " 'defence': 25,\n",
              " 'office': 25,\n",
              " 'feeling': 25,\n",
              " 'cheap': 25,\n",
              " 'plastic': 25,\n",
              " '😭😭': 25,\n",
              " 'registration': 25,\n",
              " '🥺': 25,\n",
              " 'EP': 25,\n",
              " 'reach': 25,\n",
              " 'gives': 25,\n",
              " 'Rohit': 25,\n",
              " 'rahul': 25,\n",
              " 'Srh': 25,\n",
              " 'phones': 24,\n",
              " 'ik': 24,\n",
              " 'starts': 24,\n",
              " 'asking': 24,\n",
              " 'peru': 24,\n",
              " 'profs': 24,\n",
              " 'O': 24,\n",
              " 'Ela': 24,\n",
              " 'enta': 24,\n",
              " 'chesthe': 24,\n",
              " 'ka': 24,\n",
              " 'acha': 24,\n",
              " 'Aithe': 24,\n",
              " 'cheste': 24,\n",
              " 't': 24,\n",
              " 'trying': 24,\n",
              " 'kanna': 24,\n",
              " 'looking': 24,\n",
              " 'doesnt': 24,\n",
              " 'paid': 24,\n",
              " 'Le': 24,\n",
              " 'china': 24,\n",
              " '2020': 24,\n",
              " '😅😅': 24,\n",
              " 'untaru': 24,\n",
              " 'undali': 24,\n",
              " 'avvale': 24,\n",
              " 'iroju': 24,\n",
              " 'Kane': 24,\n",
              " 'schools': 24,\n",
              " 'hand': 24,\n",
              " 'oof': 24,\n",
              " 'labs': 24,\n",
              " 'prime': 24,\n",
              " '7th': 24,\n",
              " 'finish': 24,\n",
              " 'transfer': 24,\n",
              " 'spot': 24,\n",
              " 'T20': 24,\n",
              " 'Kohli': 24,\n",
              " 'perfect': 24,\n",
              " 'injury': 24,\n",
              " 'psg': 24,\n",
              " 'average': 23,\n",
              " 'telling': 23,\n",
              " 'higher': 23,\n",
              " 'future': 23,\n",
              " 'Entra': 23,\n",
              " 'song': 23,\n",
              " 'unnai': 23,\n",
              " 'physics': 23,\n",
              " 'opening': 23,\n",
              " 'asal': 23,\n",
              " 'basically': 23,\n",
              " 'word': 23,\n",
              " 'window': 23,\n",
              " 'paper': 23,\n",
              " 'assignment': 23,\n",
              " 'vaalaki': 23,\n",
              " 'ML': 23,\n",
              " 'Ee': 23,\n",
              " 'later': 23,\n",
              " 'drop': 23,\n",
              " 'ago': 23,\n",
              " 'interest': 23,\n",
              " 'memes': 23,\n",
              " 'etc': 23,\n",
              " 'Maaku': 23,\n",
              " 'weeks': 23,\n",
              " 'levu': 23,\n",
              " 'Nee': 23,\n",
              " 'Anyone': 23,\n",
              " 'vallu': 23,\n",
              " 'war': 23,\n",
              " 'ban': 23,\n",
              " 'boring': 23,\n",
              " 'Dude': 23,\n",
              " 'watched': 23,\n",
              " 'girl': 23,\n",
              " 'villa': 23,\n",
              " 'names': 23,\n",
              " 'competition': 23,\n",
              " 'hotstar': 23,\n",
              " 'paapam': 23,\n",
              " 'pls': 23,\n",
              " 'aus': 23,\n",
              " 'Man': 23,\n",
              " 'penalty': 23,\n",
              " 'Ig': 23,\n",
              " 'seen': 22,\n",
              " 'discussion': 22,\n",
              " 'fast': 22,\n",
              " 'la': 22,\n",
              " 'hindi': 22,\n",
              " 'insta': 22,\n",
              " 'details': 22,\n",
              " 'liked': 22,\n",
              " 'His': 22,\n",
              " 'reply': 22,\n",
              " 'hrs': 22,\n",
              " 'antunna': 22,\n",
              " 'parents': 22,\n",
              " 'rest': 22,\n",
              " 'bought': 22,\n",
              " 'hr': 22,\n",
              " 'anybody': 22,\n",
              " 'vi': 22,\n",
              " 'Twitter': 22,\n",
              " 'core': 22,\n",
              " 'continue': 22,\n",
              " 'crore': 22,\n",
              " 'words': 22,\n",
              " 'iit': 22,\n",
              " ...}"
            ]
          },
          "metadata": {
            "tags": []
          },
          "execution_count": 73
        }
      ]
    },
    {
      "cell_type": "code",
      "metadata": {
        "id": "1OU3j6iMvXP0",
        "colab": {
          "base_uri": "https://localhost:8080/",
          "height": 303
        },
        "outputId": "e5762b3c-f938-436e-aae3-2384bcd37145"
      },
      "source": [
        "#Each of the word in the message will be review\n",
        "word = \" \".join(review for review in whatsapp_df5.message)\n",
        "stopwords = set(STOPWORDS)\n",
        "\n",
        "#delete the word/text that are commonly used(eg.the,yes,no,bye,or and is)\n",
        "stopwords.update([\"the\",\"is\",\"yea\",\"ok\",\"okay\",\"or\",\"bye\",\"no\",\"will\",\"yeah\",\"I\",\"almost\",\"if\",\"me\",\"you\",\"done\",\"want\",\"Ya\",\"u\",\"https\"])\n",
        "\n",
        "#Creating a word cloud \n",
        "wordcloud = WordCloud(width = 500, height =500 ,stopwords=stopwords, background_color=\"black\",min_font_size = 10).generate(word)\n",
        "\n",
        "plt.figure( figsize=(10,5))\n",
        "plt.imshow(wordcloud, interpolation='bilinear')\n",
        "plt.axis(\"off\")\n",
        "plt.show()\n",
        "\n",
        "\n"
      ],
      "execution_count": 54,
      "outputs": [
        {
          "output_type": "display_data",
          "data": {
            "image/png": "[encoded data removed]",
            "text/plain": [
              "<Figure size 720x360 with 1 Axes>"
            ]
          },
          "metadata": {
            "tags": [],
            "needs_background": "light"
          }
        }
      ]
    },
    {
      "cell_type": "code",
      "metadata": {
        "id": "unZ18WEEvXP1",
        "colab": {
          "base_uri": "https://localhost:8080/",
          "height": 517
        },
        "outputId": "6f39b6a0-11f2-4191-8943-9c82db0f76ee"
      },
      "source": [
        "wordcloud.to_image()"
      ],
      "execution_count": 50,
      "outputs": [
        {
          "output_type": "execute_result",
          "data": {
            "image/png": "[encoded data removed]",
            "text/plain": [
              "<PIL.Image.Image image mode=RGB size=500x500 at 0x7F5049A0E550>"
            ]
          },
          "metadata": {
            "tags": []
          },
          "execution_count": 50
        }
      ]
    },
    {
      "cell_type": "code",
      "metadata": {
        "colab": {
          "base_uri": "https://localhost:8080/"
        },
        "id": "Y8O1TL2Sdm4t",
        "outputId": "0a508dde-eb47-4a5f-e3f3-dcef39dbc355"
      },
      "source": [
        " dict(sorted(ct.items(), key=lambda item: -item[1]))"
      ],
      "execution_count": 52,
      "outputs": [
        {
          "output_type": "execute_result",
          "data": {
            "text/plain": [
              "{'is': 2675,\n",
              " 'the': 2337,\n",
              " 'to': 2079,\n",
              " 'and': 1816,\n",
              " 'in': 1793,\n",
              " 'I': 1536,\n",
              " ',': 1484,\n",
              " 'of': 1484,\n",
              " 'a': 1364,\n",
              " 'for': 1343,\n",
              " 'i': 1340,\n",
              " 'it': 1327,\n",
              " 'that': 1322,\n",
              " 'this': 1233,\n",
              " 'u': 1102,\n",
              " 'not': 1040,\n",
              " 'was': 1034,\n",
              " 'lol': 950,\n",
              " 'lo': 927,\n",
              " 'they': 747,\n",
              " 'no': 715,\n",
              " 'he': 714,\n",
              " 'ra': 713,\n",
              " 'but': 706,\n",
              " 'on': 639,\n",
              " 'xD': 639,\n",
              " 'only': 631,\n",
              " '😂': 611,\n",
              " 'be': 605,\n",
              " 'are': 596,\n",
              " 'or': 586,\n",
              " 'have': 567,\n",
              " 'kada': 554,\n",
              " 'like': 549,\n",
              " 'ki': 545,\n",
              " 'will': 514,\n",
              " 'if': 514,\n",
              " 'so': 495,\n",
              " '?': 491,\n",
              " 'we': 453,\n",
              " 'think': 451,\n",
              " 'one': 451,\n",
              " 'at': 443,\n",
              " 'yeah': 443,\n",
              " 'you': 442,\n",
              " 'kuda': 442,\n",
              " 'all': 436,\n",
              " 'with': 433,\n",
              " 'good': 430,\n",
              " 'did': 427,\n",
              " 'also': 414,\n",
              " 'what': 410,\n",
              " 'too': 403,\n",
              " 'even': 402,\n",
              " '2': 393,\n",
              " 'do': 377,\n",
              " 'from': 370,\n",
              " 'anta': 369,\n",
              " 'more': 355,\n",
              " 'can': 354,\n",
              " 'there': 354,\n",
              " 'than': 345,\n",
              " \"it's\": 334,\n",
              " 'just': 334,\n",
              " 'time': 329,\n",
              " 'ani': 318,\n",
              " 'me': 311,\n",
              " 'r': 309,\n",
              " 'get': 307,\n",
              " 'know': 305,\n",
              " '3': 303,\n",
              " 'ga': 302,\n",
              " \"don't\": 301,\n",
              " 'nan': 297,\n",
              " 'as': 295,\n",
              " '😂😂': 292,\n",
              " 'Lol': 289,\n",
              " 'No': 285,\n",
              " 'last': 285,\n",
              " 'now': 284,\n",
              " 'why': 279,\n",
              " 'This': 274,\n",
              " 'match': 274,\n",
              " 'got': 269,\n",
              " 'year': 265,\n",
              " 'message': 262,\n",
              " 'damn': 260,\n",
              " 'em': 257,\n",
              " 'deleted': 252,\n",
              " 'his': 250,\n",
              " 'team': 249,\n",
              " 'my': 246,\n",
              " 'how': 245,\n",
              " 'by': 236,\n",
              " 'first': 236,\n",
              " 'has': 235,\n",
              " 'oh': 235,\n",
              " 'some': 234,\n",
              " 'nice': 234,\n",
              " 'e': 233,\n",
              " 'out': 232,\n",
              " 'see': 230,\n",
              " '1': 230,\n",
              " 'better': 226,\n",
              " 'about': 225,\n",
              " 'dont': 223,\n",
              " 'city': 221,\n",
              " 'same': 219,\n",
              " 'who': 214,\n",
              " 'after': 213,\n",
              " 'ur': 209,\n",
              " 'were': 207,\n",
              " 'much': 207,\n",
              " 'other': 205,\n",
              " 'any': 202,\n",
              " 'am': 201,\n",
              " 'Ha': 199,\n",
              " 'many': 198,\n",
              " 'U': 198,\n",
              " 'then': 196,\n",
              " 'Yes': 193,\n",
              " 'undi': 192,\n",
              " '@916303364300': 192,\n",
              " 'yes': 189,\n",
              " 'very': 186,\n",
              " 'him': 183,\n",
              " 'test': 182,\n",
              " '4': 179,\n",
              " 'Oh': 177,\n",
              " 'over': 176,\n",
              " 'rcb': 176,\n",
              " 'srh': 174,\n",
              " 'them': 173,\n",
              " 'right': 172,\n",
              " 'best': 168,\n",
              " 'when': 165,\n",
              " 'would': 164,\n",
              " 'anukunta': 164,\n",
              " 'go': 163,\n",
              " 'people': 163,\n",
              " 'want': 163,\n",
              " 'thing': 163,\n",
              " 'guys': 162,\n",
              " '@916900400923': 162,\n",
              " 'shd': 162,\n",
              " \"didn't\": 161,\n",
              " '5': 161,\n",
              " 'start': 160,\n",
              " 'ok': 160,\n",
              " 'inka': 159,\n",
              " '...': 159,\n",
              " 'ig': 158,\n",
              " 'wtf': 157,\n",
              " 'ante': 157,\n",
              " 'thought': 155,\n",
              " 'their': 153,\n",
              " '🤦\\u200d♂️': 151,\n",
              " 'Haa': 150,\n",
              " 'win': 150,\n",
              " 'an': 149,\n",
              " 'ipl': 149,\n",
              " 'next': 146,\n",
              " 'players': 146,\n",
              " 'bro': 145,\n",
              " 'And': 145,\n",
              " 'He': 145,\n",
              " 'its': 144,\n",
              " 'because': 142,\n",
              " 'up': 142,\n",
              " 'back': 142,\n",
              " 'season': 141,\n",
              " '.': 140,\n",
              " '🔥': 140,\n",
              " ':P': 139,\n",
              " 'sem': 139,\n",
              " 'matches': 139,\n",
              " 'need': 137,\n",
              " '😅': 137,\n",
              " 'our': 136,\n",
              " 'aithe': 136,\n",
              " 'emo': 135,\n",
              " 'F': 135,\n",
              " '@919502215191': 135,\n",
              " 'mail': 133,\n",
              " 'Yeah': 133,\n",
              " '10': 132,\n",
              " 'What': 132,\n",
              " 'us': 132,\n",
              " 'which': 131,\n",
              " 'thope': 129,\n",
              " 'going': 127,\n",
              " '@919391013579': 127,\n",
              " 'use': 125,\n",
              " 'play': 125,\n",
              " 'shit': 124,\n",
              " 'So': 122,\n",
              " 'ledu': 122,\n",
              " 'before': 122,\n",
              " 'man': 122,\n",
              " 'watch': 121,\n",
              " ':p': 121,\n",
              " 'vs': 120,\n",
              " '😂😂😂': 118,\n",
              " 'haa': 117,\n",
              " 'movie': 117,\n",
              " 'enti': 117,\n",
              " 'adhe': 117,\n",
              " 'give': 117,\n",
              " 'still': 116,\n",
              " 'said': 116,\n",
              " 'come': 115,\n",
              " 'course': 115,\n",
              " 'lot': 114,\n",
              " 'But': 114,\n",
              " 'ni': 114,\n",
              " 'something': 114,\n",
              " 'days': 113,\n",
              " 'nenu': 113,\n",
              " 'They': 110,\n",
              " 'open': 110,\n",
              " 'day': 110,\n",
              " 'top': 110,\n",
              " 'ya': 110,\n",
              " 'say': 109,\n",
              " 'Ok': 109,\n",
              " 'You': 109,\n",
              " 'Damn': 109,\n",
              " 'take': 109,\n",
              " 'today': 108,\n",
              " 'tho': 107,\n",
              " 'probably': 107,\n",
              " 'most': 107,\n",
              " 'big': 106,\n",
              " 'guy': 106,\n",
              " 'been': 106,\n",
              " 'online': 106,\n",
              " 'had': 105,\n",
              " 'group': 105,\n",
              " 'intern': 105,\n",
              " '+1': 103,\n",
              " 'The': 103,\n",
              " 'those': 102,\n",
              " 'idk': 102,\n",
              " 'ekkuva': 99,\n",
              " 'ippudu': 99,\n",
              " 'Happy': 99,\n",
              " 'form': 99,\n",
              " 'dhoni': 99,\n",
              " 'change': 98,\n",
              " '2nd': 98,\n",
              " 'saw': 98,\n",
              " 'both': 98,\n",
              " 'cool': 98,\n",
              " 'csk': 97,\n",
              " 'aa': 96,\n",
              " '1st': 96,\n",
              " 'didnt': 96,\n",
              " 'really': 95,\n",
              " 'Ade': 95,\n",
              " 'le': 95,\n",
              " 'ela': 94,\n",
              " 'new': 94,\n",
              " \"there's\": 94,\n",
              " 'If': 94,\n",
              " 'won': 94,\n",
              " 'into': 92,\n",
              " \"It's\": 91,\n",
              " '@919706308200': 91,\n",
              " '6': 91,\n",
              " 'We': 90,\n",
              " 'name': 90,\n",
              " 'It': 89,\n",
              " 'already': 89,\n",
              " 'game': 89,\n",
              " '-': 89,\n",
              " 'Ya': 89,\n",
              " 'does': 89,\n",
              " 'league': 89,\n",
              " 'campus': 88,\n",
              " 'where': 87,\n",
              " 'Rey': 87,\n",
              " 'prof': 87,\n",
              " 'years': 87,\n",
              " 'mari': 87,\n",
              " 'every': 87,\n",
              " '@916900400929': 87,\n",
              " '7': 87,\n",
              " 'try': 86,\n",
              " 'though': 86,\n",
              " 'enduku': 86,\n",
              " 'way': 85,\n",
              " 'How': 84,\n",
              " \"doesn't\": 84,\n",
              " \"that's\": 84,\n",
              " 'ohh': 84,\n",
              " 'off': 84,\n",
              " 'teams': 84,\n",
              " 'unde': 83,\n",
              " 'telidu': 83,\n",
              " 'india': 83,\n",
              " 'sure': 83,\n",
              " 'mean': 82,\n",
              " 'saying': 82,\n",
              " 'unte': 82,\n",
              " 'full': 82,\n",
              " 'your': 82,\n",
              " 'well': 82,\n",
              " 'oka': 82,\n",
              " 'getting': 82,\n",
              " 'sad': 81,\n",
              " '😶': 81,\n",
              " 'cricket': 80,\n",
              " 'two': 80,\n",
              " 'ade': 80,\n",
              " '@919030267303': 80,\n",
              " 'mi': 79,\n",
              " 'bad': 79,\n",
              " 'Ante': 79,\n",
              " 'Nice': 79,\n",
              " '🔥🔥🔥': 79,\n",
              " \"can't\": 78,\n",
              " 'chala': 78,\n",
              " 'should': 78,\n",
              " 'never': 78,\n",
              " 'round': 78,\n",
              " 'overs': 78,\n",
              " 'companies': 77,\n",
              " 'make': 77,\n",
              " 'Nenu': 77,\n",
              " 'naaku': 77,\n",
              " 'easy': 77,\n",
              " 'came': 77,\n",
              " 'actually': 76,\n",
              " 'untadi': 76,\n",
              " 'kaadu': 76,\n",
              " 'cases': 76,\n",
              " 'work': 76,\n",
              " 'feel': 76,\n",
              " 'questions': 76,\n",
              " 'against': 75,\n",
              " 'cpi': 75,\n",
              " 'stuff': 74,\n",
              " 'pretty': 74,\n",
              " 'That': 74,\n",
              " ':3': 74,\n",
              " 'long': 74,\n",
              " 'around': 73,\n",
              " 'understand': 73,\n",
              " 'govt': 73,\n",
              " 'player': 73,\n",
              " 'yep': 73,\n",
              " 'cup': 73,\n",
              " 'money': 72,\n",
              " 'Kuda': 72,\n",
              " 'chesaru': 72,\n",
              " 'things': 72,\n",
              " 'classes': 72,\n",
              " 'anna': 72,\n",
              " 'Emo': 72,\n",
              " 'class': 71,\n",
              " 'ala': 71,\n",
              " 'doing': 71,\n",
              " ':/': 71,\n",
              " 'anyone': 71,\n",
              " 'no?': 71,\n",
              " 'lost': 71,\n",
              " 'playing': 71,\n",
              " 'club': 71,\n",
              " 'exam': 70,\n",
              " 'nee': 70,\n",
              " 'ee': 70,\n",
              " 'Why': 70,\n",
              " 'company': 70,\n",
              " 'left': 70,\n",
              " 'anni': 69,\n",
              " 'lab': 69,\n",
              " 'nuvvu': 69,\n",
              " '9': 68,\n",
              " 'different': 68,\n",
              " 'Y': 67,\n",
              " 'these': 67,\n",
              " 'video': 67,\n",
              " 'again': 67,\n",
              " 'Only': 67,\n",
              " 'atleast': 66,\n",
              " 'final': 66,\n",
              " 'read': 66,\n",
              " 'free': 66,\n",
              " 'apply': 66,\n",
              " 'spurs': 66,\n",
              " 'fans': 66,\n",
              " 'Yep': 66,\n",
              " 'might': 66,\n",
              " 'pay': 65,\n",
              " '8': 64,\n",
              " '@919441846984': 64,\n",
              " 'wud': 64,\n",
              " 'here': 64,\n",
              " 'thats': 64,\n",
              " 'ppl': 63,\n",
              " 'im': 63,\n",
              " 'Not': 63,\n",
              " 'Em': 63,\n",
              " 'adhi': 63,\n",
              " 'definitely': 63,\n",
              " 'less': 63,\n",
              " 'min': 63,\n",
              " 'per': 63,\n",
              " 'week': 63,\n",
              " 'covid': 63,\n",
              " 'wont': 62,\n",
              " 'join': 62,\n",
              " 'played': 62,\n",
              " 'anything': 62,\n",
              " 'gonna': 62,\n",
              " 'home': 62,\n",
              " 'sir': 62,\n",
              " 'tests': 62,\n",
              " '🔥🔥': 62,\n",
              " 'fill': 62,\n",
              " 'nunchi': 61,\n",
              " 'series': 61,\n",
              " 'look': 61,\n",
              " 'Wtf': 61,\n",
              " 'na': 61,\n",
              " 'question': 61,\n",
              " 'runs': 61,\n",
              " 'phone': 60,\n",
              " 'entra': 60,\n",
              " '=': 60,\n",
              " 'andaru': 60,\n",
              " '3rd': 60,\n",
              " 'gurinchi': 60,\n",
              " 'nope': 60,\n",
              " 'world': 60,\n",
              " \"they're\": 59,\n",
              " 'undhi': 59,\n",
              " 'Naaku': 59,\n",
              " 'Last': 59,\n",
              " 'started': 59,\n",
              " 'talk': 59,\n",
              " 'made': 59,\n",
              " 'chance': 59,\n",
              " 'bowling': 59,\n",
              " 'times': 58,\n",
              " 'almost': 58,\n",
              " 'Mari': 58,\n",
              " 'took': 58,\n",
              " 'guess': 58,\n",
              " 'problem': 58,\n",
              " 'coding': 58,\n",
              " 'could': 58,\n",
              " 'stadium': 58,\n",
              " \"he's\": 58,\n",
              " 'once': 57,\n",
              " '👍': 57,\n",
              " 'remember': 57,\n",
              " 'enough': 57,\n",
              " 'send': 57,\n",
              " \"isn't\": 57,\n",
              " '@916302781108': 57,\n",
              " 'ha': 57,\n",
              " 'wow': 57,\n",
              " \"won't\": 56,\n",
              " 'Ohh': 56,\n",
              " 'news': 56,\n",
              " 'type': 56,\n",
              " 'idhi': 56,\n",
              " '🙄': 56,\n",
              " \"That's\": 56,\n",
              " 'idea': 56,\n",
              " 'went': 56,\n",
              " 'Inka': 56,\n",
              " 'shud': 56,\n",
              " '😭': 56,\n",
              " 'dude': 56,\n",
              " 'Even': 55,\n",
              " 'tell': 55,\n",
              " 'Wow': 55,\n",
              " 'number': 55,\n",
              " 'under': 55,\n",
              " '20': 55,\n",
              " 'hell': 55,\n",
              " 'tbh': 55,\n",
              " 'batting': 55,\n",
              " 'post': 54,\n",
              " 'antha': 54,\n",
              " \"I'm\": 54,\n",
              " 'adi': 54,\n",
              " 'ne': 53,\n",
              " 'used': 53,\n",
              " 'month': 53,\n",
              " 'coming': 53,\n",
              " 'above': 53,\n",
              " 'goal': 53,\n",
              " 'check': 53,\n",
              " 'watching': 52,\n",
              " '😢': 52,\n",
              " 'branch': 52,\n",
              " 'entha': 52,\n",
              " 'run': 52,\n",
              " 'level': 52,\n",
              " 'matter': 52,\n",
              " 'called': 52,\n",
              " 'kind': 52,\n",
              " 'half': 52,\n",
              " 'football': 52,\n",
              " 'till': 51,\n",
              " 'students': 51,\n",
              " 'always': 51,\n",
              " 'put': 51,\n",
              " 'looks': 51,\n",
              " 'kept': 51,\n",
              " 'In': 51,\n",
              " 'school': 51,\n",
              " 'possible': 50,\n",
              " 'eppudu': 50,\n",
              " 'due': 50,\n",
              " 'option': 50,\n",
              " 'birthday': 50,\n",
              " 'appudu': 50,\n",
              " 'few': 49,\n",
              " 'college': 49,\n",
              " 'she': 49,\n",
              " 'whole': 49,\n",
              " 'super': 49,\n",
              " 'anthe': 49,\n",
              " 'Birthday': 49,\n",
              " 'Chelsea': 49,\n",
              " 'kane': 49,\n",
              " 'order': 49,\n",
              " 'link': 49,\n",
              " 'interview': 49,\n",
              " 'shortlist': 49,\n",
              " \"you're\": 48,\n",
              " 'help': 48,\n",
              " 'vachindi': 48,\n",
              " 'unnayi': 48,\n",
              " 'point': 48,\n",
              " 'idi': 48,\n",
              " '🤣': 48,\n",
              " 'seems': 48,\n",
              " 'down': 47,\n",
              " 'Ohk': 47,\n",
              " '4th': 47,\n",
              " 'kada?': 47,\n",
              " '??': 47,\n",
              " 'fuck': 47,\n",
              " 'telugu': 47,\n",
              " 'happy': 47,\n",
              " 'Is': 47,\n",
              " 'forgot': 47,\n",
              " 'happened': 47,\n",
              " 'XD': 47,\n",
              " 'obv': 47,\n",
              " 'games': 47,\n",
              " 'Thanks': 47,\n",
              " 'nothing': 46,\n",
              " 'talking': 46,\n",
              " 'support': 46,\n",
              " 'laptop': 46,\n",
              " 'part': 46,\n",
              " 'edo': 46,\n",
              " 'hope': 46,\n",
              " 'For': 46,\n",
              " 'list': 46,\n",
              " 'amazing': 46,\n",
              " '++': 46,\n",
              " 'side': 46,\n",
              " 'kohli': 46,\n",
              " '30': 45,\n",
              " 'y': 45,\n",
              " 'Ippudu': 45,\n",
              " 'else': 45,\n",
              " 'chesi': 45,\n",
              " 'maa': 45,\n",
              " '🙄🙄': 45,\n",
              " 'cant': 45,\n",
              " 'far': 45,\n",
              " 'wait': 45,\n",
              " '100': 45,\n",
              " '❤️': 45,\n",
              " 'valla': 45,\n",
              " 'di': 45,\n",
              " 'Liverpool': 45,\n",
              " 'winning': 45,\n",
              " '😑': 45,\n",
              " 'ball': 45,\n",
              " 'small': 44,\n",
              " 'movies': 44,\n",
              " 'end': 44,\n",
              " 'using': 44,\n",
              " 'neeku': 44,\n",
              " 'All': 44,\n",
              " 'vaalu': 44,\n",
              " 'abt': 44,\n",
              " 'code': 44,\n",
              " 'chill': 44,\n",
              " 'doubt': 44,\n",
              " '😲': 44,\n",
              " 'done': 44,\n",
              " 'hss': 44,\n",
              " 'during': 43,\n",
              " 'buy': 43,\n",
              " 'pettu': 43,\n",
              " 'kani': 43,\n",
              " 'second': 43,\n",
              " 'Just': 43,\n",
              " 'gone': 43,\n",
              " 'lakh': 43,\n",
              " 'India': 43,\n",
              " 'mana': 43,\n",
              " 'light': 43,\n",
              " 'call': 43,\n",
              " 'courses': 43,\n",
              " 'wins': 43,\n",
              " 'expected': 42,\n",
              " 'find': 42,\n",
              " 'close': 42,\n",
              " 'between': 42,\n",
              " 'Woah': 42,\n",
              " 'Arey': 42,\n",
              " 'vachindhi': 42,\n",
              " 'chesadu': 42,\n",
              " 'life': 42,\n",
              " 'ask': 42,\n",
              " 'told': 42,\n",
              " 'utd': 42,\n",
              " 'being': 41,\n",
              " 'related': 41,\n",
              " 'her': 41,\n",
              " 'There': 41,\n",
              " 'mostly': 41,\n",
              " 'annadu': 41,\n",
              " 'grp': 41,\n",
              " 'comes': 41,\n",
              " 'submit': 41,\n",
              " 'normal': 41,\n",
              " 'indian': 41,\n",
              " '50': 41,\n",
              " 'ohhh': 41,\n",
              " 'given': 41,\n",
              " 'Amazon': 41,\n",
              " 'own': 41,\n",
              " 'dhanush': 41,\n",
              " 'gave': 41,\n",
              " 'coz': 40,\n",
              " 'm': 40,\n",
              " 'Who': 40,\n",
              " 'Ledu': 40,\n",
              " 'wrong': 40,\n",
              " 'main': 40,\n",
              " 'fine': 40,\n",
              " 'My': 40,\n",
              " 'yesterday': 40,\n",
              " 'old': 40,\n",
              " \"they'll\": 40,\n",
              " '15': 40,\n",
              " 'share': 40,\n",
              " 'selected': 40,\n",
              " 'real': 39,\n",
              " 'lone': 39,\n",
              " 'vaadu': 39,\n",
              " \"I'll\": 39,\n",
              " 'asala': 39,\n",
              " 'lmao': 39,\n",
              " 'lekapote': 39,\n",
              " 'live': 39,\n",
              " 'thinking': 39,\n",
              " 'case': 39,\n",
              " 'food': 39,\n",
              " '🤯': 39,\n",
              " 'girls': 39,\n",
              " 'Then': 38,\n",
              " 'Same': 38,\n",
              " 'manam': 38,\n",
              " 'evaru': 38,\n",
              " 'kadu': 38,\n",
              " 'Anni': 38,\n",
              " 'Yo': 38,\n",
              " 'lose': 38,\n",
              " 'seeing': 38,\n",
              " 'sense': 38,\n",
              " 'champions': 38,\n",
              " 'unnaru': 38,\n",
              " 'place': 38,\n",
              " 'maaku': 38,\n",
              " 'select': 38,\n",
              " 'direct': 38,\n",
              " 'balls': 38,\n",
              " '😕': 38,\n",
              " 'Congrats': 38,\n",
              " 'person': 37,\n",
              " '🤦\\u200d♂️🤦\\u200d♂️': 37,\n",
              " 'mandi': 37,\n",
              " 'unna': 37,\n",
              " 'cheppu': 37,\n",
              " 'reason': 37,\n",
              " 'members': 37,\n",
              " 'cheyyi': 37,\n",
              " 'mumbai': 37,\n",
              " 'naku': 37,\n",
              " 'okay': 37,\n",
              " 'taking': 37,\n",
              " 'story': 37,\n",
              " 'another': 37,\n",
              " 'keep': 37,\n",
              " 'others': 37,\n",
              " \"Don't\": 37,\n",
              " 'without': 37,\n",
              " 'United': 37,\n",
              " 'mundu': 37,\n",
              " 'card': 37,\n",
              " 'middle': 36,\n",
              " 'untayi': 36,\n",
              " 'Like': 36,\n",
              " 'enni': 36,\n",
              " 'Anta': 36,\n",
              " 'everything': 36,\n",
              " 'each': 36,\n",
              " 'iitg': 36,\n",
              " 'asked': 36,\n",
              " 'lite': 36,\n",
              " 'high': 36,\n",
              " 'data': 36,\n",
              " 'okati': 36,\n",
              " 'except': 36,\n",
              " 'changed': 36,\n",
              " 'score': 36,\n",
              " 'highest': 36,\n",
              " 'Me': 36,\n",
              " 'positive': 36,\n",
              " 'Did': 36,\n",
              " 'away': 36,\n",
              " 'great': 36,\n",
              " '5th': 36,\n",
              " 'beat': 36,\n",
              " 'instead': 35,\n",
              " 'easily': 35,\n",
              " 'power': 35,\n",
              " 'project': 35,\n",
              " 'hard': 35,\n",
              " 'anukunna': 35,\n",
              " '..': 35,\n",
              " 'chaala': 35,\n",
              " 'Oka': 35,\n",
              " '😶😶': 35,\n",
              " 'true': 35,\n",
              " 'telusu': 35,\n",
              " '+': 35,\n",
              " 'leave': 35,\n",
              " 'chesa': 35,\n",
              " 'care': 35,\n",
              " 'waste': 35,\n",
              " 'release': 35,\n",
              " 'ochindi': 35,\n",
              " 'When': 35,\n",
              " 'Google': 35,\n",
              " 'sent': 35,\n",
              " 'arsenal': 35,\n",
              " 'total': 35,\n",
              " 'kkr': 35,\n",
              " \"it'll\": 34,\n",
              " 'max': 34,\n",
              " 'minutes': 34,\n",
              " 'wrote': 34,\n",
              " 'may': 34,\n",
              " 'maybe': 34,\n",
              " 'Nuvvu': 34,\n",
              " 'united': 34,\n",
              " 'woah': 34,\n",
              " 'fan': 34,\n",
              " 'untadhi': 34,\n",
              " 'lucky': 34,\n",
              " 'raale': 34,\n",
              " 'rr': 34,\n",
              " 'lochan': 34,\n",
              " 'slot': 34,\n",
              " 'Bro': 33,\n",
              " 'happen': 33,\n",
              " 'comments': 33,\n",
              " 'malli': 33,\n",
              " 'Edo': 33,\n",
              " 'tough': 33,\n",
              " 'state': 33,\n",
              " 'months': 33,\n",
              " 'projects': 33,\n",
              " 'Enti': 33,\n",
              " 'See': 33,\n",
              " 'fun': 33,\n",
              " 'actual': 33,\n",
              " 'based': 33,\n",
              " 'film': 33,\n",
              " 'captain': 33,\n",
              " 'goals': 33,\n",
              " 'clubs': 33,\n",
              " 'results': 33,\n",
              " 'dc': 33,\n",
              " 'google': 33,\n",
              " 'knows': 32,\n",
              " 'ila': 32,\n",
              " \"we're\": 32,\n",
              " 'director': 32,\n",
              " 'exams': 32,\n",
              " '😎': 32,\n",
              " 'lockdown': 32,\n",
              " 'difference': 32,\n",
              " 'gets': 32,\n",
              " 'pedda': 32,\n",
              " \"wasn't\": 32,\n",
              " 'a?': 32,\n",
              " 'party': 32,\n",
              " 'th': 32,\n",
              " 'injured': 32,\n",
              " 'giving': 32,\n",
              " 'hyd': 32,\n",
              " 'account': 32,\n",
              " 'strong': 32,\n",
              " 'points': 32,\n",
              " 'please': 31,\n",
              " 'Aina': 31,\n",
              " 'batch': 31,\n",
              " 'control': 31,\n",
              " 'ra,': 31,\n",
              " 'mind': 31,\n",
              " 'become': 31,\n",
              " 'write': 31,\n",
              " 'City': 31,\n",
              " 'unnadu': 31,\n",
              " 'ones': 31,\n",
              " 'working': 31,\n",
              " 'Hyderabad': 31,\n",
              " 'having': 31,\n",
              " 'de': 31,\n",
              " '@919381331571': 31,\n",
              " 'boys': 31,\n",
              " 'delhi': 31,\n",
              " 'draw': 31,\n",
              " 'interviews': 31,\n",
              " 'wicket': 31,\n",
              " 'punjab': 31,\n",
              " 'konchem': 30,\n",
              " 'exactly': 30,\n",
              " 'thanks': 30,\n",
              " 'experience': 30,\n",
              " 'ece': 30,\n",
              " 'stay': 30,\n",
              " 'ready': 30,\n",
              " 'expect': 30,\n",
              " 'heard': 30,\n",
              " 'love': 30,\n",
              " 'yrs': 30,\n",
              " 'pakka': 30,\n",
              " 'let': 30,\n",
              " 'ma': 30,\n",
              " '😏': 30,\n",
              " 'hit': 30,\n",
              " '🐍': 30,\n",
              " 'least': 30,\n",
              " 'single': 30,\n",
              " 'Rashid': 30,\n",
              " 'kxip': 30,\n",
              " 'arey': 29,\n",
              " 'k': 29,\n",
              " 'dept': 29,\n",
              " 'clear': 29,\n",
              " 'motham': 29,\n",
              " 'A': 29,\n",
              " 'completely': 29,\n",
              " 'tomorrow': 29,\n",
              " 'attack': 29,\n",
              " 'ouna': 29,\n",
              " 'elective': 29,\n",
              " 'grade': 29,\n",
              " 'rate': 29,\n",
              " 'plays': 29,\n",
              " 'wickets': 29,\n",
              " '//': 29,\n",
              " 'Actually': 28,\n",
              " 'ever': 28,\n",
              " 'chusa': 28,\n",
              " 'Mana': 28,\n",
              " 'asalu': 28,\n",
              " 'happening': 28,\n",
              " 'meeting': 28,\n",
              " 'website': 28,\n",
              " '....': 28,\n",
              " 'Adhi': 28,\n",
              " 'email': 28,\n",
              " 'dhi': 28,\n",
              " 'table': 28,\n",
              " 'night': 28,\n",
              " 'annaru': 28,\n",
              " 'starting': 28,\n",
              " 'f': 28,\n",
              " 'while': 28,\n",
              " '11': 28,\n",
              " 'private': 28,\n",
              " 'varaku': 28,\n",
              " 'record': 28,\n",
              " '???': 28,\n",
              " 'grades': 28,\n",
              " 'found': 28,\n",
              " 'wanna': 28,\n",
              " 'hospital': 28,\n",
              " 'aina': 28,\n",
              " 'pl': 28,\n",
              " 'suraj': 28,\n",
              " 'jio': 28,\n",
              " '0': 28,\n",
              " 'bowlers': 28,\n",
              " 'bowler': 28,\n",
              " 'Yup': 28,\n",
              " 'IPL': 28,\n",
              " 'spend': 27,\n",
              " '2-3': 27,\n",
              " 'Neeku': 27,\n",
              " 'kosam': 27,\n",
              " 'First': 27,\n",
              " 'intha': 27,\n",
              " 'situation': 27,\n",
              " 'IIT': 27,\n",
              " 'laga': 27,\n",
              " 'goes': 27,\n",
              " 'research': 27,\n",
              " 'Im': 27,\n",
              " 'Oki': 27,\n",
              " 'decide': 27,\n",
              " 'cheyyali': 27,\n",
              " 'room': 27,\n",
              " 'Ra': 27,\n",
              " 'Dhanush': 27,\n",
              " 'internship': 27,\n",
              " 'add': 27,\n",
              " 'Telangana': 27,\n",
              " 'kaushik': 27,\n",
              " 'itself': 27,\n",
              " 'Next': 27,\n",
              " 'Aa': 27,\n",
              " 'what?': 27,\n",
              " '🙏': 27,\n",
              " 'low': 27,\n",
              " 'bois': 27,\n",
              " 'huge': 27,\n",
              " 'common': 27,\n",
              " 'extra': 27,\n",
              " 'england': 27,\n",
              " 'star': 27,\n",
              " 'catch': 27,\n",
              " 'cv': 27,\n",
              " 'batsman': 27,\n",
              " '\\u200b': 27,\n",
              " '\\u206c': 27,\n",
              " 'Warner': 27,\n",
              " 'Shit': 26,\n",
              " 'price': 26,\n",
              " 'little': 26,\n",
              " '*': 26,\n",
              " 'Telugu': 26,\n",
              " 'correct': 26,\n",
              " 'page': 26,\n",
              " 'increase': 26,\n",
              " 'Or': 26,\n",
              " 'ardam': 26,\n",
              " 'why?': 26,\n",
              " 'since': 26,\n",
              " '12': 26,\n",
              " 'mine': 26,\n",
              " 'vadu': 26,\n",
              " 'ippude': 26,\n",
              " 'emaina': 26,\n",
              " 'ekkada': 26,\n",
              " 'manaki': 26,\n",
              " 'Which': 26,\n",
              " 'soon': 26,\n",
              " 'dad': 26,\n",
              " 'msg': 26,\n",
              " 'scored': 26,\n",
              " 'morning': 26,\n",
              " 'happens': 26,\n",
              " 'section': 26,\n",
              " 'England': 26,\n",
              " 'RCB': 26,\n",
              " 'playoffs': 26,\n",
              " 'manager': 26,\n",
              " 'Bairstow': 26,\n",
              " 'job': 25,\n",
              " 'wish': 25,\n",
              " 'groups': 25,\n",
              " 'English': 25,\n",
              " 'mails': 25,\n",
              " 'means': 25,\n",
              " 'Enduku': 25,\n",
              " \"what's\": 25,\n",
              " 'internet': 25,\n",
              " 'decision': 25,\n",
              " 'tried': 25,\n",
              " 'quiz': 25,\n",
              " 'comment': 25,\n",
              " '```': 25,\n",
              " ...}"
            ]
          },
          "metadata": {
            "tags": []
          },
          "execution_count": 52
        }
      ]
    },
    {
      "cell_type": "code",
      "metadata": {
        "id": "EcZl_f-vvXP1",
        "outputId": "d69cfc62-1d50-4e1e-cb2b-6e1e625e2d8f"
      },
      "source": [
        "jovian.commit(project=project_name,enviroment=None,files=[\"Chat.txt\"])"
      ],
      "execution_count": null,
      "outputs": [
        {
          "output_type": "display_data",
          "data": {
            "application/javascript": [
              "window.require && require([\"base/js/namespace\"],function(Jupyter){Jupyter.notebook.save_checkpoint()})"
            ],
            "text/plain": [
              "<IPython.core.display.Javascript object>"
            ]
          },
          "metadata": {
            "tags": []
          }
        },
        {
          "output_type": "stream",
          "text": [
            "[jovian] Attempting to save notebook..\u001b[0m\n",
            "[jovian] Updating notebook \"edsenmichaelcy/whatsapp-chat-analysis-course-project\" on https://jovian.ml/\u001b[0m\n",
            "[jovian] Uploading notebook..\u001b[0m\n",
            "[jovian] Capturing environment..\u001b[0m\n",
            "[jovian] Uploading additional files...\u001b[0m\n",
            "[jovian] Committed successfully! https://jovian.ml/edsenmichaelcy/whatsapp-chat-analysis-course-project\u001b[0m\n"
          ],
          "name": "stdout"
        },
        {
          "output_type": "execute_result",
          "data": {
            "text/plain": [
              "'https://jovian.ml/edsenmichaelcy/whatsapp-chat-analysis-course-project'"
            ]
          },
          "metadata": {
            "tags": []
          },
          "execution_count": 30
        }
      ]
    },
    {
      "cell_type": "markdown",
      "metadata": {
        "id": "2PqHjcRivXP1"
      },
      "source": [
        "# Conclusion\n",
        "\n",
        "**Data Retrieval** \n",
        "\n",
        "First we learn how to load data at whatsapp and understand the format as text file.Other than that we understand what kind format should we extract(eg \"media\" or \"without media\")\n",
        "  \n",
        "\n",
        "**Data Preparation and Cleaning**\n",
        "\n",
        "In the data preparation and cleaning we learn on how to convert text file into dataframe by using txtTodf() functions.\n",
        "Then we learn to add name to the colums and even on how to clean image file from the dataframe\n",
        "\n",
        "**Business & Data understanding**\n",
        "\n",
        "Then we start understand the business needed and the data in the dataframe. In the business understand how us to understand what question should we need to ask that will lead to business succeed.\n",
        "\n",
        "**Exploratory Data Analysis(EDA)**\n",
        "\n",
        "In the EDA we look at five important question to ask: \n",
        "1. Which users have the most Chat/messages in the group?\n",
        "2. Which emojis use the most by which users?\n",
        "3. Most active hours?\n",
        "4. Which month have the highest messages and also the busiest month?\n",
        "5. Determine which word or text did the user use the most?\n",
        "\n",
        "I really hope you are enjoying reading my notebook as well my medium post . Hope you like it and maybe you can try out your own data analysis too!!.\n",
        "\n",
        "\n",
        "\n",
        "Thank you,\n",
        "**Krishna Kaushik**"
      ]
    },
    {
      "cell_type": "markdown",
      "metadata": {
        "id": "S5L7zeZJvXP2"
      },
      "source": [
        "# Reference\n",
        "https://www.drawingfromdata.com/setting-figure-size-using-seaborn-and-matplotlib\n",
        "\n",
        "https://seaborn.pydata.org/examples/part_whole_bars.html\n",
        "\n",
        "https://wellsr.com/python/seaborn-barplot-tutorial-for-python/#:~:text=If%20you%20want%20to%20display,have%20to%20do%20work%20around.&text=You%20can%20see%20that%20the,be%20stored%20in%20a%20variable.\n",
        "\n",
        "http://seaborn.pydata.org/tutorial/color_palettes.html\n",
        "\n",
        "https://stackoverflow.com/questions/34888058/changing-width-of-bars-in-bar-chart-created-using-seaborn-factorplot\n",
        "\n",
        "https://plotly.com/python/pie-charts/\n",
        "\n",
        "https://towardsdatascience.com/python-plotting-basics-simple-charts-with-matplotlib-seaborn-and-plotly-e36346952a3a\n",
        "\n",
        "https://medium.com/@edsenmichaelcy/whatsapp-message-exploratory-data-analysis-eda-538560ee1c99"
      ]
    }
  ]
}